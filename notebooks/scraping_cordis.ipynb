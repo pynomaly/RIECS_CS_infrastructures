{
 "cells": [
  {
   "cell_type": "code",
   "execution_count": 189,
   "id": "9d7e93e0",
   "metadata": {},
   "outputs": [],
   "source": [
    "import pandas as pd\n",
    "import requests\n",
    "from bs4 import BeautifulSoup"
   ]
  },
  {
   "cell_type": "code",
   "execution_count": 190,
   "id": "0fc52e99",
   "metadata": {},
   "outputs": [
    {
     "name": "stdout",
     "output_type": "stream",
     "text": [
      "<class 'pandas.core.frame.DataFrame'>\n",
      "RangeIndex: 23 entries, 0 to 22\n",
      "Data columns (total 7 columns):\n",
      " #   Column         Non-Null Count  Dtype  \n",
      "---  ------         --------------  -----  \n",
      " 0   Project Title  21 non-null     object \n",
      " 1   Short Title    23 non-null     object \n",
      " 2   Project ID     21 non-null     float64\n",
      " 3   Program        21 non-null     object \n",
      " 4   Language       21 non-null     object \n",
      " 5   URL            22 non-null     object \n",
      " 6   Abstract       21 non-null     object \n",
      "dtypes: float64(1), object(6)\n",
      "memory usage: 1.4+ KB\n"
     ]
    }
   ],
   "source": [
    "df = pd.read_csv(\"../data/cordis.csv\")\n",
    "df.info()"
   ]
  },
  {
   "cell_type": "code",
   "execution_count": 191,
   "id": "c4215c57",
   "metadata": {},
   "outputs": [],
   "source": [
    "df.columns = df.columns.str.lower()"
   ]
  },
  {
   "cell_type": "code",
   "execution_count": 192,
   "id": "e3c37e39",
   "metadata": {},
   "outputs": [
    {
     "name": "stdout",
     "output_type": "stream",
     "text": [
      "<class 'pandas.core.frame.DataFrame'>\n",
      "RangeIndex: 23 entries, 0 to 22\n",
      "Data columns (total 7 columns):\n",
      " #   Column         Non-Null Count  Dtype  \n",
      "---  ------         --------------  -----  \n",
      " 0   project title  21 non-null     object \n",
      " 1   short title    23 non-null     object \n",
      " 2   project id     21 non-null     float64\n",
      " 3   program        21 non-null     object \n",
      " 4   language       21 non-null     object \n",
      " 5   url            22 non-null     object \n",
      " 6   abstract       21 non-null     object \n",
      "dtypes: float64(1), object(6)\n",
      "memory usage: 1.4+ KB\n"
     ]
    }
   ],
   "source": [
    "df.info()"
   ]
  },
  {
   "cell_type": "code",
   "execution_count": 193,
   "id": "77d3ff18",
   "metadata": {},
   "outputs": [
    {
     "data": {
      "application/vnd.microsoft.datawrangler.viewer.v0+json": {
       "columns": [
        {
         "name": "index",
         "rawType": "int64",
         "type": "integer"
        },
        {
         "name": "project title",
         "rawType": "object",
         "type": "string"
        },
        {
         "name": "short title",
         "rawType": "object",
         "type": "string"
        },
        {
         "name": "project id",
         "rawType": "float64",
         "type": "float"
        },
        {
         "name": "program",
         "rawType": "object",
         "type": "string"
        },
        {
         "name": "language",
         "rawType": "object",
         "type": "string"
        },
        {
         "name": "url",
         "rawType": "object",
         "type": "string"
        },
        {
         "name": "abstract",
         "rawType": "object",
         "type": "string"
        }
       ],
       "ref": "ffb3a371-774a-49d6-a5b6-54c6bb3b8bd6",
       "rows": [
        [
         "0",
         "Collective Awareness Platform for Tropospheric Ozone Pollution",
         "CAPTOR",
         "688110.0",
         "H2020",
         "en",
         "https://cordis.europa.eu/project/id/688110",
         "Air pollution is the environmental topic that European citizens worry about most (Eurobarometer 2013). It puts considerable damage to health, agriculture and our natural environment. Despite these facts, the readiness and power of European citizens to take actions themselves..."
        ],
        [
         "1",
         "Citizens' observatory for coast and ocean optical monitoring",
         "CITCLOPS",
         "308469.0",
         "FP7",
         "es",
         "https://cordis.europa.eu/project/id/308469/es",
         "In the marine environment, anthropogenic pressures on resources and non-anthropogenic causes may create harmful conditions that affect human society. Harmful algal blooms and habitat destruction are examples, which pose serious human-health threats and severely affect numerou..."
        ],
        [
         "2",
         "Development of sensor-based Citizens' Observatory Community for improving quality of life in cities",
         "CITI-SENSE",
         "308524.0",
         "FP7",
         "en",
         "https://cordis.europa.eu/project/id/308524",
         "CITI-SENSE will develop \"citizens' observatories\" to empower citizens to contribute to and participate in environmental governance, to enable them to support and influence community and societal priorities and associated decision making. CITI-SENSE will develop, test, demonst..."
        ],
        [
         "3",
         "Citizen Science for Urban Environment and Health",
         "CitieS-Health",
         "824484.0",
         "H2020",
         "en",
         "https://cordis.europa.eu/project/id/824484",
         "Scientific evidence about the negative health effects of urban environmental exposures is mounting. Yet key scientific gaps exist. Surveys show that citizens are increasingly concerned about the consequences of these exposures on their own health, and are engaged in data..."
        ],
        [
         "4",
         "Citizen Observatory Web",
         "COBWEB",
         "308513.0",
         "FP7",
         "en",
         "https://cordis.europa.eu/project/id/308513",
         "COBWEB will leverage the UNESCO World Network of Biosphere Reserves (WNBR). Concentrating initially on the Welsh Dyfi Biosphere Reserve, we will develop a citizens' observatory framework, and then validate the work within the context of the UK National Spatial Data Infrastruc..."
        ]
       ],
       "shape": {
        "columns": 7,
        "rows": 5
       }
      },
      "text/html": [
       "<div>\n",
       "<style scoped>\n",
       "    .dataframe tbody tr th:only-of-type {\n",
       "        vertical-align: middle;\n",
       "    }\n",
       "\n",
       "    .dataframe tbody tr th {\n",
       "        vertical-align: top;\n",
       "    }\n",
       "\n",
       "    .dataframe thead th {\n",
       "        text-align: right;\n",
       "    }\n",
       "</style>\n",
       "<table border=\"1\" class=\"dataframe\">\n",
       "  <thead>\n",
       "    <tr style=\"text-align: right;\">\n",
       "      <th></th>\n",
       "      <th>project title</th>\n",
       "      <th>short title</th>\n",
       "      <th>project id</th>\n",
       "      <th>program</th>\n",
       "      <th>language</th>\n",
       "      <th>url</th>\n",
       "      <th>abstract</th>\n",
       "    </tr>\n",
       "  </thead>\n",
       "  <tbody>\n",
       "    <tr>\n",
       "      <th>0</th>\n",
       "      <td>Collective Awareness Platform for Tropospheric...</td>\n",
       "      <td>CAPTOR</td>\n",
       "      <td>688110.0</td>\n",
       "      <td>H2020</td>\n",
       "      <td>en</td>\n",
       "      <td>https://cordis.europa.eu/project/id/688110</td>\n",
       "      <td>Air pollution is the environmental topic that ...</td>\n",
       "    </tr>\n",
       "    <tr>\n",
       "      <th>1</th>\n",
       "      <td>Citizens' observatory for coast and ocean opti...</td>\n",
       "      <td>CITCLOPS</td>\n",
       "      <td>308469.0</td>\n",
       "      <td>FP7</td>\n",
       "      <td>es</td>\n",
       "      <td>https://cordis.europa.eu/project/id/308469/es</td>\n",
       "      <td>In the marine environment, anthropogenic press...</td>\n",
       "    </tr>\n",
       "    <tr>\n",
       "      <th>2</th>\n",
       "      <td>Development of sensor-based Citizens' Observat...</td>\n",
       "      <td>CITI-SENSE</td>\n",
       "      <td>308524.0</td>\n",
       "      <td>FP7</td>\n",
       "      <td>en</td>\n",
       "      <td>https://cordis.europa.eu/project/id/308524</td>\n",
       "      <td>CITI-SENSE will develop \"citizens' observatori...</td>\n",
       "    </tr>\n",
       "    <tr>\n",
       "      <th>3</th>\n",
       "      <td>Citizen Science for Urban Environment and Health</td>\n",
       "      <td>CitieS-Health</td>\n",
       "      <td>824484.0</td>\n",
       "      <td>H2020</td>\n",
       "      <td>en</td>\n",
       "      <td>https://cordis.europa.eu/project/id/824484</td>\n",
       "      <td>Scientific evidence about the negative health ...</td>\n",
       "    </tr>\n",
       "    <tr>\n",
       "      <th>4</th>\n",
       "      <td>Citizen Observatory Web</td>\n",
       "      <td>COBWEB</td>\n",
       "      <td>308513.0</td>\n",
       "      <td>FP7</td>\n",
       "      <td>en</td>\n",
       "      <td>https://cordis.europa.eu/project/id/308513</td>\n",
       "      <td>COBWEB will leverage the UNESCO World Network ...</td>\n",
       "    </tr>\n",
       "  </tbody>\n",
       "</table>\n",
       "</div>"
      ],
      "text/plain": [
       "                                       project title    short title  \\\n",
       "0  Collective Awareness Platform for Tropospheric...         CAPTOR   \n",
       "1  Citizens' observatory for coast and ocean opti...       CITCLOPS   \n",
       "2  Development of sensor-based Citizens' Observat...     CITI-SENSE   \n",
       "3   Citizen Science for Urban Environment and Health  CitieS-Health   \n",
       "4                            Citizen Observatory Web         COBWEB   \n",
       "\n",
       "   project id program language                                            url  \\\n",
       "0    688110.0   H2020       en     https://cordis.europa.eu/project/id/688110   \n",
       "1    308469.0     FP7       es  https://cordis.europa.eu/project/id/308469/es   \n",
       "2    308524.0     FP7       en     https://cordis.europa.eu/project/id/308524   \n",
       "3    824484.0   H2020       en     https://cordis.europa.eu/project/id/824484   \n",
       "4    308513.0     FP7       en     https://cordis.europa.eu/project/id/308513   \n",
       "\n",
       "                                            abstract  \n",
       "0  Air pollution is the environmental topic that ...  \n",
       "1  In the marine environment, anthropogenic press...  \n",
       "2  CITI-SENSE will develop \"citizens' observatori...  \n",
       "3  Scientific evidence about the negative health ...  \n",
       "4  COBWEB will leverage the UNESCO World Network ...  "
      ]
     },
     "execution_count": 193,
     "metadata": {},
     "output_type": "execute_result"
    }
   ],
   "source": [
    "# Remove row without url\n",
    "df2 = df[df.url.notnull()].copy()\n",
    "df2.head()"
   ]
  },
  {
   "cell_type": "code",
   "execution_count": 194,
   "id": "5c1886c9",
   "metadata": {},
   "outputs": [],
   "source": [
    "# Unify url format\n",
    "df2['url'] = df2['url'].str.replace(\"/es\", \"\")"
   ]
  },
  {
   "cell_type": "code",
   "execution_count": 200,
   "id": "f02358b0",
   "metadata": {},
   "outputs": [],
   "source": [
    "# Functions to extract information from cordis urls\n",
    "\n",
    "def safe_select(soup, selector, attr=None, default=None, split=None, index=None, clean=True):\n",
    "    try:\n",
    "        element = soup.select_one(selector)\n",
    "        if not element:\n",
    "            return default\n",
    "        value = element[attr] if attr else element.text\n",
    "        if clean and isinstance(value, str):\n",
    "            value = value.strip().replace(\"  \", \"\").replace(\"\\n\", \" \").replace(\"\\t\", \" \").replace(\"  \", \" \").replace(\"See on map\", \"\")\n",
    "        if split:\n",
    "            value = value.split(split)[index]\n",
    "        return value\n",
    "    except Exception:\n",
    "        return default\n",
    "\n",
    "\n",
    "def get_second_href_in_container(soup):\n",
    "    try:\n",
    "        container = soup.select_one(\"div.t-margin-bottom-20\")\n",
    "        if not container:\n",
    "            return None\n",
    "        links = container.select(\"a[href]\")\n",
    "        if len(links) >= 2:\n",
    "            return links[1]['href']\n",
    "        return None\n",
    "    except Exception:\n",
    "        return None\n",
    "\n",
    "def get_signature_date(soup):\n",
    "    for div in soup.find_all(\"div\"):\n",
    "        text = div.get_text(strip=True)\n",
    "        if text.startswith(\"EC signature date\"):\n",
    "            return text.replace(\"EC signature date\", \"\").strip()\n",
    "    return None \n",
    "\n",
    "# Función para extraer la información de cada URL\n",
    "def extract_project_info(url):\n",
    "    try:\n",
    "        response = requests.get(url)\n",
    "        soup = BeautifulSoup(response.text, \"html.parser\")\n",
    "        # Participantes\n",
    "        try:\n",
    "            number_participants = 0\n",
    "            for h3 in soup.find_all(\"h3\"):\n",
    "                text = h3.get_text(strip=True)\n",
    "                if text.startswith(\"Participants (\"):\n",
    "                    try:\n",
    "                        number_participants = int(text.split(\"(\")[-1].replace(\")\", \"\"))\n",
    "                        break\n",
    "                    except:\n",
    "                        pass\n",
    "        except:\n",
    "                number_participants = 0\n",
    "        data = {\n",
    "            \"project_website\": safe_select(soup, \".ppas-project_weblink\", attr=\"data-url\"),\n",
    "            \"doi\": safe_select(soup, \"div.p-col-6:nth-child(1) > div:nth-child(6) > a:nth-child(3)\", attr=\"href\"),\n",
    "            \"status\": safe_select(soup, \".c-project-info__status\"),\n",
    "            \"signature_date\": get_signature_date(soup),\n",
    "            \"start_date\": safe_select(soup, \".c-project-info__timeline > div:nth-child(1) > div:nth-child(1)\"),\n",
    "            \"end_date\": safe_select(soup, \".c-project-info__timeline > div:nth-child(1) > div:nth-child(2)\"),\n",
    "            \"funded_under\": safe_select(soup, \".c-project-info__fund-list > li:nth-child(1)\"),\n",
    "            \"total_cost\": safe_select(soup, \".c-project-info__overall\", split=\"€\", index=1),\n",
    "            \"eu_contribution\": safe_select(soup, \".c-project-info__eu\", split=\"€\", index=1),\n",
    "            \"coordinated_by\": safe_select(soup, \".coordinated\"),\n",
    "            \"objective\": safe_select(soup, \".c-article__text\"),\n",
    "            \"keywords\": safe_select(soup, \"div.c-factsheet__section:nth-child(3)\").replace(\"Keywords\", \"\") if safe_select(soup, \"div.c-factsheet__section:nth-child(3)\") else None,\n",
    "            \"programme\": soup.select_one(\"#fundedunderprogrammes\").next_sibling.next_sibling.text.strip().replace(\"\\t\", \"\").replace(\"\\n\", \" \").replace(\"  \", \" \"),\n",
    "            \"topic\": soup.select_one(\"#topicslist\").next_sibling.next_sibling.text.strip(),\n",
    "            \"coordinator\": safe_select(soup, \"div.t-margin-bottom-20 > div:nth-child(1) > div:nth-child(1) > div:nth-child(3) > div:nth-child(1) > div:nth-child(1) > div:nth-child(1)\"),\n",
    "            \"coordinator_eu_contribution\": safe_select(soup, \"div.t-margin-bottom-20 > div:nth-child(1) > div:nth-child(1) > div:nth-child(3) > div:nth-child(1) > div:nth-child(2)\", split=\"\\n\", index=-1),\n",
    "            \"coordinator_adress\": safe_select(soup, \"div.t-margin-bottom-20 > div:nth-child(1) > div:nth-child(1) > div:nth-child(3) > div:nth-child(2) > div:nth-child(1) > div:nth-child(1) > div:nth-child(1) > div:nth-child(2)\"),\n",
    "            \"coordinator_website\": get_second_href_in_container(soup),\n",
    "            \"number_participants\": number_participants,\n",
    "        }\n",
    "\n",
    "        participants = []\n",
    "        for n in range(1, number_participants + 1):\n",
    "            participant = {\n",
    "                \"participant_no\": n,\n",
    "                \"participant_name\": safe_select(soup, f\"div.c-organizations-list__item:nth-child({n}) > div > div > div:nth-child(3) > div:nth-child(1) > div:nth-child(1) > div\"),\n",
    "                \"participant_address\": safe_select(soup, f\"div.c-organizations-list__item:nth-child({n}) > div > div > div:nth-child(3) > div:nth-child(2) > div > div > div > div:nth-child(2)\"),\n",
    "                \"participant_eu_contribution\": safe_select(soup, f\"div.c-organizations-list__item:nth-child({n}) > div > div > div:nth-child(3) > div:nth-child(1) > div:nth-child(2) > div:nth-child(2)\"),\n",
    "                \"participant_total_cost\": safe_select(soup, f\"div.c-organizations-list__item:nth-child({n}) > div > div > div:nth-child(3) > div:nth-child(2) > div:nth-child(1) > div:nth-child(2) > div:nth-child(2)\"),\n",
    "                \"participant_website\": safe_select(soup, f\"div.c-organizations-list__item:nth-child({n}) > div > div > div:nth-child(3) > div:nth-child(2) > div > div > div:nth-child(5) > span:nth-child(2) > a\", attr=\"href\"),\n",
    "            }\n",
    "            participants.append(participant)\n",
    "\n",
    "        data[\"participants\"] = participants\n",
    "        return data\n",
    "\n",
    "    except Exception as e:\n",
    "        print(f\"Error in URL {url}: {e}\")\n",
    "        return {}"
   ]
  },
  {
   "cell_type": "code",
   "execution_count": 201,
   "id": "c6e92c76",
   "metadata": {},
   "outputs": [],
   "source": [
    "# Apply function to every url\n",
    "df_info = df2[\"url\"].apply(extract_project_info).apply(pd.Series)\n",
    "\n",
    "# Join with original dataframe\n",
    "df_full = pd.concat([df2, df_info], axis=1)\n",
    "\n",
    "# Clean columns and save result in file with one row by project\n",
    "df_full['start_date'] = df_full['start_date'].str.replace(\"Start date \", \"\").str.strip()\n",
    "df_full['end_date'] = df_full['end_date'].str.replace(\"End date \", \"\").str.strip()\n",
    "df_full[\"total_cost\"] = df_full[\"total_cost\"].str.replace(\" \", \"\")\n",
    "df_full[\"eu_contribution\"] = df_full[\"eu_contribution\"].str.replace(\" \", \"\")\n",
    "df_full['coordinator_eu_contribution'] = df_full['coordinator_eu_contribution'].str.split(\" € \").str[1].str.replace(\" \", \"\")\n",
    "df_full.loc[df_full['coordinator_website'].str.startswith(\"https://dashboard.tech.ec.europa.eu\"), \"coordinator_website\"] = None\n",
    "df_full.to_csv(\"../data/cordis_projects.csv\", index=False)\n",
    "\n",
    "# Explote participants list into rows and save result in file with one row by participant\n",
    "participants_df = df_full.explode(\"participants\").reset_index(drop=True)\n",
    "participants_df = pd.concat([participants_df.drop(\"participants\", axis=1), participants_df[\"participants\"].apply(pd.Series)], axis=1)\n",
    "participants_df[\"participant_eu_contribution\"] = participants_df[\"participant_eu_contribution\"].str.replace(\"€ \", \"\").str.replace(\" \", \"\").str.replace(\"Nodata\", \"No data\")\n",
    "participants_df[\"participant_total_cost\"] = participants_df[\"participant_total_cost\"].str.replace(\"€ \", \"\").str.replace(\" \", \"\").str.replace(\"Nodata\", \"No data\")\n",
    "participants_df.to_csv(\"../data/cordis_projects_and_participants.csv\", index=False)"
   ]
  }
 ],
 "metadata": {
  "kernelspec": {
   "display_name": ".venv",
   "language": "python",
   "name": "python3"
  },
  "language_info": {
   "codemirror_mode": {
    "name": "ipython",
    "version": 3
   },
   "file_extension": ".py",
   "mimetype": "text/x-python",
   "name": "python",
   "nbconvert_exporter": "python",
   "pygments_lexer": "ipython3",
   "version": "3.11.2"
  }
 },
 "nbformat": 4,
 "nbformat_minor": 5
}
