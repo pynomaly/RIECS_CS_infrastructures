{
 "cells": [
  {
   "cell_type": "markdown",
   "id": "377039a9",
   "metadata": {},
   "source": [
    "# Process for extracting data from citizen science apps located in the iOS store\n",
    "\n",
    "iOS apps are manually selected from `results_ios.csv` and stored in `selected_ios.csv`."
   ]
  },
  {
   "cell_type": "markdown",
   "id": "ff746b3d",
   "metadata": {},
   "source": [
    "## Creating final dataset with selected iOS apps"
   ]
  },
  {
   "cell_type": "code",
   "execution_count": 103,
   "id": "2fb32d3e",
   "metadata": {},
   "outputs": [],
   "source": [
    "import pandas as pd\n",
    "import requests"
   ]
  },
  {
   "cell_type": "code",
   "execution_count": 104,
   "id": "07acfd81",
   "metadata": {},
   "outputs": [
    {
     "name": "stdout",
     "output_type": "stream",
     "text": [
      "<class 'pandas.core.frame.DataFrame'>\n",
      "RangeIndex: 49 entries, 0 to 48\n",
      "Data columns (total 7 columns):\n",
      " #   Column           Non-Null Count  Dtype \n",
      "---  ------           --------------  ----- \n",
      " 0   name             48 non-null     object\n",
      " 1   developer        48 non-null     object\n",
      " 2   description      48 non-null     object\n",
      " 3   include_exclude  49 non-null     object\n",
      " 4   comments         1 non-null      object\n",
      " 5   url              48 non-null     object\n",
      " 6   language         48 non-null     object\n",
      "dtypes: object(7)\n",
      "memory usage: 2.8+ KB\n"
     ]
    }
   ],
   "source": [
    "# Read selected iOS apps dataset\n",
    "df = pd.read_csv(\"../data/selected_ios.csv\")\n",
    "df.info()"
   ]
  },
  {
   "cell_type": "code",
   "execution_count": 105,
   "id": "fca83e49",
   "metadata": {},
   "outputs": [],
   "source": [
    "df.drop(columns=[\"include_exclude\", \"comments\"], inplace=True)"
   ]
  },
  {
   "cell_type": "code",
   "execution_count": 106,
   "id": "8452e151",
   "metadata": {},
   "outputs": [
    {
     "name": "stdout",
     "output_type": "stream",
     "text": [
      "<class 'pandas.core.frame.DataFrame'>\n",
      "RangeIndex: 49 entries, 0 to 48\n",
      "Data columns (total 5 columns):\n",
      " #   Column       Non-Null Count  Dtype \n",
      "---  ------       --------------  ----- \n",
      " 0   name         48 non-null     object\n",
      " 1   developer    48 non-null     object\n",
      " 2   description  48 non-null     object\n",
      " 3   url          48 non-null     object\n",
      " 4   language     48 non-null     object\n",
      "dtypes: object(5)\n",
      "memory usage: 2.0+ KB\n"
     ]
    }
   ],
   "source": [
    "df.info()"
   ]
  },
  {
   "cell_type": "code",
   "execution_count": 107,
   "id": "cd780906",
   "metadata": {},
   "outputs": [
    {
     "data": {
      "application/vnd.microsoft.datawrangler.viewer.v0+json": {
       "columns": [
        {
         "name": "index",
         "rawType": "int64",
         "type": "integer"
        },
        {
         "name": "name",
         "rawType": "object",
         "type": "string"
        },
        {
         "name": "developer",
         "rawType": "object",
         "type": "string"
        },
        {
         "name": "description",
         "rawType": "object",
         "type": "string"
        },
        {
         "name": "url",
         "rawType": "object",
         "type": "string"
        },
        {
         "name": "language",
         "rawType": "object",
         "type": "string"
        }
       ],
       "ref": "a5ca18ef-9ecd-4b4c-b54a-2f95b054246c",
       "rows": [
        [
         "0",
         "Anecdata.org",
         "MDI Biological Laboratory",
         "Anecdata.org is a free online platform anyone can use to host a citizen science project.",
         "https://apps.apple.com/us/app/anecdata-org/id1315666791?uo=4",
         "['EN']"
        ],
        [
         "1",
         "ZOE Health Study",
         "Zoe Limited",
         "Help critical research into major health conditions by reporting how you feel each day in the app, even if you feel well.\n\nJoin over 800,000 people in supporting scientists to help our national health services fight the biggest health issues of our generation. Millions joined ZOE to fight COVID-19 with their mobile phones from home. Why stop there?\n\nThe ZOE Health Study is an evolution of the ZOE COVID Study, which has data quoted in thousands of news stories and published in dozens of scientific papers. We’ve already proven that our approach can rapidly advance scientific understanding and public knowledge.\n\nWith our technology and dedicated Contributors, our research will look at how altering your day-to-day behaviour could impact your immune system and reduce the risk of developing major diseases from cancer to dementia. You will be directly helping us to develop an early warning system for disease detection which will help to save lives.\n\nThis app (formerly known as the ZOE COVID Study) allows you to help others but does not give health advice. If you need health advice please visit the NHS website.\n\nDATA\n\nThe data that you give us for our research into diseases other than COVID-19 will be restricted to King’s College London and ZOE only unless you opt-in to share it more widely in the future.\n\nYour data is protected under GDPR, and can only be used for the purpose that you consent to.\n\nWe’ll never sell your data and we’ll be transparent about developments we make to products that advance human health. Please read our privacy policy for more information.\n\nHEALTH INFORMATION\n\nYou will be asked to share some general information, such as your age, and some health information, such as whether you have certain diseases.\n\nDAILY SYMPTOM TRACKING\n\nWe will ask you to set up your ‘Usual Self’, this is your personal health baseline and will indicate any symptoms you may frequently suffer from. By telling us how you feel each day and reporting any changes in your usual symptoms, we will be able to relay valuable data to scientists.\n\nADDITIONAL RESEARCH STUDIES \n\nWe’ll conduct voluntary participant studies to see how lifestyle changes might work for you as individuals. We’ll play back insights from the studies to the community that will enable you to live your healthiest life and reduce your risk of developing major diseases.\n\nIn-depth studies into issues such as menopause and cancer will uncover detailed new findings to advance our understanding of major conditions and diseases. This app is designed and built by ZOE Global Limited, a health science start-up, in partnership with doctors and scientists at King's College London.",
         "https://apps.apple.com/us/app/zoe-health-study/id1503529611?uo=4",
         "['EN']"
        ],
        [
         "2",
         "Leave No Trace Citizen Science",
         "Greg Newman",
         "The Leave No Trace Center for Outdoor Ethics protects the outdoors by teaching and inspiring people to enjoy it responsibly. The Center accomplishes this mission by delivering cutting edge education and research to millions of people every year. This app is the citizen science app for Leave No Trace and empowers volunteers to help monitor resource conditions over time.",
         "https://apps.apple.com/us/app/leave-no-trace-citizen-science/id1536428995?uo=4",
         "['EN']"
        ],
        [
         "3",
         "BirdNET",
         "Stefan Kahl",
         "How can computers learn to recognize birds from sounds? The BirdNET research project uses artificial intelligence and neural networks to train computers to identify nearly 3,000 of the most common species of North America and Europe. You can record a file using the internal microphone of your iOS device and see if BirdNET correctly identifies the probable bird species present in your recording. Get to know the birds around you and help us to collect observations by submitting your recordings. \n\nBirdNET is a joint project of the K. Lisa Yang Center for Conservation Bioacoustics at the Cornell Lab of Ornithology, and Chemnitz University of Technology.",
         "https://apps.apple.com/us/app/birdnet/id1541842885?uo=4",
         "['CS', 'NL', 'EN', 'FR', 'DE', 'IT', 'LT', 'PL', 'PT', 'RU', 'ES', 'UK']"
        ],
        [
         "4",
         "GLOBE Observer",
         "NASA",
         "The GLOBE Observer app enables you to make observations of your environment. GLOBE Observer is the app of the Global Learning and Observations to Benefit the Environment (GLOBE) Program. The GLOBE Program is an international science and education program that provides students and people of all ages worldwide with the opportunity to participate in data collection and the scientific process, and contribute meaningfully to our understanding of the Earth system and global environment. By using the GLOBE Observer app, you contribute scientific data to your community, students and scientists worldwide, including researchers at NASA, NOAA, and other \nscience research institutions. \n \nGLOBE Observer allows all users to contribute observations of clouds, mosquito habitats, land cover, and trees. Trained and certified users can also use the app to submit additional environmental measurements from all GLOBE protocols. \n\nGLOBE Clouds allows observers to make regular observations of Earth’s cloud cover and compare them to satellite observations. With GLOBE Mosquito Habitat Mapper, users locate mosquito habitats, observe and identify mosquito larvae, and reduce the potential threat of mosquito borne disease. GLOBE Land Cover is designed to allow users to document what is on the land (trees, grass, buildings, etc.). GLOBE Trees asks users to estimate a tree’s height by taking pictures of trees with their device and answering a few questions. \n\nAdditional capabilities may be added.\n \nVisit us at https://www.globe.gov and https://observer.globe.gov.",
         "https://apps.apple.com/us/app/globe-observer/id1090456751?uo=4",
         "['EN']"
        ]
       ],
       "shape": {
        "columns": 5,
        "rows": 5
       }
      },
      "text/html": [
       "<div>\n",
       "<style scoped>\n",
       "    .dataframe tbody tr th:only-of-type {\n",
       "        vertical-align: middle;\n",
       "    }\n",
       "\n",
       "    .dataframe tbody tr th {\n",
       "        vertical-align: top;\n",
       "    }\n",
       "\n",
       "    .dataframe thead th {\n",
       "        text-align: right;\n",
       "    }\n",
       "</style>\n",
       "<table border=\"1\" class=\"dataframe\">\n",
       "  <thead>\n",
       "    <tr style=\"text-align: right;\">\n",
       "      <th></th>\n",
       "      <th>name</th>\n",
       "      <th>developer</th>\n",
       "      <th>description</th>\n",
       "      <th>url</th>\n",
       "      <th>language</th>\n",
       "    </tr>\n",
       "  </thead>\n",
       "  <tbody>\n",
       "    <tr>\n",
       "      <th>0</th>\n",
       "      <td>Anecdata.org</td>\n",
       "      <td>MDI Biological Laboratory</td>\n",
       "      <td>Anecdata.org is a free online platform anyone ...</td>\n",
       "      <td>https://apps.apple.com/us/app/anecdata-org/id1...</td>\n",
       "      <td>['EN']</td>\n",
       "    </tr>\n",
       "    <tr>\n",
       "      <th>1</th>\n",
       "      <td>ZOE Health Study</td>\n",
       "      <td>Zoe Limited</td>\n",
       "      <td>Help critical research into major health condi...</td>\n",
       "      <td>https://apps.apple.com/us/app/zoe-health-study...</td>\n",
       "      <td>['EN']</td>\n",
       "    </tr>\n",
       "    <tr>\n",
       "      <th>2</th>\n",
       "      <td>Leave No Trace Citizen Science</td>\n",
       "      <td>Greg Newman</td>\n",
       "      <td>The Leave No Trace Center for Outdoor Ethics p...</td>\n",
       "      <td>https://apps.apple.com/us/app/leave-no-trace-c...</td>\n",
       "      <td>['EN']</td>\n",
       "    </tr>\n",
       "    <tr>\n",
       "      <th>3</th>\n",
       "      <td>BirdNET</td>\n",
       "      <td>Stefan Kahl</td>\n",
       "      <td>How can computers learn to recognize birds fro...</td>\n",
       "      <td>https://apps.apple.com/us/app/birdnet/id154184...</td>\n",
       "      <td>['CS', 'NL', 'EN', 'FR', 'DE', 'IT', 'LT', 'PL...</td>\n",
       "    </tr>\n",
       "    <tr>\n",
       "      <th>4</th>\n",
       "      <td>GLOBE Observer</td>\n",
       "      <td>NASA</td>\n",
       "      <td>The GLOBE Observer app enables you to make obs...</td>\n",
       "      <td>https://apps.apple.com/us/app/globe-observer/i...</td>\n",
       "      <td>['EN']</td>\n",
       "    </tr>\n",
       "  </tbody>\n",
       "</table>\n",
       "</div>"
      ],
      "text/plain": [
       "                             name                  developer  \\\n",
       "0                    Anecdata.org  MDI Biological Laboratory   \n",
       "1                ZOE Health Study                Zoe Limited   \n",
       "2  Leave No Trace Citizen Science                Greg Newman   \n",
       "3                         BirdNET                Stefan Kahl   \n",
       "4                  GLOBE Observer                       NASA   \n",
       "\n",
       "                                         description  \\\n",
       "0  Anecdata.org is a free online platform anyone ...   \n",
       "1  Help critical research into major health condi...   \n",
       "2  The Leave No Trace Center for Outdoor Ethics p...   \n",
       "3  How can computers learn to recognize birds fro...   \n",
       "4  The GLOBE Observer app enables you to make obs...   \n",
       "\n",
       "                                                 url  \\\n",
       "0  https://apps.apple.com/us/app/anecdata-org/id1...   \n",
       "1  https://apps.apple.com/us/app/zoe-health-study...   \n",
       "2  https://apps.apple.com/us/app/leave-no-trace-c...   \n",
       "3  https://apps.apple.com/us/app/birdnet/id154184...   \n",
       "4  https://apps.apple.com/us/app/globe-observer/i...   \n",
       "\n",
       "                                            language  \n",
       "0                                             ['EN']  \n",
       "1                                             ['EN']  \n",
       "2                                             ['EN']  \n",
       "3  ['CS', 'NL', 'EN', 'FR', 'DE', 'IT', 'LT', 'PL...  \n",
       "4                                             ['EN']  "
      ]
     },
     "execution_count": 107,
     "metadata": {},
     "output_type": "execute_result"
    }
   ],
   "source": [
    "df.head()"
   ]
  },
  {
   "cell_type": "code",
   "execution_count": 108,
   "id": "7eadd00c",
   "metadata": {},
   "outputs": [
    {
     "name": "stdout",
     "output_type": "stream",
     "text": [
      "<class 'pandas.core.frame.DataFrame'>\n",
      "RangeIndex: 188 entries, 0 to 187\n",
      "Data columns (total 8 columns):\n",
      " #   Column        Non-Null Count  Dtype  \n",
      "---  ------        --------------  -----  \n",
      " 0   name          188 non-null    object \n",
      " 1   url           188 non-null    object \n",
      " 2   developer     188 non-null    object \n",
      " 3   rating        188 non-null    float64\n",
      " 4   currency      188 non-null    object \n",
      " 5   description   188 non-null    object \n",
      " 6   language      188 non-null    object \n",
      " 7   platform_url  129 non-null    object \n",
      "dtypes: float64(1), object(7)\n",
      "memory usage: 11.9+ KB\n"
     ]
    }
   ],
   "source": [
    "df_ios_total = pd.read_csv(\"../data/results_ios.csv\")\n",
    "df_ios_total.info()"
   ]
  },
  {
   "cell_type": "code",
   "execution_count": 109,
   "id": "48d7308c",
   "metadata": {},
   "outputs": [
    {
     "name": "stdout",
     "output_type": "stream",
     "text": [
      "<class 'pandas.core.frame.DataFrame'>\n",
      "RangeIndex: 49 entries, 0 to 48\n",
      "Data columns (total 6 columns):\n",
      " #   Column        Non-Null Count  Dtype \n",
      "---  ------        --------------  ----- \n",
      " 0   name          48 non-null     object\n",
      " 1   developer     48 non-null     object\n",
      " 2   description   48 non-null     object\n",
      " 3   url           48 non-null     object\n",
      " 4   language      48 non-null     object\n",
      " 5   platform_url  36 non-null     object\n",
      "dtypes: object(6)\n",
      "memory usage: 2.4+ KB\n"
     ]
    }
   ],
   "source": [
    "# Combine to add platform_url (sellerUrl)\n",
    "df2 = pd.merge(df, df_ios_total[[\"url\", \"platform_url\"]], how=\"left\")\n",
    "df2.info()"
   ]
  },
  {
   "cell_type": "code",
   "execution_count": 110,
   "id": "87b13d2a",
   "metadata": {},
   "outputs": [],
   "source": [
    "# Complementary search of platform_url using google\n",
    "\n",
    "from googlesearch import search\n",
    "\n",
    "def get_platform_url(co_name):\n",
    "    query = co_name\n",
    "    try:\n",
    "        # Busca en sitios específicos de ciencia ciudadana\n",
    "        resultados = list(search(query, num_results=1, lang=\"en\"))\n",
    "        return resultados[0] if resultados else None\n",
    "    except Exception as e:\n",
    "        print(f\"Error buscando {co_name}: {e}\")\n",
    "        return None\n",
    "    \n",
    "df2['platform_url_google'] = df2['name'].apply(get_platform_url)\n"
   ]
  },
  {
   "cell_type": "code",
   "execution_count": 111,
   "id": "3478f4d1",
   "metadata": {},
   "outputs": [],
   "source": [
    "df2 = df2[-df2['name'].isnull()]"
   ]
  },
  {
   "cell_type": "code",
   "execution_count": 112,
   "id": "754bb16a",
   "metadata": {},
   "outputs": [
    {
     "name": "stdout",
     "output_type": "stream",
     "text": [
      "<class 'pandas.core.frame.DataFrame'>\n",
      "Index: 48 entries, 0 to 47\n",
      "Data columns (total 7 columns):\n",
      " #   Column               Non-Null Count  Dtype \n",
      "---  ------               --------------  ----- \n",
      " 0   name                 48 non-null     object\n",
      " 1   developer            48 non-null     object\n",
      " 2   description          48 non-null     object\n",
      " 3   url                  48 non-null     object\n",
      " 4   language             48 non-null     object\n",
      " 5   platform_url         36 non-null     object\n",
      " 6   platform_url_google  48 non-null     object\n",
      "dtypes: object(7)\n",
      "memory usage: 3.0+ KB\n"
     ]
    }
   ],
   "source": [
    "df2.info()"
   ]
  },
  {
   "cell_type": "code",
   "execution_count": 113,
   "id": "c289ecc0",
   "metadata": {},
   "outputs": [
    {
     "data": {
      "application/vnd.microsoft.datawrangler.viewer.v0+json": {
       "columns": [
        {
         "name": "index",
         "rawType": "int64",
         "type": "integer"
        },
        {
         "name": "name",
         "rawType": "object",
         "type": "string"
        },
        {
         "name": "platform_url",
         "rawType": "object",
         "type": "unknown"
        },
        {
         "name": "platform_url_google",
         "rawType": "object",
         "type": "string"
        }
       ],
       "ref": "33446b38-a01f-45c9-ada1-ff1ba627b98b",
       "rows": [
        [
         "0",
         "Anecdata.org",
         null,
         "https://www.anecdata.org/"
        ],
        [
         "1",
         "ZOE Health Study",
         "https://health-study.joinzoe.com/",
         "https://health-study.zoe.com/"
        ],
        [
         "2",
         "Leave No Trace Citizen Science",
         "https://lnt.org/our-work/citizen-science/",
         "https://lnt.org/our-work/citizen-science/"
        ],
        [
         "3",
         "BirdNET",
         "https://birdnet.cornell.edu",
         "https://birdnet.cornell.edu/"
        ],
        [
         "4",
         "GLOBE Observer",
         null,
         "https://observer.globe.gov/"
        ],
        [
         "5",
         "Quantified Citizen Pro",
         "https://www.quantifiedcitizen.com/",
         "https://play.google.com/store/apps/details?id=com.quantifiedcitizen.pro&hl=en"
        ],
        [
         "6",
         "spotFIRE | Citizen Science",
         "https://www.spotteron.app",
         "https://eu-citizen.science/"
        ],
        [
         "7",
         "Brain Explorer",
         "https://www.brainexplorer.net",
         "/search?num=3"
        ],
        [
         "8",
         "WaterLinx | Citizen Science",
         "https://www.spotteron.app/",
         "https://eu-citizen.science/"
        ],
        [
         "9",
         "The Happiness Project",
         null,
         "https://gretchenrubin.com/books/the-happiness-project/"
        ],
        [
         "10",
         "Faunawatch Citizen Science",
         "https://faunawatch.org/contact/",
         "https://apps.apple.com/es/app/faunawatch-citizen-science/id1594067397"
        ],
        [
         "11",
         "Echo Meter Touch Bat Detector",
         "https://www.echometertouch.com",
         "https://www.wildlifeacoustics.com/products/echo-meter-touch-2?token=u9woVu8MwaBrYccAs2KDC_omPK5bdfCO"
        ],
        [
         "12",
         "Zooniverse",
         null,
         "https://www.zooniverse.org/"
        ],
        [
         "13",
         "Nature's Notebook",
         "https://www.usanpn.org",
         "http://www.usanpn.org/nn"
        ],
        [
         "14",
         "AmphiApp | Citizen Science",
         "https://www.spotteron.app/de/",
         "https://eu-citizen.science/"
        ],
        [
         "15",
         "YOUCOUNT Youth Citizen Science",
         "https://www.spotteron.app",
         "https://www.youcountproject.eu/"
        ],
        [
         "16",
         "ISeeChange Tracker",
         "https://www.iseechange.org/",
         "https://www.iseechange.com/"
        ],
        [
         "17",
         "HerpMapper",
         null,
         "https://www.herpmapper.org/"
        ],
        [
         "18",
         "WhaleReport",
         null,
         "https://report.wildwhales.org/"
        ],
        [
         "19",
         "CSMON-LIFE segnalazioni",
         "http://www.csmon-life.eu",
         "https://www.csmon-life.eu/pagina/segnala/all"
        ],
        [
         "20",
         "CoronaReport",
         "https://www.spotteron.net",
         "/search?num=3"
        ],
        [
         "21",
         "Sealife Tracker",
         "http://www.natural-apptitude.co.uk/project/sealife-tracker/",
         "https://www.gbif.org/dataset/f24cb6bb-8333-4ce1-9fdf-71bd3bec0ff6"
        ],
        [
         "22",
         "PADI AWARE",
         "https://www.padi.com/aware",
         "https://www.padi.com/aware"
        ],
        [
         "23",
         "Dark Sky Meter",
         "https://pocket.science",
         "https://www.darkskymeter.com/"
        ],
        [
         "24",
         "BirdWeather",
         "https://app.birdweather.com/",
         "https://www.birdweather.com/"
        ],
        [
         "25",
         "myHAZ-VCT",
         "https://vct.myhaz.app",
         "https://uwiseismic.com/myhaz-vct/"
        ],
        [
         "26",
         "EyeOnWater - Colour",
         null,
         "https://www.eyeonwater.org/"
        ],
        [
         "27",
         "Mass Science",
         null,
         "https://energywavetheory.com/explanations/what-is-mass/"
        ],
        [
         "28",
         "Tea Bag Index | SPOTTERON",
         "https://www.spotteron.net",
         "https://www.spotteron.com/teabagindex/"
        ],
        [
         "29",
         "Dawn Chorus",
         "https://dawn-chorus.org/",
         "/search?num=3"
        ],
        [
         "30",
         "BeeMachine",
         "https://beemachine.ai",
         "https://beemachine.ai/"
        ],
        [
         "31",
         "Happiness Quest",
         null,
         "https://www.happinessquest.app/"
        ],
        [
         "32",
         "BirdTrack",
         "http://www.birdtrack.net",
         "https://www.bto.org/get-involved/volunteer/projects/birdtrack"
        ],
        [
         "33",
         "OpenRadiation",
         null,
         "https://www.openradiation.org/en"
        ],
        [
         "34",
         "WiBee",
         "https://pollinators.wisc.edu/wibee/",
         "/search?num=3"
        ],
        [
         "35",
         "Big Butterfly Count",
         "http://bigbutterflycount.org",
         "https://bigbutterflycount.butterfly-conservation.org/"
        ],
        [
         "36",
         "Caterpillars Count!",
         "https://caterpillarscount.unc.edu",
         "https://caterpillarscount.unc.edu/"
        ],
        [
         "37",
         "Build4People: Citizen Science",
         null,
         "/search?num=3"
        ],
        [
         "38",
         "IPM Popillia Pest Management",
         "https://www.spotteron.app",
         "https://www.popillia.eu/"
        ],
        [
         "39",
         "Mosquito Alert",
         "http://www.mosquitoalert.com",
         "https://www.mosquitoalert.com/en/"
        ],
        [
         "40",
         "Citizen Scientist",
         "https://www.natureboostproject.com",
         "https://en.wikipedia.org/wiki/Citizen_science"
        ],
        [
         "41",
         "MedusApp",
         "http://medusapp.net",
         "https://www.medusapp.net/"
        ],
        [
         "42",
         "CoastSnap | SPOTTERON",
         "https://www.spotteron.net/",
         "https://www.coastsnap.com/"
        ],
        [
         "43",
         "ORCA Oceanwatchers",
         "https://www.orca.org.uk",
         "https://orca.org.uk/training/oceanwatchers"
        ],
        [
         "44",
         "ZSL Instant Wild",
         "https://www.zsl.org/instant-wild-about",
         "https://instantwild.zsl.org/"
        ],
        [
         "45",
         "Discovery Tool Our Voice",
         null,
         "https://play.google.com/store/apps/details?id=edu.stanford.ourvoice.discoverytool&hl=en"
        ],
        [
         "46",
         "Black hole finder",
         "https://www.pocket.science/products/blackholefinder/",
         "https://play.google.com/store/apps/details?id=nl.ddq.blackholefinder&hl=en"
        ],
        [
         "47",
         "BiciZen",
         "https://www.spotteron.app",
         "https://www.bicizen.org/"
        ]
       ],
       "shape": {
        "columns": 3,
        "rows": 48
       }
      },
      "text/html": [
       "<div>\n",
       "<style scoped>\n",
       "    .dataframe tbody tr th:only-of-type {\n",
       "        vertical-align: middle;\n",
       "    }\n",
       "\n",
       "    .dataframe tbody tr th {\n",
       "        vertical-align: top;\n",
       "    }\n",
       "\n",
       "    .dataframe thead th {\n",
       "        text-align: right;\n",
       "    }\n",
       "</style>\n",
       "<table border=\"1\" class=\"dataframe\">\n",
       "  <thead>\n",
       "    <tr style=\"text-align: right;\">\n",
       "      <th></th>\n",
       "      <th>name</th>\n",
       "      <th>platform_url</th>\n",
       "      <th>platform_url_google</th>\n",
       "    </tr>\n",
       "  </thead>\n",
       "  <tbody>\n",
       "    <tr>\n",
       "      <th>0</th>\n",
       "      <td>Anecdata.org</td>\n",
       "      <td>NaN</td>\n",
       "      <td>https://www.anecdata.org/</td>\n",
       "    </tr>\n",
       "    <tr>\n",
       "      <th>1</th>\n",
       "      <td>ZOE Health Study</td>\n",
       "      <td>https://health-study.joinzoe.com/</td>\n",
       "      <td>https://health-study.zoe.com/</td>\n",
       "    </tr>\n",
       "    <tr>\n",
       "      <th>2</th>\n",
       "      <td>Leave No Trace Citizen Science</td>\n",
       "      <td>https://lnt.org/our-work/citizen-science/</td>\n",
       "      <td>https://lnt.org/our-work/citizen-science/</td>\n",
       "    </tr>\n",
       "    <tr>\n",
       "      <th>3</th>\n",
       "      <td>BirdNET</td>\n",
       "      <td>https://birdnet.cornell.edu</td>\n",
       "      <td>https://birdnet.cornell.edu/</td>\n",
       "    </tr>\n",
       "    <tr>\n",
       "      <th>4</th>\n",
       "      <td>GLOBE Observer</td>\n",
       "      <td>NaN</td>\n",
       "      <td>https://observer.globe.gov/</td>\n",
       "    </tr>\n",
       "    <tr>\n",
       "      <th>5</th>\n",
       "      <td>Quantified Citizen Pro</td>\n",
       "      <td>https://www.quantifiedcitizen.com/</td>\n",
       "      <td>https://play.google.com/store/apps/details?id=...</td>\n",
       "    </tr>\n",
       "    <tr>\n",
       "      <th>6</th>\n",
       "      <td>spotFIRE | Citizen Science</td>\n",
       "      <td>https://www.spotteron.app</td>\n",
       "      <td>https://eu-citizen.science/</td>\n",
       "    </tr>\n",
       "    <tr>\n",
       "      <th>7</th>\n",
       "      <td>Brain Explorer</td>\n",
       "      <td>https://www.brainexplorer.net</td>\n",
       "      <td>/search?num=3</td>\n",
       "    </tr>\n",
       "    <tr>\n",
       "      <th>8</th>\n",
       "      <td>WaterLinx | Citizen Science</td>\n",
       "      <td>https://www.spotteron.app/</td>\n",
       "      <td>https://eu-citizen.science/</td>\n",
       "    </tr>\n",
       "    <tr>\n",
       "      <th>9</th>\n",
       "      <td>The Happiness Project</td>\n",
       "      <td>NaN</td>\n",
       "      <td>https://gretchenrubin.com/books/the-happiness-...</td>\n",
       "    </tr>\n",
       "    <tr>\n",
       "      <th>10</th>\n",
       "      <td>Faunawatch Citizen Science</td>\n",
       "      <td>https://faunawatch.org/contact/</td>\n",
       "      <td>https://apps.apple.com/es/app/faunawatch-citiz...</td>\n",
       "    </tr>\n",
       "    <tr>\n",
       "      <th>11</th>\n",
       "      <td>Echo Meter Touch Bat Detector</td>\n",
       "      <td>https://www.echometertouch.com</td>\n",
       "      <td>https://www.wildlifeacoustics.com/products/ech...</td>\n",
       "    </tr>\n",
       "    <tr>\n",
       "      <th>12</th>\n",
       "      <td>Zooniverse</td>\n",
       "      <td>NaN</td>\n",
       "      <td>https://www.zooniverse.org/</td>\n",
       "    </tr>\n",
       "    <tr>\n",
       "      <th>13</th>\n",
       "      <td>Nature's Notebook</td>\n",
       "      <td>https://www.usanpn.org</td>\n",
       "      <td>http://www.usanpn.org/nn</td>\n",
       "    </tr>\n",
       "    <tr>\n",
       "      <th>14</th>\n",
       "      <td>AmphiApp | Citizen Science</td>\n",
       "      <td>https://www.spotteron.app/de/</td>\n",
       "      <td>https://eu-citizen.science/</td>\n",
       "    </tr>\n",
       "    <tr>\n",
       "      <th>15</th>\n",
       "      <td>YOUCOUNT Youth Citizen Science</td>\n",
       "      <td>https://www.spotteron.app</td>\n",
       "      <td>https://www.youcountproject.eu/</td>\n",
       "    </tr>\n",
       "    <tr>\n",
       "      <th>16</th>\n",
       "      <td>ISeeChange Tracker</td>\n",
       "      <td>https://www.iseechange.org/</td>\n",
       "      <td>https://www.iseechange.com/</td>\n",
       "    </tr>\n",
       "    <tr>\n",
       "      <th>17</th>\n",
       "      <td>HerpMapper</td>\n",
       "      <td>NaN</td>\n",
       "      <td>https://www.herpmapper.org/</td>\n",
       "    </tr>\n",
       "    <tr>\n",
       "      <th>18</th>\n",
       "      <td>WhaleReport</td>\n",
       "      <td>NaN</td>\n",
       "      <td>https://report.wildwhales.org/</td>\n",
       "    </tr>\n",
       "    <tr>\n",
       "      <th>19</th>\n",
       "      <td>CSMON-LIFE segnalazioni</td>\n",
       "      <td>http://www.csmon-life.eu</td>\n",
       "      <td>https://www.csmon-life.eu/pagina/segnala/all</td>\n",
       "    </tr>\n",
       "    <tr>\n",
       "      <th>20</th>\n",
       "      <td>CoronaReport</td>\n",
       "      <td>https://www.spotteron.net</td>\n",
       "      <td>/search?num=3</td>\n",
       "    </tr>\n",
       "    <tr>\n",
       "      <th>21</th>\n",
       "      <td>Sealife Tracker</td>\n",
       "      <td>http://www.natural-apptitude.co.uk/project/sea...</td>\n",
       "      <td>https://www.gbif.org/dataset/f24cb6bb-8333-4ce...</td>\n",
       "    </tr>\n",
       "    <tr>\n",
       "      <th>22</th>\n",
       "      <td>PADI AWARE</td>\n",
       "      <td>https://www.padi.com/aware</td>\n",
       "      <td>https://www.padi.com/aware</td>\n",
       "    </tr>\n",
       "    <tr>\n",
       "      <th>23</th>\n",
       "      <td>Dark Sky Meter</td>\n",
       "      <td>https://pocket.science</td>\n",
       "      <td>https://www.darkskymeter.com/</td>\n",
       "    </tr>\n",
       "    <tr>\n",
       "      <th>24</th>\n",
       "      <td>BirdWeather</td>\n",
       "      <td>https://app.birdweather.com/</td>\n",
       "      <td>https://www.birdweather.com/</td>\n",
       "    </tr>\n",
       "    <tr>\n",
       "      <th>25</th>\n",
       "      <td>myHAZ-VCT</td>\n",
       "      <td>https://vct.myhaz.app</td>\n",
       "      <td>https://uwiseismic.com/myhaz-vct/</td>\n",
       "    </tr>\n",
       "    <tr>\n",
       "      <th>26</th>\n",
       "      <td>EyeOnWater - Colour</td>\n",
       "      <td>NaN</td>\n",
       "      <td>https://www.eyeonwater.org/</td>\n",
       "    </tr>\n",
       "    <tr>\n",
       "      <th>27</th>\n",
       "      <td>Mass Science</td>\n",
       "      <td>NaN</td>\n",
       "      <td>https://energywavetheory.com/explanations/what...</td>\n",
       "    </tr>\n",
       "    <tr>\n",
       "      <th>28</th>\n",
       "      <td>Tea Bag Index | SPOTTERON</td>\n",
       "      <td>https://www.spotteron.net</td>\n",
       "      <td>https://www.spotteron.com/teabagindex/</td>\n",
       "    </tr>\n",
       "    <tr>\n",
       "      <th>29</th>\n",
       "      <td>Dawn Chorus</td>\n",
       "      <td>https://dawn-chorus.org/</td>\n",
       "      <td>/search?num=3</td>\n",
       "    </tr>\n",
       "    <tr>\n",
       "      <th>30</th>\n",
       "      <td>BeeMachine</td>\n",
       "      <td>https://beemachine.ai</td>\n",
       "      <td>https://beemachine.ai/</td>\n",
       "    </tr>\n",
       "    <tr>\n",
       "      <th>31</th>\n",
       "      <td>Happiness Quest</td>\n",
       "      <td>NaN</td>\n",
       "      <td>https://www.happinessquest.app/</td>\n",
       "    </tr>\n",
       "    <tr>\n",
       "      <th>32</th>\n",
       "      <td>BirdTrack</td>\n",
       "      <td>http://www.birdtrack.net</td>\n",
       "      <td>https://www.bto.org/get-involved/volunteer/pro...</td>\n",
       "    </tr>\n",
       "    <tr>\n",
       "      <th>33</th>\n",
       "      <td>OpenRadiation</td>\n",
       "      <td>NaN</td>\n",
       "      <td>https://www.openradiation.org/en</td>\n",
       "    </tr>\n",
       "    <tr>\n",
       "      <th>34</th>\n",
       "      <td>WiBee</td>\n",
       "      <td>https://pollinators.wisc.edu/wibee/</td>\n",
       "      <td>/search?num=3</td>\n",
       "    </tr>\n",
       "    <tr>\n",
       "      <th>35</th>\n",
       "      <td>Big Butterfly Count</td>\n",
       "      <td>http://bigbutterflycount.org</td>\n",
       "      <td>https://bigbutterflycount.butterfly-conservati...</td>\n",
       "    </tr>\n",
       "    <tr>\n",
       "      <th>36</th>\n",
       "      <td>Caterpillars Count!</td>\n",
       "      <td>https://caterpillarscount.unc.edu</td>\n",
       "      <td>https://caterpillarscount.unc.edu/</td>\n",
       "    </tr>\n",
       "    <tr>\n",
       "      <th>37</th>\n",
       "      <td>Build4People: Citizen Science</td>\n",
       "      <td>NaN</td>\n",
       "      <td>/search?num=3</td>\n",
       "    </tr>\n",
       "    <tr>\n",
       "      <th>38</th>\n",
       "      <td>IPM Popillia Pest Management</td>\n",
       "      <td>https://www.spotteron.app</td>\n",
       "      <td>https://www.popillia.eu/</td>\n",
       "    </tr>\n",
       "    <tr>\n",
       "      <th>39</th>\n",
       "      <td>Mosquito Alert</td>\n",
       "      <td>http://www.mosquitoalert.com</td>\n",
       "      <td>https://www.mosquitoalert.com/en/</td>\n",
       "    </tr>\n",
       "    <tr>\n",
       "      <th>40</th>\n",
       "      <td>Citizen Scientist</td>\n",
       "      <td>https://www.natureboostproject.com</td>\n",
       "      <td>https://en.wikipedia.org/wiki/Citizen_science</td>\n",
       "    </tr>\n",
       "    <tr>\n",
       "      <th>41</th>\n",
       "      <td>MedusApp</td>\n",
       "      <td>http://medusapp.net</td>\n",
       "      <td>https://www.medusapp.net/</td>\n",
       "    </tr>\n",
       "    <tr>\n",
       "      <th>42</th>\n",
       "      <td>CoastSnap | SPOTTERON</td>\n",
       "      <td>https://www.spotteron.net/</td>\n",
       "      <td>https://www.coastsnap.com/</td>\n",
       "    </tr>\n",
       "    <tr>\n",
       "      <th>43</th>\n",
       "      <td>ORCA Oceanwatchers</td>\n",
       "      <td>https://www.orca.org.uk</td>\n",
       "      <td>https://orca.org.uk/training/oceanwatchers</td>\n",
       "    </tr>\n",
       "    <tr>\n",
       "      <th>44</th>\n",
       "      <td>ZSL Instant Wild</td>\n",
       "      <td>https://www.zsl.org/instant-wild-about</td>\n",
       "      <td>https://instantwild.zsl.org/</td>\n",
       "    </tr>\n",
       "    <tr>\n",
       "      <th>45</th>\n",
       "      <td>Discovery Tool Our Voice</td>\n",
       "      <td>NaN</td>\n",
       "      <td>https://play.google.com/store/apps/details?id=...</td>\n",
       "    </tr>\n",
       "    <tr>\n",
       "      <th>46</th>\n",
       "      <td>Black hole finder</td>\n",
       "      <td>https://www.pocket.science/products/blackholef...</td>\n",
       "      <td>https://play.google.com/store/apps/details?id=...</td>\n",
       "    </tr>\n",
       "    <tr>\n",
       "      <th>47</th>\n",
       "      <td>BiciZen</td>\n",
       "      <td>https://www.spotteron.app</td>\n",
       "      <td>https://www.bicizen.org/</td>\n",
       "    </tr>\n",
       "  </tbody>\n",
       "</table>\n",
       "</div>"
      ],
      "text/plain": [
       "                              name  \\\n",
       "0                     Anecdata.org   \n",
       "1                 ZOE Health Study   \n",
       "2   Leave No Trace Citizen Science   \n",
       "3                          BirdNET   \n",
       "4                   GLOBE Observer   \n",
       "5           Quantified Citizen Pro   \n",
       "6       spotFIRE | Citizen Science   \n",
       "7                   Brain Explorer   \n",
       "8      WaterLinx | Citizen Science   \n",
       "9            The Happiness Project   \n",
       "10      Faunawatch Citizen Science   \n",
       "11   Echo Meter Touch Bat Detector   \n",
       "12                      Zooniverse   \n",
       "13               Nature's Notebook   \n",
       "14      AmphiApp | Citizen Science   \n",
       "15  YOUCOUNT Youth Citizen Science   \n",
       "16              ISeeChange Tracker   \n",
       "17                      HerpMapper   \n",
       "18                     WhaleReport   \n",
       "19         CSMON-LIFE segnalazioni   \n",
       "20                    CoronaReport   \n",
       "21                 Sealife Tracker   \n",
       "22                      PADI AWARE   \n",
       "23                  Dark Sky Meter   \n",
       "24                     BirdWeather   \n",
       "25                       myHAZ-VCT   \n",
       "26             EyeOnWater - Colour   \n",
       "27                    Mass Science   \n",
       "28       Tea Bag Index | SPOTTERON   \n",
       "29                     Dawn Chorus   \n",
       "30                      BeeMachine   \n",
       "31                 Happiness Quest   \n",
       "32                       BirdTrack   \n",
       "33                   OpenRadiation   \n",
       "34                           WiBee   \n",
       "35             Big Butterfly Count   \n",
       "36             Caterpillars Count!   \n",
       "37   Build4People: Citizen Science   \n",
       "38    IPM Popillia Pest Management   \n",
       "39                  Mosquito Alert   \n",
       "40               Citizen Scientist   \n",
       "41                        MedusApp   \n",
       "42           CoastSnap | SPOTTERON   \n",
       "43              ORCA Oceanwatchers   \n",
       "44                ZSL Instant Wild   \n",
       "45        Discovery Tool Our Voice   \n",
       "46               Black hole finder   \n",
       "47                         BiciZen   \n",
       "\n",
       "                                         platform_url  \\\n",
       "0                                                 NaN   \n",
       "1                   https://health-study.joinzoe.com/   \n",
       "2           https://lnt.org/our-work/citizen-science/   \n",
       "3                         https://birdnet.cornell.edu   \n",
       "4                                                 NaN   \n",
       "5                  https://www.quantifiedcitizen.com/   \n",
       "6                           https://www.spotteron.app   \n",
       "7                       https://www.brainexplorer.net   \n",
       "8                          https://www.spotteron.app/   \n",
       "9                                                 NaN   \n",
       "10                    https://faunawatch.org/contact/   \n",
       "11                     https://www.echometertouch.com   \n",
       "12                                                NaN   \n",
       "13                             https://www.usanpn.org   \n",
       "14                      https://www.spotteron.app/de/   \n",
       "15                          https://www.spotteron.app   \n",
       "16                        https://www.iseechange.org/   \n",
       "17                                                NaN   \n",
       "18                                                NaN   \n",
       "19                           http://www.csmon-life.eu   \n",
       "20                          https://www.spotteron.net   \n",
       "21  http://www.natural-apptitude.co.uk/project/sea...   \n",
       "22                         https://www.padi.com/aware   \n",
       "23                             https://pocket.science   \n",
       "24                       https://app.birdweather.com/   \n",
       "25                              https://vct.myhaz.app   \n",
       "26                                                NaN   \n",
       "27                                                NaN   \n",
       "28                          https://www.spotteron.net   \n",
       "29                           https://dawn-chorus.org/   \n",
       "30                              https://beemachine.ai   \n",
       "31                                                NaN   \n",
       "32                           http://www.birdtrack.net   \n",
       "33                                                NaN   \n",
       "34                https://pollinators.wisc.edu/wibee/   \n",
       "35                       http://bigbutterflycount.org   \n",
       "36                  https://caterpillarscount.unc.edu   \n",
       "37                                                NaN   \n",
       "38                          https://www.spotteron.app   \n",
       "39                       http://www.mosquitoalert.com   \n",
       "40                 https://www.natureboostproject.com   \n",
       "41                                http://medusapp.net   \n",
       "42                         https://www.spotteron.net/   \n",
       "43                            https://www.orca.org.uk   \n",
       "44             https://www.zsl.org/instant-wild-about   \n",
       "45                                                NaN   \n",
       "46  https://www.pocket.science/products/blackholef...   \n",
       "47                          https://www.spotteron.app   \n",
       "\n",
       "                                  platform_url_google  \n",
       "0                           https://www.anecdata.org/  \n",
       "1                       https://health-study.zoe.com/  \n",
       "2           https://lnt.org/our-work/citizen-science/  \n",
       "3                        https://birdnet.cornell.edu/  \n",
       "4                         https://observer.globe.gov/  \n",
       "5   https://play.google.com/store/apps/details?id=...  \n",
       "6                         https://eu-citizen.science/  \n",
       "7                                       /search?num=3  \n",
       "8                         https://eu-citizen.science/  \n",
       "9   https://gretchenrubin.com/books/the-happiness-...  \n",
       "10  https://apps.apple.com/es/app/faunawatch-citiz...  \n",
       "11  https://www.wildlifeacoustics.com/products/ech...  \n",
       "12                        https://www.zooniverse.org/  \n",
       "13                           http://www.usanpn.org/nn  \n",
       "14                        https://eu-citizen.science/  \n",
       "15                    https://www.youcountproject.eu/  \n",
       "16                        https://www.iseechange.com/  \n",
       "17                        https://www.herpmapper.org/  \n",
       "18                     https://report.wildwhales.org/  \n",
       "19       https://www.csmon-life.eu/pagina/segnala/all  \n",
       "20                                      /search?num=3  \n",
       "21  https://www.gbif.org/dataset/f24cb6bb-8333-4ce...  \n",
       "22                         https://www.padi.com/aware  \n",
       "23                      https://www.darkskymeter.com/  \n",
       "24                       https://www.birdweather.com/  \n",
       "25                  https://uwiseismic.com/myhaz-vct/  \n",
       "26                        https://www.eyeonwater.org/  \n",
       "27  https://energywavetheory.com/explanations/what...  \n",
       "28             https://www.spotteron.com/teabagindex/  \n",
       "29                                      /search?num=3  \n",
       "30                             https://beemachine.ai/  \n",
       "31                    https://www.happinessquest.app/  \n",
       "32  https://www.bto.org/get-involved/volunteer/pro...  \n",
       "33                   https://www.openradiation.org/en  \n",
       "34                                      /search?num=3  \n",
       "35  https://bigbutterflycount.butterfly-conservati...  \n",
       "36                 https://caterpillarscount.unc.edu/  \n",
       "37                                      /search?num=3  \n",
       "38                           https://www.popillia.eu/  \n",
       "39                  https://www.mosquitoalert.com/en/  \n",
       "40      https://en.wikipedia.org/wiki/Citizen_science  \n",
       "41                          https://www.medusapp.net/  \n",
       "42                         https://www.coastsnap.com/  \n",
       "43         https://orca.org.uk/training/oceanwatchers  \n",
       "44                       https://instantwild.zsl.org/  \n",
       "45  https://play.google.com/store/apps/details?id=...  \n",
       "46  https://play.google.com/store/apps/details?id=...  \n",
       "47                           https://www.bicizen.org/  "
      ]
     },
     "execution_count": 113,
     "metadata": {},
     "output_type": "execute_result"
    }
   ],
   "source": [
    "df2[['name', \"platform_url\", \"platform_url_google\"]]"
   ]
  },
  {
   "cell_type": "code",
   "execution_count": 114,
   "id": "8269c044",
   "metadata": {},
   "outputs": [],
   "source": [
    "import numpy as np\n",
    "df2.loc[df2.platform_url_google == \"/search?num=3\", \"platform_url_google\"] = np.nan"
   ]
  },
  {
   "cell_type": "code",
   "execution_count": 115,
   "id": "ad37c881",
   "metadata": {},
   "outputs": [
    {
     "data": {
      "application/vnd.microsoft.datawrangler.viewer.v0+json": {
       "columns": [
        {
         "name": "index",
         "rawType": "int64",
         "type": "integer"
        },
        {
         "name": "name",
         "rawType": "object",
         "type": "string"
        },
        {
         "name": "url",
         "rawType": "object",
         "type": "string"
        },
        {
         "name": "platform_url",
         "rawType": "object",
         "type": "unknown"
        },
        {
         "name": "platform_url_google",
         "rawType": "object",
         "type": "unknown"
        }
       ],
       "ref": "8c86f369-8b7e-4451-98e4-818b20a354d2",
       "rows": [
        [
         "0",
         "Anecdata.org",
         "https://apps.apple.com/us/app/anecdata-org/id1315666791?uo=4",
         null,
         "https://www.anecdata.org/"
        ],
        [
         "1",
         "ZOE Health Study",
         "https://apps.apple.com/us/app/zoe-health-study/id1503529611?uo=4",
         "https://health-study.joinzoe.com/",
         "https://health-study.zoe.com/"
        ],
        [
         "2",
         "Leave No Trace Citizen Science",
         "https://apps.apple.com/us/app/leave-no-trace-citizen-science/id1536428995?uo=4",
         "https://lnt.org/our-work/citizen-science/",
         "https://lnt.org/our-work/citizen-science/"
        ],
        [
         "3",
         "BirdNET",
         "https://apps.apple.com/us/app/birdnet/id1541842885?uo=4",
         "https://birdnet.cornell.edu",
         "https://birdnet.cornell.edu/"
        ],
        [
         "4",
         "GLOBE Observer",
         "https://apps.apple.com/us/app/globe-observer/id1090456751?uo=4",
         null,
         "https://observer.globe.gov/"
        ],
        [
         "5",
         "Quantified Citizen Pro",
         "https://apps.apple.com/us/app/quantified-citizen-pro/id1580605645?uo=4",
         "https://www.quantifiedcitizen.com/",
         "https://play.google.com/store/apps/details?id=com.quantifiedcitizen.pro&hl=en"
        ],
        [
         "6",
         "spotFIRE | Citizen Science",
         "https://apps.apple.com/us/app/spotfire-citizen-science/id6462456297?uo=4",
         "https://www.spotteron.app",
         "https://eu-citizen.science/"
        ],
        [
         "7",
         "Brain Explorer",
         "https://apps.apple.com/us/app/brain-explorer/id1490281801?uo=4",
         "https://www.brainexplorer.net",
         null
        ],
        [
         "8",
         "WaterLinx | Citizen Science",
         "https://apps.apple.com/us/app/waterlinx-citizen-science/id6447082468?uo=4",
         "https://www.spotteron.app/",
         "https://eu-citizen.science/"
        ],
        [
         "9",
         "The Happiness Project",
         "https://apps.apple.com/us/app/the-happiness-project/id1366965114?uo=4",
         null,
         "https://gretchenrubin.com/books/the-happiness-project/"
        ],
        [
         "10",
         "Faunawatch Citizen Science",
         "https://apps.apple.com/us/app/faunawatch-citizen-science/id1594067397?uo=4",
         "https://faunawatch.org/contact/",
         "https://apps.apple.com/es/app/faunawatch-citizen-science/id1594067397"
        ],
        [
         "11",
         "Echo Meter Touch Bat Detector",
         "https://apps.apple.com/us/app/echo-meter-touch-bat-detector/id693958125?uo=4",
         "https://www.echometertouch.com",
         "https://www.wildlifeacoustics.com/products/echo-meter-touch-2?token=u9woVu8MwaBrYccAs2KDC_omPK5bdfCO"
        ],
        [
         "12",
         "Zooniverse",
         "https://apps.apple.com/us/app/zooniverse/id1194130243?uo=4",
         null,
         "https://www.zooniverse.org/"
        ],
        [
         "13",
         "Nature's Notebook",
         "https://apps.apple.com/us/app/natures-notebook/id1463430668?uo=4",
         "https://www.usanpn.org",
         "http://www.usanpn.org/nn"
        ],
        [
         "14",
         "AmphiApp | Citizen Science",
         "https://apps.apple.com/us/app/amphiapp-citizen-science/id6468587877?uo=4",
         "https://www.spotteron.app/de/",
         "https://eu-citizen.science/"
        ],
        [
         "15",
         "YOUCOUNT Youth Citizen Science",
         "https://apps.apple.com/us/app/youcount-youth-citizen-science/id1612313549?uo=4",
         "https://www.spotteron.app",
         "https://www.youcountproject.eu/"
        ],
        [
         "16",
         "ISeeChange Tracker",
         "https://apps.apple.com/us/app/iseechange-tracker/id1114885557?uo=4",
         "https://www.iseechange.org/",
         "https://www.iseechange.com/"
        ],
        [
         "17",
         "HerpMapper",
         "https://apps.apple.com/us/app/herpmapper/id1266037481?uo=4",
         null,
         "https://www.herpmapper.org/"
        ],
        [
         "18",
         "WhaleReport",
         "https://apps.apple.com/us/app/whalereport/id982066469?uo=4",
         null,
         "https://report.wildwhales.org/"
        ],
        [
         "19",
         "CSMON-LIFE segnalazioni",
         "https://apps.apple.com/us/app/csmon-life-segnalazioni/id943048570?uo=4",
         "http://www.csmon-life.eu",
         "https://www.csmon-life.eu/pagina/segnala/all"
        ],
        [
         "20",
         "CoronaReport",
         "https://apps.apple.com/us/app/coronareport/id1504173448?uo=4",
         "https://www.spotteron.net",
         null
        ],
        [
         "21",
         "Sealife Tracker",
         "https://apps.apple.com/us/app/sealife-tracker/id663800293?uo=4",
         "http://www.natural-apptitude.co.uk/project/sealife-tracker/",
         "https://www.gbif.org/dataset/f24cb6bb-8333-4ce1-9fdf-71bd3bec0ff6"
        ],
        [
         "22",
         "PADI AWARE",
         "https://apps.apple.com/us/app/padi-aware/id1260943783?uo=4",
         "https://www.padi.com/aware",
         "https://www.padi.com/aware"
        ],
        [
         "23",
         "Dark Sky Meter",
         "https://apps.apple.com/us/app/dark-sky-meter/id602989060?uo=4",
         "https://pocket.science",
         "https://www.darkskymeter.com/"
        ],
        [
         "24",
         "BirdWeather",
         "https://apps.apple.com/us/app/birdweather/id6446207088?uo=4",
         "https://app.birdweather.com/",
         "https://www.birdweather.com/"
        ],
        [
         "25",
         "myHAZ-VCT",
         "https://apps.apple.com/us/app/myhaz-vct/id1507981214?uo=4",
         "https://vct.myhaz.app",
         "https://uwiseismic.com/myhaz-vct/"
        ],
        [
         "26",
         "EyeOnWater - Colour",
         "https://apps.apple.com/us/app/eyeonwater-colour/id1021542366?uo=4",
         null,
         "https://www.eyeonwater.org/"
        ],
        [
         "27",
         "Mass Science",
         "https://apps.apple.com/us/app/mass-science/id1511915099?uo=4",
         null,
         "https://energywavetheory.com/explanations/what-is-mass/"
        ],
        [
         "28",
         "Tea Bag Index | SPOTTERON",
         "https://apps.apple.com/us/app/tea-bag-index-spotteron/id1465181150?uo=4",
         "https://www.spotteron.net",
         "https://www.spotteron.com/teabagindex/"
        ],
        [
         "29",
         "Dawn Chorus",
         "https://apps.apple.com/us/app/dawn-chorus/id1557441003?uo=4",
         "https://dawn-chorus.org/",
         null
        ],
        [
         "30",
         "BeeMachine",
         "https://apps.apple.com/us/app/beemachine/id1628232687?uo=4",
         "https://beemachine.ai",
         "https://beemachine.ai/"
        ],
        [
         "31",
         "Happiness Quest",
         "https://apps.apple.com/us/app/happiness-quest/id1602523342?uo=4",
         null,
         "https://www.happinessquest.app/"
        ],
        [
         "32",
         "BirdTrack",
         "https://apps.apple.com/us/app/birdtrack/id596839218?uo=4",
         "http://www.birdtrack.net",
         "https://www.bto.org/get-involved/volunteer/projects/birdtrack"
        ],
        [
         "33",
         "OpenRadiation",
         "https://apps.apple.com/us/app/openradiation/id1246249831?uo=4",
         null,
         "https://www.openradiation.org/en"
        ],
        [
         "34",
         "WiBee",
         "https://apps.apple.com/us/app/wibee/id1483549326?uo=4",
         "https://pollinators.wisc.edu/wibee/",
         null
        ],
        [
         "35",
         "Big Butterfly Count",
         "https://apps.apple.com/us/app/big-butterfly-count/id658158833?uo=4",
         "http://bigbutterflycount.org",
         "https://bigbutterflycount.butterfly-conservation.org/"
        ],
        [
         "36",
         "Caterpillars Count!",
         "https://apps.apple.com/us/app/caterpillars-count/id1366400875?uo=4",
         "https://caterpillarscount.unc.edu",
         "https://caterpillarscount.unc.edu/"
        ],
        [
         "37",
         "Build4People: Citizen Science",
         "https://apps.apple.com/us/app/build4people-citizen-science/id6478510837?uo=4",
         null,
         null
        ],
        [
         "38",
         "IPM Popillia Pest Management",
         "https://apps.apple.com/us/app/ipm-popillia-pest-management/id1609972479?uo=4",
         "https://www.spotteron.app",
         "https://www.popillia.eu/"
        ],
        [
         "39",
         "Mosquito Alert",
         "https://apps.apple.com/us/app/mosquito-alert/id890635644?uo=4",
         "http://www.mosquitoalert.com",
         "https://www.mosquitoalert.com/en/"
        ],
        [
         "40",
         "Citizen Scientist",
         "https://apps.apple.com/us/app/citizen-scientist/id6504582629?uo=4",
         "https://www.natureboostproject.com",
         "https://en.wikipedia.org/wiki/Citizen_science"
        ],
        [
         "41",
         "MedusApp",
         "https://apps.apple.com/us/app/medusapp/id1182365420?uo=4",
         "http://medusapp.net",
         "https://www.medusapp.net/"
        ],
        [
         "42",
         "CoastSnap | SPOTTERON",
         "https://apps.apple.com/us/app/coastsnap-spotteron/id1529921850?uo=4",
         "https://www.spotteron.net/",
         "https://www.coastsnap.com/"
        ],
        [
         "43",
         "ORCA Oceanwatchers",
         "https://apps.apple.com/us/app/orca-oceanwatchers/id1533410961?uo=4",
         "https://www.orca.org.uk",
         "https://orca.org.uk/training/oceanwatchers"
        ],
        [
         "44",
         "ZSL Instant Wild",
         "https://apps.apple.com/us/app/zsl-instant-wild/id1290294097?uo=4",
         "https://www.zsl.org/instant-wild-about",
         "https://instantwild.zsl.org/"
        ],
        [
         "45",
         "Discovery Tool Our Voice",
         "https://apps.apple.com/us/app/discovery-tool-our-voice/id1171935766?uo=4",
         null,
         "https://play.google.com/store/apps/details?id=edu.stanford.ourvoice.discoverytool&hl=en"
        ],
        [
         "46",
         "Black hole finder",
         "https://apps.apple.com/us/app/black-hole-finder/id6446029571?uo=4",
         "https://www.pocket.science/products/blackholefinder/",
         "https://play.google.com/store/apps/details?id=nl.ddq.blackholefinder&hl=en"
        ],
        [
         "47",
         "BiciZen",
         "https://apps.apple.com/us/app/bicizen/id1671632609?uo=4",
         "https://www.spotteron.app",
         "https://www.bicizen.org/"
        ]
       ],
       "shape": {
        "columns": 4,
        "rows": 48
       }
      },
      "text/html": [
       "<div>\n",
       "<style scoped>\n",
       "    .dataframe tbody tr th:only-of-type {\n",
       "        vertical-align: middle;\n",
       "    }\n",
       "\n",
       "    .dataframe tbody tr th {\n",
       "        vertical-align: top;\n",
       "    }\n",
       "\n",
       "    .dataframe thead th {\n",
       "        text-align: right;\n",
       "    }\n",
       "</style>\n",
       "<table border=\"1\" class=\"dataframe\">\n",
       "  <thead>\n",
       "    <tr style=\"text-align: right;\">\n",
       "      <th></th>\n",
       "      <th>name</th>\n",
       "      <th>url</th>\n",
       "      <th>platform_url</th>\n",
       "      <th>platform_url_google</th>\n",
       "    </tr>\n",
       "  </thead>\n",
       "  <tbody>\n",
       "    <tr>\n",
       "      <th>0</th>\n",
       "      <td>Anecdata.org</td>\n",
       "      <td>https://apps.apple.com/us/app/anecdata-org/id1...</td>\n",
       "      <td>NaN</td>\n",
       "      <td>https://www.anecdata.org/</td>\n",
       "    </tr>\n",
       "    <tr>\n",
       "      <th>1</th>\n",
       "      <td>ZOE Health Study</td>\n",
       "      <td>https://apps.apple.com/us/app/zoe-health-study...</td>\n",
       "      <td>https://health-study.joinzoe.com/</td>\n",
       "      <td>https://health-study.zoe.com/</td>\n",
       "    </tr>\n",
       "    <tr>\n",
       "      <th>2</th>\n",
       "      <td>Leave No Trace Citizen Science</td>\n",
       "      <td>https://apps.apple.com/us/app/leave-no-trace-c...</td>\n",
       "      <td>https://lnt.org/our-work/citizen-science/</td>\n",
       "      <td>https://lnt.org/our-work/citizen-science/</td>\n",
       "    </tr>\n",
       "    <tr>\n",
       "      <th>3</th>\n",
       "      <td>BirdNET</td>\n",
       "      <td>https://apps.apple.com/us/app/birdnet/id154184...</td>\n",
       "      <td>https://birdnet.cornell.edu</td>\n",
       "      <td>https://birdnet.cornell.edu/</td>\n",
       "    </tr>\n",
       "    <tr>\n",
       "      <th>4</th>\n",
       "      <td>GLOBE Observer</td>\n",
       "      <td>https://apps.apple.com/us/app/globe-observer/i...</td>\n",
       "      <td>NaN</td>\n",
       "      <td>https://observer.globe.gov/</td>\n",
       "    </tr>\n",
       "    <tr>\n",
       "      <th>5</th>\n",
       "      <td>Quantified Citizen Pro</td>\n",
       "      <td>https://apps.apple.com/us/app/quantified-citiz...</td>\n",
       "      <td>https://www.quantifiedcitizen.com/</td>\n",
       "      <td>https://play.google.com/store/apps/details?id=...</td>\n",
       "    </tr>\n",
       "    <tr>\n",
       "      <th>6</th>\n",
       "      <td>spotFIRE | Citizen Science</td>\n",
       "      <td>https://apps.apple.com/us/app/spotfire-citizen...</td>\n",
       "      <td>https://www.spotteron.app</td>\n",
       "      <td>https://eu-citizen.science/</td>\n",
       "    </tr>\n",
       "    <tr>\n",
       "      <th>7</th>\n",
       "      <td>Brain Explorer</td>\n",
       "      <td>https://apps.apple.com/us/app/brain-explorer/i...</td>\n",
       "      <td>https://www.brainexplorer.net</td>\n",
       "      <td>NaN</td>\n",
       "    </tr>\n",
       "    <tr>\n",
       "      <th>8</th>\n",
       "      <td>WaterLinx | Citizen Science</td>\n",
       "      <td>https://apps.apple.com/us/app/waterlinx-citize...</td>\n",
       "      <td>https://www.spotteron.app/</td>\n",
       "      <td>https://eu-citizen.science/</td>\n",
       "    </tr>\n",
       "    <tr>\n",
       "      <th>9</th>\n",
       "      <td>The Happiness Project</td>\n",
       "      <td>https://apps.apple.com/us/app/the-happiness-pr...</td>\n",
       "      <td>NaN</td>\n",
       "      <td>https://gretchenrubin.com/books/the-happiness-...</td>\n",
       "    </tr>\n",
       "    <tr>\n",
       "      <th>10</th>\n",
       "      <td>Faunawatch Citizen Science</td>\n",
       "      <td>https://apps.apple.com/us/app/faunawatch-citiz...</td>\n",
       "      <td>https://faunawatch.org/contact/</td>\n",
       "      <td>https://apps.apple.com/es/app/faunawatch-citiz...</td>\n",
       "    </tr>\n",
       "    <tr>\n",
       "      <th>11</th>\n",
       "      <td>Echo Meter Touch Bat Detector</td>\n",
       "      <td>https://apps.apple.com/us/app/echo-meter-touch...</td>\n",
       "      <td>https://www.echometertouch.com</td>\n",
       "      <td>https://www.wildlifeacoustics.com/products/ech...</td>\n",
       "    </tr>\n",
       "    <tr>\n",
       "      <th>12</th>\n",
       "      <td>Zooniverse</td>\n",
       "      <td>https://apps.apple.com/us/app/zooniverse/id119...</td>\n",
       "      <td>NaN</td>\n",
       "      <td>https://www.zooniverse.org/</td>\n",
       "    </tr>\n",
       "    <tr>\n",
       "      <th>13</th>\n",
       "      <td>Nature's Notebook</td>\n",
       "      <td>https://apps.apple.com/us/app/natures-notebook...</td>\n",
       "      <td>https://www.usanpn.org</td>\n",
       "      <td>http://www.usanpn.org/nn</td>\n",
       "    </tr>\n",
       "    <tr>\n",
       "      <th>14</th>\n",
       "      <td>AmphiApp | Citizen Science</td>\n",
       "      <td>https://apps.apple.com/us/app/amphiapp-citizen...</td>\n",
       "      <td>https://www.spotteron.app/de/</td>\n",
       "      <td>https://eu-citizen.science/</td>\n",
       "    </tr>\n",
       "    <tr>\n",
       "      <th>15</th>\n",
       "      <td>YOUCOUNT Youth Citizen Science</td>\n",
       "      <td>https://apps.apple.com/us/app/youcount-youth-c...</td>\n",
       "      <td>https://www.spotteron.app</td>\n",
       "      <td>https://www.youcountproject.eu/</td>\n",
       "    </tr>\n",
       "    <tr>\n",
       "      <th>16</th>\n",
       "      <td>ISeeChange Tracker</td>\n",
       "      <td>https://apps.apple.com/us/app/iseechange-track...</td>\n",
       "      <td>https://www.iseechange.org/</td>\n",
       "      <td>https://www.iseechange.com/</td>\n",
       "    </tr>\n",
       "    <tr>\n",
       "      <th>17</th>\n",
       "      <td>HerpMapper</td>\n",
       "      <td>https://apps.apple.com/us/app/herpmapper/id126...</td>\n",
       "      <td>NaN</td>\n",
       "      <td>https://www.herpmapper.org/</td>\n",
       "    </tr>\n",
       "    <tr>\n",
       "      <th>18</th>\n",
       "      <td>WhaleReport</td>\n",
       "      <td>https://apps.apple.com/us/app/whalereport/id98...</td>\n",
       "      <td>NaN</td>\n",
       "      <td>https://report.wildwhales.org/</td>\n",
       "    </tr>\n",
       "    <tr>\n",
       "      <th>19</th>\n",
       "      <td>CSMON-LIFE segnalazioni</td>\n",
       "      <td>https://apps.apple.com/us/app/csmon-life-segna...</td>\n",
       "      <td>http://www.csmon-life.eu</td>\n",
       "      <td>https://www.csmon-life.eu/pagina/segnala/all</td>\n",
       "    </tr>\n",
       "    <tr>\n",
       "      <th>20</th>\n",
       "      <td>CoronaReport</td>\n",
       "      <td>https://apps.apple.com/us/app/coronareport/id1...</td>\n",
       "      <td>https://www.spotteron.net</td>\n",
       "      <td>NaN</td>\n",
       "    </tr>\n",
       "    <tr>\n",
       "      <th>21</th>\n",
       "      <td>Sealife Tracker</td>\n",
       "      <td>https://apps.apple.com/us/app/sealife-tracker/...</td>\n",
       "      <td>http://www.natural-apptitude.co.uk/project/sea...</td>\n",
       "      <td>https://www.gbif.org/dataset/f24cb6bb-8333-4ce...</td>\n",
       "    </tr>\n",
       "    <tr>\n",
       "      <th>22</th>\n",
       "      <td>PADI AWARE</td>\n",
       "      <td>https://apps.apple.com/us/app/padi-aware/id126...</td>\n",
       "      <td>https://www.padi.com/aware</td>\n",
       "      <td>https://www.padi.com/aware</td>\n",
       "    </tr>\n",
       "    <tr>\n",
       "      <th>23</th>\n",
       "      <td>Dark Sky Meter</td>\n",
       "      <td>https://apps.apple.com/us/app/dark-sky-meter/i...</td>\n",
       "      <td>https://pocket.science</td>\n",
       "      <td>https://www.darkskymeter.com/</td>\n",
       "    </tr>\n",
       "    <tr>\n",
       "      <th>24</th>\n",
       "      <td>BirdWeather</td>\n",
       "      <td>https://apps.apple.com/us/app/birdweather/id64...</td>\n",
       "      <td>https://app.birdweather.com/</td>\n",
       "      <td>https://www.birdweather.com/</td>\n",
       "    </tr>\n",
       "    <tr>\n",
       "      <th>25</th>\n",
       "      <td>myHAZ-VCT</td>\n",
       "      <td>https://apps.apple.com/us/app/myhaz-vct/id1507...</td>\n",
       "      <td>https://vct.myhaz.app</td>\n",
       "      <td>https://uwiseismic.com/myhaz-vct/</td>\n",
       "    </tr>\n",
       "    <tr>\n",
       "      <th>26</th>\n",
       "      <td>EyeOnWater - Colour</td>\n",
       "      <td>https://apps.apple.com/us/app/eyeonwater-colou...</td>\n",
       "      <td>NaN</td>\n",
       "      <td>https://www.eyeonwater.org/</td>\n",
       "    </tr>\n",
       "    <tr>\n",
       "      <th>27</th>\n",
       "      <td>Mass Science</td>\n",
       "      <td>https://apps.apple.com/us/app/mass-science/id1...</td>\n",
       "      <td>NaN</td>\n",
       "      <td>https://energywavetheory.com/explanations/what...</td>\n",
       "    </tr>\n",
       "    <tr>\n",
       "      <th>28</th>\n",
       "      <td>Tea Bag Index | SPOTTERON</td>\n",
       "      <td>https://apps.apple.com/us/app/tea-bag-index-sp...</td>\n",
       "      <td>https://www.spotteron.net</td>\n",
       "      <td>https://www.spotteron.com/teabagindex/</td>\n",
       "    </tr>\n",
       "    <tr>\n",
       "      <th>29</th>\n",
       "      <td>Dawn Chorus</td>\n",
       "      <td>https://apps.apple.com/us/app/dawn-chorus/id15...</td>\n",
       "      <td>https://dawn-chorus.org/</td>\n",
       "      <td>NaN</td>\n",
       "    </tr>\n",
       "    <tr>\n",
       "      <th>30</th>\n",
       "      <td>BeeMachine</td>\n",
       "      <td>https://apps.apple.com/us/app/beemachine/id162...</td>\n",
       "      <td>https://beemachine.ai</td>\n",
       "      <td>https://beemachine.ai/</td>\n",
       "    </tr>\n",
       "    <tr>\n",
       "      <th>31</th>\n",
       "      <td>Happiness Quest</td>\n",
       "      <td>https://apps.apple.com/us/app/happiness-quest/...</td>\n",
       "      <td>NaN</td>\n",
       "      <td>https://www.happinessquest.app/</td>\n",
       "    </tr>\n",
       "    <tr>\n",
       "      <th>32</th>\n",
       "      <td>BirdTrack</td>\n",
       "      <td>https://apps.apple.com/us/app/birdtrack/id5968...</td>\n",
       "      <td>http://www.birdtrack.net</td>\n",
       "      <td>https://www.bto.org/get-involved/volunteer/pro...</td>\n",
       "    </tr>\n",
       "    <tr>\n",
       "      <th>33</th>\n",
       "      <td>OpenRadiation</td>\n",
       "      <td>https://apps.apple.com/us/app/openradiation/id...</td>\n",
       "      <td>NaN</td>\n",
       "      <td>https://www.openradiation.org/en</td>\n",
       "    </tr>\n",
       "    <tr>\n",
       "      <th>34</th>\n",
       "      <td>WiBee</td>\n",
       "      <td>https://apps.apple.com/us/app/wibee/id14835493...</td>\n",
       "      <td>https://pollinators.wisc.edu/wibee/</td>\n",
       "      <td>NaN</td>\n",
       "    </tr>\n",
       "    <tr>\n",
       "      <th>35</th>\n",
       "      <td>Big Butterfly Count</td>\n",
       "      <td>https://apps.apple.com/us/app/big-butterfly-co...</td>\n",
       "      <td>http://bigbutterflycount.org</td>\n",
       "      <td>https://bigbutterflycount.butterfly-conservati...</td>\n",
       "    </tr>\n",
       "    <tr>\n",
       "      <th>36</th>\n",
       "      <td>Caterpillars Count!</td>\n",
       "      <td>https://apps.apple.com/us/app/caterpillars-cou...</td>\n",
       "      <td>https://caterpillarscount.unc.edu</td>\n",
       "      <td>https://caterpillarscount.unc.edu/</td>\n",
       "    </tr>\n",
       "    <tr>\n",
       "      <th>37</th>\n",
       "      <td>Build4People: Citizen Science</td>\n",
       "      <td>https://apps.apple.com/us/app/build4people-cit...</td>\n",
       "      <td>NaN</td>\n",
       "      <td>NaN</td>\n",
       "    </tr>\n",
       "    <tr>\n",
       "      <th>38</th>\n",
       "      <td>IPM Popillia Pest Management</td>\n",
       "      <td>https://apps.apple.com/us/app/ipm-popillia-pes...</td>\n",
       "      <td>https://www.spotteron.app</td>\n",
       "      <td>https://www.popillia.eu/</td>\n",
       "    </tr>\n",
       "    <tr>\n",
       "      <th>39</th>\n",
       "      <td>Mosquito Alert</td>\n",
       "      <td>https://apps.apple.com/us/app/mosquito-alert/i...</td>\n",
       "      <td>http://www.mosquitoalert.com</td>\n",
       "      <td>https://www.mosquitoalert.com/en/</td>\n",
       "    </tr>\n",
       "    <tr>\n",
       "      <th>40</th>\n",
       "      <td>Citizen Scientist</td>\n",
       "      <td>https://apps.apple.com/us/app/citizen-scientis...</td>\n",
       "      <td>https://www.natureboostproject.com</td>\n",
       "      <td>https://en.wikipedia.org/wiki/Citizen_science</td>\n",
       "    </tr>\n",
       "    <tr>\n",
       "      <th>41</th>\n",
       "      <td>MedusApp</td>\n",
       "      <td>https://apps.apple.com/us/app/medusapp/id11823...</td>\n",
       "      <td>http://medusapp.net</td>\n",
       "      <td>https://www.medusapp.net/</td>\n",
       "    </tr>\n",
       "    <tr>\n",
       "      <th>42</th>\n",
       "      <td>CoastSnap | SPOTTERON</td>\n",
       "      <td>https://apps.apple.com/us/app/coastsnap-spotte...</td>\n",
       "      <td>https://www.spotteron.net/</td>\n",
       "      <td>https://www.coastsnap.com/</td>\n",
       "    </tr>\n",
       "    <tr>\n",
       "      <th>43</th>\n",
       "      <td>ORCA Oceanwatchers</td>\n",
       "      <td>https://apps.apple.com/us/app/orca-oceanwatche...</td>\n",
       "      <td>https://www.orca.org.uk</td>\n",
       "      <td>https://orca.org.uk/training/oceanwatchers</td>\n",
       "    </tr>\n",
       "    <tr>\n",
       "      <th>44</th>\n",
       "      <td>ZSL Instant Wild</td>\n",
       "      <td>https://apps.apple.com/us/app/zsl-instant-wild...</td>\n",
       "      <td>https://www.zsl.org/instant-wild-about</td>\n",
       "      <td>https://instantwild.zsl.org/</td>\n",
       "    </tr>\n",
       "    <tr>\n",
       "      <th>45</th>\n",
       "      <td>Discovery Tool Our Voice</td>\n",
       "      <td>https://apps.apple.com/us/app/discovery-tool-o...</td>\n",
       "      <td>NaN</td>\n",
       "      <td>https://play.google.com/store/apps/details?id=...</td>\n",
       "    </tr>\n",
       "    <tr>\n",
       "      <th>46</th>\n",
       "      <td>Black hole finder</td>\n",
       "      <td>https://apps.apple.com/us/app/black-hole-finde...</td>\n",
       "      <td>https://www.pocket.science/products/blackholef...</td>\n",
       "      <td>https://play.google.com/store/apps/details?id=...</td>\n",
       "    </tr>\n",
       "    <tr>\n",
       "      <th>47</th>\n",
       "      <td>BiciZen</td>\n",
       "      <td>https://apps.apple.com/us/app/bicizen/id167163...</td>\n",
       "      <td>https://www.spotteron.app</td>\n",
       "      <td>https://www.bicizen.org/</td>\n",
       "    </tr>\n",
       "  </tbody>\n",
       "</table>\n",
       "</div>"
      ],
      "text/plain": [
       "                              name  \\\n",
       "0                     Anecdata.org   \n",
       "1                 ZOE Health Study   \n",
       "2   Leave No Trace Citizen Science   \n",
       "3                          BirdNET   \n",
       "4                   GLOBE Observer   \n",
       "5           Quantified Citizen Pro   \n",
       "6       spotFIRE | Citizen Science   \n",
       "7                   Brain Explorer   \n",
       "8      WaterLinx | Citizen Science   \n",
       "9            The Happiness Project   \n",
       "10      Faunawatch Citizen Science   \n",
       "11   Echo Meter Touch Bat Detector   \n",
       "12                      Zooniverse   \n",
       "13               Nature's Notebook   \n",
       "14      AmphiApp | Citizen Science   \n",
       "15  YOUCOUNT Youth Citizen Science   \n",
       "16              ISeeChange Tracker   \n",
       "17                      HerpMapper   \n",
       "18                     WhaleReport   \n",
       "19         CSMON-LIFE segnalazioni   \n",
       "20                    CoronaReport   \n",
       "21                 Sealife Tracker   \n",
       "22                      PADI AWARE   \n",
       "23                  Dark Sky Meter   \n",
       "24                     BirdWeather   \n",
       "25                       myHAZ-VCT   \n",
       "26             EyeOnWater - Colour   \n",
       "27                    Mass Science   \n",
       "28       Tea Bag Index | SPOTTERON   \n",
       "29                     Dawn Chorus   \n",
       "30                      BeeMachine   \n",
       "31                 Happiness Quest   \n",
       "32                       BirdTrack   \n",
       "33                   OpenRadiation   \n",
       "34                           WiBee   \n",
       "35             Big Butterfly Count   \n",
       "36             Caterpillars Count!   \n",
       "37   Build4People: Citizen Science   \n",
       "38    IPM Popillia Pest Management   \n",
       "39                  Mosquito Alert   \n",
       "40               Citizen Scientist   \n",
       "41                        MedusApp   \n",
       "42           CoastSnap | SPOTTERON   \n",
       "43              ORCA Oceanwatchers   \n",
       "44                ZSL Instant Wild   \n",
       "45        Discovery Tool Our Voice   \n",
       "46               Black hole finder   \n",
       "47                         BiciZen   \n",
       "\n",
       "                                                  url  \\\n",
       "0   https://apps.apple.com/us/app/anecdata-org/id1...   \n",
       "1   https://apps.apple.com/us/app/zoe-health-study...   \n",
       "2   https://apps.apple.com/us/app/leave-no-trace-c...   \n",
       "3   https://apps.apple.com/us/app/birdnet/id154184...   \n",
       "4   https://apps.apple.com/us/app/globe-observer/i...   \n",
       "5   https://apps.apple.com/us/app/quantified-citiz...   \n",
       "6   https://apps.apple.com/us/app/spotfire-citizen...   \n",
       "7   https://apps.apple.com/us/app/brain-explorer/i...   \n",
       "8   https://apps.apple.com/us/app/waterlinx-citize...   \n",
       "9   https://apps.apple.com/us/app/the-happiness-pr...   \n",
       "10  https://apps.apple.com/us/app/faunawatch-citiz...   \n",
       "11  https://apps.apple.com/us/app/echo-meter-touch...   \n",
       "12  https://apps.apple.com/us/app/zooniverse/id119...   \n",
       "13  https://apps.apple.com/us/app/natures-notebook...   \n",
       "14  https://apps.apple.com/us/app/amphiapp-citizen...   \n",
       "15  https://apps.apple.com/us/app/youcount-youth-c...   \n",
       "16  https://apps.apple.com/us/app/iseechange-track...   \n",
       "17  https://apps.apple.com/us/app/herpmapper/id126...   \n",
       "18  https://apps.apple.com/us/app/whalereport/id98...   \n",
       "19  https://apps.apple.com/us/app/csmon-life-segna...   \n",
       "20  https://apps.apple.com/us/app/coronareport/id1...   \n",
       "21  https://apps.apple.com/us/app/sealife-tracker/...   \n",
       "22  https://apps.apple.com/us/app/padi-aware/id126...   \n",
       "23  https://apps.apple.com/us/app/dark-sky-meter/i...   \n",
       "24  https://apps.apple.com/us/app/birdweather/id64...   \n",
       "25  https://apps.apple.com/us/app/myhaz-vct/id1507...   \n",
       "26  https://apps.apple.com/us/app/eyeonwater-colou...   \n",
       "27  https://apps.apple.com/us/app/mass-science/id1...   \n",
       "28  https://apps.apple.com/us/app/tea-bag-index-sp...   \n",
       "29  https://apps.apple.com/us/app/dawn-chorus/id15...   \n",
       "30  https://apps.apple.com/us/app/beemachine/id162...   \n",
       "31  https://apps.apple.com/us/app/happiness-quest/...   \n",
       "32  https://apps.apple.com/us/app/birdtrack/id5968...   \n",
       "33  https://apps.apple.com/us/app/openradiation/id...   \n",
       "34  https://apps.apple.com/us/app/wibee/id14835493...   \n",
       "35  https://apps.apple.com/us/app/big-butterfly-co...   \n",
       "36  https://apps.apple.com/us/app/caterpillars-cou...   \n",
       "37  https://apps.apple.com/us/app/build4people-cit...   \n",
       "38  https://apps.apple.com/us/app/ipm-popillia-pes...   \n",
       "39  https://apps.apple.com/us/app/mosquito-alert/i...   \n",
       "40  https://apps.apple.com/us/app/citizen-scientis...   \n",
       "41  https://apps.apple.com/us/app/medusapp/id11823...   \n",
       "42  https://apps.apple.com/us/app/coastsnap-spotte...   \n",
       "43  https://apps.apple.com/us/app/orca-oceanwatche...   \n",
       "44  https://apps.apple.com/us/app/zsl-instant-wild...   \n",
       "45  https://apps.apple.com/us/app/discovery-tool-o...   \n",
       "46  https://apps.apple.com/us/app/black-hole-finde...   \n",
       "47  https://apps.apple.com/us/app/bicizen/id167163...   \n",
       "\n",
       "                                         platform_url  \\\n",
       "0                                                 NaN   \n",
       "1                   https://health-study.joinzoe.com/   \n",
       "2           https://lnt.org/our-work/citizen-science/   \n",
       "3                         https://birdnet.cornell.edu   \n",
       "4                                                 NaN   \n",
       "5                  https://www.quantifiedcitizen.com/   \n",
       "6                           https://www.spotteron.app   \n",
       "7                       https://www.brainexplorer.net   \n",
       "8                          https://www.spotteron.app/   \n",
       "9                                                 NaN   \n",
       "10                    https://faunawatch.org/contact/   \n",
       "11                     https://www.echometertouch.com   \n",
       "12                                                NaN   \n",
       "13                             https://www.usanpn.org   \n",
       "14                      https://www.spotteron.app/de/   \n",
       "15                          https://www.spotteron.app   \n",
       "16                        https://www.iseechange.org/   \n",
       "17                                                NaN   \n",
       "18                                                NaN   \n",
       "19                           http://www.csmon-life.eu   \n",
       "20                          https://www.spotteron.net   \n",
       "21  http://www.natural-apptitude.co.uk/project/sea...   \n",
       "22                         https://www.padi.com/aware   \n",
       "23                             https://pocket.science   \n",
       "24                       https://app.birdweather.com/   \n",
       "25                              https://vct.myhaz.app   \n",
       "26                                                NaN   \n",
       "27                                                NaN   \n",
       "28                          https://www.spotteron.net   \n",
       "29                           https://dawn-chorus.org/   \n",
       "30                              https://beemachine.ai   \n",
       "31                                                NaN   \n",
       "32                           http://www.birdtrack.net   \n",
       "33                                                NaN   \n",
       "34                https://pollinators.wisc.edu/wibee/   \n",
       "35                       http://bigbutterflycount.org   \n",
       "36                  https://caterpillarscount.unc.edu   \n",
       "37                                                NaN   \n",
       "38                          https://www.spotteron.app   \n",
       "39                       http://www.mosquitoalert.com   \n",
       "40                 https://www.natureboostproject.com   \n",
       "41                                http://medusapp.net   \n",
       "42                         https://www.spotteron.net/   \n",
       "43                            https://www.orca.org.uk   \n",
       "44             https://www.zsl.org/instant-wild-about   \n",
       "45                                                NaN   \n",
       "46  https://www.pocket.science/products/blackholef...   \n",
       "47                          https://www.spotteron.app   \n",
       "\n",
       "                                  platform_url_google  \n",
       "0                           https://www.anecdata.org/  \n",
       "1                       https://health-study.zoe.com/  \n",
       "2           https://lnt.org/our-work/citizen-science/  \n",
       "3                        https://birdnet.cornell.edu/  \n",
       "4                         https://observer.globe.gov/  \n",
       "5   https://play.google.com/store/apps/details?id=...  \n",
       "6                         https://eu-citizen.science/  \n",
       "7                                                 NaN  \n",
       "8                         https://eu-citizen.science/  \n",
       "9   https://gretchenrubin.com/books/the-happiness-...  \n",
       "10  https://apps.apple.com/es/app/faunawatch-citiz...  \n",
       "11  https://www.wildlifeacoustics.com/products/ech...  \n",
       "12                        https://www.zooniverse.org/  \n",
       "13                           http://www.usanpn.org/nn  \n",
       "14                        https://eu-citizen.science/  \n",
       "15                    https://www.youcountproject.eu/  \n",
       "16                        https://www.iseechange.com/  \n",
       "17                        https://www.herpmapper.org/  \n",
       "18                     https://report.wildwhales.org/  \n",
       "19       https://www.csmon-life.eu/pagina/segnala/all  \n",
       "20                                                NaN  \n",
       "21  https://www.gbif.org/dataset/f24cb6bb-8333-4ce...  \n",
       "22                         https://www.padi.com/aware  \n",
       "23                      https://www.darkskymeter.com/  \n",
       "24                       https://www.birdweather.com/  \n",
       "25                  https://uwiseismic.com/myhaz-vct/  \n",
       "26                        https://www.eyeonwater.org/  \n",
       "27  https://energywavetheory.com/explanations/what...  \n",
       "28             https://www.spotteron.com/teabagindex/  \n",
       "29                                                NaN  \n",
       "30                             https://beemachine.ai/  \n",
       "31                    https://www.happinessquest.app/  \n",
       "32  https://www.bto.org/get-involved/volunteer/pro...  \n",
       "33                   https://www.openradiation.org/en  \n",
       "34                                                NaN  \n",
       "35  https://bigbutterflycount.butterfly-conservati...  \n",
       "36                 https://caterpillarscount.unc.edu/  \n",
       "37                                                NaN  \n",
       "38                           https://www.popillia.eu/  \n",
       "39                  https://www.mosquitoalert.com/en/  \n",
       "40      https://en.wikipedia.org/wiki/Citizen_science  \n",
       "41                          https://www.medusapp.net/  \n",
       "42                         https://www.coastsnap.com/  \n",
       "43         https://orca.org.uk/training/oceanwatchers  \n",
       "44                       https://instantwild.zsl.org/  \n",
       "45  https://play.google.com/store/apps/details?id=...  \n",
       "46  https://play.google.com/store/apps/details?id=...  \n",
       "47                           https://www.bicizen.org/  "
      ]
     },
     "execution_count": 115,
     "metadata": {},
     "output_type": "execute_result"
    }
   ],
   "source": [
    "df2[['name', \"url\", \"platform_url\", \"platform_url_google\"]]"
   ]
  },
  {
   "cell_type": "code",
   "execution_count": 116,
   "id": "98b143a5",
   "metadata": {},
   "outputs": [],
   "source": [
    "# Fix manually\n",
    "\n",
    "platforms_mapping = {\n",
    "    \"Anecdata.org\": \"https://www.anecdata.org/\",\n",
    "    \"ZOE Health Study\": \"https://health-study.zoe.com/\",\n",
    "    \"GLOBE Observer\": \"https://observer.globe.gov/\",\n",
    "    \"spotFIRE | Citizen Science\": \"https://www.spotfire.com/\",\n",
    "    \"WaterLinx | Citizen Science\": \"https://www.spotteron.net/apps/regional-community-science-projects/waterlinx-citizen-science\",\n",
    "    \"The Happiness Project\": \"https://thehappinessproject.app\",\n",
    "    \"Zooniverse\": \"https://www.zooniverse.org/\",\n",
    "    \"AmphiApp | Citizen Science\": \"https://www.spotteron.net/apps/regional-community-science-projects/amphiapp-citizen-science-app-en\",\n",
    "    \"YOUCOUNT Youth Citizen Science\": \"https://www.youcountproject.eu/\",\n",
    "    \"HerpMapper\": \"https://www.herpmapper.org/\",\n",
    "    \"WhaleReport\": \"https://ocean.org/whales/wras/\",\n",
    "    \"CoronaReport\": \"https://www.coronareport.global/\",\n",
    "    \"Dark Sky Meter\": \"https://www.darkskymeter.com/\",\n",
    "    \"BirdWeather\": \"https://www.birdweather.com/\",\n",
    "    \"myHAZ-VCT\": \"https://uwiseismic.com/myhaz-vct/\",\n",
    "    \"EyeOnWater - Colour\": \"https://www.eyeonwater.org/\",\n",
    "    \"Tea Bag Index | SPOTTERON\": \"http://www.teatime4science.org/\",\n",
    "    # \"Happiness Quest\": \"https://www.happinessquest.app/\",\n",
    "    \"OpenRadiation\": \"https://www.openradiation.org/en\",\n",
    "    \"Build4People: Citizen Science\": \"https://build4people.org/\",\n",
    "    \"IPM Popillia Pest Management\": \"https://www.popillia.eu/\",\n",
    "    \"BiciZen\": \"https://www.bicizen.org/\",\n",
    "}\n",
    "\n",
    "# Keep original value if not in platforms_mapping dictionary\n",
    "df2['platform_url'] = df2.apply(\n",
    "    lambda row: platforms_mapping.get(row['name'], row['platform_url']),\n",
    "    axis=1\n",
    ")\n"
   ]
  },
  {
   "cell_type": "code",
   "execution_count": 117,
   "id": "bc268ca6",
   "metadata": {},
   "outputs": [
    {
     "name": "stdout",
     "output_type": "stream",
     "text": [
      "<class 'pandas.core.frame.DataFrame'>\n",
      "Index: 48 entries, 0 to 47\n",
      "Data columns (total 7 columns):\n",
      " #   Column               Non-Null Count  Dtype \n",
      "---  ------               --------------  ----- \n",
      " 0   name                 48 non-null     object\n",
      " 1   developer            48 non-null     object\n",
      " 2   description          48 non-null     object\n",
      " 3   url                  48 non-null     object\n",
      " 4   language             48 non-null     object\n",
      " 5   platform_url         45 non-null     object\n",
      " 6   platform_url_google  43 non-null     object\n",
      "dtypes: object(7)\n",
      "memory usage: 3.0+ KB\n"
     ]
    }
   ],
   "source": [
    "df2.info()"
   ]
  },
  {
   "cell_type": "code",
   "execution_count": 118,
   "id": "04b94afe",
   "metadata": {},
   "outputs": [],
   "source": [
    "# Drop auxiliary column with google search \n",
    "df2.drop(columns=[\"platform_url_google\"], inplace=True)"
   ]
  },
  {
   "cell_type": "code",
   "execution_count": 119,
   "id": "f2d7bdcd",
   "metadata": {},
   "outputs": [
    {
     "data": {
      "application/vnd.microsoft.datawrangler.viewer.v0+json": {
       "columns": [
        {
         "name": "index",
         "rawType": "int64",
         "type": "integer"
        },
        {
         "name": "name",
         "rawType": "object",
         "type": "string"
        },
        {
         "name": "developer",
         "rawType": "object",
         "type": "string"
        },
        {
         "name": "description",
         "rawType": "object",
         "type": "string"
        },
        {
         "name": "url",
         "rawType": "object",
         "type": "string"
        },
        {
         "name": "language",
         "rawType": "object",
         "type": "string"
        },
        {
         "name": "platform_url",
         "rawType": "object",
         "type": "unknown"
        }
       ],
       "ref": "d1c6d620-66a4-4e77-947b-b040221adf70",
       "rows": [
        [
         "27",
         "Mass Science",
         "King's Mobile",
         "Mass Science is a research platform and app which you can join to donate your data to research studies. With your help and contribution, researchers can use data from your phone or wearable devices to answer questions on disease, medical disorders, and mental well-being.",
         "https://apps.apple.com/us/app/mass-science/id1511915099?uo=4",
         "['EN']",
         null
        ],
        [
         "31",
         "Happiness Quest",
         "Robb Rutledge",
         "Happiness is really complicated and scientists still don't understand how it works. Happiness Quest is a citizen science project started by psychologists at Yale University and University College London.\n\nWe bring classic psychology experiments from the research lab to your pocket!\n\nBy playing the short games in the app, you are helping researchers discover what makes happiness go up and down, a crucial piece of research that can contribute to our understanding of mood disorders like anxiety and depression. \n\nWe are trying to figure out the equations for happiness. Anyone can contribute to happiness research in just a few minutes!",
         "https://apps.apple.com/us/app/happiness-quest/id1602523342?uo=4",
         "['EN']",
         null
        ],
        [
         "45",
         "Discovery Tool Our Voice",
         "Stanford University",
         "In the Our Voice approach, Citizen Scientists gather and analyze community data, then share their findings with decision makers to advocate for changes in the local environment, with the ultimate goal of advancing health equity.",
         "https://apps.apple.com/us/app/discovery-tool-our-voice/id1171935766?uo=4",
         "['EN']",
         null
        ]
       ],
       "shape": {
        "columns": 6,
        "rows": 3
       }
      },
      "text/html": [
       "<div>\n",
       "<style scoped>\n",
       "    .dataframe tbody tr th:only-of-type {\n",
       "        vertical-align: middle;\n",
       "    }\n",
       "\n",
       "    .dataframe tbody tr th {\n",
       "        vertical-align: top;\n",
       "    }\n",
       "\n",
       "    .dataframe thead th {\n",
       "        text-align: right;\n",
       "    }\n",
       "</style>\n",
       "<table border=\"1\" class=\"dataframe\">\n",
       "  <thead>\n",
       "    <tr style=\"text-align: right;\">\n",
       "      <th></th>\n",
       "      <th>name</th>\n",
       "      <th>developer</th>\n",
       "      <th>description</th>\n",
       "      <th>url</th>\n",
       "      <th>language</th>\n",
       "      <th>platform_url</th>\n",
       "    </tr>\n",
       "  </thead>\n",
       "  <tbody>\n",
       "    <tr>\n",
       "      <th>27</th>\n",
       "      <td>Mass Science</td>\n",
       "      <td>King's Mobile</td>\n",
       "      <td>Mass Science is a research platform and app wh...</td>\n",
       "      <td>https://apps.apple.com/us/app/mass-science/id1...</td>\n",
       "      <td>['EN']</td>\n",
       "      <td>NaN</td>\n",
       "    </tr>\n",
       "    <tr>\n",
       "      <th>31</th>\n",
       "      <td>Happiness Quest</td>\n",
       "      <td>Robb Rutledge</td>\n",
       "      <td>Happiness is really complicated and scientists...</td>\n",
       "      <td>https://apps.apple.com/us/app/happiness-quest/...</td>\n",
       "      <td>['EN']</td>\n",
       "      <td>NaN</td>\n",
       "    </tr>\n",
       "    <tr>\n",
       "      <th>45</th>\n",
       "      <td>Discovery Tool Our Voice</td>\n",
       "      <td>Stanford University</td>\n",
       "      <td>In the Our Voice approach, Citizen Scientists ...</td>\n",
       "      <td>https://apps.apple.com/us/app/discovery-tool-o...</td>\n",
       "      <td>['EN']</td>\n",
       "      <td>NaN</td>\n",
       "    </tr>\n",
       "  </tbody>\n",
       "</table>\n",
       "</div>"
      ],
      "text/plain": [
       "                        name            developer  \\\n",
       "27              Mass Science        King's Mobile   \n",
       "31           Happiness Quest        Robb Rutledge   \n",
       "45  Discovery Tool Our Voice  Stanford University   \n",
       "\n",
       "                                          description  \\\n",
       "27  Mass Science is a research platform and app wh...   \n",
       "31  Happiness is really complicated and scientists...   \n",
       "45  In the Our Voice approach, Citizen Scientists ...   \n",
       "\n",
       "                                                  url language platform_url  \n",
       "27  https://apps.apple.com/us/app/mass-science/id1...   ['EN']          NaN  \n",
       "31  https://apps.apple.com/us/app/happiness-quest/...   ['EN']          NaN  \n",
       "45  https://apps.apple.com/us/app/discovery-tool-o...   ['EN']          NaN  "
      ]
     },
     "execution_count": 119,
     "metadata": {},
     "output_type": "execute_result"
    }
   ],
   "source": [
    "# No platform_url for this apps\n",
    "\n",
    "df2[df2['platform_url'].isnull()]"
   ]
  },
  {
   "cell_type": "code",
   "execution_count": 120,
   "id": "176c525e",
   "metadata": {},
   "outputs": [],
   "source": [
    "df_selected = df2[df2['platform_url'].notnull()].reset_index(drop=True)"
   ]
  },
  {
   "cell_type": "code",
   "execution_count": 121,
   "id": "e1d4b3b5",
   "metadata": {},
   "outputs": [],
   "source": [
    "df_selected.to_csv(\"../data/selected_ios.csv\", index=False)"
   ]
  },
  {
   "cell_type": "markdown",
   "id": "39376f2d",
   "metadata": {},
   "source": [
    "# Process with selected iOS apps"
   ]
  },
  {
   "cell_type": "code",
   "execution_count": 2,
   "id": "e004696d",
   "metadata": {},
   "outputs": [],
   "source": [
    "import pandas as pd\n",
    "import requests"
   ]
  },
  {
   "cell_type": "code",
   "execution_count": 3,
   "id": "0d300382",
   "metadata": {},
   "outputs": [],
   "source": [
    "df = pd.read_csv(\"../data/selected_ios.csv\")"
   ]
  },
  {
   "cell_type": "code",
   "execution_count": 4,
   "id": "e1da7a30",
   "metadata": {},
   "outputs": [
    {
     "name": "stdout",
     "output_type": "stream",
     "text": [
      "<class 'pandas.core.frame.DataFrame'>\n",
      "RangeIndex: 45 entries, 0 to 44\n",
      "Data columns (total 6 columns):\n",
      " #   Column        Non-Null Count  Dtype \n",
      "---  ------        --------------  ----- \n",
      " 0   name          45 non-null     object\n",
      " 1   developer     45 non-null     object\n",
      " 2   description   45 non-null     object\n",
      " 3   url           45 non-null     object\n",
      " 4   language      45 non-null     object\n",
      " 5   platform_url  45 non-null     object\n",
      "dtypes: object(6)\n",
      "memory usage: 2.2+ KB\n"
     ]
    }
   ],
   "source": [
    "df.info()"
   ]
  },
  {
   "cell_type": "code",
   "execution_count": 5,
   "id": "1a273f72",
   "metadata": {},
   "outputs": [
    {
     "data": {
      "application/vnd.microsoft.datawrangler.viewer.v0+json": {
       "columns": [
        {
         "name": "index",
         "rawType": "int64",
         "type": "integer"
        },
        {
         "name": "name",
         "rawType": "object",
         "type": "string"
        },
        {
         "name": "developer",
         "rawType": "object",
         "type": "string"
        },
        {
         "name": "description",
         "rawType": "object",
         "type": "string"
        },
        {
         "name": "url",
         "rawType": "object",
         "type": "string"
        },
        {
         "name": "language",
         "rawType": "object",
         "type": "string"
        },
        {
         "name": "platform_url",
         "rawType": "object",
         "type": "string"
        }
       ],
       "ref": "f6c49c19-9782-4410-9119-4b2d821ebb49",
       "rows": [
        [
         "0",
         "Anecdata.org",
         "MDI Biological Laboratory",
         "Anecdata.org is a free online platform anyone can use to host a citizen science project.",
         "https://apps.apple.com/us/app/anecdata-org/id1315666791?uo=4",
         "['EN']",
         "https://www.anecdata.org/"
        ],
        [
         "1",
         "ZOE Health Study",
         "Zoe Limited",
         "Help critical research into major health conditions by reporting how you feel each day in the app, even if you feel well.\n\nJoin over 800,000 people in supporting scientists to help our national health services fight the biggest health issues of our generation. Millions joined ZOE to fight COVID-19 with their mobile phones from home. Why stop there?\n\nThe ZOE Health Study is an evolution of the ZOE COVID Study, which has data quoted in thousands of news stories and published in dozens of scientific papers. We’ve already proven that our approach can rapidly advance scientific understanding and public knowledge.\n\nWith our technology and dedicated Contributors, our research will look at how altering your day-to-day behaviour could impact your immune system and reduce the risk of developing major diseases from cancer to dementia. You will be directly helping us to develop an early warning system for disease detection which will help to save lives.\n\nThis app (formerly known as the ZOE COVID Study) allows you to help others but does not give health advice. If you need health advice please visit the NHS website.\n\nDATA\n\nThe data that you give us for our research into diseases other than COVID-19 will be restricted to King’s College London and ZOE only unless you opt-in to share it more widely in the future.\n\nYour data is protected under GDPR, and can only be used for the purpose that you consent to.\n\nWe’ll never sell your data and we’ll be transparent about developments we make to products that advance human health. Please read our privacy policy for more information.\n\nHEALTH INFORMATION\n\nYou will be asked to share some general information, such as your age, and some health information, such as whether you have certain diseases.\n\nDAILY SYMPTOM TRACKING\n\nWe will ask you to set up your ‘Usual Self’, this is your personal health baseline and will indicate any symptoms you may frequently suffer from. By telling us how you feel each day and reporting any changes in your usual symptoms, we will be able to relay valuable data to scientists.\n\nADDITIONAL RESEARCH STUDIES \n\nWe’ll conduct voluntary participant studies to see how lifestyle changes might work for you as individuals. We’ll play back insights from the studies to the community that will enable you to live your healthiest life and reduce your risk of developing major diseases.\n\nIn-depth studies into issues such as menopause and cancer will uncover detailed new findings to advance our understanding of major conditions and diseases. This app is designed and built by ZOE Global Limited, a health science start-up, in partnership with doctors and scientists at King's College London.",
         "https://apps.apple.com/us/app/zoe-health-study/id1503529611?uo=4",
         "['EN']",
         "https://health-study.zoe.com/"
        ],
        [
         "2",
         "Leave No Trace Citizen Science",
         "Greg Newman",
         "The Leave No Trace Center for Outdoor Ethics protects the outdoors by teaching and inspiring people to enjoy it responsibly. The Center accomplishes this mission by delivering cutting edge education and research to millions of people every year. This app is the citizen science app for Leave No Trace and empowers volunteers to help monitor resource conditions over time.",
         "https://apps.apple.com/us/app/leave-no-trace-citizen-science/id1536428995?uo=4",
         "['EN']",
         "https://lnt.org/our-work/citizen-science/"
        ],
        [
         "3",
         "BirdNET",
         "Stefan Kahl",
         "How can computers learn to recognize birds from sounds? The BirdNET research project uses artificial intelligence and neural networks to train computers to identify nearly 3,000 of the most common species of North America and Europe. You can record a file using the internal microphone of your iOS device and see if BirdNET correctly identifies the probable bird species present in your recording. Get to know the birds around you and help us to collect observations by submitting your recordings. \n\nBirdNET is a joint project of the K. Lisa Yang Center for Conservation Bioacoustics at the Cornell Lab of Ornithology, and Chemnitz University of Technology.",
         "https://apps.apple.com/us/app/birdnet/id1541842885?uo=4",
         "['CS', 'NL', 'EN', 'FR', 'DE', 'IT', 'LT', 'PL', 'PT', 'RU', 'ES', 'UK']",
         "https://birdnet.cornell.edu"
        ],
        [
         "4",
         "GLOBE Observer",
         "NASA",
         "The GLOBE Observer app enables you to make observations of your environment. GLOBE Observer is the app of the Global Learning and Observations to Benefit the Environment (GLOBE) Program. The GLOBE Program is an international science and education program that provides students and people of all ages worldwide with the opportunity to participate in data collection and the scientific process, and contribute meaningfully to our understanding of the Earth system and global environment. By using the GLOBE Observer app, you contribute scientific data to your community, students and scientists worldwide, including researchers at NASA, NOAA, and other \nscience research institutions. \n \nGLOBE Observer allows all users to contribute observations of clouds, mosquito habitats, land cover, and trees. Trained and certified users can also use the app to submit additional environmental measurements from all GLOBE protocols. \n\nGLOBE Clouds allows observers to make regular observations of Earth’s cloud cover and compare them to satellite observations. With GLOBE Mosquito Habitat Mapper, users locate mosquito habitats, observe and identify mosquito larvae, and reduce the potential threat of mosquito borne disease. GLOBE Land Cover is designed to allow users to document what is on the land (trees, grass, buildings, etc.). GLOBE Trees asks users to estimate a tree’s height by taking pictures of trees with their device and answering a few questions. \n\nAdditional capabilities may be added.\n \nVisit us at https://www.globe.gov and https://observer.globe.gov.",
         "https://apps.apple.com/us/app/globe-observer/id1090456751?uo=4",
         "['EN']",
         "https://observer.globe.gov/"
        ]
       ],
       "shape": {
        "columns": 6,
        "rows": 5
       }
      },
      "text/html": [
       "<div>\n",
       "<style scoped>\n",
       "    .dataframe tbody tr th:only-of-type {\n",
       "        vertical-align: middle;\n",
       "    }\n",
       "\n",
       "    .dataframe tbody tr th {\n",
       "        vertical-align: top;\n",
       "    }\n",
       "\n",
       "    .dataframe thead th {\n",
       "        text-align: right;\n",
       "    }\n",
       "</style>\n",
       "<table border=\"1\" class=\"dataframe\">\n",
       "  <thead>\n",
       "    <tr style=\"text-align: right;\">\n",
       "      <th></th>\n",
       "      <th>name</th>\n",
       "      <th>developer</th>\n",
       "      <th>description</th>\n",
       "      <th>url</th>\n",
       "      <th>language</th>\n",
       "      <th>platform_url</th>\n",
       "    </tr>\n",
       "  </thead>\n",
       "  <tbody>\n",
       "    <tr>\n",
       "      <th>0</th>\n",
       "      <td>Anecdata.org</td>\n",
       "      <td>MDI Biological Laboratory</td>\n",
       "      <td>Anecdata.org is a free online platform anyone ...</td>\n",
       "      <td>https://apps.apple.com/us/app/anecdata-org/id1...</td>\n",
       "      <td>['EN']</td>\n",
       "      <td>https://www.anecdata.org/</td>\n",
       "    </tr>\n",
       "    <tr>\n",
       "      <th>1</th>\n",
       "      <td>ZOE Health Study</td>\n",
       "      <td>Zoe Limited</td>\n",
       "      <td>Help critical research into major health condi...</td>\n",
       "      <td>https://apps.apple.com/us/app/zoe-health-study...</td>\n",
       "      <td>['EN']</td>\n",
       "      <td>https://health-study.zoe.com/</td>\n",
       "    </tr>\n",
       "    <tr>\n",
       "      <th>2</th>\n",
       "      <td>Leave No Trace Citizen Science</td>\n",
       "      <td>Greg Newman</td>\n",
       "      <td>The Leave No Trace Center for Outdoor Ethics p...</td>\n",
       "      <td>https://apps.apple.com/us/app/leave-no-trace-c...</td>\n",
       "      <td>['EN']</td>\n",
       "      <td>https://lnt.org/our-work/citizen-science/</td>\n",
       "    </tr>\n",
       "    <tr>\n",
       "      <th>3</th>\n",
       "      <td>BirdNET</td>\n",
       "      <td>Stefan Kahl</td>\n",
       "      <td>How can computers learn to recognize birds fro...</td>\n",
       "      <td>https://apps.apple.com/us/app/birdnet/id154184...</td>\n",
       "      <td>['CS', 'NL', 'EN', 'FR', 'DE', 'IT', 'LT', 'PL...</td>\n",
       "      <td>https://birdnet.cornell.edu</td>\n",
       "    </tr>\n",
       "    <tr>\n",
       "      <th>4</th>\n",
       "      <td>GLOBE Observer</td>\n",
       "      <td>NASA</td>\n",
       "      <td>The GLOBE Observer app enables you to make obs...</td>\n",
       "      <td>https://apps.apple.com/us/app/globe-observer/i...</td>\n",
       "      <td>['EN']</td>\n",
       "      <td>https://observer.globe.gov/</td>\n",
       "    </tr>\n",
       "  </tbody>\n",
       "</table>\n",
       "</div>"
      ],
      "text/plain": [
       "                             name                  developer  \\\n",
       "0                    Anecdata.org  MDI Biological Laboratory   \n",
       "1                ZOE Health Study                Zoe Limited   \n",
       "2  Leave No Trace Citizen Science                Greg Newman   \n",
       "3                         BirdNET                Stefan Kahl   \n",
       "4                  GLOBE Observer                       NASA   \n",
       "\n",
       "                                         description  \\\n",
       "0  Anecdata.org is a free online platform anyone ...   \n",
       "1  Help critical research into major health condi...   \n",
       "2  The Leave No Trace Center for Outdoor Ethics p...   \n",
       "3  How can computers learn to recognize birds fro...   \n",
       "4  The GLOBE Observer app enables you to make obs...   \n",
       "\n",
       "                                                 url  \\\n",
       "0  https://apps.apple.com/us/app/anecdata-org/id1...   \n",
       "1  https://apps.apple.com/us/app/zoe-health-study...   \n",
       "2  https://apps.apple.com/us/app/leave-no-trace-c...   \n",
       "3  https://apps.apple.com/us/app/birdnet/id154184...   \n",
       "4  https://apps.apple.com/us/app/globe-observer/i...   \n",
       "\n",
       "                                            language  \\\n",
       "0                                             ['EN']   \n",
       "1                                             ['EN']   \n",
       "2                                             ['EN']   \n",
       "3  ['CS', 'NL', 'EN', 'FR', 'DE', 'IT', 'LT', 'PL...   \n",
       "4                                             ['EN']   \n",
       "\n",
       "                                platform_url  \n",
       "0                  https://www.anecdata.org/  \n",
       "1              https://health-study.zoe.com/  \n",
       "2  https://lnt.org/our-work/citizen-science/  \n",
       "3                https://birdnet.cornell.edu  \n",
       "4                https://observer.globe.gov/  "
      ]
     },
     "execution_count": 5,
     "metadata": {},
     "output_type": "execute_result"
    }
   ],
   "source": [
    "df.head()"
   ]
  },
  {
   "cell_type": "markdown",
   "id": "40db6b09",
   "metadata": {},
   "source": [
    "## active"
   ]
  },
  {
   "cell_type": "markdown",
   "id": "0d254420",
   "metadata": {},
   "source": [
    "Check status code."
   ]
  },
  {
   "cell_type": "code",
   "execution_count": 6,
   "id": "795804d1",
   "metadata": {},
   "outputs": [],
   "source": [
    "def check_website(url):\n",
    "    try:\n",
    "        session = requests.Session()\n",
    "        session.headers.update({\n",
    "            \"User-Agent\": \"Mozilla/5.0 (Windows NT 10.0; Win64; x64)\",\n",
    "            \"Accept\": \"text/html,application/xhtml+xml,application/xml;q=0.9,*/*;q=0.8\",\n",
    "            \"Accept-Language\": \"en-US,en;q=0.5\",\n",
    "            \"Referer\": \"https://www.google.com/\"\n",
    "        })\n",
    "        response = session.get(url, timeout=5)\n",
    "        return f\"Status code: {response.status_code}\"\n",
    "    except requests.exceptions.RequestException as e:\n",
    "        return f\"Fallo: {str(e)}\"\n",
    "    \n",
    "df[\"active\"] = df['platform_url'].apply(check_website)"
   ]
  },
  {
   "cell_type": "code",
   "execution_count": 7,
   "id": "98120370",
   "metadata": {},
   "outputs": [
    {
     "data": {
      "application/vnd.microsoft.datawrangler.viewer.v0+json": {
       "columns": [
        {
         "name": "active",
         "rawType": "object",
         "type": "string"
        },
        {
         "name": "count",
         "rawType": "int64",
         "type": "integer"
        }
       ],
       "ref": "7f8943c6-c7f7-4a04-a1d8-1029e1cde767",
       "rows": [
        [
         "Status code: 200",
         "42"
        ],
        [
         "Status code: 403",
         "2"
        ],
        [
         "Status code: 404",
         "1"
        ]
       ],
       "shape": {
        "columns": 1,
        "rows": 3
       }
      },
      "text/plain": [
       "active\n",
       "Status code: 200    42\n",
       "Status code: 403     2\n",
       "Status code: 404     1\n",
       "Name: count, dtype: int64"
      ]
     },
     "execution_count": 7,
     "metadata": {},
     "output_type": "execute_result"
    }
   ],
   "source": [
    "df.active.value_counts()"
   ]
  },
  {
   "cell_type": "code",
   "execution_count": 8,
   "id": "83caab45",
   "metadata": {},
   "outputs": [
    {
     "data": {
      "application/vnd.microsoft.datawrangler.viewer.v0+json": {
       "columns": [
        {
         "name": "index",
         "rawType": "int64",
         "type": "integer"
        },
        {
         "name": "name",
         "rawType": "object",
         "type": "string"
        },
        {
         "name": "developer",
         "rawType": "object",
         "type": "string"
        },
        {
         "name": "description",
         "rawType": "object",
         "type": "string"
        },
        {
         "name": "url",
         "rawType": "object",
         "type": "string"
        },
        {
         "name": "language",
         "rawType": "object",
         "type": "string"
        },
        {
         "name": "platform_url",
         "rawType": "object",
         "type": "string"
        },
        {
         "name": "active",
         "rawType": "object",
         "type": "string"
        }
       ],
       "ref": "64c1f188-b5ca-4d5b-8990-d456f73e8ce3",
       "rows": [
        [
         "33",
         "Big Butterfly Count",
         "Butterfly Conservation Trading Ltd",
         "Take part in the UK’s annual Big Butterfly Count with this easy to use and informative app. \n\nSpend 15 minutes in nature and help butterflies at the same time. All you need to do is identify and count the relevant butterfly and moth species you spot. Then submit your sightings to help take the pulse of nature. Your records help to show how butterflies are faring in the UK.\n\nThe app features a beautiful ID guide to help you identify and learn about the 21 species that are the focus of this study. You can also view all of your submitted counts and see everyone's records on the map within the app.",
         "https://apps.apple.com/us/app/big-butterfly-count/id658158833?uo=4",
         "['EN']",
         "http://bigbutterflycount.org",
         "Status code: 403"
        ],
        [
         "42",
         "ZSL Instant Wild",
         "Zoological Society of London (ZSL)",
         "ZSL’s Instant Wild app empowers you to take part in vital conservation work, bringing you LIVE images and videos from amazing locations all around the world. By identifying the animals in each image, you are contributing to conservation and making a positive impact on the future for wildlife.\n\nThis is the next generation of Instant Wild, which mobilises people power to scale up important animal monitoring work, helping scientists to protect wildlife and secure a richer biodiversity for all!\n\nWhat rare species will you find?\n\nKey features:\n\n* View and identify images and video transmitted live from the field and contribute to conservation research wherever you are.\n* Follow projects to support conservation work that you’re specifically interested in and curate your own feed on your home page.\n* Gain badges, work towards being one of our daily Top Spotters and get shout outs for your hard work.\n* See exactly how many animals – including endangered ones - you’ve spotted and save favourite images to your profile.\n* Check out the leaderboards to see how you stack up against those leading the way in species identification both overall and for the rarest sightings.\n* See latest news on Instant Wild and stay up to date with the latest conservation news from the Instant Wild team.\n* Join our bustling Instant Wild community and discuss what’s been spotted in each photograph.\n* Receive alerts to keep you updated on the latest from projects you follow.\n* Share the most interesting images and videos on social media.\n \n \nHow it works:\n\nMotion triggered cameras are a crucial tool for monitoring animal populations and movements, and this information allows us to develop methods for conserving them. As an animal moves past one of our Instant Wild cameras it will trigger, taking a photo which is immediately sent back to the app in real time for identification by you. Identifying thousands of images takes time but with your help we can identify even more species and help to protect them. \n\nYou don’t need any qualifications or special expertise to take part – lots of help is provided to make sure you make the right identification – simply sign up and start tagging the animals in the images.\n\nYour involvement will not only contribute to conservation, making you part of our ZSL community, you’ll also get a window into the some of the world’s wildest places. \n \n \n \nInstant Wild is a Zoological Society of London (ZSL) Initiative.\nFounded in 1826, ZSL is a global conservation charity with a mission to conserve the planet's wildlife and their habitats. With two Zoos, a renowned Institute of Zoology and over 50 conservation projects worldwide, ZSL uses ground-breaking science to fuel life-changing conservation.",
         "https://apps.apple.com/us/app/zsl-instant-wild/id1290294097?uo=4",
         "['EN']",
         "https://www.zsl.org/instant-wild-about",
         "Status code: 403"
        ]
       ],
       "shape": {
        "columns": 7,
        "rows": 2
       }
      },
      "text/html": [
       "<div>\n",
       "<style scoped>\n",
       "    .dataframe tbody tr th:only-of-type {\n",
       "        vertical-align: middle;\n",
       "    }\n",
       "\n",
       "    .dataframe tbody tr th {\n",
       "        vertical-align: top;\n",
       "    }\n",
       "\n",
       "    .dataframe thead th {\n",
       "        text-align: right;\n",
       "    }\n",
       "</style>\n",
       "<table border=\"1\" class=\"dataframe\">\n",
       "  <thead>\n",
       "    <tr style=\"text-align: right;\">\n",
       "      <th></th>\n",
       "      <th>name</th>\n",
       "      <th>developer</th>\n",
       "      <th>description</th>\n",
       "      <th>url</th>\n",
       "      <th>language</th>\n",
       "      <th>platform_url</th>\n",
       "      <th>active</th>\n",
       "    </tr>\n",
       "  </thead>\n",
       "  <tbody>\n",
       "    <tr>\n",
       "      <th>33</th>\n",
       "      <td>Big Butterfly Count</td>\n",
       "      <td>Butterfly Conservation Trading Ltd</td>\n",
       "      <td>Take part in the UK’s annual Big Butterfly Cou...</td>\n",
       "      <td>https://apps.apple.com/us/app/big-butterfly-co...</td>\n",
       "      <td>['EN']</td>\n",
       "      <td>http://bigbutterflycount.org</td>\n",
       "      <td>Status code: 403</td>\n",
       "    </tr>\n",
       "    <tr>\n",
       "      <th>42</th>\n",
       "      <td>ZSL Instant Wild</td>\n",
       "      <td>Zoological Society of London (ZSL)</td>\n",
       "      <td>ZSL’s Instant Wild app empowers you to take pa...</td>\n",
       "      <td>https://apps.apple.com/us/app/zsl-instant-wild...</td>\n",
       "      <td>['EN']</td>\n",
       "      <td>https://www.zsl.org/instant-wild-about</td>\n",
       "      <td>Status code: 403</td>\n",
       "    </tr>\n",
       "  </tbody>\n",
       "</table>\n",
       "</div>"
      ],
      "text/plain": [
       "                   name                           developer  \\\n",
       "33  Big Butterfly Count  Butterfly Conservation Trading Ltd   \n",
       "42     ZSL Instant Wild  Zoological Society of London (ZSL)   \n",
       "\n",
       "                                          description  \\\n",
       "33  Take part in the UK’s annual Big Butterfly Cou...   \n",
       "42  ZSL’s Instant Wild app empowers you to take pa...   \n",
       "\n",
       "                                                  url language  \\\n",
       "33  https://apps.apple.com/us/app/big-butterfly-co...   ['EN']   \n",
       "42  https://apps.apple.com/us/app/zsl-instant-wild...   ['EN']   \n",
       "\n",
       "                              platform_url            active  \n",
       "33            http://bigbutterflycount.org  Status code: 403  \n",
       "42  https://www.zsl.org/instant-wild-about  Status code: 403  "
      ]
     },
     "execution_count": 8,
     "metadata": {},
     "output_type": "execute_result"
    }
   ],
   "source": [
    "# Forbidden: we fix urls\n",
    "df[df.active == \"Status code: 403\"]"
   ]
  },
  {
   "cell_type": "code",
   "execution_count": 9,
   "id": "bc3aefa5",
   "metadata": {},
   "outputs": [],
   "source": [
    "# Fix urls manually\n",
    "df.loc[df.name == \"Big Butterfly Count\", \"platform_url\"] = \"https://bigbutterflycount.butterfly-conservation.org/\"\n",
    "df.loc[df.name == \"ZSL Instant Wild\", \"platform_url\"] = \"https://instantwild.zsl.org/\""
   ]
  },
  {
   "cell_type": "code",
   "execution_count": 10,
   "id": "a76c20dd",
   "metadata": {},
   "outputs": [
    {
     "data": {
      "application/vnd.microsoft.datawrangler.viewer.v0+json": {
       "columns": [
        {
         "name": "index",
         "rawType": "int64",
         "type": "integer"
        },
        {
         "name": "name",
         "rawType": "object",
         "type": "string"
        },
        {
         "name": "developer",
         "rawType": "object",
         "type": "string"
        },
        {
         "name": "description",
         "rawType": "object",
         "type": "string"
        },
        {
         "name": "url",
         "rawType": "object",
         "type": "string"
        },
        {
         "name": "language",
         "rawType": "object",
         "type": "string"
        },
        {
         "name": "platform_url",
         "rawType": "object",
         "type": "string"
        },
        {
         "name": "active",
         "rawType": "object",
         "type": "string"
        }
       ],
       "ref": "214b28f4-16b0-430f-8e42-02235f885a4e",
       "rows": [
        [
         "21",
         "Sealife Tracker",
         "Natural Apptitude",
         "The Sealife Tracker project aims to collect much needed data on both invasive and climate change indicator marine species around the UK coastline. It is a unique partnership between the British Sub Aqua Club, the Marine Biological Association, the Environment Agency, Scottish Natural Heritage, The Scottish Environment Protection Agency and Natural Apptitude.",
         "https://apps.apple.com/us/app/sealife-tracker/id663800293?uo=4",
         "['EN']",
         "http://www.natural-apptitude.co.uk/project/sealife-tracker/",
         "Status code: 404"
        ]
       ],
       "shape": {
        "columns": 7,
        "rows": 1
       }
      },
      "text/html": [
       "<div>\n",
       "<style scoped>\n",
       "    .dataframe tbody tr th:only-of-type {\n",
       "        vertical-align: middle;\n",
       "    }\n",
       "\n",
       "    .dataframe tbody tr th {\n",
       "        vertical-align: top;\n",
       "    }\n",
       "\n",
       "    .dataframe thead th {\n",
       "        text-align: right;\n",
       "    }\n",
       "</style>\n",
       "<table border=\"1\" class=\"dataframe\">\n",
       "  <thead>\n",
       "    <tr style=\"text-align: right;\">\n",
       "      <th></th>\n",
       "      <th>name</th>\n",
       "      <th>developer</th>\n",
       "      <th>description</th>\n",
       "      <th>url</th>\n",
       "      <th>language</th>\n",
       "      <th>platform_url</th>\n",
       "      <th>active</th>\n",
       "    </tr>\n",
       "  </thead>\n",
       "  <tbody>\n",
       "    <tr>\n",
       "      <th>21</th>\n",
       "      <td>Sealife Tracker</td>\n",
       "      <td>Natural Apptitude</td>\n",
       "      <td>The Sealife Tracker project aims to collect mu...</td>\n",
       "      <td>https://apps.apple.com/us/app/sealife-tracker/...</td>\n",
       "      <td>['EN']</td>\n",
       "      <td>http://www.natural-apptitude.co.uk/project/sea...</td>\n",
       "      <td>Status code: 404</td>\n",
       "    </tr>\n",
       "  </tbody>\n",
       "</table>\n",
       "</div>"
      ],
      "text/plain": [
       "               name          developer  \\\n",
       "21  Sealife Tracker  Natural Apptitude   \n",
       "\n",
       "                                          description  \\\n",
       "21  The Sealife Tracker project aims to collect mu...   \n",
       "\n",
       "                                                  url language  \\\n",
       "21  https://apps.apple.com/us/app/sealife-tracker/...   ['EN']   \n",
       "\n",
       "                                         platform_url            active  \n",
       "21  http://www.natural-apptitude.co.uk/project/sea...  Status code: 404  "
      ]
     },
     "execution_count": 10,
     "metadata": {},
     "output_type": "execute_result"
    }
   ],
   "source": [
    "df[df.active == \"Status code: 404\"]"
   ]
  },
  {
   "cell_type": "code",
   "execution_count": 13,
   "id": "6d9ec480",
   "metadata": {},
   "outputs": [
    {
     "data": {
      "application/vnd.microsoft.datawrangler.viewer.v0+json": {
       "columns": [
        {
         "name": "active",
         "rawType": "object",
         "type": "string"
        },
        {
         "name": "count",
         "rawType": "int64",
         "type": "integer"
        }
       ],
       "ref": "c09aa010-e47f-4fc3-a532-9d5092a10408",
       "rows": [
        [
         "Status code: 200",
         "43"
        ],
        [
         "Status code: 404",
         "1"
        ],
        [
         "Status code: 403",
         "1"
        ]
       ],
       "shape": {
        "columns": 1,
        "rows": 3
       }
      },
      "text/plain": [
       "active\n",
       "Status code: 200    43\n",
       "Status code: 404     1\n",
       "Status code: 403     1\n",
       "Name: count, dtype: int64"
      ]
     },
     "execution_count": 13,
     "metadata": {},
     "output_type": "execute_result"
    }
   ],
   "source": [
    "df[\"active\"] = df['platform_url'].apply(check_website)\n",
    "df.active.value_counts()"
   ]
  },
  {
   "cell_type": "code",
   "execution_count": 14,
   "id": "e1e7e132",
   "metadata": {},
   "outputs": [
    {
     "data": {
      "application/vnd.microsoft.datawrangler.viewer.v0+json": {
       "columns": [
        {
         "name": "index",
         "rawType": "int64",
         "type": "integer"
        },
        {
         "name": "name",
         "rawType": "object",
         "type": "string"
        },
        {
         "name": "developer",
         "rawType": "object",
         "type": "string"
        },
        {
         "name": "description",
         "rawType": "object",
         "type": "string"
        },
        {
         "name": "url",
         "rawType": "object",
         "type": "string"
        },
        {
         "name": "language",
         "rawType": "object",
         "type": "string"
        },
        {
         "name": "platform_url",
         "rawType": "object",
         "type": "string"
        },
        {
         "name": "active",
         "rawType": "object",
         "type": "string"
        }
       ],
       "ref": "efe59aae-5d0e-4b09-a4fc-7799de54b561",
       "rows": [
        [
         "33",
         "Big Butterfly Count",
         "Butterfly Conservation Trading Ltd",
         "Take part in the UK’s annual Big Butterfly Count with this easy to use and informative app. \n\nSpend 15 minutes in nature and help butterflies at the same time. All you need to do is identify and count the relevant butterfly and moth species you spot. Then submit your sightings to help take the pulse of nature. Your records help to show how butterflies are faring in the UK.\n\nThe app features a beautiful ID guide to help you identify and learn about the 21 species that are the focus of this study. You can also view all of your submitted counts and see everyone's records on the map within the app.",
         "https://apps.apple.com/us/app/big-butterfly-count/id658158833?uo=4",
         "['EN']",
         "https://bigbutterflycount.butterfly-conservation.org/",
         "Status code: 403"
        ]
       ],
       "shape": {
        "columns": 7,
        "rows": 1
       }
      },
      "text/html": [
       "<div>\n",
       "<style scoped>\n",
       "    .dataframe tbody tr th:only-of-type {\n",
       "        vertical-align: middle;\n",
       "    }\n",
       "\n",
       "    .dataframe tbody tr th {\n",
       "        vertical-align: top;\n",
       "    }\n",
       "\n",
       "    .dataframe thead th {\n",
       "        text-align: right;\n",
       "    }\n",
       "</style>\n",
       "<table border=\"1\" class=\"dataframe\">\n",
       "  <thead>\n",
       "    <tr style=\"text-align: right;\">\n",
       "      <th></th>\n",
       "      <th>name</th>\n",
       "      <th>developer</th>\n",
       "      <th>description</th>\n",
       "      <th>url</th>\n",
       "      <th>language</th>\n",
       "      <th>platform_url</th>\n",
       "      <th>active</th>\n",
       "    </tr>\n",
       "  </thead>\n",
       "  <tbody>\n",
       "    <tr>\n",
       "      <th>33</th>\n",
       "      <td>Big Butterfly Count</td>\n",
       "      <td>Butterfly Conservation Trading Ltd</td>\n",
       "      <td>Take part in the UK’s annual Big Butterfly Cou...</td>\n",
       "      <td>https://apps.apple.com/us/app/big-butterfly-co...</td>\n",
       "      <td>['EN']</td>\n",
       "      <td>https://bigbutterflycount.butterfly-conservati...</td>\n",
       "      <td>Status code: 403</td>\n",
       "    </tr>\n",
       "  </tbody>\n",
       "</table>\n",
       "</div>"
      ],
      "text/plain": [
       "                   name                           developer  \\\n",
       "33  Big Butterfly Count  Butterfly Conservation Trading Ltd   \n",
       "\n",
       "                                          description  \\\n",
       "33  Take part in the UK’s annual Big Butterfly Cou...   \n",
       "\n",
       "                                                  url language  \\\n",
       "33  https://apps.apple.com/us/app/big-butterfly-co...   ['EN']   \n",
       "\n",
       "                                         platform_url            active  \n",
       "33  https://bigbutterflycount.butterfly-conservati...  Status code: 403  "
      ]
     },
     "execution_count": 14,
     "metadata": {},
     "output_type": "execute_result"
    }
   ],
   "source": [
    "df[df[\"active\"] == \"Status code: 403\"]"
   ]
  },
  {
   "cell_type": "markdown",
   "id": "f183d3e5",
   "metadata": {},
   "source": [
    "Page is working. Code returned is 403, but content is displayed correctly. "
   ]
  },
  {
   "cell_type": "markdown",
   "id": "febbc62d",
   "metadata": {},
   "source": [
    "## year_creation"
   ]
  },
  {
   "cell_type": "code",
   "execution_count": 15,
   "id": "c5d3e8c4",
   "metadata": {},
   "outputs": [
    {
     "name": "stdout",
     "output_type": "stream",
     "text": [
      "Year of creation of the domain: 2021\n"
     ]
    }
   ],
   "source": [
    "import whois\n",
    "\n",
    "def get_domain_creation_year(url):\n",
    "    try:\n",
    "        domain = whois.whois(url)\n",
    "        creation_date = domain.creation_date\n",
    "        if isinstance(creation_date, list):  # Some WHOIS return multiple dates\n",
    "            creation_date = creation_date[0]\n",
    "        return creation_date.year\n",
    "    except Exception as e:\n",
    "        return None\n",
    "\n",
    "year = get_domain_creation_year(\"minka-sdg.org\")\n",
    "print(f\"Year of creation of the domain: {year}\")"
   ]
  },
  {
   "cell_type": "code",
   "execution_count": 16,
   "id": "58120a5f",
   "metadata": {},
   "outputs": [
    {
     "name": "stderr",
     "output_type": "stream",
     "text": [
      "2025-07-16 11:50:05,985 - whois.whois - ERROR - Error trying to connect to socket: closing socket - [Errno -2] Nombre o servicio desconocido\n"
     ]
    }
   ],
   "source": [
    "df['year_creation'] = df['platform_url'].apply(get_domain_creation_year)"
   ]
  },
  {
   "cell_type": "code",
   "execution_count": null,
   "id": "8c191d5c",
   "metadata": {},
   "outputs": [
    {
     "data": {
      "application/vnd.microsoft.datawrangler.viewer.v0+json": {
       "columns": [
        {
         "name": "index",
         "rawType": "int64",
         "type": "integer"
        },
        {
         "name": "name",
         "rawType": "object",
         "type": "string"
        },
        {
         "name": "platform_url",
         "rawType": "object",
         "type": "string"
        },
        {
         "name": "year_creation",
         "rawType": "float64",
         "type": "float"
        }
       ],
       "ref": "a5a97eba-dd33-424f-86b9-313477ceb908",
       "rows": [
        [
         "0",
         "Anecdata.org",
         "https://www.anecdata.org/",
         "2013.0"
        ],
        [
         "1",
         "ZOE Health Study",
         "https://health-study.zoe.com/",
         "1995.0"
        ],
        [
         "2",
         "Leave No Trace Citizen Science",
         "https://lnt.org/our-work/citizen-science/",
         "1995.0"
        ],
        [
         "3",
         "BirdNET",
         "https://birdnet.cornell.edu",
         "1985.0"
        ],
        [
         "4",
         "GLOBE Observer",
         "https://observer.globe.gov/",
         "1997.0"
        ],
        [
         "5",
         "Quantified Citizen Pro",
         "https://www.quantifiedcitizen.com/",
         "2017.0"
        ],
        [
         "6",
         "spotFIRE | Citizen Science",
         "https://www.spotfire.com/",
         "1996.0"
        ],
        [
         "7",
         "Brain Explorer",
         "https://www.brainexplorer.net",
         "2019.0"
        ],
        [
         "8",
         "WaterLinx | Citizen Science",
         "https://www.spotteron.net/apps/regional-community-science-projects/waterlinx-citizen-science",
         "2016.0"
        ],
        [
         "9",
         "The Happiness Project",
         "https://thehappinessproject.app",
         null
        ],
        [
         "10",
         "Faunawatch Citizen Science",
         "https://faunawatch.org/contact/",
         "2016.0"
        ],
        [
         "11",
         "Echo Meter Touch Bat Detector",
         "https://www.echometertouch.com",
         "2015.0"
        ],
        [
         "12",
         "Zooniverse",
         "https://www.zooniverse.org/",
         "2008.0"
        ],
        [
         "13",
         "Nature's Notebook",
         "https://www.usanpn.org",
         "2007.0"
        ],
        [
         "14",
         "AmphiApp | Citizen Science",
         "https://www.spotteron.net/apps/regional-community-science-projects/amphiapp-citizen-science-app-en",
         "2016.0"
        ],
        [
         "15",
         "YOUCOUNT Youth Citizen Science",
         "https://www.youcountproject.eu/",
         null
        ],
        [
         "16",
         "ISeeChange Tracker",
         "https://www.iseechange.org/",
         "2013.0"
        ],
        [
         "17",
         "HerpMapper",
         "https://www.herpmapper.org/",
         "2011.0"
        ],
        [
         "18",
         "WhaleReport",
         "https://ocean.org/whales/wras/",
         "1995.0"
        ],
        [
         "19",
         "CSMON-LIFE segnalazioni",
         "http://www.csmon-life.eu",
         null
        ],
        [
         "20",
         "CoronaReport",
         "https://www.coronareport.global/",
         "2020.0"
        ],
        [
         "21",
         "Sealife Tracker",
         "http://www.natural-apptitude.co.uk/project/sealife-tracker/",
         "2013.0"
        ],
        [
         "22",
         "PADI AWARE",
         "https://www.padi.com/aware",
         "1995.0"
        ],
        [
         "23",
         "Dark Sky Meter",
         "https://www.darkskymeter.com/",
         "2013.0"
        ],
        [
         "24",
         "BirdWeather",
         "https://www.birdweather.com/",
         "2017.0"
        ],
        [
         "25",
         "myHAZ-VCT",
         "https://uwiseismic.com/myhaz-vct/",
         "2001.0"
        ],
        [
         "26",
         "EyeOnWater - Colour",
         "https://www.eyeonwater.org/",
         "2015.0"
        ],
        [
         "27",
         "Tea Bag Index | SPOTTERON",
         "http://www.teatime4science.org/",
         "2016.0"
        ],
        [
         "28",
         "Dawn Chorus",
         "https://dawn-chorus.org/",
         "2020.0"
        ],
        [
         "29",
         "BeeMachine",
         "https://beemachine.ai",
         "2020.0"
        ],
        [
         "30",
         "BirdTrack",
         "http://www.birdtrack.net",
         "2004.0"
        ],
        [
         "31",
         "OpenRadiation",
         "https://www.openradiation.org/en",
         "2014.0"
        ],
        [
         "32",
         "WiBee",
         "https://pollinators.wisc.edu/wibee/",
         "1985.0"
        ],
        [
         "33",
         "Big Butterfly Count",
         "https://bigbutterflycount.butterfly-conservation.org/",
         "1998.0"
        ],
        [
         "34",
         "Caterpillars Count!",
         "https://caterpillarscount.unc.edu",
         "1986.0"
        ],
        [
         "35",
         "Build4People: Citizen Science",
         "https://build4people.org/",
         "2019.0"
        ],
        [
         "36",
         "IPM Popillia Pest Management",
         "https://www.popillia.eu/",
         null
        ],
        [
         "37",
         "Mosquito Alert",
         "http://www.mosquitoalert.com",
         "2006.0"
        ],
        [
         "38",
         "Citizen Scientist",
         "https://www.natureboostproject.com",
         "2024.0"
        ],
        [
         "39",
         "MedusApp",
         "http://medusapp.net",
         "2017.0"
        ],
        [
         "40",
         "CoastSnap | SPOTTERON",
         "https://www.spotteron.net/",
         "2016.0"
        ],
        [
         "41",
         "ORCA Oceanwatchers",
         "https://www.orca.org.uk",
         "2020.0"
        ],
        [
         "42",
         "ZSL Instant Wild",
         "https://instantwild.zsl.org/",
         "1996.0"
        ],
        [
         "43",
         "Black hole finder",
         "https://www.pocket.science/products/blackholefinder/",
         "2021.0"
        ],
        [
         "44",
         "BiciZen",
         "https://www.bicizen.org/",
         "2022.0"
        ]
       ],
       "shape": {
        "columns": 3,
        "rows": 45
       }
      },
      "text/html": [
       "<div>\n",
       "<style scoped>\n",
       "    .dataframe tbody tr th:only-of-type {\n",
       "        vertical-align: middle;\n",
       "    }\n",
       "\n",
       "    .dataframe tbody tr th {\n",
       "        vertical-align: top;\n",
       "    }\n",
       "\n",
       "    .dataframe thead th {\n",
       "        text-align: right;\n",
       "    }\n",
       "</style>\n",
       "<table border=\"1\" class=\"dataframe\">\n",
       "  <thead>\n",
       "    <tr style=\"text-align: right;\">\n",
       "      <th></th>\n",
       "      <th>name</th>\n",
       "      <th>platform_url</th>\n",
       "      <th>year_creation</th>\n",
       "    </tr>\n",
       "  </thead>\n",
       "  <tbody>\n",
       "    <tr>\n",
       "      <th>0</th>\n",
       "      <td>Anecdata.org</td>\n",
       "      <td>https://www.anecdata.org/</td>\n",
       "      <td>2013.0</td>\n",
       "    </tr>\n",
       "    <tr>\n",
       "      <th>1</th>\n",
       "      <td>ZOE Health Study</td>\n",
       "      <td>https://health-study.zoe.com/</td>\n",
       "      <td>1995.0</td>\n",
       "    </tr>\n",
       "    <tr>\n",
       "      <th>2</th>\n",
       "      <td>Leave No Trace Citizen Science</td>\n",
       "      <td>https://lnt.org/our-work/citizen-science/</td>\n",
       "      <td>1995.0</td>\n",
       "    </tr>\n",
       "    <tr>\n",
       "      <th>3</th>\n",
       "      <td>BirdNET</td>\n",
       "      <td>https://birdnet.cornell.edu</td>\n",
       "      <td>1985.0</td>\n",
       "    </tr>\n",
       "    <tr>\n",
       "      <th>4</th>\n",
       "      <td>GLOBE Observer</td>\n",
       "      <td>https://observer.globe.gov/</td>\n",
       "      <td>1997.0</td>\n",
       "    </tr>\n",
       "    <tr>\n",
       "      <th>5</th>\n",
       "      <td>Quantified Citizen Pro</td>\n",
       "      <td>https://www.quantifiedcitizen.com/</td>\n",
       "      <td>2017.0</td>\n",
       "    </tr>\n",
       "    <tr>\n",
       "      <th>6</th>\n",
       "      <td>spotFIRE | Citizen Science</td>\n",
       "      <td>https://www.spotfire.com/</td>\n",
       "      <td>1996.0</td>\n",
       "    </tr>\n",
       "    <tr>\n",
       "      <th>7</th>\n",
       "      <td>Brain Explorer</td>\n",
       "      <td>https://www.brainexplorer.net</td>\n",
       "      <td>2019.0</td>\n",
       "    </tr>\n",
       "    <tr>\n",
       "      <th>8</th>\n",
       "      <td>WaterLinx | Citizen Science</td>\n",
       "      <td>https://www.spotteron.net/apps/regional-commun...</td>\n",
       "      <td>2016.0</td>\n",
       "    </tr>\n",
       "    <tr>\n",
       "      <th>9</th>\n",
       "      <td>The Happiness Project</td>\n",
       "      <td>https://thehappinessproject.app</td>\n",
       "      <td>NaN</td>\n",
       "    </tr>\n",
       "    <tr>\n",
       "      <th>10</th>\n",
       "      <td>Faunawatch Citizen Science</td>\n",
       "      <td>https://faunawatch.org/contact/</td>\n",
       "      <td>2016.0</td>\n",
       "    </tr>\n",
       "    <tr>\n",
       "      <th>11</th>\n",
       "      <td>Echo Meter Touch Bat Detector</td>\n",
       "      <td>https://www.echometertouch.com</td>\n",
       "      <td>2015.0</td>\n",
       "    </tr>\n",
       "    <tr>\n",
       "      <th>12</th>\n",
       "      <td>Zooniverse</td>\n",
       "      <td>https://www.zooniverse.org/</td>\n",
       "      <td>2008.0</td>\n",
       "    </tr>\n",
       "    <tr>\n",
       "      <th>13</th>\n",
       "      <td>Nature's Notebook</td>\n",
       "      <td>https://www.usanpn.org</td>\n",
       "      <td>2007.0</td>\n",
       "    </tr>\n",
       "    <tr>\n",
       "      <th>14</th>\n",
       "      <td>AmphiApp | Citizen Science</td>\n",
       "      <td>https://www.spotteron.net/apps/regional-commun...</td>\n",
       "      <td>2016.0</td>\n",
       "    </tr>\n",
       "    <tr>\n",
       "      <th>15</th>\n",
       "      <td>YOUCOUNT Youth Citizen Science</td>\n",
       "      <td>https://www.youcountproject.eu/</td>\n",
       "      <td>NaN</td>\n",
       "    </tr>\n",
       "    <tr>\n",
       "      <th>16</th>\n",
       "      <td>ISeeChange Tracker</td>\n",
       "      <td>https://www.iseechange.org/</td>\n",
       "      <td>2013.0</td>\n",
       "    </tr>\n",
       "    <tr>\n",
       "      <th>17</th>\n",
       "      <td>HerpMapper</td>\n",
       "      <td>https://www.herpmapper.org/</td>\n",
       "      <td>2011.0</td>\n",
       "    </tr>\n",
       "    <tr>\n",
       "      <th>18</th>\n",
       "      <td>WhaleReport</td>\n",
       "      <td>https://ocean.org/whales/wras/</td>\n",
       "      <td>1995.0</td>\n",
       "    </tr>\n",
       "    <tr>\n",
       "      <th>19</th>\n",
       "      <td>CSMON-LIFE segnalazioni</td>\n",
       "      <td>http://www.csmon-life.eu</td>\n",
       "      <td>NaN</td>\n",
       "    </tr>\n",
       "    <tr>\n",
       "      <th>20</th>\n",
       "      <td>CoronaReport</td>\n",
       "      <td>https://www.coronareport.global/</td>\n",
       "      <td>2020.0</td>\n",
       "    </tr>\n",
       "    <tr>\n",
       "      <th>21</th>\n",
       "      <td>Sealife Tracker</td>\n",
       "      <td>http://www.natural-apptitude.co.uk/project/sea...</td>\n",
       "      <td>2013.0</td>\n",
       "    </tr>\n",
       "    <tr>\n",
       "      <th>22</th>\n",
       "      <td>PADI AWARE</td>\n",
       "      <td>https://www.padi.com/aware</td>\n",
       "      <td>1995.0</td>\n",
       "    </tr>\n",
       "    <tr>\n",
       "      <th>23</th>\n",
       "      <td>Dark Sky Meter</td>\n",
       "      <td>https://www.darkskymeter.com/</td>\n",
       "      <td>2013.0</td>\n",
       "    </tr>\n",
       "    <tr>\n",
       "      <th>24</th>\n",
       "      <td>BirdWeather</td>\n",
       "      <td>https://www.birdweather.com/</td>\n",
       "      <td>2017.0</td>\n",
       "    </tr>\n",
       "    <tr>\n",
       "      <th>25</th>\n",
       "      <td>myHAZ-VCT</td>\n",
       "      <td>https://uwiseismic.com/myhaz-vct/</td>\n",
       "      <td>2001.0</td>\n",
       "    </tr>\n",
       "    <tr>\n",
       "      <th>26</th>\n",
       "      <td>EyeOnWater - Colour</td>\n",
       "      <td>https://www.eyeonwater.org/</td>\n",
       "      <td>2015.0</td>\n",
       "    </tr>\n",
       "    <tr>\n",
       "      <th>27</th>\n",
       "      <td>Tea Bag Index | SPOTTERON</td>\n",
       "      <td>http://www.teatime4science.org/</td>\n",
       "      <td>2016.0</td>\n",
       "    </tr>\n",
       "    <tr>\n",
       "      <th>28</th>\n",
       "      <td>Dawn Chorus</td>\n",
       "      <td>https://dawn-chorus.org/</td>\n",
       "      <td>2020.0</td>\n",
       "    </tr>\n",
       "    <tr>\n",
       "      <th>29</th>\n",
       "      <td>BeeMachine</td>\n",
       "      <td>https://beemachine.ai</td>\n",
       "      <td>2020.0</td>\n",
       "    </tr>\n",
       "    <tr>\n",
       "      <th>30</th>\n",
       "      <td>BirdTrack</td>\n",
       "      <td>http://www.birdtrack.net</td>\n",
       "      <td>2004.0</td>\n",
       "    </tr>\n",
       "    <tr>\n",
       "      <th>31</th>\n",
       "      <td>OpenRadiation</td>\n",
       "      <td>https://www.openradiation.org/en</td>\n",
       "      <td>2014.0</td>\n",
       "    </tr>\n",
       "    <tr>\n",
       "      <th>32</th>\n",
       "      <td>WiBee</td>\n",
       "      <td>https://pollinators.wisc.edu/wibee/</td>\n",
       "      <td>1985.0</td>\n",
       "    </tr>\n",
       "    <tr>\n",
       "      <th>33</th>\n",
       "      <td>Big Butterfly Count</td>\n",
       "      <td>https://bigbutterflycount.butterfly-conservati...</td>\n",
       "      <td>1998.0</td>\n",
       "    </tr>\n",
       "    <tr>\n",
       "      <th>34</th>\n",
       "      <td>Caterpillars Count!</td>\n",
       "      <td>https://caterpillarscount.unc.edu</td>\n",
       "      <td>1986.0</td>\n",
       "    </tr>\n",
       "    <tr>\n",
       "      <th>35</th>\n",
       "      <td>Build4People: Citizen Science</td>\n",
       "      <td>https://build4people.org/</td>\n",
       "      <td>2019.0</td>\n",
       "    </tr>\n",
       "    <tr>\n",
       "      <th>36</th>\n",
       "      <td>IPM Popillia Pest Management</td>\n",
       "      <td>https://www.popillia.eu/</td>\n",
       "      <td>NaN</td>\n",
       "    </tr>\n",
       "    <tr>\n",
       "      <th>37</th>\n",
       "      <td>Mosquito Alert</td>\n",
       "      <td>http://www.mosquitoalert.com</td>\n",
       "      <td>2006.0</td>\n",
       "    </tr>\n",
       "    <tr>\n",
       "      <th>38</th>\n",
       "      <td>Citizen Scientist</td>\n",
       "      <td>https://www.natureboostproject.com</td>\n",
       "      <td>2024.0</td>\n",
       "    </tr>\n",
       "    <tr>\n",
       "      <th>39</th>\n",
       "      <td>MedusApp</td>\n",
       "      <td>http://medusapp.net</td>\n",
       "      <td>2017.0</td>\n",
       "    </tr>\n",
       "    <tr>\n",
       "      <th>40</th>\n",
       "      <td>CoastSnap | SPOTTERON</td>\n",
       "      <td>https://www.spotteron.net/</td>\n",
       "      <td>2016.0</td>\n",
       "    </tr>\n",
       "    <tr>\n",
       "      <th>41</th>\n",
       "      <td>ORCA Oceanwatchers</td>\n",
       "      <td>https://www.orca.org.uk</td>\n",
       "      <td>2020.0</td>\n",
       "    </tr>\n",
       "    <tr>\n",
       "      <th>42</th>\n",
       "      <td>ZSL Instant Wild</td>\n",
       "      <td>https://instantwild.zsl.org/</td>\n",
       "      <td>1996.0</td>\n",
       "    </tr>\n",
       "    <tr>\n",
       "      <th>43</th>\n",
       "      <td>Black hole finder</td>\n",
       "      <td>https://www.pocket.science/products/blackholef...</td>\n",
       "      <td>2021.0</td>\n",
       "    </tr>\n",
       "    <tr>\n",
       "      <th>44</th>\n",
       "      <td>BiciZen</td>\n",
       "      <td>https://www.bicizen.org/</td>\n",
       "      <td>2022.0</td>\n",
       "    </tr>\n",
       "  </tbody>\n",
       "</table>\n",
       "</div>"
      ],
      "text/plain": [
       "                              name  \\\n",
       "0                     Anecdata.org   \n",
       "1                 ZOE Health Study   \n",
       "2   Leave No Trace Citizen Science   \n",
       "3                          BirdNET   \n",
       "4                   GLOBE Observer   \n",
       "5           Quantified Citizen Pro   \n",
       "6       spotFIRE | Citizen Science   \n",
       "7                   Brain Explorer   \n",
       "8      WaterLinx | Citizen Science   \n",
       "9            The Happiness Project   \n",
       "10      Faunawatch Citizen Science   \n",
       "11   Echo Meter Touch Bat Detector   \n",
       "12                      Zooniverse   \n",
       "13               Nature's Notebook   \n",
       "14      AmphiApp | Citizen Science   \n",
       "15  YOUCOUNT Youth Citizen Science   \n",
       "16              ISeeChange Tracker   \n",
       "17                      HerpMapper   \n",
       "18                     WhaleReport   \n",
       "19         CSMON-LIFE segnalazioni   \n",
       "20                    CoronaReport   \n",
       "21                 Sealife Tracker   \n",
       "22                      PADI AWARE   \n",
       "23                  Dark Sky Meter   \n",
       "24                     BirdWeather   \n",
       "25                       myHAZ-VCT   \n",
       "26             EyeOnWater - Colour   \n",
       "27       Tea Bag Index | SPOTTERON   \n",
       "28                     Dawn Chorus   \n",
       "29                      BeeMachine   \n",
       "30                       BirdTrack   \n",
       "31                   OpenRadiation   \n",
       "32                           WiBee   \n",
       "33             Big Butterfly Count   \n",
       "34             Caterpillars Count!   \n",
       "35   Build4People: Citizen Science   \n",
       "36    IPM Popillia Pest Management   \n",
       "37                  Mosquito Alert   \n",
       "38               Citizen Scientist   \n",
       "39                        MedusApp   \n",
       "40           CoastSnap | SPOTTERON   \n",
       "41              ORCA Oceanwatchers   \n",
       "42                ZSL Instant Wild   \n",
       "43               Black hole finder   \n",
       "44                         BiciZen   \n",
       "\n",
       "                                         platform_url  year_creation  \n",
       "0                           https://www.anecdata.org/         2013.0  \n",
       "1                       https://health-study.zoe.com/         1995.0  \n",
       "2           https://lnt.org/our-work/citizen-science/         1995.0  \n",
       "3                         https://birdnet.cornell.edu         1985.0  \n",
       "4                         https://observer.globe.gov/         1997.0  \n",
       "5                  https://www.quantifiedcitizen.com/         2017.0  \n",
       "6                           https://www.spotfire.com/         1996.0  \n",
       "7                       https://www.brainexplorer.net         2019.0  \n",
       "8   https://www.spotteron.net/apps/regional-commun...         2016.0  \n",
       "9                     https://thehappinessproject.app            NaN  \n",
       "10                    https://faunawatch.org/contact/         2016.0  \n",
       "11                     https://www.echometertouch.com         2015.0  \n",
       "12                        https://www.zooniverse.org/         2008.0  \n",
       "13                             https://www.usanpn.org         2007.0  \n",
       "14  https://www.spotteron.net/apps/regional-commun...         2016.0  \n",
       "15                    https://www.youcountproject.eu/            NaN  \n",
       "16                        https://www.iseechange.org/         2013.0  \n",
       "17                        https://www.herpmapper.org/         2011.0  \n",
       "18                     https://ocean.org/whales/wras/         1995.0  \n",
       "19                           http://www.csmon-life.eu            NaN  \n",
       "20                   https://www.coronareport.global/         2020.0  \n",
       "21  http://www.natural-apptitude.co.uk/project/sea...         2013.0  \n",
       "22                         https://www.padi.com/aware         1995.0  \n",
       "23                      https://www.darkskymeter.com/         2013.0  \n",
       "24                       https://www.birdweather.com/         2017.0  \n",
       "25                  https://uwiseismic.com/myhaz-vct/         2001.0  \n",
       "26                        https://www.eyeonwater.org/         2015.0  \n",
       "27                    http://www.teatime4science.org/         2016.0  \n",
       "28                           https://dawn-chorus.org/         2020.0  \n",
       "29                              https://beemachine.ai         2020.0  \n",
       "30                           http://www.birdtrack.net         2004.0  \n",
       "31                   https://www.openradiation.org/en         2014.0  \n",
       "32                https://pollinators.wisc.edu/wibee/         1985.0  \n",
       "33  https://bigbutterflycount.butterfly-conservati...         1998.0  \n",
       "34                  https://caterpillarscount.unc.edu         1986.0  \n",
       "35                          https://build4people.org/         2019.0  \n",
       "36                           https://www.popillia.eu/            NaN  \n",
       "37                       http://www.mosquitoalert.com         2006.0  \n",
       "38                 https://www.natureboostproject.com         2024.0  \n",
       "39                                http://medusapp.net         2017.0  \n",
       "40                         https://www.spotteron.net/         2016.0  \n",
       "41                            https://www.orca.org.uk         2020.0  \n",
       "42                       https://instantwild.zsl.org/         1996.0  \n",
       "43  https://www.pocket.science/products/blackholef...         2021.0  \n",
       "44                           https://www.bicizen.org/         2022.0  "
      ]
     },
     "execution_count": 17,
     "metadata": {},
     "output_type": "execute_result"
    }
   ],
   "source": [
    "df[[\"name\", \"platform_url\", 'year_creation']].head(10)"
   ]
  },
  {
   "cell_type": "markdown",
   "id": "77aa391c",
   "metadata": {},
   "source": [
    "Waterlinx is inside spotteron website. `year_creation` is for the main url:\n",
    "https://www.spotteron.net/apps/regional-community-science-projects/waterlinx-citizen-science"
   ]
  },
  {
   "cell_type": "code",
   "execution_count": 19,
   "id": "19f4002e",
   "metadata": {},
   "outputs": [
    {
     "name": "stdout",
     "output_type": "stream",
     "text": [
      "<class 'pandas.core.frame.DataFrame'>\n",
      "RangeIndex: 45 entries, 0 to 44\n",
      "Data columns (total 8 columns):\n",
      " #   Column         Non-Null Count  Dtype  \n",
      "---  ------         --------------  -----  \n",
      " 0   name           45 non-null     object \n",
      " 1   developer      45 non-null     object \n",
      " 2   description    45 non-null     object \n",
      " 3   url            45 non-null     object \n",
      " 4   language       45 non-null     object \n",
      " 5   platform_url   45 non-null     object \n",
      " 6   active         45 non-null     object \n",
      " 7   year_creation  41 non-null     float64\n",
      "dtypes: float64(1), object(7)\n",
      "memory usage: 2.9+ KB\n"
     ]
    }
   ],
   "source": [
    "df.info()"
   ]
  },
  {
   "cell_type": "markdown",
   "id": "a270533c",
   "metadata": {},
   "source": [
    "## about"
   ]
  },
  {
   "cell_type": "code",
   "execution_count": 20,
   "id": "10c2879e",
   "metadata": {},
   "outputs": [
    {
     "name": "stdout",
     "output_type": "stream",
     "text": [
      "Error procesando http://www.natural-apptitude.co.uk/project/sealife-tracker/: 404 Client Error: Not Found for url: https://www.natural-apptitude.co.uk/project/sealife-tracker\n",
      "Error procesando https://uwiseismic.com/myhaz-vct/: ('Connection aborted.', RemoteDisconnected('Remote end closed connection without response'))\n",
      "Error procesando https://bigbutterflycount.butterfly-conservation.org/: 403 Client Error: Forbidden for url: https://bigbutterflycount.butterfly-conservation.org/\n"
     ]
    }
   ],
   "source": [
    "import pandas as pd\n",
    "import requests\n",
    "from bs4 import BeautifulSoup\n",
    "from urllib.parse import urljoin\n",
    "\n",
    "# Diccionario de términos \"about\" en diferentes idiomas\n",
    "ABOUT_TERMS = {\n",
    "    'en': ['about', 'about-us', 'aboutus', 'who-we-are', 'mission'],\n",
    "    'es': ['sobre', 'sobre-nosotros', 'quienes-somos', 'nosotros'],\n",
    "    'fr': ['a-propos', 'qui-sommes-nous', 'apropos'],\n",
    "    'de': ['uber-uns', 'ueber-uns', 'uberuns'],\n",
    "    'it': ['chi-siamo', 'su-di-noi'],\n",
    "    'pt': ['sobre', 'sobre-nos', 'quem-somos']\n",
    "}\n",
    "\n",
    "def find_about_url(base_url):\n",
    "    try:\n",
    "        headers = {\n",
    "            'User-Agent': 'Mozilla/5.0 (Windows NT 10.0; Win64; x64) AppleWebKit/537.36 (KHTML, like Gecko) Chrome/91.0.4472.124 Safari/537.36'\n",
    "        }\n",
    "        response = requests.get(base_url, headers=headers, timeout=10)\n",
    "        response.raise_for_status()\n",
    "        \n",
    "        soup = BeautifulSoup(response.text, 'html.parser')\n",
    "        \n",
    "        # Buscar en todos los enlaces\n",
    "        all_links = [a.get('href') for a in soup.find_all('a', href=True)]\n",
    "        \n",
    "        # Convertir a URLs absolutas y filtrar None\n",
    "        absolute_links = []\n",
    "        for link in all_links:\n",
    "            if link:\n",
    "                try:\n",
    "                    absolute_links.append(urljoin(base_url, link))\n",
    "                except:\n",
    "                    continue\n",
    "        \n",
    "        # Buscar coincidencias con términos \"about\" en cualquier idioma\n",
    "        for term_list in ABOUT_TERMS.values():\n",
    "            for term in term_list:\n",
    "                for link in absolute_links:\n",
    "                    if term in link.lower():\n",
    "                        return link\n",
    "        \n",
    "        # Si no se encuentra por URL, buscar en el texto del enlace\n",
    "        for a in soup.find_all('a'):\n",
    "            text = a.get_text().lower()\n",
    "            if any(term in text for terms in ABOUT_TERMS.values() for term in terms):\n",
    "                href = a.get('href')\n",
    "                if href:\n",
    "                    return urljoin(base_url, href)\n",
    "        \n",
    "        return None\n",
    "    \n",
    "    except Exception as e:\n",
    "        print(f\"Error procesando {base_url}: {str(e)}\")\n",
    "        return None\n",
    "\n",
    "# Aplicar a tu dataframe\n",
    "df['platform_about_url'] = df['platform_url'].apply(find_about_url)"
   ]
  },
  {
   "cell_type": "code",
   "execution_count": 21,
   "id": "ff7d64da",
   "metadata": {},
   "outputs": [],
   "source": [
    "import requests\n",
    "from bs4 import BeautifulSoup\n",
    "from urllib.parse import urljoin\n",
    "\n",
    "def find_terms_url(base_url, list_terms):\n",
    "    try:\n",
    "        headers = {\n",
    "            'User-Agent': 'Mozilla/5.0 (Windows NT 10.0; Win64; x64) AppleWebKit/537.36 (KHTML, like Gecko) Chrome/91.0.4472.124 Safari/537.36'\n",
    "        }\n",
    "        response = requests.get(base_url, headers=headers, timeout=10)\n",
    "        response.raise_for_status()\n",
    "        \n",
    "        soup = BeautifulSoup(response.text, 'html.parser')\n",
    "        \n",
    "        # Buscar en todos los enlaces\n",
    "        all_links = [a.get('href') for a in soup.find_all('a', href=True)]\n",
    "        \n",
    "        # Convertir a URLs absolutas y filtrar None\n",
    "        absolute_links = []\n",
    "        for link in all_links:\n",
    "            if link:\n",
    "                try:\n",
    "                    absolute_links.append(urljoin(base_url, link))\n",
    "                except:\n",
    "                    continue\n",
    "        \n",
    "        # Buscar coincidencias con términos \"about\" en los enlaces\n",
    "        for term in list_terms:\n",
    "            for link in absolute_links:\n",
    "                if term in link.lower():\n",
    "                    return link\n",
    "        \n",
    "        # Si no se encuentra por URL, buscar en el texto del enlace\n",
    "        for a in soup.find_all('a'):\n",
    "            text = a.get_text().lower()\n",
    "            if any(term in text for term in list_terms):\n",
    "                href = a.get('href')\n",
    "                if href:\n",
    "                    return urljoin(base_url, href)\n",
    "        \n",
    "        return None\n",
    "\n",
    "    except Exception as e:\n",
    "        print(f\"Error procesando {base_url}: {str(e)}\")\n",
    "        return None"
   ]
  },
  {
   "cell_type": "code",
   "execution_count": 22,
   "id": "5ebfeda7",
   "metadata": {},
   "outputs": [
    {
     "name": "stdout",
     "output_type": "stream",
     "text": [
      "Error procesando http://www.natural-apptitude.co.uk/project/sealife-tracker/: 404 Client Error: Not Found for url: https://www.natural-apptitude.co.uk/project/sealife-tracker\n",
      "Error procesando https://uwiseismic.com/myhaz-vct/: ('Connection aborted.', RemoteDisconnected('Remote end closed connection without response'))\n",
      "Error procesando https://bigbutterflycount.butterfly-conservation.org/: 403 Client Error: Forbidden for url: https://bigbutterflycount.butterfly-conservation.org/\n"
     ]
    }
   ],
   "source": [
    "about_terms = [\n",
    "    'about', 'about-us', 'aboutus', 'who-we-are', 'mission', \n",
    "    'sobre', 'sobre-nosotros', 'quienes-somos', 'nosotros', \n",
    "    'a-propos', 'qui-sommes-nous', 'apropos',\n",
    "    'uber-uns', 'ueber-uns', 'uberuns',\n",
    "    'chi-siamo', 'su-di-noi',\n",
    "    'sobre', 'sobre-nos', 'quem-somos'\n",
    "    ]\n",
    "\n",
    "df['platform_about_url'] = df['platform_url'].apply(lambda x: find_terms_url(x, about_terms))"
   ]
  },
  {
   "cell_type": "code",
   "execution_count": 23,
   "id": "5f7fb82c",
   "metadata": {},
   "outputs": [
    {
     "name": "stdout",
     "output_type": "stream",
     "text": [
      "<class 'pandas.core.frame.DataFrame'>\n",
      "RangeIndex: 45 entries, 0 to 44\n",
      "Data columns (total 9 columns):\n",
      " #   Column              Non-Null Count  Dtype  \n",
      "---  ------              --------------  -----  \n",
      " 0   name                45 non-null     object \n",
      " 1   developer           45 non-null     object \n",
      " 2   description         45 non-null     object \n",
      " 3   url                 45 non-null     object \n",
      " 4   language            45 non-null     object \n",
      " 5   platform_url        45 non-null     object \n",
      " 6   active              45 non-null     object \n",
      " 7   year_creation       41 non-null     float64\n",
      " 8   platform_about_url  34 non-null     object \n",
      "dtypes: float64(1), object(8)\n",
      "memory usage: 3.3+ KB\n"
     ]
    }
   ],
   "source": [
    "df.info()"
   ]
  },
  {
   "cell_type": "code",
   "execution_count": null,
   "id": "046fb8c9",
   "metadata": {},
   "outputs": [
    {
     "data": {
      "application/vnd.microsoft.datawrangler.viewer.v0+json": {
       "columns": [
        {
         "name": "index",
         "rawType": "int64",
         "type": "integer"
        },
        {
         "name": "name",
         "rawType": "object",
         "type": "string"
        },
        {
         "name": "developer",
         "rawType": "object",
         "type": "string"
        },
        {
         "name": "description",
         "rawType": "object",
         "type": "string"
        },
        {
         "name": "url",
         "rawType": "object",
         "type": "string"
        },
        {
         "name": "language",
         "rawType": "object",
         "type": "string"
        },
        {
         "name": "platform_url",
         "rawType": "object",
         "type": "string"
        },
        {
         "name": "active",
         "rawType": "object",
         "type": "string"
        },
        {
         "name": "year_creation",
         "rawType": "float64",
         "type": "float"
        },
        {
         "name": "platform_about_url",
         "rawType": "object",
         "type": "unknown"
        }
       ],
       "ref": "f984f7a2-37e9-4834-a6ff-a9d72e48204b",
       "rows": [
        [
         "0",
         "Anecdata.org",
         "MDI Biological Laboratory",
         "Anecdata.org is a free online platform anyone can use to host a citizen science project.",
         "https://apps.apple.com/us/app/anecdata-org/id1315666791?uo=4",
         "['EN']",
         "https://www.anecdata.org/",
         "Status code: 200",
         "2013.0",
         null
        ],
        [
         "9",
         "The Happiness Project",
         "UCL",
         "Play fun mini-games to help brain scientists study the psychology and neuroscience of well-being!\n\nCreated by scientists at UCL and Yale, this app is a citizen science project taking psychology and neuroscience experiments from the lab to your smartphone.\n\nEvery 3-minute game that you finish contributes data to real scientific research about how the brain works. The anonymous surveys help us see what causes well-being and understand mental health conditions like anxiety and depression. Be part of a unique citizen science experiment and help us write the equation for happiness!\n\nDr Robb Rutledge (Yale Psychology) says: \"We all want to know what determines happiness. It’s hard to figure it out! In our games, we ask people about their happiness as they make decisions in different situations. We hope people enjoy our app and help us answer some really important scientific questions!\"\n\nThis citizen science project was supported by the UK Medical Research Council.",
         "https://apps.apple.com/us/app/the-happiness-project/id1366965114?uo=4",
         "['EN']",
         "https://thehappinessproject.app",
         "Status code: 200",
         null,
         null
        ],
        [
         "16",
         "ISeeChange Tracker",
         "ISeeChange",
         "Our climate is changing--and so are we. With ISeeChange, share your experiences and collect data to investigate our environment and help our communities through change.\n\nWhat you see change in your backyard, neighborhood, and city is important to our understanding of how climate change and weather affect our communities. Your observations and block-by-block insights can help cities, engineers and local organizations advocate for and create solutions to climate challenges. If you or your community has a question or hypothesis about how climate is changing your area, you can also use your ISeeChange account to collect data and answer those questions.\n\n• Create your account: Your account is a personal record of your sightings as well as a way to connect with your local community. Your location is generalized to protect your personal privacy.\n\n• Post a sighting: The best posts combine detailed stories and photos to show what you’re seeing in your environment and how it affects you. We then sync your stories to local weather data and trends.\n\n• Have conversations and connect: Comment on what others are seeing in your area and across the globe. Connect with community members on tips to manage the same climate challenges you are experiencing.\n\n• Help improve local knowledge and research: During weather events let us know what you’re seeing and check in on the feed to see what information your community is gathering. We may send push notifications and emails during local and regional weather events. When you respond to them, we do our best to share what you saw with people studying local weather trends. \n\n• Contribute to solutions: We share posts on social media, in newsletters and in reports to local partners that are working on solutions. Be sure to subscribe to our emails so you can be the first to know when we hear someone has used your post as data. This helps you and others track how your community is changing in response to climate change.",
         "https://apps.apple.com/us/app/iseechange-tracker/id1114885557?uo=4",
         "['EN']",
         "https://www.iseechange.org/",
         "Status code: 200",
         "2013.0",
         null
        ],
        [
         "19",
         "CSMON-LIFE segnalazioni",
         "Divulgando Srl",
         "CSMON-LIFE (Citizen Science MONitoring) is one of the first Italian projects which focuses on using a citizen science approach on biodiversity. I was funded by the European Commission under the LIFE+ programme.\n\nThe project want to stimulate the participation of the citizens, involving them in the study, management and conservation of biodiversity, hence creating an active collaboration between citizens, scientific community and institutions.\n\nThe project aims at activating several citizen science campaigns, which will be focused on several environmental issues, such as:\n- the loss of biodiversity because of the presence of alien species;\n- the effects of climate change;\n- the conservation of rare species;\n- the impact of human activities on the environment.\n\nContribute with your observations to the monitoring of several target species.\n\nThe data, once validated, will be available on the CSMON-LIFE website and will feed the National Biodiversity Network (NNB), an effort promoted by the Italian Ministry for the Environment.",
         "https://apps.apple.com/us/app/csmon-life-segnalazioni/id943048570?uo=4",
         "['EN', 'IT']",
         "http://www.csmon-life.eu",
         "Status code: 200",
         null,
         null
        ],
        [
         "21",
         "Sealife Tracker",
         "Natural Apptitude",
         "The Sealife Tracker project aims to collect much needed data on both invasive and climate change indicator marine species around the UK coastline. It is a unique partnership between the British Sub Aqua Club, the Marine Biological Association, the Environment Agency, Scottish Natural Heritage, The Scottish Environment Protection Agency and Natural Apptitude.",
         "https://apps.apple.com/us/app/sealife-tracker/id663800293?uo=4",
         "['EN']",
         "http://www.natural-apptitude.co.uk/project/sealife-tracker/",
         "Status code: 404",
         "2013.0",
         null
        ],
        [
         "23",
         "Dark Sky Meter",
         "DDQ",
         "The Dark Sky Meter app measures the sky brightness using the camera and shares it (optionally) with scientists around the globe.",
         "https://apps.apple.com/us/app/dark-sky-meter/id602989060?uo=4",
         "['NL', 'EN']",
         "https://www.darkskymeter.com/",
         "Status code: 200",
         "2013.0",
         null
        ],
        [
         "25",
         "myHAZ-VCT",
         "British Geological Survey",
         "myHAZ-VCT is a citizen science app for sharing your observations of natural hazards and environmental phenomena in St. Vincent and the Grenadines. A collaboration between The University of the West Indies Seismic Research Centre (SRC) in Trinidad and Tobago, the National Emergency Management Organisation (NEMO) of St. Vincent and the Grenadines and the British Geological Survey (BGS), myHAZ-VCT is designed to provide scientists (SRC), emergency managers (NEMO) and citizens of St. Vincent and the Grenadines, with first-hand information about a range of natural hazards and environmental phenomena that occur in the country.\n\nThrough the myHAZ-VCT app you can upload photos, videos and free-text descriptions on a range of natural hazards including flooding, storms, landslides, earthquakes, volcanoes, tsunamis and other environmental phenomena such as drought, ground subsidence and changes in water levels. In addition, there are more detailed, optional questions to answer to help scientists, emergency managers and your fellow citizens know what is going on across St. Vincent and the Grenadines. \n\nWhen a new observation is submitted, it is initially reviewed by myHAZ-VCT managers at SRC and NEMO, and then published in the app for other myHAZ-VCT users to view. A commenting facility within myHAZ-VCT lets users, SRC scientists and NEMO staff respond to observations, whilst SRC and NEMO can also send direct notifications to myHAZ-VCT users, such as further information and advice about ongoing hazards. \n\nmyHAZ-VCT uses a citizen science approach for gathering valuable data on various natural hazards occurring in St. Vincent and the Grenadines.  Citizen science is the active involvement of the non-scientific public in scientific research.  Since scientists and emergency managers cannot be everywhere, enlisting members of the public like you, in sharing observations on multihazards can provide a broader understanding of the impact and behaviour of these in your community.  This information can be used by NEMO to respond more effectively to impacted communities as well as to develop robust hazard mitigation systems.",
         "https://apps.apple.com/us/app/myhaz-vct/id1507981214?uo=4",
         "['EN']",
         "https://uwiseismic.com/myhaz-vct/",
         "Status code: 200",
         "2001.0",
         null
        ],
        [
         "28",
         "Dawn Chorus",
         "Natural Apptitude",
         "Dawn Chorus is a project that combines conservation, science, and art. Under the motto Stop and Listen, it creatively brings humans and nature back together: People around the world take a minute in the morning to listen to the bird concert around them, record it, and upload it to a global database. This data is made available to art and science in order to gain insights into the conservation of biodiversity, for example.\n\nWith the Dawn Chorus app, users can easily and quickly make their recordings. They can  also learn more about bird songs and give free rein to their creativity – for example, with the media art feature \"Sonic Feather,\" which transforms movement and sound into art.\n\nThe app's data is only used in anonymous form and solely for scientific and artistic purposes. The app also works offline; in this case, the data is stored locally on the smartphone and can be uploaded later.\n\nDawn Chorus was launched in 2020 as a citizen science and arts project by BIOTOPIA – Nature Museum Bavaria (Munich) and the Art and Nature Foundation (Nantesbuch), in collaboration with the Max Planck Society. The Bavarian State Association for Bird Conservation (LBV) is also a partner. More information at https://dawn-chorus.org/.",
         "https://apps.apple.com/us/app/dawn-chorus/id1557441003?uo=4",
         "['EN', 'DE']",
         "https://dawn-chorus.org/",
         "Status code: 200",
         "2020.0",
         null
        ],
        [
         "33",
         "Big Butterfly Count",
         "Butterfly Conservation Trading Ltd",
         "Take part in the UK’s annual Big Butterfly Count with this easy to use and informative app. \n\nSpend 15 minutes in nature and help butterflies at the same time. All you need to do is identify and count the relevant butterfly and moth species you spot. Then submit your sightings to help take the pulse of nature. Your records help to show how butterflies are faring in the UK.\n\nThe app features a beautiful ID guide to help you identify and learn about the 21 species that are the focus of this study. You can also view all of your submitted counts and see everyone's records on the map within the app.",
         "https://apps.apple.com/us/app/big-butterfly-count/id658158833?uo=4",
         "['EN']",
         "https://bigbutterflycount.butterfly-conservation.org/",
         "Status code: 403",
         "1998.0",
         null
        ],
        [
         "38",
         "Citizen Scientist",
         "NOMAD.ORG.UK LTD",
         "Citizen Scientist is an app that measures your experience of urban or rural living in the moment. \n\nThe Citizen Scientist app uses a technology called “ecological momentary assessment” to monitor how the surrounding environment affects our mental wellbeing.\nThis technology involves presenting people with a prompt at random times, inviting them to answer questions about their surrounding environment and mental wellbeing. \nAfter answering the questions, participants are also invited to take a photograph of the ground or floor where they are standing and/or a short audio recording of their current environment.\n\nOnce you start answering the questions you will be able to access an individualised report which summarises your experiences. \n\nIn addition, Citizen Scientist integrates with the Health app to record information about geographical location data; participants can decide whether or not to provide this information.\n\nThe data will help us understand how different aspects of the surrounding environment affect mental wellbeing, and will be used to inform novel clinical interventions and the planning and design of healthier cities.\n\nParticipation in this research project is anonymous, and the information provided by individual participants is kept private and confidential.",
         "https://apps.apple.com/us/app/citizen-scientist/id6504582629?uo=4",
         "['EN']",
         "https://www.natureboostproject.com",
         "Status code: 200",
         "2024.0",
         null
        ],
        [
         "42",
         "ZSL Instant Wild",
         "Zoological Society of London (ZSL)",
         "ZSL’s Instant Wild app empowers you to take part in vital conservation work, bringing you LIVE images and videos from amazing locations all around the world. By identifying the animals in each image, you are contributing to conservation and making a positive impact on the future for wildlife.\n\nThis is the next generation of Instant Wild, which mobilises people power to scale up important animal monitoring work, helping scientists to protect wildlife and secure a richer biodiversity for all!\n\nWhat rare species will you find?\n\nKey features:\n\n* View and identify images and video transmitted live from the field and contribute to conservation research wherever you are.\n* Follow projects to support conservation work that you’re specifically interested in and curate your own feed on your home page.\n* Gain badges, work towards being one of our daily Top Spotters and get shout outs for your hard work.\n* See exactly how many animals – including endangered ones - you’ve spotted and save favourite images to your profile.\n* Check out the leaderboards to see how you stack up against those leading the way in species identification both overall and for the rarest sightings.\n* See latest news on Instant Wild and stay up to date with the latest conservation news from the Instant Wild team.\n* Join our bustling Instant Wild community and discuss what’s been spotted in each photograph.\n* Receive alerts to keep you updated on the latest from projects you follow.\n* Share the most interesting images and videos on social media.\n \n \nHow it works:\n\nMotion triggered cameras are a crucial tool for monitoring animal populations and movements, and this information allows us to develop methods for conserving them. As an animal moves past one of our Instant Wild cameras it will trigger, taking a photo which is immediately sent back to the app in real time for identification by you. Identifying thousands of images takes time but with your help we can identify even more species and help to protect them. \n\nYou don’t need any qualifications or special expertise to take part – lots of help is provided to make sure you make the right identification – simply sign up and start tagging the animals in the images.\n\nYour involvement will not only contribute to conservation, making you part of our ZSL community, you’ll also get a window into the some of the world’s wildest places. \n \n \n \nInstant Wild is a Zoological Society of London (ZSL) Initiative.\nFounded in 1826, ZSL is a global conservation charity with a mission to conserve the planet's wildlife and their habitats. With two Zoos, a renowned Institute of Zoology and over 50 conservation projects worldwide, ZSL uses ground-breaking science to fuel life-changing conservation.",
         "https://apps.apple.com/us/app/zsl-instant-wild/id1290294097?uo=4",
         "['EN']",
         "https://instantwild.zsl.org/",
         "Status code: 200",
         "1996.0",
         null
        ]
       ],
       "shape": {
        "columns": 9,
        "rows": 11
       }
      },
      "text/html": [
       "<div>\n",
       "<style scoped>\n",
       "    .dataframe tbody tr th:only-of-type {\n",
       "        vertical-align: middle;\n",
       "    }\n",
       "\n",
       "    .dataframe tbody tr th {\n",
       "        vertical-align: top;\n",
       "    }\n",
       "\n",
       "    .dataframe thead th {\n",
       "        text-align: right;\n",
       "    }\n",
       "</style>\n",
       "<table border=\"1\" class=\"dataframe\">\n",
       "  <thead>\n",
       "    <tr style=\"text-align: right;\">\n",
       "      <th></th>\n",
       "      <th>name</th>\n",
       "      <th>developer</th>\n",
       "      <th>description</th>\n",
       "      <th>url</th>\n",
       "      <th>language</th>\n",
       "      <th>platform_url</th>\n",
       "      <th>active</th>\n",
       "      <th>year_creation</th>\n",
       "      <th>platform_about_url</th>\n",
       "    </tr>\n",
       "  </thead>\n",
       "  <tbody>\n",
       "    <tr>\n",
       "      <th>0</th>\n",
       "      <td>Anecdata.org</td>\n",
       "      <td>MDI Biological Laboratory</td>\n",
       "      <td>Anecdata.org is a free online platform anyone ...</td>\n",
       "      <td>https://apps.apple.com/us/app/anecdata-org/id1...</td>\n",
       "      <td>['EN']</td>\n",
       "      <td>https://www.anecdata.org/</td>\n",
       "      <td>Status code: 200</td>\n",
       "      <td>2013.0</td>\n",
       "      <td>None</td>\n",
       "    </tr>\n",
       "    <tr>\n",
       "      <th>9</th>\n",
       "      <td>The Happiness Project</td>\n",
       "      <td>UCL</td>\n",
       "      <td>Play fun mini-games to help brain scientists s...</td>\n",
       "      <td>https://apps.apple.com/us/app/the-happiness-pr...</td>\n",
       "      <td>['EN']</td>\n",
       "      <td>https://thehappinessproject.app</td>\n",
       "      <td>Status code: 200</td>\n",
       "      <td>NaN</td>\n",
       "      <td>None</td>\n",
       "    </tr>\n",
       "    <tr>\n",
       "      <th>16</th>\n",
       "      <td>ISeeChange Tracker</td>\n",
       "      <td>ISeeChange</td>\n",
       "      <td>Our climate is changing--and so are we. With I...</td>\n",
       "      <td>https://apps.apple.com/us/app/iseechange-track...</td>\n",
       "      <td>['EN']</td>\n",
       "      <td>https://www.iseechange.org/</td>\n",
       "      <td>Status code: 200</td>\n",
       "      <td>2013.0</td>\n",
       "      <td>None</td>\n",
       "    </tr>\n",
       "    <tr>\n",
       "      <th>19</th>\n",
       "      <td>CSMON-LIFE segnalazioni</td>\n",
       "      <td>Divulgando Srl</td>\n",
       "      <td>CSMON-LIFE (Citizen Science MONitoring) is one...</td>\n",
       "      <td>https://apps.apple.com/us/app/csmon-life-segna...</td>\n",
       "      <td>['EN', 'IT']</td>\n",
       "      <td>http://www.csmon-life.eu</td>\n",
       "      <td>Status code: 200</td>\n",
       "      <td>NaN</td>\n",
       "      <td>None</td>\n",
       "    </tr>\n",
       "    <tr>\n",
       "      <th>21</th>\n",
       "      <td>Sealife Tracker</td>\n",
       "      <td>Natural Apptitude</td>\n",
       "      <td>The Sealife Tracker project aims to collect mu...</td>\n",
       "      <td>https://apps.apple.com/us/app/sealife-tracker/...</td>\n",
       "      <td>['EN']</td>\n",
       "      <td>http://www.natural-apptitude.co.uk/project/sea...</td>\n",
       "      <td>Status code: 404</td>\n",
       "      <td>2013.0</td>\n",
       "      <td>None</td>\n",
       "    </tr>\n",
       "    <tr>\n",
       "      <th>23</th>\n",
       "      <td>Dark Sky Meter</td>\n",
       "      <td>DDQ</td>\n",
       "      <td>The Dark Sky Meter app measures the sky bright...</td>\n",
       "      <td>https://apps.apple.com/us/app/dark-sky-meter/i...</td>\n",
       "      <td>['NL', 'EN']</td>\n",
       "      <td>https://www.darkskymeter.com/</td>\n",
       "      <td>Status code: 200</td>\n",
       "      <td>2013.0</td>\n",
       "      <td>None</td>\n",
       "    </tr>\n",
       "    <tr>\n",
       "      <th>25</th>\n",
       "      <td>myHAZ-VCT</td>\n",
       "      <td>British Geological Survey</td>\n",
       "      <td>myHAZ-VCT is a citizen science app for sharing...</td>\n",
       "      <td>https://apps.apple.com/us/app/myhaz-vct/id1507...</td>\n",
       "      <td>['EN']</td>\n",
       "      <td>https://uwiseismic.com/myhaz-vct/</td>\n",
       "      <td>Status code: 200</td>\n",
       "      <td>2001.0</td>\n",
       "      <td>None</td>\n",
       "    </tr>\n",
       "    <tr>\n",
       "      <th>28</th>\n",
       "      <td>Dawn Chorus</td>\n",
       "      <td>Natural Apptitude</td>\n",
       "      <td>Dawn Chorus is a project that combines conserv...</td>\n",
       "      <td>https://apps.apple.com/us/app/dawn-chorus/id15...</td>\n",
       "      <td>['EN', 'DE']</td>\n",
       "      <td>https://dawn-chorus.org/</td>\n",
       "      <td>Status code: 200</td>\n",
       "      <td>2020.0</td>\n",
       "      <td>None</td>\n",
       "    </tr>\n",
       "    <tr>\n",
       "      <th>33</th>\n",
       "      <td>Big Butterfly Count</td>\n",
       "      <td>Butterfly Conservation Trading Ltd</td>\n",
       "      <td>Take part in the UK’s annual Big Butterfly Cou...</td>\n",
       "      <td>https://apps.apple.com/us/app/big-butterfly-co...</td>\n",
       "      <td>['EN']</td>\n",
       "      <td>https://bigbutterflycount.butterfly-conservati...</td>\n",
       "      <td>Status code: 403</td>\n",
       "      <td>1998.0</td>\n",
       "      <td>None</td>\n",
       "    </tr>\n",
       "    <tr>\n",
       "      <th>38</th>\n",
       "      <td>Citizen Scientist</td>\n",
       "      <td>NOMAD.ORG.UK LTD</td>\n",
       "      <td>Citizen Scientist is an app that measures your...</td>\n",
       "      <td>https://apps.apple.com/us/app/citizen-scientis...</td>\n",
       "      <td>['EN']</td>\n",
       "      <td>https://www.natureboostproject.com</td>\n",
       "      <td>Status code: 200</td>\n",
       "      <td>2024.0</td>\n",
       "      <td>None</td>\n",
       "    </tr>\n",
       "    <tr>\n",
       "      <th>42</th>\n",
       "      <td>ZSL Instant Wild</td>\n",
       "      <td>Zoological Society of London (ZSL)</td>\n",
       "      <td>ZSL’s Instant Wild app empowers you to take pa...</td>\n",
       "      <td>https://apps.apple.com/us/app/zsl-instant-wild...</td>\n",
       "      <td>['EN']</td>\n",
       "      <td>https://instantwild.zsl.org/</td>\n",
       "      <td>Status code: 200</td>\n",
       "      <td>1996.0</td>\n",
       "      <td>None</td>\n",
       "    </tr>\n",
       "  </tbody>\n",
       "</table>\n",
       "</div>"
      ],
      "text/plain": [
       "                       name                           developer  \\\n",
       "0              Anecdata.org           MDI Biological Laboratory   \n",
       "9     The Happiness Project                                 UCL   \n",
       "16       ISeeChange Tracker                          ISeeChange   \n",
       "19  CSMON-LIFE segnalazioni                      Divulgando Srl   \n",
       "21          Sealife Tracker                   Natural Apptitude   \n",
       "23           Dark Sky Meter                                 DDQ   \n",
       "25                myHAZ-VCT           British Geological Survey   \n",
       "28              Dawn Chorus                   Natural Apptitude   \n",
       "33      Big Butterfly Count  Butterfly Conservation Trading Ltd   \n",
       "38        Citizen Scientist                    NOMAD.ORG.UK LTD   \n",
       "42         ZSL Instant Wild  Zoological Society of London (ZSL)   \n",
       "\n",
       "                                          description  \\\n",
       "0   Anecdata.org is a free online platform anyone ...   \n",
       "9   Play fun mini-games to help brain scientists s...   \n",
       "16  Our climate is changing--and so are we. With I...   \n",
       "19  CSMON-LIFE (Citizen Science MONitoring) is one...   \n",
       "21  The Sealife Tracker project aims to collect mu...   \n",
       "23  The Dark Sky Meter app measures the sky bright...   \n",
       "25  myHAZ-VCT is a citizen science app for sharing...   \n",
       "28  Dawn Chorus is a project that combines conserv...   \n",
       "33  Take part in the UK’s annual Big Butterfly Cou...   \n",
       "38  Citizen Scientist is an app that measures your...   \n",
       "42  ZSL’s Instant Wild app empowers you to take pa...   \n",
       "\n",
       "                                                  url      language  \\\n",
       "0   https://apps.apple.com/us/app/anecdata-org/id1...        ['EN']   \n",
       "9   https://apps.apple.com/us/app/the-happiness-pr...        ['EN']   \n",
       "16  https://apps.apple.com/us/app/iseechange-track...        ['EN']   \n",
       "19  https://apps.apple.com/us/app/csmon-life-segna...  ['EN', 'IT']   \n",
       "21  https://apps.apple.com/us/app/sealife-tracker/...        ['EN']   \n",
       "23  https://apps.apple.com/us/app/dark-sky-meter/i...  ['NL', 'EN']   \n",
       "25  https://apps.apple.com/us/app/myhaz-vct/id1507...        ['EN']   \n",
       "28  https://apps.apple.com/us/app/dawn-chorus/id15...  ['EN', 'DE']   \n",
       "33  https://apps.apple.com/us/app/big-butterfly-co...        ['EN']   \n",
       "38  https://apps.apple.com/us/app/citizen-scientis...        ['EN']   \n",
       "42  https://apps.apple.com/us/app/zsl-instant-wild...        ['EN']   \n",
       "\n",
       "                                         platform_url            active  \\\n",
       "0                           https://www.anecdata.org/  Status code: 200   \n",
       "9                     https://thehappinessproject.app  Status code: 200   \n",
       "16                        https://www.iseechange.org/  Status code: 200   \n",
       "19                           http://www.csmon-life.eu  Status code: 200   \n",
       "21  http://www.natural-apptitude.co.uk/project/sea...  Status code: 404   \n",
       "23                      https://www.darkskymeter.com/  Status code: 200   \n",
       "25                  https://uwiseismic.com/myhaz-vct/  Status code: 200   \n",
       "28                           https://dawn-chorus.org/  Status code: 200   \n",
       "33  https://bigbutterflycount.butterfly-conservati...  Status code: 403   \n",
       "38                 https://www.natureboostproject.com  Status code: 200   \n",
       "42                       https://instantwild.zsl.org/  Status code: 200   \n",
       "\n",
       "    year_creation platform_about_url  \n",
       "0          2013.0               None  \n",
       "9             NaN               None  \n",
       "16         2013.0               None  \n",
       "19            NaN               None  \n",
       "21         2013.0               None  \n",
       "23         2013.0               None  \n",
       "25         2001.0               None  \n",
       "28         2020.0               None  \n",
       "33         1998.0               None  \n",
       "38         2024.0               None  \n",
       "42         1996.0               None  "
      ]
     },
     "execution_count": 24,
     "metadata": {},
     "output_type": "execute_result"
    }
   ],
   "source": [
    "df[df.platform_about_url.notnull()]"
   ]
  },
  {
   "cell_type": "code",
   "execution_count": 25,
   "id": "6d8de763",
   "metadata": {},
   "outputs": [],
   "source": [
    "# Fix manually about_links missing\n",
    "\n",
    "missing_platform_about = {\n",
    "    \"https://www.anecdata.org/\": \"https://www.anecdata.org/about\",\n",
    "    \"http://www.csmon-life.eu\": \"https://www.csmon-life.eu/pagina/progetto/18/About%20us\",\n",
    "    \"https://dawn-chorus.org/\": \"https://dawn-chorus.org/about-dawn-chorus/\",\n",
    "    \"https://bigbutterflycount.butterfly-conservation.org/\": \"https://bigbutterflycount.butterfly-conservation.org/about\",\n",
    "    \"https://instantwild.zsl.org/\": \"https://instantwild.zsl.org/about\",\n",
    "}\n",
    "\n",
    "# Keep original value if not in platforms_mapping dictionary\n",
    "df['platform_about_url'] = df.apply(\n",
    "    lambda row: missing_platform_about.get(row['platform_url'], row['platform_about_url']),\n",
    "    axis=1\n",
    ")"
   ]
  },
  {
   "cell_type": "code",
   "execution_count": 26,
   "id": "5d4860c4",
   "metadata": {},
   "outputs": [
    {
     "name": "stdout",
     "output_type": "stream",
     "text": [
      "<class 'pandas.core.frame.DataFrame'>\n",
      "RangeIndex: 45 entries, 0 to 44\n",
      "Data columns (total 9 columns):\n",
      " #   Column              Non-Null Count  Dtype  \n",
      "---  ------              --------------  -----  \n",
      " 0   name                45 non-null     object \n",
      " 1   developer           45 non-null     object \n",
      " 2   description         45 non-null     object \n",
      " 3   url                 45 non-null     object \n",
      " 4   language            45 non-null     object \n",
      " 5   platform_url        45 non-null     object \n",
      " 6   active              45 non-null     object \n",
      " 7   year_creation       41 non-null     float64\n",
      " 8   platform_about_url  39 non-null     object \n",
      "dtypes: float64(1), object(8)\n",
      "memory usage: 3.3+ KB\n"
     ]
    }
   ],
   "source": [
    "df.info()"
   ]
  },
  {
   "cell_type": "code",
   "execution_count": 27,
   "id": "dbb1b3e3",
   "metadata": {},
   "outputs": [],
   "source": [
    "df.to_csv(\"../data/ios_apps_platforms_test.csv\", index=False)"
   ]
  },
  {
   "cell_type": "code",
   "execution_count": 28,
   "id": "ad5b4b95",
   "metadata": {},
   "outputs": [],
   "source": [
    "df = pd.read_csv(\"../data/ios_apps_platforms_test.csv\")"
   ]
  },
  {
   "cell_type": "markdown",
   "id": "865c8d25",
   "metadata": {},
   "source": [
    "## extract text from url\n",
    "Not include this section, just links for first template."
   ]
  },
  {
   "cell_type": "code",
   "execution_count": null,
   "id": "358982a7",
   "metadata": {},
   "outputs": [],
   "source": [
    "# Extract text from about section\n",
    "import pandas as pd\n",
    "import requests\n",
    "from bs4 import BeautifulSoup\n",
    "from urllib.parse import urljoin\n",
    "\n",
    "def extract_text_from_url(url):\n",
    "    try:\n",
    "        if not url or pd.isna(url):  # Si la URL es None o NaN\n",
    "            return None\n",
    "        \n",
    "        headers = {\n",
    "            'User-Agent': 'Mozilla/5.0 (Windows NT 10.0; Win64; x64) AppleWebKit/537.36 (KHTML, like Gecko) Chrome/91.0.4472.124 Safari/537.36'\n",
    "        }\n",
    "        response = requests.get(url, headers=headers, timeout=10)\n",
    "        response.raise_for_status()  # Lanza error si la solicitud falla\n",
    "        \n",
    "        soup = BeautifulSoup(response.text, 'html.parser')\n",
    "        \n",
    "        # Eliminar scripts, estilos y otros elementos no deseados\n",
    "        for script in soup([\"script\", \"style\", \"nav\", \"footer\", \"head\", \"meta\", \"link\"]):\n",
    "            script.decompose()\n",
    "        \n",
    "        # Obtener texto y limpiar espacios en blanco\n",
    "        text = soup.get_text(separator=' ', strip=True)\n",
    "        \n",
    "        # Eliminar líneas vacías y múltiples espacios\n",
    "        text = ' '.join(text.split())\n",
    "        \n",
    "        return text if text else None\n",
    "    \n",
    "    except Exception as e:\n",
    "        print(f\"Error extrayendo texto de {url}: {str(e)}\")\n",
    "        return None"
   ]
  },
  {
   "cell_type": "code",
   "execution_count": null,
   "id": "87f351bb",
   "metadata": {},
   "outputs": [
    {
     "data": {
      "text/plain": [
       "\"Science for every body We run the world’s largest in-depth nutrition study, and we’ve turned our research into a personalized program that gives you insights into how your body responds to food. Discover our pioneering studies PREDICT encompasses a collection of rigorously designed clinical trials that have helped us to understand and predict personalized metabolic responses to foods so we can all move beyond a “one-size-fits-all” approach to nutrition. Through this research, we’ve developed an at-home test kit that can give everyone a better understanding of their unique metabolism and gut microbiome. View our studies Latest published research from the ZOE teams May 2024 Effects of a personalized nutrition program on cardiometabolic health: a randomized controlled trial METHOD (Measuring Efficacy THrough Outcomes of Diet) is a randomised controlled trial assessing the effectiveness of following ZOE’s personalised nutrition program, compared to standard care dietary advice, on cardiometabolic health. Our findings have been published in Nature Medicine. Read more October, 2022 Menopause is associated with postprandial metabolism, metabolic health and lifestyle: The ZOE PREDICT study The menopause transition is associated with unfavourable alterations in health. However, postprandial metabolic changes and their mediating factors are poorly understood. Read more 3rd July 2024 A diverse high-fibre plant-based dietary intervention improves gut microbiome composition, gut symptoms, energy and hunger in healthy adults: a randomised controlled trial The BIOME study investigated a simple dietary intervention containing 30+ whole-food ingredients, with a 6-week, parallel design randomised controlled trial in 349 healthy adults in the UK. Read more View all research updates & papers ZOE SCIENTISTS AND SCIENTIFIC ADVISORY BOARD Meet the people behind our ground-breaking research Tim Spector, MD FRCP FRSB Professor of Genetic Epidemiology King’s College London, UK Sarah Berry, PhD Associate Professor, Department of Nutritional Sciences King’s College London, UK Will Bulsiewicz MD MSCI Board Certified Gastroenterologist Andrew T. Chan, MD MPH Professor of Medicine, Harvard Medical School & Chief of Clinical and Translational Epidemiology Unit Massachusetts General Hospital, USA Felice Jacka, PhD MD Professor of Nutritional Psychiatry & Director of the Food & Mood Centre Deakin University, Australia Ana Valdes, PhD Professor in Genetic and Molecular Epidemiology University of Nottingham, UK Christopher Gardner, PhD Rehnborg Farquhar Professor of Medicine Stanford University, USA Javier Gonzalez, PhD Reader in Human Metabolism University of Bath, UK Linda M Delahanty, MS RDN Associate Professor of Medicine Massachusetts General Hospital & Harvard Medical School, USA Meet the rest of the team We're committed to bringing our groundbreaking science to the world We’re proud that our studies include people of all ethnicities, sexes, and backgrounds, as the heart of ZOE's approach is the belief that we need to replace “one-size-fits-all” guidance with personalized approaches. ZOE Personalized Nutrition More than 120,000 people discovering exactly how food affects their body. ZOE Health Study Millions of people contributing to advance health science at speed. ZOE Science & Nutrition The no. 1 nutrition podcast in the UK, with 14 million downloads so far. Featured In EXPLORE ZOE Stay up to date with ZOE Submit You'll receive our ongoing science and nutrition emails, plus news and offers. Podcast Listen to the #1 health podcast in the UK Daily30+ Add a scoop of ZOE science to your plate MenoScale Make sense of your menopause symptoms. Get your score. Follow us Company About us Careers Terms of Service Privacy policy Cookie policy Cookie preferences Resources Help Blog Research updates ZOE Health Study © 2025 ZOE Limited\""
      ]
     },
     "execution_count": 22,
     "metadata": {},
     "output_type": "execute_result"
    }
   ],
   "source": [
    "extract_text_from_url(\"https://joinzoe.com/about-zoe\")"
   ]
  },
  {
   "cell_type": "code",
   "execution_count": null,
   "id": "7c1cc4a7",
   "metadata": {},
   "outputs": [
    {
     "data": {
      "text/plain": [
       "\"Science for every body We run the worlds largest in-depth nutrition study, and weve turned our research into a personalized program that gives you insights into how your body responds to food. Discover our pioneering studies PREDICT encompasses a collection of rigorously designed clinical trials that have helped us to understand and predict personalized metabolic responses to foods so we can all move beyond a one-size-fits-all approach to nutrition. Through this research, weve developed an at-home test kit that can give everyone a better understanding of their unique metabolism and gut microbiome. View our studies Latest published research from the ZOE teams May 2024 Effects of a personalized nutrition program on cardiometabolic health: a randomized controlled trial METHOD (Measuring Efficacy THrough Outcomes of Diet) is a randomised controlled trial assessing the effectiveness of following ZOEs personalised nutrition program, compared to standard care dietary advice, on cardiometabolic health. Our findings have been published in Nature Medicine. Read more October, 2022 Menopause is associated with postprandial metabolism, metabolic health and lifestyle: The ZOE PREDICT study The menopause transition is associated with unfavourable alterations in health. However, postprandial metabolic changes and their mediating factors are poorly understood. Read more 3rd July 2024 A diverse high-fibre plant-based dietary intervention improves gut microbiome composition, gut symptoms, energy and hunger in healthy adults: a randomised controlled trial The BIOME study investigated a simple dietary intervention containing 30+ whole-food ingredients, with a 6-week, parallel design randomised controlled trial in 349 healthy adults in the UK. Read more View all research updates & papers ZOE SCIENTISTS AND SCIENTIFIC ADVISORY BOARD Meet the people behind our ground-breaking research Tim Spector, MD FRCP FRSB Professor of Genetic Epidemiology Kings College London, UK Sarah Berry, PhD Associate Professor, Department of Nutritional Sciences Kings College London, UK Will Bulsiewicz MD MSCI Board Certified Gastroenterologist Andrew T. Chan, MD MPH Professor of Medicine, Harvard Medical School & Chief of Clinical and Translational Epidemiology Unit Massachusetts General Hospital, USA Felice Jacka, PhD MD Professor of Nutritional Psychiatry & Director of the Food & Mood Centre Deakin University, Australia Ana Valdes, PhD Professor in Genetic and Molecular Epidemiology University of Nottingham, UK Christopher Gardner, PhD Rehnborg Farquhar Professor of Medicine Stanford University, USA Javier Gonzalez, PhD Reader in Human Metabolism University of Bath, UK Linda M Delahanty, MS RDN Associate Professor of Medicine Massachusetts General Hospital & Harvard Medical School, USA Meet the rest of the team We're committed to bringing our groundbreaking science to the world Were proud that our studies include people of all ethnicities, sexes, and backgrounds, as the heart of ZOE's approach is the belief that we need to replace one-size-fits-all guidance with personalized approaches. ZOE Personalized Nutrition More than 120,000 people discovering exactly how food affects their body. ZOE Health Study Millions of people contributing to advance health science at speed. ZOE Science & Nutrition The no. 1 nutrition podcast in the UK, with 14 million downloads so far. Featured In\""
      ]
     },
     "execution_count": 23,
     "metadata": {},
     "output_type": "execute_result"
    }
   ],
   "source": [
    "import requests\n",
    "from bs4 import BeautifulSoup\n",
    "import pandas as pd\n",
    "import time\n",
    "import re\n",
    "from requests.adapters import HTTPAdapter\n",
    "from urllib3.util.retry import Retry\n",
    "\n",
    "\n",
    "def extract_main_content(url):\n",
    "    \"\"\"\n",
    "    Extracts the main content of an About page\n",
    "\n",
    "    Args:\n",
    "        url: URL of the About page\n",
    "\n",
    "    Returns:\n",
    "        str: Extracted main text or error message\n",
    "    \"\"\"\n",
    "    # Configure session with retries\n",
    "    session = requests.Session()\n",
    "    retry_strategy = Retry(\n",
    "        total=3,\n",
    "        backoff_factor=1,\n",
    "        status_forcelist=[429, 500, 502, 503, 504],\n",
    "    )\n",
    "    adapter = HTTPAdapter(max_retries=retry_strategy)\n",
    "    session.mount(\"http://\", adapter)\n",
    "    session.mount(\"https://\", adapter)\n",
    "    \n",
    "    # Headers para simular un navegador real\n",
    "    session.headers.update({\n",
    "        'User-Agent': 'Mozilla/5.0 (Windows NT 10.0; Win64; x64) AppleWebKit/537.36 (KHTML, like Gecko) Chrome/91.0.4472.124 Safari/537.36'\n",
    "    })\n",
    "    \n",
    "    try:\n",
    "        # Check if the URL is valid\n",
    "        if pd.isna(url) or url == '' or not str(url).startswith(('http://', 'https://')):\n",
    "            return None\n",
    "        \n",
    "        # Make request with timeout\n",
    "        response = session.get(url, timeout=10)\n",
    "        response.raise_for_status()\n",
    "        \n",
    "        soup = BeautifulSoup(response.content, 'html.parser')\n",
    "        \n",
    "        # Delete elements we don't want\n",
    "        remove_unwanted_elements(soup)\n",
    "        \n",
    "        # Search main content\n",
    "        main_content = find_main_content(soup)\n",
    "        \n",
    "        if main_content:\n",
    "            # Clean and format text\n",
    "            text = clean_text(main_content.get_text(separator=' ', strip=True))\n",
    "            return text\n",
    "        else:\n",
    "            return \"The main content could not be extracted\"\n",
    "            \n",
    "    except requests.exceptions.RequestException as e:\n",
    "        return f\"Error accessing the URL: {str(e)}\"\n",
    "    except Exception as e:\n",
    "        return f\"Error processing page: {str(e)}\"\n",
    "\n",
    "def remove_unwanted_elements(soup):\n",
    "    \"\"\"\n",
    "    Remove unwanted elements such as footers, navigation, etc.\n",
    "    \"\"\"\n",
    "    from bs4 import Comment, NavigableString\n",
    "    \n",
    "    # Selectors of elements to delete\n",
    "    unwanted_selectors = [\n",
    "        'footer', 'nav', 'header', '.footer', '.navigation', \n",
    "        '.nav', '.menu', '.sidebar', '.ads', '.advertisement',\n",
    "        '.cookie', '.popup', '.modal', '.social-media',\n",
    "        '.share', '.comments', '.related', '.recommended',\n",
    "        'script', 'style', 'noscript', 'iframe'\n",
    "    ]\n",
    "    \n",
    "    for selector in unwanted_selectors:\n",
    "        for element in soup.select(selector):\n",
    "            element.decompose()\n",
    "    \n",
    "    # Delete HTML comments\n",
    "    for comment in soup.find_all(string=lambda text: isinstance(text, Comment)):\n",
    "        comment.extract()\n",
    "    \n",
    "    # Remove common text in footers\n",
    "    footer_texts = ['copyright', '©', 'all rights reserved', 'privacy policy', 'terms of service']\n",
    "    for element in soup.find_all(string=True):\n",
    "        # Solo procesar NavigableString que no sean comentarios\n",
    "        if (isinstance(element, NavigableString) and \n",
    "            not isinstance(element, Comment) and\n",
    "            hasattr(element, 'parent') and \n",
    "            element.parent and \n",
    "            hasattr(element.parent, 'name') and\n",
    "            element.parent.name):\n",
    "            \n",
    "            try:\n",
    "                if any(footer_text in element.lower() for footer_text in footer_texts):\n",
    "                    # Solo eliminar si es un elemento pequeño (likely footer)\n",
    "                    if len(element.strip()) < 200:\n",
    "                        parent = element.parent\n",
    "                        if parent and parent.name in ['div', 'span', 'p', 'footer']:\n",
    "                            parent.decompose()\n",
    "            except (AttributeError, TypeError):\n",
    "                # Si hay algún error, simplemente continuar\n",
    "                continue\n",
    "\n",
    "def find_main_content(soup):\n",
    "    \"\"\"\n",
    "    Find the main content using different strategies\n",
    "    \"\"\"\n",
    "    # Find elements with common main content selectors\n",
    "    main_selectors = [\n",
    "        'main', 'article', '.main-content', '.content', '.main',\n",
    "        '.about-content', '.page-content', '.post-content',\n",
    "        '[role=\"main\"]', '.container .row', '.wrapper'\n",
    "    ]\n",
    "    \n",
    "    for selector in main_selectors:\n",
    "        main_element = soup.select_one(selector)\n",
    "        if main_element and has_substantial_text(main_element):\n",
    "            return main_element\n",
    "    \n",
    "    # Find the div with the most text\n",
    "    divs = soup.find_all('div')\n",
    "    best_div = None\n",
    "    max_text_length = 0\n",
    "    \n",
    "    for div in divs:\n",
    "        text_length = len(div.get_text().strip())\n",
    "        if text_length > max_text_length and text_length > 200:  # Mínimo 200 caracteres\n",
    "            max_text_length = text_length\n",
    "            best_div = div\n",
    "    \n",
    "    if best_div:\n",
    "        return best_div\n",
    "    \n",
    "    # Use full body as a last resort\n",
    "    return soup.find('body')\n",
    "\n",
    "def has_substantial_text(element):\n",
    "    \"\"\"\n",
    "    Checks if an element has enough text\n",
    "    \"\"\"\n",
    "    text = element.get_text().strip()\n",
    "    return len(text) > 100  # Mínimo 100 caracteres\n",
    "\n",
    "def clean_text(text):\n",
    "    \"\"\"\n",
    "    Clean and format the extracted text\n",
    "    \"\"\"\n",
    "    # Normalize whitespace but preserve structure\n",
    "    text = re.sub(r'\\s+', ' ', text)\n",
    "    \n",
    "    # Remove multiple empty lines\n",
    "    text = re.sub(r'\\n\\s*\\n', '\\n\\n', text)\n",
    "    \n",
    "    # Clean special characters but keep spaces\n",
    "    # Only remove problematic characters\n",
    "    text = re.sub(r'[^\\w\\s\\.\\,\\;\\:\\!\\?\\-\\(\\)\\[\\]\\{\\}\\\"\\'\\/\\@\\#\\$\\%\\&\\*\\+\\=\\<\\>\\n]', '', text)\n",
    "    \n",
    "    # Ensure spaces after semicolons\n",
    "    text = re.sub(r'([.!?])([A-Z])', r'\\1 \\2', text)\n",
    "    \n",
    "    return text.strip()\n",
    "\n",
    "extract_main_content(\"https://joinzoe.com/about-zoe\")"
   ]
  },
  {
   "cell_type": "code",
   "execution_count": null,
   "id": "7ef0cff7",
   "metadata": {},
   "outputs": [],
   "source": [
    "df['platform_about'] = df['platform_about_url'].apply(extract_main_content)"
   ]
  },
  {
   "cell_type": "code",
   "execution_count": null,
   "id": "30635fee",
   "metadata": {},
   "outputs": [
    {
     "data": {
      "application/vnd.microsoft.datawrangler.viewer.v0+json": {
       "columns": [
        {
         "name": "index",
         "rawType": "int64",
         "type": "integer"
        },
        {
         "name": "platform_about",
         "rawType": "object",
         "type": "unknown"
        }
       ],
       "ref": "104ebc1a-1c8a-4d5c-9a63-f8fea81c0469",
       "rows": [
        [
         "0",
         ""
        ],
        [
         "1",
         "Science for every body We run the worlds largest in-depth nutrition study, and weve turned our research into a personalized program that gives you insights into how your body responds to food. Discover our pioneering studies PREDICT encompasses a collection of rigorously designed clinical trials that have helped us to understand and predict personalized metabolic responses to foods so we can all move beyond a one-size-fits-all approach to nutrition. Through this research, weve developed an at-home test kit that can give everyone a better understanding of their unique metabolism and gut microbiome. View our studies Latest published research from the ZOE teams May 2024 Effects of a personalized nutrition program on cardiometabolic health: a randomized controlled trial METHOD (Measuring Efficacy THrough Outcomes of Diet) is a randomised controlled trial assessing the effectiveness of following ZOEs personalised nutrition program, compared to standard care dietary advice, on cardiometabolic health. Our findings have been published in Nature Medicine. Read more October, 2022 Menopause is associated with postprandial metabolism, metabolic health and lifestyle: The ZOE PREDICT study The menopause transition is associated with unfavourable alterations in health. However, postprandial metabolic changes and their mediating factors are poorly understood. Read more 3rd July 2024 A diverse high-fibre plant-based dietary intervention improves gut microbiome composition, gut symptoms, energy and hunger in healthy adults: a randomised controlled trial The BIOME study investigated a simple dietary intervention containing 30+ whole-food ingredients, with a 6-week, parallel design randomised controlled trial in 349 healthy adults in the UK. Read more View all research updates & papers ZOE SCIENTISTS AND SCIENTIFIC ADVISORY BOARD Meet the people behind our ground-breaking research Tim Spector, MD FRCP FRSB Professor of Genetic Epidemiology Kings College London, UK Sarah Berry, PhD Associate Professor, Department of Nutritional Sciences Kings College London, UK Will Bulsiewicz MD MSCI Board Certified Gastroenterologist Andrew T. Chan, MD MPH Professor of Medicine, Harvard Medical School & Chief of Clinical and Translational Epidemiology Unit Massachusetts General Hospital, USA Felice Jacka, PhD MD Professor of Nutritional Psychiatry & Director of the Food & Mood Centre Deakin University, Australia Ana Valdes, PhD Professor in Genetic and Molecular Epidemiology University of Nottingham, UK Christopher Gardner, PhD Rehnborg Farquhar Professor of Medicine Stanford University, USA Javier Gonzalez, PhD Reader in Human Metabolism University of Bath, UK Linda M Delahanty, MS RDN Associate Professor of Medicine Massachusetts General Hospital & Harvard Medical School, USA Meet the rest of the team We're committed to bringing our groundbreaking science to the world Were proud that our studies include people of all ethnicities, sexes, and backgrounds, as the heart of ZOE's approach is the belief that we need to replace one-size-fits-all guidance with personalized approaches. ZOE Personalized Nutrition More than 120,000 people discovering exactly how food affects their body. ZOE Health Study Millions of people contributing to advance health science at speed. ZOE Science & Nutrition The no. 1 nutrition podcast in the UK, with 14 million downloads so far. Featured In"
        ],
        [
         "2",
         "Lets protect and enjoy our natural world together Get the latest in Leave No Trace eNews in your inbox so you can stay informed and involved. First Name Last Name Email SIGN UP Facebook Instagram Threads Youtube Linkedin About En Español Areas of Focus Brand Usage Contact Us General FAQs Meet the Traveling Teams Meet Our Ambassadors Shop Give Become a Member Membership FAQs Become a Partner Partner Resources Get Involved Events Blog Volunteer Careers Site Translation: English 中文 (简体) हद Français العربية Português Español Leave No Trace Center for Outdoor Ethics P. O. Box 997 Boulder, CO 80306 303-442-8222 Terms of Use  Privacy Policy  Sharing the Outdoors Terms of Use  Privacy Policy Sharing the Outdoors"
        ],
        [
         "3",
         "Observations (Total  24h): -  - Species (24h): - Users (24h): - Average Response Time (Today): - Average Audio Length (Today): - Requests today of different projects (Total  Failed  Incomplete):"
        ],
        [
         "4",
         "GLOBE Breadcrumb About About GLOBE Observer GLOBE Observer supports an international network of citizen scientists and scientists working together to learn more about our shared environment. To participate, just download the GLOBE Observer app and submit regular observations. The GLOBE Observer app currently accepts observations of Clouds, Mosquito Habitats, LandCover, and Trees with possible expansion to other types of data in the future. Clouds observations help NASA scientists understand clouds from below (the ground) and above (from space). Clouds play an important role in transferring energy from the Sun to different parts of the Earth system. Since clouds can change rapidly, frequent observations from citizen scientists can help complete the scientific picture. Mosquito Habitat Mapper makes it possible for citizen scientists to observe, record and share the locations where potential disease vectors are breeding. The data are important to scientists who are using satellite data and computer models to predict disease outbreaks and epidemics. The thousands of observations provided by citizen scientists will make it possible to track the range and spread of invasive mosquitoes that can potentially be a health hazard for communities. Land Cover enables citizen scientists to photograph the landscape, identify the kinds of land cover they see (trees, grass, etc.), and then match their observations to satellite data. Citizen scientists can also share their knowledge of the land and how it has changed. Scientists need detailed and regularly updated land cover maps because land cover is critical to many different processes on Earth and contributes to a communitys vulnerability to disasters like fire, floods or landslides. Trees observations allows citizen scientists to measure tree height (and optionally tree circumference) to track the growth of trees over time. Tree height is the most widely used indicator of a environments ability to grow trees. Observing tree height allows NASA scientists to understand the gain or loss of biomass which can inform calculations of the carbon that trees and forests either take in from or release into the atmosphere. Since GLOBE Observer is part of the Global Learning and Observations to Benefit the Environment (GLOBE) Program , citizen scientists are also providing data for student research, strengthening science education. Internationally, GLOBE is implemented through bilateral agreements between the U. S. government and governments of partner nations. (See a list of GLOBE countries .) In the United States, the National Aeronautics and Space Administration is the lead agency and signs the GLOBE agreements. In GLOBE countries, typically, the Ministry of Education, Environment or Science are the implementing entities and the signatories of GLOBE agreements. Schools, organizations and individuals in non-GLOBE countries are encouraged to contact someone from the appropriate Ministry in their countries regarding their interest in participating in The GLOBE Program. about right rail"
        ],
        [
         "5",
         "A platform to disrupt and democratize health research. Vision A world where doing scientifically valid health research is as fast and easy as creating a website, with the same global reach. Mission To inspire the world to measure and discover what it means to be healthy. Meet the Founders Eesmyal Santos-Brault Cofounder, CEO Follow us on LinkedIn Follow us on Instagram Kalin Harvey Cofounder, CTO Follow us on LinkedIn Follow us on Instagram"
        ],
        [
         "6",
         "About Spotfire Spotfire pioneers a visual-first approach to data science With a refined suite of products, Spotfire is transforming the ABI and DSML space with visual data science: Spotfire Analytics for intuitive data exploration Spotfire Data Science for predictive modeling and machine learning Spotfire Enterprise for large-scale analytics, automation, and governance Spotfire goes beyond basic rearview dashboards to offer a single visual analytics platform for data exploration and real-time decisions, combining data wrangling, visualization, modeling, and predictive analytics in a single, collaborative platform. Today, Spotfire empowers businesses to conquer complex challenges with unparalleled efficiency and accuracy through visual data science. Trusted by leading organizations worldwide, Spotfire helps teams accelerate discovery, scale impact, and unlock the full value of their data. Since 1991, the amount of data and the importance of self-service analytics has grown by leaps and bounds, but the goal of Spotfire has remained the same: to give users the ability to ask and answer questions of their data at the speed of thought. Scroll below to learn more about Spotfire's history. 2023 Your browser does not support HTML5 video. Here is a direct link to the demonstration video instead. Spotfire gets back to its roots In September 2022, Vista Equity Partners and Evergreen Coast Capital acquired Citrix Systems and combined it with TIBCO Software, forming Cloud Software Group. In May 2023, Spotfire split out from TIBCO into its own stand-alone business unit. With a new headquarters in Göteborg, Sweden, Spotfire is getting back to its roots while focusing on the future of business intelligence and analytics. 2007 Spotfire acquired by TIBCO Software TIBCO bought Spotfire for a reported $190 million with the goal of increasing its BI and AI offerings. Three years later, in 2011, TIBCO launched Spotfire 4.0 with Microsoft SharePoint integration. In 2018, Spotfire X launches, incorporating natural language query (NLQ) powered search, AI-driven recommendations, and model-based processing. 1996 Spotfire launches with great success Ahlberg pulled together a group of friends and some venture capital to start a company. IVEE Development, later named Spotfire Inc, launched in mid-1996. Shneiderman participated in the formation of Spotfire and was on its Board of Directors until 2001. The business intelligence company had a development center in Göteborg, Sweden and a North American headquarters in Cambridge, Massachusetts. Under Ahlbergs direction, the company grew to 200 people. During this time, the HCIL-inspired Spotfire product was used mostly by pharmaceutical companies for drug discovery and genomic data analysis. Users were just beginning to discover its ability to help in business analysis for oil & gas discovery, manufacturing control, marketing, supply chain management, and financial analysis. 1991 It all started in the classroom Spotfire was founded by Christopher Ahlberg and Ben Shneiderman to develop applications of dynamic queries in the early 1990s. Ahlberg created Spotfire based on his research on information visualization at the University of Maryland Human Computer Interaction Lab (HCIL) under the guidance of Shneiderman. Ahlberg was visiting from Sweden over the summer. They developed dynamic queries sliders with multiple coordinated displays, which made up the basis of Spotfire. The goal was to give business users a fast, interactive, and visual way to explore large datasets without having to manually issue queries to a database. Ahlberg returned to Sweden to work on his PhD on Dynamic Queries at Chalmers University. He developed an enhanced UNIX implementation of his visual data analysis tool, called IVEE (Information Visualization and Exploration Environment). IVEE was flexible in reassigning the axes to other attributes and had a scroll bar to permit large numbers of sliders. It allowed importation of arbitrary flat files and was applied in many projects, including a youth services database for the State of Maryland's Department of Juvenile Justice. Get started with Spotfire Try now Contact us"
        ],
        [
         "7",
         "Why do most mental health problems arise during adolescence? And how is this related to brain development? Download the Brain Explorer app now and help us to understand how the brain works! https://brainexplorer.net/wp-content/uploads/2020/11/BE_movie.mp4 Play fun games to help us understand the brain Be a space explorer, travel through the universe and help us solve fun puzzles! Win medals, find your brain strength, and compete with your friends! multi-lingual Brain Explorer is available in 7 languages : English, German, Portuguese, Russian, Danish, Bulgarian, and Chinese research data In Brain Explorer, we have already collected over 1,000,000 decisions fronm over 10,000 users that help us understand how the brain works. world-wide Brain Explorer has users in over 100 countries world-wide. news-worthy Brain Explorer has been covered by many prestigious international media outlets in the UK, France, USA, India, etc . For more information, see our media section . Our games are based on the latest insights from brain research. And while you play, you will help our research! The Games Milky Way Find the best place to buy goods on the busy outerspace market, but beware the space pirates! This game investigates how you learn and decide. Scavenger As a scavenger you will exploit abandoned spaceships on a deserted planet. Are you taking risks and bet on the big win? This game tests your risk-taking skills. Space Observer As a space observer, you will help us to discover new planets and find out which aliens live there. This games tests how quick your perception is. Treasure Hunt As a space miner you will explore foreign planets and need to find the best treasure hidden on each one. This game tests how decisive you are. What do we research? We are interested how our brains develop during adolescence and throughout our lifetimes. We want to understand why most mental health problems, such as obsessive-compulsive disorder (OCD), emerge during adolescence. By playing the games on our app, you will help us to understand how different brain mechanisms influence how we think and feel. This will allow us to better understand how brain processes are linked to mental health problems and may help to find new treatments. How do we analyse your data? This is a citizen science project. This means that everyone can take part and contribute valuable information for our research. We will use statistics, computer models and machine learning to analyse the information from the app and to investigate the brain mechanisms underlying our behaviours. This will allow us to find new and important associations between the brain and mental health. Who can take part? Everyone aged 9 years or older is invited to take part! The games are fun for all ages and everyone who plays will help us to understand how the brain works! If you are below 16, then we will ask your parents or guardians to let us know that they are happy for you to play our games. What will happen with your data? Privacy is very important to us. Please rest assured that all your data is completely anonymised  which means we do not know who you are and we cannot find out. We will only use your data for research purposes here at University College London. We will not use your data for any commercial purposes. We are only collecting the data you are willing to share with us. We are not collecting any passive data (such as GPS location or what you do on other apps). You can always opt out from data collection and/or request to delete your data. However, you will then no longer be able to help us with our research. For all details, please see the Privacy Notice below. Privacy Notice Want to know more? Do you have more questions about our research or the app? Or do you have some feedback for us? Please get in touch! You can contact us via the form below. You can also find more about our research on our lab website: Lab website Want to help more? Do you want to participate in more of our brain research studies? Get in touch with us below and we can discuss your involvement in our lab studies. Participate The Brain Explorer App is a fantastic tool for neuroscientific and psychological research in decision-making. The app has enabled us to get high quality data from hundreds of participants in a very short amount of time. Our participants report that it is easy to use, and even fun! Micah A., Neuroscientist Mega cool, die Studie in einer App zu verpacken! :) anonymous user I love this app. I downloaded it as a citizen science project for my school. I am very fascinated by psychology and found everything about this app so interesting. I played all the games, and took all the surveys. Emily On the whole [...], the games are fun and not overly long. The app itself is charming, bright and calming, and I've not only enjoyed my time with Brain Explorer but will return to it. anonymous user Galactically cool games! Alisa L. Frequently Asked Questions (FAQ) I am stuck and the app will not allow me to finish the sign-up It can be that the app sometimes gets stuck when you first log in. It may happen that you cannot see the consent form or you cannot move forward when consenting. This is happening if the internet connection is poor. Please simply close and re-open the app, and it should work fine. If the problem persists, please get in touch with us (info [at] brainexplorer.net), and we will help you solve the problem. How do I upload my data for research? You dont have to do anything actively to upload you data. As long as you have an internet connection, we will receive your anonymous data plays automatically. However, if you have not consented to sharing your data when you signed up, or if you have withdrawn consent, then we will not receive your data. You can check this under Profile > Settings > Participate in Experiment should be switched on. You can change this at any time. How often do I need to play each game / fill out each questionnaire As often as you want and enjoy! Every time you play you help us to better understand the brain. If you play each game and questionnaire once, this is already great! If you are up for it, you can play all of them more them once and you can try to beat your current high score. The more often you play the games, the more stars you get and the higher you can move up in the ranks  have you reached the Space Lord level yet? I am colour blind - can I still take part? Yes! We have tried to choose colours that are dissociable even for people with colourblindness. However, in some games (esp. Space Observers), this may sometimes be more tricky. We have thus developed algorithms that automatically adjust the difficulty of the task, so that everyone can enjoy the games. Some aliens in Space Observer are easier do detect than others Yes, some aliens may be easier to detect than others. This also depends on the phone type and your screen settings, which makes it difficult to have them exactly the same. However, we use an automatic algorithm that adjusts the difficulty of the game, and which controls for differences in the aliens colours. I like Brain Explorer - how can I further support it? We are really excited about all the positive feedback that we receive from our users, thank you so much! By playing our games and filling out our questionnaires, you already greatly help us and contribute to our research. If you want to help us further, then please feel free to leave a good rating for our app in the App Store. Moreover, we would be most grateful if you could share our app with your friend and family, and on Facebook , Twitter or other social media. Everybody is welcome to contribute to our research and we greatly appreciate your support! How are the brain scores in the games calculated? This depends on the game. In some games, this is simply the number of points you have gathered throughout the entire game. In some games, we assess how well you perform and compare it to how others perform. Please note that some of the games include an element of luck (e.g., the gambling in the Scavenger game). It can thus be that you played perfectly well, but because of bad luck you did not win that many points. Dont give up  just play it again! Why do I get no feedback on the questionnaires? In our questionnaires, we ask you about your feelings, behaviours, and worries. Even though these are standardised scales to capture different aspects of mental health and personality, they are not valid as clinical measures. If you think you may struggle with a specific mental health problem, then please speak to a mental health professional or your general practicioner. They can help you and assess whether you suffer from a mental health illness What happens with the research findings? Where can I find out more about them? We will publish our research findings in peer-reviewed academic journals. This means that other scientists will carefully look at our findings and examine them before they get published in academic magazines. This can take up to several years. Once we have our first findings, we will let you know on this website, on Twitter , and on our lab website . If you follow us, you will be the first to know what we have found out! How can I provide feedback to this app? There are different ways you can get in touch with us: If you want to provide anonymous feedback about the app, then you can simply use the Feedback button in the Profile section. We will receive your feedback, but dont know who sent it, so we cannot respond If you want to talk to us directly, then please send us a message either via the contact form below, or via feedback [at] brainexplorer.net. It may take a few days until we will respond. If you like the Brain Explorer app, please leave a rating on the Android Play Store or the Apple App Store . We very much appreciate this. The Researchers Developmental Computational Psychiatry Lab The Developmental Computational Psychiatry lab is based at University College London (UCL). The lab aims to understand why so many psychiatric disorders arise during adolescence, and how this is related to problems with brain development. We combine brain imaging techniques and mathematical models to understand how the brain develops and how it goes awry and lead to mental health problems. The app was developed by Dr Vasilisa Skvortsova and Dr Tobias Hauser. More info... The Developers THKP, LLC The Brain Explorer app was programmed by THKP, LLC. THKP is a small engineering shop specializing in building mobile and web apps. It comprises Jon Bedard and Matt Keller. More info... This work has been made possible by our funders: Our researchers are based here: In the Media Interested what the Media report about Brain Explorer? Read here: Exploring By The Seat Of Your Pants The Conversation BOLD Blog Hindustan Times Nachgeforscht New Scientist Get in touch Any questions, feedback, suggestions? Please drop us a line below"
        ],
        [
         "8",
         "DE EN You are here: SPOTTERON Citizen Science  About Services Since 2014, SPOTTERON is providing Citizen Science Apps and Services for science projects and institutions with a strong focus on design, technical professionality, reliability and user interaction. Trusted by universities, institutions and stakeholders across Europe and beyond, we are creating custom digital solutions for science and Citizen Science Applications along with Project Websites and advanced tools for Data Analysis and Data Visualization. Our long term experience in design, media and web technologies comes together with our focus on innovation for science communication and interactive Citizen Science Apps. WHAT WE DO Citizen Science Apps & Observatories With the SPOTTERON Citizen Science Platform (www.spotteron.net) we offer a customizable and affordable system for applications in the areas of Citizen Science, environmental protection and volunteer monitoring. In cooperation with research projects, we develop independent smartphone apps for Android and IOS, interactive applications for browsers such as map applications or citizen science games, and provide a stable and reliable platform for projects. Read more about Citizen Science Apps & Observatories Interactive Science Games Games and gamification elements can be a practical tool for science communication, data analysis and to reach out to new groups. We create custom game apps for science projects and museum exhibtions to immerse visitors and participants and provide a modern learning experience. Read more about Interactive Science Games Webdesign for Science Sites & Hubs Having a professional website for science projects, exhibitions or portals is a very important part in a modern online world. Modern websites and hubs are always based on a content management system (CMS) to allow project admins to easily create new content and to have modern features ready like sliders, overview pages and more. Read more about Webdesign for Science Sites & Hubs Science Media We are a visual species. To communicate ideas, present results, promote projects or visualize scientic topics we provide services for professional media production and print design. Read more about Science Media Made with  in Europe"
        ],
        [
         "9",
         null
        ],
        [
         "10",
         "About Faunawatch has been committed to animal welfare and the protection of (endangered) species since 2012. Through national and international projects in the field of education and wildlife research, we tackle problems at the grassroots level so that we can implement sustainable and well-founded solutions. The coming period, we will particularly focus on the care of dumped and neglected tortoises and turtles and our international education projects. In the Netherlands, an estimated 200,000 turtles have been dumped in the wild. These pose a threat to local flora and fauna and often die a slow starvation death. In 2020, we therefore started to look into tortoise and turtle sanctuaries. Since, contrary to what people often think, turtles are not easy animals to keep and the legislation regarding the shelter of invasive species, such as the pond slider, is very extensive, there are very few turtle shelters in the Netherlands. However, the demand for shelters is huge. After extensive preparations, we started the search for a suitable location, writing protocols and applying for the right permits in 2021. The actual construction of the shelter finally started in 2022. The shelter was officially opened in October of the same year, although the first turtles were already being cared for. Because over 95% of the turtles that are registered have abnormalities or are sick due to poor nutrition and housing, the turtles require a lot of individual care. Therefore, we have chosen to focus entirely on tortoise and turtle care (for now). Besides the tortoise and turtle sanctuary, we do remain active in the field of education. As education is crucial for creating support for positive changes for animals, nature and the environment, this continues to be our focus. We work exclusively with specialised volunteers, so that we have in-house knowledge and all funds can be used directly for our projects. Volunteers can learn from each other, become more experienced and use the volunteering as an internship. Do you want to use your knowledge and skills for the protection of unique animal species? Click here and see how you can help us! On the left Tim Huijsmans (President), in the middle Gaston Huijsmans (Vice-President) and on the right Ivi Huijsmans (Secretary)."
        ],
        [
         "11",
         "Wildlife Acoustics creates the worlds leading wildlife acoustic monitoring tools, specially designed to help scientists make impactful discoveries that expand our understanding of this biologically diverse planet. A passionate and innovative group of technologists, operational experts, wildlife enthusiasts and conservationists, we have a zeal for helping our customers succeed in their research understanding their needs and creating wildlife audio recording and analysis tools specially designed to help them conduct research across the globe. Our Mission To make the scientific discoveries of tomorrow, we push the envelope of technology today. To help scientists conduct biological research in a world facing unprecedented change, we create tools to help them effectively and efficiently make discoveries that positively affect the environment. Dedicated to empowering scientists with the tools needed to uncover and study our planets rich biodiversity, Wildlife Acoustics creates reliable, intuitive, affordable wildlife monitoring tools  from recording hardware to analysis software. Were constantly listening to our users needs to improve our offerings, helping them turn sound into discovery, and insights into impact. The Wildlife Acoustics Difference A Wildlife Acoustics product is not merely a purchase  its an investment. Our relationship doesnt end at checkout. Thats where it begins. Were here to support you all the way, from deployment to conclusion to your next project. From our comprehensive suite of online resources and full-time support staff to our in-person trainings and beyond, Wildlife Acoustics is dedicated to ensuring you get the most out of our partnership. Supporting Links Legal Documentation Warranties Accessibility Statement Authorized Resellers Resources Blog Virtual Trainings Tutorial Videos User Guides Find Your Recorder Quiz Company About Us Contact Us Social facebook icon instagram icon youtube icon linkedin icon US OFFICE +1 (888) 733-0200 INTERNATIONAL CALLS +1 (978) 369-5225 EMAIL sales2025@wildlifeacoustics.com ADDRESS 3 Mill and Main Place, Suite 110, Maynard, MA 01754-2657 USA facebook icon instagram icon youtube icon linkedin icon @ Wildlife Acoustics 2024 Privacy Policy Terms of Use Warranties"
        ],
        [
         "12",
         "About the Zooniverse Section About the Zooniverse Zooniverse Logo Our Mission \" The wisdom of the crowd \" The Zooniverse is the world's largest and most popular platform for people-powered research. This research is made possible by volunteersmillions of people around the world who come together to assist professional researchers. Our goal is to enable research that would not be possible, or practical, otherwise. Zooniverse research results in new discoveries, datasets useful to the wider research community, and many publications . Anyone can be a researcher You don't need any specialized background, training, or expertise to participate in Zooniverse projects. We make it easy for anyone to contribute to real academic research, on their own computer, at their convenience. You'll be able to study authentic data gathered by researchers, like images of faraway galaxies, historical records and diaries, or videos of animals in their natural habitats. By participating in projects, you'll help contribute to our understanding of the world, the universe, and more. With our wide-ranging and ever-expanding suite of projects, which cover many disciplines and topics across the sciences and humanities, there's a place for anyone and everyone to explore, learn, and have fun in the Zooniverse. To volunteer, visit the Projects page , choose one you like the look of, and get started. We accelerate important research by working together The major challenge of 21st century research is dealing with the flood of information we can now collect about the world around us. Computers can help, but in many fields the human ability for pattern recognitionand our ability to be surprisedmakes us superior. With the help of Zooniverse volunteers, researchers can analyze their information more quickly and accurately than would otherwise be possible, getting to exciting results more quickly. Your effort saves time and resources, advances the ability of computers to do the same tasks, and leads to faster progress and understanding of the world. Our projects combine contributions from multiple individual volunteers, relying on a version of the 'wisdom of the crowd' to produce reliable and accurate results. Having many people look at the data often leads to better estimates of how likely we are to make an error. The products of Zooniverse projects are often exactly what's needed to make progress in many fields of research. Volunteers and professionals make real discoveries together. Zooniverse projects are constructed with the aim of converting volunteers' efforts into measurable results. In some cases, Zooniverse volunteers have even made completely unexpected and significant discoveries. A substantial amount of this research takes place on Talk, the Zooniverse discussion boards, where volunteers work together with research team members and each other. These boards are integrated within each project to allow for everything from quick hash-tagging to in-depth collaborative analysis. There is also a central Zooniverse Talk board for general chat and discussion about platform-wide matters. We encourage all users to join the conversation on Talk for more in-depth participation. THE ZOONIVERSE WORKS Classifications so far Registered volunteers OUR PROJECTS LEAD TO GREAT DISCOVERIES Green Pea Galaxies New Exoplanets Located An Earlier Use of 'White Lie' Boyajian's Star How It Works People-powered research As a participant: Find a project that interests you Learn the process of classifying that project Submit your classification and help with real research! Generate an official certificate verifying your efforts on the platform As a researcher: Build your project using the Zooniverse Project Builder Submit your project for approval Launch your project and engage with volunteers on Talk while the classifications come in Download your data and publish your results! Explore projects Build a project Check Out Our Mobile App Discover, teach, and learn - anywhere Bring the Zooniverse with you. Download the app for iOS and Android devices. Our Highlights Memorable projects over the years Since 2007, Zooniverse projects have led to many unexpected and scientifically significant discoveries and many peer-reviewed publications . All of this would have been impossible if it werent for our global community of Zooniverse participants engaged in these projects alongside the research teams. These Into the Zooniverse books commemorate and honor the efforts of everyone involved, providing just a glimpse into the ways Zooniverse community members have a real impact on the world around them. Each book highlights a subset of projects that were active that year. Available for purchase at Blurb.com Contact Us What can we help you with? General Zooniverse questions Collaborating on a project Press inquiry Please read through our FAQ page and the Zooniverse Solutions webpage . Do you have an issue related to a specific project? We recommend reaching out directly to the research team on their Talk page. Contact Us Can't access the Contact Us button? Email us directly at contact@zooniverse.org ."
        ],
        [
         "13",
         "Sections About Us USA National Phenology Network (USA-NPN) supports science, natural resource management, and communication by providing data, tools, and resources and by connecting people. Body Why phenology? Phenology is natures calendarwhen cherry trees bloom, when a robin builds its nest and when leaves turn color in the fall. Learn why phenology is vital to many aspects of ecology and society. Phenology is also a leading indicator of climate change. LEARN MORE Body MISSION The USA-NPN collects, organizes, and shares phenological data and information to aid decision-making, scientific discovery, and a broader understanding of phenology from a diversity of perspectives. VISION Providing data and information on the timing of seasonal events in plants and animals to ensure the well-being of humans, ecosystems, and natural resources. The USA-NPN consists of a National Coordinating Office (NCO), thousands of volunteer observers and many partners, including research scientists, resource managers, educators, and policy-makers. Anyone who participates in Natures Notebook or collaborates with NCO staff to advance the science of phenology or to inform decisions is part of the USA-NPN. Our Sponsors Body DEDICATION We take pride in delivering high-quality products and setting the standards within the field. We invest the time necessary to ensure that what we develop is accurate, thorough, and consistent. We seek and rely on input from our many, diverse partners to define and shape these products, recognizing the strength of many minds and cultures. INCLUSION We work closely with others. We listen carefully and respectfully to the needs and thoughts of our partners, participants, and stakeholders from various cultural frameworks, and use their input to shape our activities, products, and priorities. We recognize that being more inclusive and welcoming makes us stronger. We are committed to deeper consideration of equity in all aspects of our work. INNOVATION We push boundaries in the work we undertake, often forging ahead of others. Our work is original and interdisciplinary. We think creatively. We are not afraid of failure. We learn from our mistakes and rapidly adapt. We recognize that diverse perspectives and different ways of thinking about a problem lead to stronger and bolder solutions. Learn More About The USA-NPN Learn about the history of the USA-NPN Learn more about the creation of the Network. View Summaries and Reports about the USA-NPN Download a one-page summary of the USA-NPN and see our Annual Report and Strategic Plan. Read testimonials from our partners See the impact the USA-NPN has had on our various partners. See our Awards and Television Features The USA-NPN has been the recipient of various awards over the years, see all of our accomplishments. Learn about our Federal Compliance USA-NPN programs, products and tools comply with federal policy governing information management. Body Our team The USA-NPN Team includes staff, students and collaborators who work together to collect, organize and deliver phenological data, information, and forecasts to support natural resource management and decision-making, to advance the scientific field of phenology, and to promote understanding of phenology by a wide range of audiences. MEET OUR TEAM"
        ],
        [
         "14",
         "DE EN You are here: SPOTTERON Citizen Science  About Services Since 2014, SPOTTERON is providing Citizen Science Apps and Services for science projects and institutions with a strong focus on design, technical professionality, reliability and user interaction. Trusted by universities, institutions and stakeholders across Europe and beyond, we are creating custom digital solutions for science and Citizen Science Applications along with Project Websites and advanced tools for Data Analysis and Data Visualization. Our long term experience in design, media and web technologies comes together with our focus on innovation for science communication and interactive Citizen Science Apps. WHAT WE DO Citizen Science Apps & Observatories With the SPOTTERON Citizen Science Platform (www.spotteron.net) we offer a customizable and affordable system for applications in the areas of Citizen Science, environmental protection and volunteer monitoring. In cooperation with research projects, we develop independent smartphone apps for Android and IOS, interactive applications for browsers such as map applications or citizen science games, and provide a stable and reliable platform for projects. Read more about Citizen Science Apps & Observatories Interactive Science Games Games and gamification elements can be a practical tool for science communication, data analysis and to reach out to new groups. We create custom game apps for science projects and museum exhibtions to immerse visitors and participants and provide a modern learning experience. Read more about Interactive Science Games Webdesign for Science Sites & Hubs Having a professional website for science projects, exhibitions or portals is a very important part in a modern online world. Modern websites and hubs are always based on a content management system (CMS) to allow project admins to easily create new content and to have modern features ready like sliders, overview pages and more. Read more about Webdesign for Science Sites & Hubs Science Media We are a visual species. To communicate ideas, present results, promote projects or visualize scientic topics we provide services for professional media production and print design. Read more about Science Media Made with  in Europe"
        ],
        [
         "15",
         "About the YouCount project YouCount is a project funded by the European Unions Horizon 2020 Research and Innovation Programme. Through YouCount we aim to address one of Europes most pressing challenges: How to increase social inclusion for young people? How do people experience social inclusion? From previous studies we know that social inclusion is experienced when three main criteria are met: participation, belonging, and citizenship. But do young people understand social inclusion that way? They may agree that participating in social life in a meaningful way or feeling connected to others is important, but there may be other dimensions of social inclusion that are relevant for them. Young people also know better than anyone else, what their daily lived experiences of inclusion and exclusion are. That is why our research team includes young citizen scientists participating as young co-researchers in the project. Throughout the project, they will contribute with their own knowledge on social inclusion and co-create, together with policymakers, community leaders, and other relevant actors in their own communities and regions, new knowledge and innovations that contribute to increasing social inclusion in practice. Young co-researchers will participate in the project through hands-on citizen science: Hands-on citizen science involves researchers and young co-researchers creating local living labs, doing interviews, developing dialogue forums, organising local and national workshops and using and app specifically created to gather and share daily lived experiences of inclusion and exclusion. It also involves co-evaluating our impact and how co-created citizen social science worked across the cases as well as within each case. We call this type of research Youth Citizen Science. What is Youth Citizen Science? Citizen Social Science is defined as involving equal collaboration between citizen groups (co-researchers) that are sharing a social concern and academic researchers. Youth Citizen Social Science involves equal collaboration between young citizen scientists and academic researchers. However, involving young citizen scientists in research processes on an equal basis with academic researchers poses a whole new set of challenges that need to be looked into carefully. YouCount will provide evidence of actual results of doing Youth Citizen Science to address a complex societal problem. Objectives The overarching objective of YouCount is to generate new knowledge and innovations to increase the social inclusion of youth at risk of exclusion across Europe through co-creative youth citizen social science. Overall, YouCount targets two strands of inquiry: 1) knowledge about social inclusion and how to create social change through the involvement of young citizen scientists and 2) contributing to the scientific knowledge base for Y-CSS for increased scaling. This is reflected in the specific objectives below. Concept and Methodology As described in the introduction and call, CS might have many potential beneficial outcomes, yet at the same time, there is a lack of evidence of the actual benefits of CS in practice. More evidence is needed to support CS as a policy priority and use of CS in traditional (social) science. YouCount will thus put CS to a critical test by implementing co-creative Y- CSS projects in nine countries focusing on identifying positive drivers to increase social inclusion of youth with disadvantages and conduct systematic evaluations of the actual outcomes of Y- CSS through a mixed-methods design including pre-and post-measurements and processual data. The evaluation will also include an analysis of the mechanisms influencing social inclusion and the outcomes of CSS, and consider how the beneficial outcomes can be strengthened through maximising impact and recommendations for future R&I. The empirical research in the case studies will feed into the broader evaluation assessments of the costs and benefits of CSS, as described in 2.1. Expected Impact, Table 2.3. An overview is presented in Figure 1.3. The framework for Y-CSS and research design will be advanced throughout the whole research process, as part of the co-creative design (see WP1). YouCount Toolkit Welcome to the YouCount toolkit! Here, you will find various tools that researchers in the YouCount project have developed and used with young citizen social scientists. The tools are organized according to the House of Youth Citizen Social Science - a framework for thinking, planning, and doing citizen social science research projects with a co-creative approach. Click on the hearts to download the tools. The groundfloor How can you ensure that theHow can you ensure that thesocial and relational aspects of teamwork are in place? In thissection, you will find tools fortraining and building theground floor. The first floor How can you do participatory data collection with youth? In this section, you will find tools for the three approaches the survey mindset, the listening mode, and the observational gaze. The second floor How do we reach for social innovations and policy change with youth? In this section you will find tools for working collaboratively to make sense of findings and to develop ideas together. YouCount Youth Citizen Social Science Handbook Citizen S ocial Science brings together social science researchers and citizens focusing on social issues, social phenomena, and the social dimensions of the world while applying and integrating social science methodologies and theories in their collaborative research efforts. These characteristics influence, for example, the focus and management of the project, the role of the researchers and the citizens, the participatory work, and ethical concerns. There are many handbooks and guidelines for conducting citizen science, but mostly within natural sciences. Yet, there are few handbooks detailing hands-on citizen social science with young people, and focusing on co-creative qualitative or mixed-methods approaches. This handbook, and its toolkit, build on the experiences from the H2020 YouCount project (2021-2023) and represent a unique contribution to the field of citizen social science. It is, overall, an exercise on social science communication that can be useful to a wide array of publics: practitioners, academics, policymakers, youth organisations and anyone interested in citizen social science as a way of creating a future shaped by more inclusive, participatory research and social innovation . You can take a look through the YouCount Handbook here: No Trackers - No Ads This website uses no external trackers, no analytics, just session cookies and values your online privacy. powered by SPOTTERON Citizen Science Find your Citizen Science Apps at www.spotteron.app"
        ],
        [
         "16",
         null
        ],
        [
         "17",
         "About HerpMapper HerpMapper is a 501(c)(3) nonprofit organization designed to gather and share information about reptile and amphibian observations across the planet. Using HerpMapper, you can create records of your herp observations and keep them all in one place. In turn, your data is made available to HerpMapper Partners  groups who use your recorded observations for research, conservation, and preservation purposes. Your observations can make valuable contributions on the behalf of amphibians and reptiles. Who can see the records you create? There are two levels of visibility for records. Only you and HerpMapper Partners have access to all data in a record. Other users of HerpMapper and the general public can only see very basic information in your records  they do not have access to exact locality data. Any pictures attached to a record can be seen by everyone, which means you can also see the cool herps being recorded by other people from around the world. Who are the HerpMapper Partners? For the most part, they are biologists working for state or regional agencies, university researchers, or conservation organizations. A list of HerpMapper Partners is maintained on the HerpMapper website. For more information, also see our F. A. Q. pages , checkout our flyers ( English , Spanish , German , Chinese ), and checkout our Poster . Board of Directors Donald Becker, Director of Technology Don ( @DonFBecker ) is a self-employed IT guru, and the developer responsible for what you see when using the HerpMapper website and the mobile application. Don also has a life-long passion for herpetofauna conservation and public education. When not working for clients or on the HerpMapper site, Don volunteers with various conservation organizations to manage and restore habitat, educates the public about the importance of herpetofauna, and conducts herp surveys and inventories. View Website Mike Pingleton, Director of Operations Mike ( @SoMuchPingle ) is an IT project management professional working at the National Center for Supercomputing Applications at the University of Illinois. Mike is also a life-long herper who has traveled all over the world, and has recently started leading herping tours to Peru. Mike documents many of his adventures on www.pingleton.com . Mike has the bragging rights of having the first herp related website on the internet which he launched in 1994, and has also authored several herp related books, including childrens' books. Mike is pivotal to keeping HerpMapper organized and running efficiently. Mike also brings his decades of herping experience and connections to help make HerpMapper a success. Christopher E. Smith, Director of Public Affairs Chris ( @FieldEcology ) is a professional wildlife biologist by day, with a bachelor's degree in wildlife management and a master's degree in conservation biology - both from the University of Minnesota . Chris is also certified by The Wildlife Society as a Certified Wildlife Biologist. His work generally focuses on amphibian, reptiles, and terrestrial invertebrate conservation and research at a variety of spatial scales. In addition to his professional work, Chris is an avid \"field herper\" as well as a citizen-science advocate. Chris volunteers his time to a variety of conservation-focused organizations, and currently sits on the Board of Directors for The Center for North American Herpetology (CNAH) , and is an active Midwest Partners in Amphibian and Reptile Conservation (MW PARC) and Minnesota Herpetological Society (MHS) organization member. In his 'spare' time Chris helps administer the HerpMapper project, and is the Project's social media lead. If you have not already done so, be sure to checkout HerpMapper's Facebook page, and be sure to follow @HerpMapper and @WhatTheHerp . Advisory Committee Gary S. Casper, PhD Gary is the project head for the Wisconsin Herp Atlas Project , is currently the owner of Great Lakes Ecological Services , and an Associate Scientist with the University of Wisconsin-Milwaukee Field Station. Andrew Durso, PhD Andrew is a herpetologist and scientific editor at the Max Planck Institute for Biogeochemistry in Jena, Germany. He was born in New York and grew up catching snakes in North Carolina. He earned a B. S. in Ecology from the University of Georgia in 2009, an M. S. in Biology from Eastern Illinois University in 2011, and a Ph. D. in Ecology from Utah State University in 2016. He writes a blog about snakes called 'Life is Short, but Snakes are Long' . Christopher L. Jenkins, PhD Chris is the Chief Executive Officer for The Orianne Society . Nathan Shepard Nathan is the Eastern Region Biologist for the North Carolina Natural Heritage Program. He conducts inventory, survey, and monitoring projects throughout the eastern portion of North Carolina. His focus is on Reptile and Amphibian conservation projects including the development of conservation actions, plans, and agreements for threatened and endangered species with regional partners. Stephen Spear, PhD Stephen is the co-chair for the IUCN SSC Viper Specialist Group . His professional research uses a combination of field ecology, genetics, and habitat modeling to address applied and conservation concerns. His current herp work is focused on Black-headed bushmaster conservation in Costa Rica and surveys for Eastern massasauga and timber rattlesnakes in Wisconsin. Taxonomic Review Committee Chris Harrison Chris is an Associate Professor of Biology at Northwest Vista College in San Antonio, Texas. His current focus is on Anuran distribution in south and south central Texas. Chris is also an avid herper and birder. Check out many of his recent Australian herp finds in the HerpMapper database! James Van Dyke, PhD James is currently a postdoctoral research associate at the University of Western Sydney where he focuses his research on herp conservation physiology and ecology. Scott Eipper Scott is an Australian herpetological consultant working mainly in venomous snake management and targeted fauna surveys. A keen photographer and herper, he is often out in the field enjoying the natural world. He has authored two books and a number of articles on Australian herpetofauna. Toggle navigation"
        ],
        [
         "18",
         "About us Taking action for the ocean today, so we can all flourish Our 2030 Conservation Strategy We are connected to the ocean. We rely on it for food, water and clean energy. One out of every two breaths we take come from it. The ocean is also our first line of defence against climate change. Fortunately, we have the power to rebuild a resilient and vibrant ocean. Together, we are shaping a globally sustainable future  for us, our children and future generations. Read More Our Impact Ocean Wise has been an ocean champion for 50 years. From humble beginnings in Vancouver in 1951, we have grown into a global environmental charity that addresses overfishing, ocean pollution and climate change. Our Impact and Annual Reports Our People Our people are our most important asset . And w ith the accelerating urgency of climate change and biodiversity loss, it is critical that we continue to engage staff as diverse and effective as possible to contribute to a sustainable future . We do this by prioritizing the inclusion of people from all walks of life, internally and externally. See our people Our Guiding Current Humanitys shared reliance on a healthy ocean highlights our interconnectedness to each other and our environment. In our pursuit of a healthy ocean, we strive to uphold a positive social impact through our conservation initiatives. To do this, Ocean Wise is committed to fostering equity, inclusion, accessibility, and reciprocity into our organizational culture. We seek to multiply our impact in the water through engaging as wide an audience as possible and working alongside everyone who is advancing solutions for a healthy and flourishing ocean. See our people Help us protect and restore the ocean Give Become a Corporate Partner Our team works with yours to build a sponsorship experience that achieves your marketing, brand and sustainability objectives Give Make a Donation We have a decade to turn the tide. Help us make the change we need Act Lead a Shoreline Cleanup Help us stop the leak of plastic litter into our water ways and leave our beaches cleaner for the next generation Give Adopt a Killer Whale! Since 1992, the Wild Killer Whale Adoption Program has supported conservation-oriented research on wild killer whales"
        ],
        [
         "19",
         "Cosa faremo noi? Il progetto si propone di attivare diverse campagne di citizen science, che saranno sviluppate attorno a una serie di tematiche ambientali riguardanti in particolare: la perdita di biodiversità derivante dalla presenza di specie aliene; gli effetti dei cambiamenti climatici; la conservazione delle specie rare; limpatto antropico sulla qualità dellambiente in cui viviamo. In occasione di queste campagne, grazie allutilizzo di semplici applicazioni per smartphone e tablet che saranno sviluppate nellambito del progetto, verranno monitorate delle specie animali e vegetali che rivestono una particolare importanza sia per la ricerca scientifica che come indicatori di qualità ambientale. I dati raccolti, una volta validati da esperti di settore, confluiranno allinterno del Network Nazionale sulla Biodiversità (NNB), un sistema di banche dati nazionale promosso dal Ministero dellAmbiente, della Tutela del Territorio e del Mare. Il sistema è pubblico e online, e permette ai cittadini di vedere inserito il proprio nome come osservatore (previo consenso) o in una lista di partecipanti. Nel corso del progetto, sul modello di altre esperienze di citizen science condotte con successo negli Stati Uniti e in alcuni paesi europei, verranno anche organizzati dei Bioblitz. Si tratta di veri e propri eventi di mobilitazione collettiva della durata di 1-2 giorni, in cui i cittadini saranno chiamati a scendere in campo al fianco dei ricercatori per svolgere unattività di raccolta dati in particolari aree di studio. LIFE13 ENV/IT/842 Progetto CSMON-LIFE, Cofinanziato dalla Commissione Europea nellambito del Programma LIFE+."
        ],
        [
         "20",
         "About the project About the Corona Report App Join up the initiative with your institution and help with the dissemination of the project. Get the collected data from our team. Lets help with fighting the current crisis together and understand the impact of Covid-19 on our society. How to get involved There is a need to understand the social impact of COVID-19 on citizens and to hear their stories. You are being asked to take part in a citizen science research project because you are person experiencing the societal effects of COVID-19. The purpose of this project is to learn more about how the COVID-19 pandemic is affecting peoples ways of life including short and long-term physical, social, mental, and behavioural health and well-being. It is called a citizen science project because by using the app you contribute data to this project, as well as use the platform to look at the data shared by other people. Participation in the CoronaReport Citizen Science app is easy: (1) Download: Get the free CoronaReport App on Google Play for Android or in the Apple App Store. (2) Register an account: Create your own user account using your email address. (3) Start sharing: You are logged in and ready to anonymously contribute. FAQ What is CoronaReport? CoronaReport is a citizen science project for documenting the influence of COVID-19 on our lives. Citizens can use the CoronaReport app to share their stories and to better understand how the virus is changing lives all around the world. These data are helping scientists understand how the virus is affecting the way people live and work. https://www.coronareport.eu/ Note: CoronaReport is not a diagnostic tool, not a method for seeking medical treatment, and not an epidemiological study of infectious disease processes. Who created CoronaReport? CoronaReport was developed by SPOTTERON, a world-leading citizen science mobile app company, in collaboration with the Scottish Collaboration for Public Health Research and Policy (SCPHRP), which is based at The University of Edinburgh, School of Health in Social Science. SCPHRP: https://www.ed.ac.uk/health/research/centres/scphrp SPOTTERON: https://www.spotteron.net/ Where can I get the CoronaReport app? The app is available for iOS and Android via their app stores . Are data safely stored? Yes! Data live in two places. Data at SPOTTERON : Data on the CoronaReport platform are sec urely encrypted and never monetized . U sers are never tracked and SPOTTERON does not allow third party scripts. For more information please visit: https://www.spotteron.net/citizen-science-app-features/privacy-data-safety Data at The University of Edinburgh (UofE): UofE receives anonymous, aggregated data for research purposes. These data are stored on secure servers at the University. The study research protocol was reviewed and approved by an Ethics Review Board at the University of Edinburgh. Importantly, the UofE doesnt have access to information on the CoronaReport platform that isnt already publicly available, so there is no risk to privacy or confidentiality. Can other institutions access CoronaReport data for research purposes? If you are a researcher at another institution and are interested in collaboratively conducting a research project please email This email address is being protected from spambots. You need JavaScript enabled to view it. and include a description of your proposed research. Data requests will be managed with a data use agreement and will require an approved study protocol (ethics assessment) prior to data transfer. What data do I need to provide to create an account on CoronaReport ? Please refer to SPOTTERON' s data policy: https://www.spotteron.net/data-policy Project terms of use The CoronaReport project's app is running on the SPOTTERON Citizen Science platform. By registering a SPOTTERON account to participate you accept the terms of use of the platform, which can be found here: https://www.spotteron.net/terms-of-use powered by SPOTTERON Citizen Science Find your Citizen Science Apps at www.spotteron.net/apps"
        ],
        [
         "21",
         null
        ],
        [
         "22",
         "The Way the World Learns to Dive  PADI (Professional Association of Diving Instructors) is the worlds largest ocean exploration and diver organization, operating in 186 countries and territories, with a global network of more than 6,600 dive centers and resorts and over 128,000 professional members worldwide. Issuing more than 1 million certifications each year, and with over 30 million divers to date, PADI enables people around the world to seek adventure and save the ocean through underwater education, life-changing experiences and travel. For over 50 years, PADI is undeniably The Way the World Learns to Dive, maintaining its high standards for dive training, safety and customer service, monitored for worldwide consistency and quality. With a longstanding commitment to environmental conservation, PADI is leading the way for millions of people to actively explore, steward and protect the ocean through its course offerings and partnerships with like-minded, mission-driven organizations. PADI embodies a global commitment to ocean health with its mission to create a billion torchbearers to explore and protect the ocean. Seek Adventure and Save the Ocean with PADI PADI Training : PADI offers the most instructionally solid system in diver education as PADI Instructors are trained and held to the diving industrys highest standards for safety and performance that are recognized worldwide. The organization offers a wide range of scuba and freediving courses that allow beginners to discover the underwater world. Advanced specialty courses are designed to build skills and enhance an experienced divers love of the oceans and aquatic environments. From the beginning Open Water Diver course (and Bubblemaker experience for kids ages 8+) to more advanced courses like Digital Underwater Imaging and wreck diving, PADI offers diver training at every skill level. With nearly 200 PADI Dive Centers and Resorts in Germany, Austria and Switzerland, youll find PADI courses and scuba diving services close to home, as well as nearly everywhere youve ever dreamed of visiting. PADI Travel : PADIs global travel platform, PADI Travel, is the ultimate resource for divers and travelers alike, offering hundreds of dive destinations and thousands of dive holiday packages. PADI Travel hosts one of the largest selections of liveaboards and dive resorts in the market, also offering eco-travel options for travelers to share in life-changing vacations which can truly affect ocean conservation. PADI Gear : PADI Gear offers thoughtfully curated products featuring sustainable, ocean-conscious options for those of us who love water  and the planet. The ocean-first marketplace enables divers and eco-minded consumers to make a positive impact through their buying power with products theyre already buying. From rashguards made of retired fishing nets to towels spun from ocean bound plastic, PADI Gear delivers sustainable choices made out of materials that result in real difference in the issues facing our oceans. PADI works with trusted partners to help recycled ocean plastic find a second life as part of their PADI Gear collection--currently removing 58,576lbs of plastic from the ocean and counting. PADI AWARE Foundation : PADI AWARE Foundation is a global charity driving local action for global impact. Together with PADI, they have developed the PADI Blueprint for Ocean Action that commits to actions that combat climate change, help create marine protected areas and protect vulnerable species. Over the next decade they will work to rid the ocean of marine debris, multiply marine protected areas, protect endangered and vulnerable marine species, accelerate coral reef recovery and restoration and reduce the dive industrys carbon footprint. PADI Worldwide is a privately held corporation that is international in scope with service offices and distribution centers in Australia, Brazil, Canada, Japan, Russia, the United Kingdom and the United States. PADI Worldwides corporate headquarters is located in California, United States. PADI Regional Headquarters support the efforts of individual professional members and PADI Dive Centers and Resorts in more than 186 countries and territories. To serve the needs of divers worldwide, translations of PADI materials are available in at least 26 languages. PADI Members influence decisions by sharing their opinions through advisory boards, one-on-one contact, group meetings, member seminars and responding to surveys sent out by PADI Worldwide or PADI Offices. However, the business activities of PADI Members are independent, and not owned, operated or controlled by PADI Worldwide or PADI Offices. PADI Dive Centers, Resorts and individual professional members agree to follow established standards for PADI diver-training programs, but are responsible for the day-to-day conduct of PADI programs and supervision of divers by themselves and their staff."
        ],
        [
         "23",
         null
        ],
        [
         "24",
         "About BirdWeather What is BirdWeather? BirdWeather is a pioneering visualization platform that harnesses the BirdNET artificial neural network to monitor bird vocalizations globally through 2000 active audio stations (and growing). The platform acts as a comprehensive, evolving digital repository, accessible via a user-friendly map interface that showcases real-time data integration. Equipped with advanced bioacoustic technologies such as the BirdWeather PUCfeaturing environmental sensors and a neural engine in a weatherproof enclosureBirdWeather facilitates easy recording and automatic cloud processing of bird sounds, aiding conservation efforts and ecological studies. By analyzing bird population behaviors and changes, BirdWeather provides valuable insights into environmental shifts, engaging the public in global citizen science initiatives through its web dashboard and mobile app What is BirdNET? ( From the BirdNET site) BirdNET is a joint research project between The Cornell Lab of Ornithology and the Chemnitz University of Technology that is mainly focused on the detection and classification of avian sounds using machine learning  [with the aim to] assist experts and citizen scientist in their work of monitoring and protecting our birds. BirdNET is a research platform that aims at recognizing birds by sound at scale. We support various hardware and operating systems such as Arduino microcontrollers, the Raspberry Pi, smartphones, web browsers, workstation PCs, and even cloud services. BirdNET is a citizen science platform as well as an analysis software for extremely large collections of audio. BirdNET aims to provide innovative tools for conservationists, biologists, and birders alike. Read more about BirdNET at: https://birdnet.cornell.edu/ Questions? email - tim@birdweather.com"
        ],
        [
         "25",
         null
        ],
        [
         "26",
         "Home About us About us This website and the Eyeonwater app have been developed under the Citclops project by: NIOZ General techniques for colour recognition VU Amsterdam RGB analysis software Veerder Design MARIS Technical development of website and App Funded by EU FP7 programme. More information check www.citclops.eu . iFADO In the context of the iFADO project the EyeOnWater app is promoted as an in situ data collection tool for water quality. This project has received funding by the European Unions Interreg Atlantic Area programme under the grant EAPA_165/2016. More information about the iFADO project can be found here: http://www.ifado.eu/"
        ],
        [
         "27",
         "Skip to content Data submission Single datapoint Multiple datapoints Global TBI map Quick links Downloads News"
        ],
        [
         "28",
         "Dawn Chorus: created in a moment of silence During this brief moment of silence, project Dawn Chorus was brought to life by the Naturkundemuseum Bayern with BIOTOPIA LAB and the Foundation Arts and Nature (Nantesbuch), with support from the Max Planck Society. During an extremely short timeframe, a number of people came together to launch the project, inspired by the works of father of soundscaping, bioacoustician and musician, Bernie Krause (The Doors, Frank Zappa, The Weavers). Since then, Dawn Chorus invites people from all across the globe to experience and to record the morning concert, to help make natures voice be heard. From 2022 with a new strong project partner, Landesbund für Vogelschutz in Bayern ( LBV )."
        ],
        [
         "29",
         "About BeeMachine BeeMachine was developed by Brian Spiesman in collaboration with: Claudio Gratton , University of Wisconsin - Madison William Hsu , Kansas State University Brian McCornack , Kansas State University Web and mobile app development by Germinate Support BeeMachine was funded by USDA NIFA, the National Science Foundation, and Kansas State University. Computer vision models were developed with open data from the Global Biodiversity Infrastructure Facility (GBIF) , our own imaging efforts, and data contributed by community science projects including the Wisconsin Bumble Bee Brigade , the Hanamaru Maruhana Project , and the Vi Un Abejorro (I Saw a Bumble Bee) project. We are grateful to the organizers and volunteer participants of these programs that share their images and taxonomic expertise. Images were also provided by Jerry Cole and from ongoing collaborations with the KU Biodiversity Institue and Natural History Museum and the USDA ARS Pollinating Insect-Biology, Management, and Systematics Research Unit. Our Computer Vision Model BeeMachine is able to identify bee species from around the world. But if it isn't sure about the species it will give a genus-level prediction. Because flowers are often visited by other kinds of insects that can sometimes be confused with bees, we now include the ability to differentiate bees from wasps, flies, beetles, and butterflies/moths. Overall test accuracy on the current algorithm is 93.7% (99.4% top-3) but this varies by species depending on the number of training images and their level of morphological variability (see figures below). BeeMachine uses a convolutional neural network, modified from EfficientNetV2, and was trained on over 1.2 million images. Learned Features Neural networks learn their own set of features in images to differentiate species. Each point in this visualization represents a test image. Images with similar learned features are close together, forming clusters that correspond well with species. Thus learned features parallel real life qualities that we use to differentiate species. Model Precision The number of training images per species is important! More images per species means we can cover a larger range of variability in lighting, pose, background context, and variability in appearance, which increases the likelihood of a correct prediction. In this figure each point represents a different species. We can use this information to target particular species for acquiring more images to improve the classification model. BeeMachine can recognize 354 kinds of flower visiting insects. This includes 221 bee species, 128 bee genera, and other kinds of insects like wasps, flies, hoverflies, beetles, and butterflies/moths. Acamptopoeum sp. Alloscirtetica sp. Andrena sp. Andrena clarkella Andrena erigeniae Andrena haemorrhoa Andrena nigroaenea Andrena vaga Anthidium sp. Anthidium oblongatum Anthophora abrupta Anthophora furcata Anthophora retusa Anthophorula sp. Apis florea Augochlora sp. Bombus affinis Bombus argillaceus Bombus baltatus Bombus bicoloratus Bombus borealis Bombus campestris Bombus coccineus Bombus cryptarum Bombus distinguendus Bombus fervidus Bombus fragrans Bombus griseocollis Bombus hortorum Bombus hyperboreus Bombus impatiens Bombus koreanus Bombus lucorum Bombus melanopygus Bombus mixtus Bombus morrisoni Bombus norvegicus Bombus pascuorum Bombus perplexus Bombus pullatus Bombus quadricolor Bombus ruderatus Bombus semenoviellus Bombus soroeensis Bombus sylvarum Bombus terrestris Bombus vagans/sandersoni Bombus veteranus Bombus wilmattae Braunsapis sp. Camptopoeum sp. Ceylalictus sp. Coleoptera sp. Colletes inaequalis Diadasia sp. Diphaglossa gayi Epeolus sp. Eucera sp. Eulaema sp. Exoneura sp. Habropoda sp. Halictus scabiosae Holcopasites sp. Hylaeus modestus Leioproctus sp. Lithurgus sp. Megachile sp. Megachile pugnata Melecta sp. Melissodes desponsus Melitturga sp. Micralictoides sp. Nomia sp. Osmia bicolor Osmia lignaria Palaeorhiza sp. Paranthidium sp. Peponapis sp. Protoxaea sp. Pseudopanurgus sp. Rophites sp. Stelis sp. Systropha sp. Thygater sp. Triepeolus sp. Xylocopa augusti Xylocopa latipes Xylocopa tabaniformis Zacosmia maculata Agapostemon sp. Amegilla sp. Andrena barbilabris Andrena denticulata Andrena flavipes Andrena hattorfiana Andrena nitida Andrena ventralis Anthidium florentinum Anthidium punctatum Anthophora bimaculata Anthophora pacifica Anthophora terminalis Apis sp. Apis laboriosa Augochlorella sp. Bombus alpinus Bombus asiaticus Bombus barbutellus Bombus bifarius Bombus brasiliensis Bombus centralis Bombus confusus Bombus cullumanus Bombus diversus Bombus flavidus Bombus fraternus Bombus haematurus Bombus hortulanus Bombus hypnorum Bombus insularis Bombus laesus Bombus magnus Bombus melanurus Bombus modestus Bombus muscorum Bombus occidentalis Bombus patagiatus Bombus picipes Bombus pyrenaeus Bombus robustus Bombus rufocinctus Bombus sichelii Bombus sporadicus Bombus sylvestris Bombus terricola Bombus vancouverensis Bombus volucelloides Bombus wurflenii Cadeguala sp. Caupolicana sp. Chalepogenus sp. Colletes sp. Corynura sp. Dianthidium sp. Diptera sp. Epicharis sp. Eufriesea sp. Euryglossa sp. Exoneuridia sp. Halictus sp. Halictus tripartitus Hoplitis sp. Hyleoides sp. Lepidoptera sp. Macropis sp. Megachile ericetorum Megachile sculpturalis Meliponini sp. Melissoptila sp. Mellitidia sp. Nomada sp. Nomioides sp. Osmia bicornis Othinosmia sp. Panurginus sp. Paratetrapedia sp. Perdita sp. Pseudapis sp. Ptiloglossa sp. Ruizantheda sp. Svastra sp. Tetralonia sp. Thyreus sp. Wasp Xenoglossa sp. Xylocopa caffra Xylocopa micans Xylocopa tenuiscapa Agapostemon splendens Amphylaeus sp. Andrena bicolor Andrena dorsata Andrena florea Andrena hirticincta Andrena nubecula Andrena wilkella Anthidium maculosum Anthidium septemspinosum Anthophora bomboides Anthophora plumipes Anthophora urbana Apis cerana Apis mellifera Augochloropsis sp. Bombus appositus Bombus atripes Bombus beaticola Bombus bimaculatus Bombus californicus Bombus cingulatus Bombus consobrinus Bombus dahlbomii Bombus ephippiatus Bombus flavifrons Bombus frigidus Bombus hedini Bombus humilis Bombus hypocrita Bombus jonellus Bombus lapidarius Bombus mckayi Bombus mesomelas Bombus monticola Bombus nevadensis Bombus opifex Bombus pauloensis Bombus pratorum Bombus pyrosoma Bombus rubicundus Bombus rupestris Bombus sitkensis Bombus steindachneri Bombus sylvicola Bombus transversalis Bombus vandykei Bombus vosnesenskii Bombus zonatus Calliopsis sp. Centris sp. Chelostoma sp. Colletes cunicularius Dasypoda sp. Dieunomia sp. Dufourea sp. E Ericrocis sp. Euglossa sp. Exaerete sp. Florilegus sp. Halictus ligatus Heriades sp. Hylaeus sp. Icteranthidium sp. Lipotriches sp. Macrotera sp. Megachile latimanus Megachile xylocopoides Melissodes sp. Melitoma sp. Meroglossa sp. Nomada goodeniana Notanthidium sp. Osmia caerulescens Oxaea sp. Panurgus sp. Pasites sp. Protandrena sp. Pseudaugochlora sp. Ptilothrix sp. Scrapter sp. Syntrichalonia sp. Tetraloniella sp. Trachusa sp. Xylocopa sp. Xylocopa californica Xylocopa pubescens Xylocopa violacea Agapostemon virescens Ancylandrena sp. Andrena cineraria Andrena dunningi Andrena fulva Andrena milwaukeensis Andrena prunorum Anthidiellum sp. Anthidium manicatum Anthophora sp. Anthophora californica Anthophora quadrimaculata Anthophora villosula Apis dorsata Ashmeadiella sp. Bombus sp. Bombus ardens Bombus auricomus Bombus bellicosus Bombus bohemicus Bombus caliginosus Bombus citrinus Bombus crotchii Bombus deuteronymus Bombus eximius Bombus formosellus Bombus funebris Bombus honshuensis Bombus huntii Bombus ignitus Bombus kirbiellus Bombus lapponicus Bombus medius Bombus mexicanus Bombus morio Bombus niveatus Bombus opulentus Bombus pensylvanicus Bombus pseudobaicalensis Bombus pyrrhopygus Bombus ruderarius Bombus schrencki Bombus sonani Bombus subterraneus Bombus ternarius Bombus ussurensis Bombus vestalis Bombus weisi Brachymelecta sp. Callomelitta sp. Ceratina sp. Coelioxys sp. Colletes hederae Dasypoda hirtipes Dioxys sp. peoloides sp. Euaspis sp. Euhesma sp. Exomalopsis sp. Gaesischia sp. Halictus rubicundus Hesperapis sp. Hylaeus leptocephalus Lasioglossum sp. Lithurgopsis sp. Manuelia sp. Megachile perihirta Megandrena sp. Melissodes bimaculatus Melitta sp. Mesocheira bicolor Nomada lathburiana Osmia sp. Osmia cornuta Pachyprosopis sp. Paragapostemon coelestinus Patellapis sp. Protosmia sp. Pseudoanthidium sp. Rhodanthidium sp. Sphecodes sp. Syrphidae sp. Thalestria sp. Trichocolletes sp. Xylocopa aestuans Xylocopa flavorufa Xylocopa sonorina Xylocopa virginica"
        ],
        [
         "30",
         "BirdTrack Page menu Close page menu BirdTrack BirdTrack is an exciting project that looks at migration movements and distributions of birds throughout Britain and Ireland. BirdTrack volunteers can view and enter data using the online portal. What to record How to take part Time, skill and support There is no minimum time commitment. Spend as much time as you like recording the birds you identify. You need to be confident in the identification of the birds you record. Videos and training courses are available to help you develop your bird ID skills. About BirdTrack BirdTrack allows volunteers to store and manage their own personal bird records, and uses these to support species conservation at local, regional, national and international scales. Created through a partnership between the BTO, the RSPB, BirdWatch Ireland, the Scottish Ornithologists' Club and the Welsh Ornithological Society, BirdTrack is an exciting project that looks at migration movements and distributions of birds throughout Britain and Ireland. The project is a free and convenient way of storing your bird records online, and lets you keep up to date with what others are seeing, view the latest trends, and contribute your data to BTO science. Record on the go with BirdTrack Apps Log your bird sightings anywhere in the world - Learn more about our mobile apps . 'Smart' species list for adding sightings, containing the birds most likely to be seen in that area. Sync all your existing BirdTrack places and upload everything into your BirdTrack account. Go beyond just data entry and use the app to: View a map of recent sightings. View target species that you haven't seen this year / ever. View your year and life lists. Delve into your records Use the 'Explore my records' function in BirdTrack to view your data in a range of exciting ways . View your life and year lists at global, regional or local levels. View maps of all your birding locations. Extract the data as tables and graphs. Important note about auto-ID tools We recognise the growing popularity of auto-ID tools that use audio or image inputs to provide species identification, but we currently ask volunteers not to solely rely on these tools when submitting data to us. Please read our full statement on the use of auto-id tools for more detail and clarity. Code of Conduct Volunteers must follow BTOs Code of Conduct . This code applies to our staff, our members, and volunteers, including surveyors and participants in the Ringing and Nest Record Schemes, (hereafter referred to collectively as staff and supporters). It applies to all BTO activities, whether online (including meetings and events, telephone, letter, and email) or offline (any face-to-face interaction). We've also written some guidance for volunteer fieldworkers , which will help beginners in particular. Migration blog Your BirdTrack data allows us to follow the arrival and departure of migrants through the seasons. What's been seen this week? How will the weather affect migration next week? And which species will be arriving near you? Visit the blog > Help us track the outbreak of avian influenza with BirdTrack You can now send us sightings of sick and dead birds through BirdTrack. These records give us a real-time picture of the locations and species affected by the disease, to help us track its impact and spread. Please remember to report all dead birds to Defra (England, Scotland and Wales) or Daera (Northern Ireland) as well, to assist in efforts to test dead birds for the disease. More information about avian influenza can be found on our dedicated avian influenza page Project team Follow this project Bluesky X Contact birdtrack@bto.org Project timeline 2002 Migration watch started, with the initial aim of mapping migration 2004 Re-named BirdTrack and expanded to cover all seasons 2013 BirdTrack apps released on iOS and android 2014 BirdTrack global portal released, allowing data to be entered from anywhere in the world 2019 BirdTrack moved to a single site handling both British/Irish records and those from elsewhere in the world 2021 Additional taxa added to BirdTrack: Amphibians, Butterflies, Dragonflies, Mammals, Orchids, and Reptiles can all be recorded 2022 Link to iRecord set-up to facilitate a daily flow of non-avian records from BirdTrack to iRecord 2022 New revised version of the mobile app released. Contributions and findings Long-term changes in the migration phenology of UK breeding birds detected by large-scale citizen science recording schemes Robustness of simple avian population trend models for semi-structured citizen science data is species-dependent Estimating species distributions from spatially biased citizen science data Getting started Setting up your BirdTrack account is quick and easy. How to get started BirdTrack apps Add your records on the go with our iPhone and Android apps. Discover the app Explore your records View your data in a range of exciting ways. Delve into your records Contact BirdTrack Britain BirdTrack Organiser c/o BTO, The Nunnery Thetford, Norfolk IP24 2PU Tel: +44 (0)1842 750050 Email: birdtrack @ bto.org Ireland BirdWatch Ireland (BirdTrack contact) c/o BirdWatch Ireland Unit 20, Block D Bullford Business Campus Kilcoole, Greystones Co. Wicklow, Ireland Tel: +353 579151676 Email: bcaffrey @ birdwatchireland.ie Project partners BirdTrack is organised by the BTO in partnership with the RSPB, Birdwatch Ireland, the Scottish Ornithologists' Club, and the Welsh Ornithological Society (Cymdeithas Adaryddol Cymru). BirdWatch Ireland BTO RSPB Scottish Ornithologists' Club Welsh Ornithological Society Scroll down"
        ],
        [
         "31",
         "About us The OpenRadiation project is a collaborative initiative between five bodies working in different fields: ANCCLI, IFFO-RME, IRSN, PLANETE SCIENCES and SORBONNE UNIVERSITE. This citizen-based not-for-profit project is educational in nature. Current OpenRadiation project partners ( OpenRadiation partners ) : ANCCLI Created on September 5, 2000, the ANCCLI, the National Association of Local Information Committees and Commissions, federates the experiences and expectations of the 35 Local Information Committees (CLI) and brings the concerns and territorial stakes to national and international authorities. Its mission is to develop citizens' expertise, to share and promote the expression of CLIs at local, national and international levels. The ANCCLI aims to be a force for proposals and recommendations to institutions and nuclear stakeholders. One of the essential missions of the CLI is to relay information to the general public and thus allow citizens to form their own opinions on the subject of nuclear energy. The CLIs question the operator (EDF, ORANO, CEA, ANDRA), the ASN and IRSN, organize debates, carry out counter-analyses, monitor the environment, undertake expert assessments and participate in inspections. The work of the CLIs is widely disseminated to the public and institutional partners via newsletters, public meetings, press articles and their websites. IFFO-RME The French institute for those leading training courses in major risks and the environment aims to simplify the improved incorporation of major risks and the protection of the environment in citizen culture. IFFO-RME is supported by its network of coaches, specialists in prevention, management and educational initiatives to prevent major risks, develops adult training sessions and supports educational activities to improve the understanding of priorities, risks and individual and collective safeguard actions. IFFO-RME has signed conventions with the Ministries of Ecology, National Education, Domestic affairs and Agriculture targeting a shared culture to prevent major risks. ASNR The French Nuclear Safety and Radiation Protection Authority (Autorité de sûreté nucléaire et de radioprotection) is an independent administrative authority created by the law of May 21, 2024 on the organization of nuclear safety and radiation protection governance to meet the challenge of revitalizing the nuclear industry. On behalf of the French government, it oversees civil nuclear activities in France, and carries out expert appraisal, research, training and public information missions. PLANETE SCIENCES is a not-for-profit association created in 1962. The association operates as a network with 11 regional delegations, supported by 1000 volunteers and 80 permanent members of staff. Planète Sciences aims to promote an interest in, introductions to and the practice of science and techniques targeting 8 to 25 year olds, as well as teachers, leaders, educators, researchers and parents in their activities with this age group. Approximately 100,000 young people participate in our activities each year. Planète Sciences allows young people to contribute to a global education project, with a fun approach, promoting experimental practices in science and technology. Over and beyond an introduction to science and technology, improving their understanding, the association's approach allows participants to switch from theory to practice, from an idea to results, to experiments, thanks to active involvement. The challenge is to complete a team project from start to finish. The phases organised are based on the practices of research laboratories and in industry. SORBONNE UNIVERSITE The FabLab of Sorbonne Universities is an open and collaborative interdisciplinary laboratory. The lab hosts a large community of students, researchers and personnel from Sorbonne Universities (UPMC, Paris Sorbonne, MNHN, UTC). It is open to companies and the general public. It is equipped with 3D printers and digitally-controlled machines. The equipment available can be used for the creation of rapid prototypes of physical objects, whether electronic, connected or neither. The lab is equipped with areas dedicated to biology or chemistry. It has been used to develop teaching programmes in project mode, as a team, with an interdisciplinary approach and independently. Thanks to the lab, individuals can develop their own personal projects, in scientific, artistic, fun or entrepreneurial fields. The FabLab community of Sorbonne Universities is involved in several research projects focusing on sustainable development (eco-innovation, citizen science). Lab operation is governed by FabLabs' international charter. The FabLab was supported by Sorbonne University as part of a call for educational projects by the Collège des Licences (Degree board)."
        ],
        [
         "32",
         "The Wisconsin Pollinators website is maintained by the Gratton Lab at the University of Wisconsin-Madison. We are a lab in the Department of Entomology within the College of Agricultural and Life Sciences. Our mission is to learn through innovative science, creating fundamental knowledge that links insects, landscapes, and their conservation in support of healthy ecosystems and human well being. A major focus of our research revolves around the conservation of and services provided by wild and managed pollinators. WiBee Project Staff Ben Bradford Position title: Data visualization and analysis Email: bbradford @wisc.edu Hannah Gaines-Day Position title: Scientist and project lead Email: hgaines @wisc.edu Claudio Gratton Position title: Professor and principal investigator Email: cgratton @wisc.edu Dan Imhoff Position title: App developer Email: dan @caracal.tech Eliza Pessereau Position title: M. S. student and outreach coordinator Email: pessereau @wisc.edu"
        ],
        [
         "33",
         "Error al acceder a la URL: 403 Client Error: Forbidden for url: https://bigbutterflycount.butterfly-conservation.org/about"
        ],
        [
         "34",
         "Training Workshops We hold in-person training workshops and online webinars that teach you how to conduct surveys of insects with your students/visitors, monitor changes in the abundance and type of insects present over time, and report data using our free mobile app and website. REGISTER NOW for one of three identical webinars we will be offering in April 2025: Wednesday, April 9th, 1:00 - 2:30 pm ET Thursday, April 17th, 11:00 am - 12:30 pm ET Wednesday, April 23rd, 12:00 - 1:30 pm ET If you can't make one of these webinar times, check out this recording of a previous webinar . Get Started To compare insect abundance over time and from one place to another, participants at Caterpillars Count! sites conduct surveys on trees and bushes. A typical survey site includes 30 or more survey branches, and each one is carefully inspected for arthropods, often on a weekly or bi-weekly basis during the spring and summer. Check out this 1.5-hour webinar video for a thorough introduction to project logistics. Two ways to get involved Start up a new Caterpillars Count! site A great option for environmental educators or teachers, or for dedicated individuals who are interested in carrying out many surveys in their backyard or local habitat patch. Enlist the help of students or visitors to your site to carry out surveys! Find an existing Caterpillars Count! site near you Great if you would like to try some surveys, but don't want to commit to continued monitoring. If there is no existing site near you, consider asking your local Environmental Education center to start one! Next Steps However you get involved, you'll want to: Make sure you are familiar with the major Orders of arthropods. Review the Arthropod Identification page and try your hand at the online ID quiz and Virtual Survey Game for practice. Familiarize yourself with our survey protocols . Create an account to start surveying. Choose from our survey tools, apps, and methods . Check out our resources for educators For more information, refer to our Frequently Asked Questions page!"
        ],
        [
         "35",
         "This video clip is a documentation of a publiclectureheld by the interdisciplinary research project Build4People at the Raintree Phnom Penh on 28 May 2025. It was prepared by the Build4People team in cooperation with the Cambodian Institute for Urban Studies (CIUS) and the association Women in Architecture and Engineering of Cambodia (WAE) and was mainly attended by architecture and urban planning students from Paññāsāstra University of Cambodia (PUC), Norton University (NU) and from Royal University of Fine Arts (RUFA). The main objective of the lecture was to give an overview on the topic of gender-sensitive and inclusive urban planning from different disciplinary perspectives and to exercise the method of Post-Occupancy-Evaluation (POE) which puts the user of the urban built environment into focus. The lecture event started with a brief introduction about the Build4People project and an inter-active session to generally raise awareness on the issue of gender in the field of architecture and urban planning provided by the Build4People representative Dr Michael Waibel, Hamburg University. Following this, Ms. Lena Loeffeler, scientific assistant at the University of Hamburg, presented the scientific rationale as well as good-practice examples of gender-sensitive and inclusive planning, including a short visual planning practice with the students. Then, Ms. Selina Thomas from the architecture and urban design practice Eble Messerschmidt Partner (EMP) with abundant experience in implementing people-centered planning projects, provided insights from a planning perspective and showcased good-practice examples from Germany and Austria. After this, Dr. Anke Blöbaum, Magdeburg University, grasped the topic from the perspective of environmental psychology and introduced about the empirical method of Post-Occupancy-Evaluation (POE) in detail which specifically serves to evaluate specific spatial needs amongst the urban population. The practical POE exercise was guided by Sokunlanity May, co-founder of the non-governmental association Women in Architecture and Engineering of Cambodia (WAE). She introduced about the two sites of field research, one around the Phnom Penh Central Station and the other one around the Central Market, as well as about the guiding research questions. Then, the lecture audience split up into several working groups, guided by different Build4People team members and did brief field research. After the return of the groups, there was some time for them to evaluate and to summarize their findings before each group received the opportunity to present the key results. Build4People would like to thank everyone involved in the lecture, in particular our cooperation partners and the engaged participating students. #Build4People #BMFTR_SUREregions #empowerment #inclusiveurbantransformation #behaviourchange #gendersensitiveurbanplanning #genderresponsiveurbanplanning #citiesforpeople #peoplecentredurbandevelopment Related"
        ],
        [
         "36",
         "You are here: Home > About the beetle About the Beetle Already more than a century ago, the Japanese beetle ( Popillia japonica ) has been introduced to New Jersey and has since then developed into a major plant pest in the US. Only recently, it was introduced to Northern Italy and continues to spread. The beetle is eager to feed on hundreds of ornamental plants, fruit trees and berries, vegetable plants, forest trees and arable crops. The adult beetles are only active for a couple of weeks in the summer, but their larvae, typical grubs, live underground for the rest of the year, which makes Japanese beetles especially difficult to eradicate. About the Japanese beetle (Popillia japonica) Already more than a century ago, the Japanese beetle ( Popillia japonica ) was introduced to New Jersey and has since then developed into a major plant pest in the US. Only recently, it was introduced to Northern Italy and continues to spread. The beetle is eager to feed on hundreds of ornamental plants, fruit trees and berries, vegetable plants, forest trees, and arable crops. The adult beetles are only active for a couple of weeks in the summer, but their larvae, typical grubs, live underground for the rest of the year, which makes Japanese beetles especially difficult to eradicate. How to identify a Japanese beetle Like typical beetles, Japanese beetles have hardened fore wings, so-called elytra, which are not used for flying but cover the hind part of the insects body. These elytra are copper-brown. With their transparent hind wings, they are able to fly but are clumsy flyers and often bonk into objects. Their oval body is about 10 mm long (thats smaller than a 1-Eurocent-coin, measured without legs!). The head and thorax (middle part) of their body are shimmering in metallic bronze or green, and their wing coverings are copper-brown. Toward their back end, a row of five patches of white, bristle-like hairs covers each side of their body, and there are two white patches on the tip of their back end. The white patches easily distinguish the adult Japanese beetle from other beetles that resemble it. Have a look at our field identification guide to check characters in detail . The grubs (larvae) that develop in the ground cannot be distinguished from similar native grub species without the use of a binocular. From Asia to North America and Europe As its name implies, the Japanese beetle originates from northern Japan and the far east of Russia. There, it is a minor pest as it has several natural enemies. Additionally, the local climate and environmental conditions help to prevent massive population growth. In 1916, the Japanese beetle was first discovered in the US, probably introduced with plant material from Japan. After this first discovery outside of its home range, the beetle moved to several other countries, always causing severe damage. Since it was first spotted in northern Italy in 2014, it has rapidly expanded its range, and population levels have exploded. Only four years later, it was discovered for the first time at the southern border of Switzerland in 2017, and continued to spread northwards. Damage from adult beetles Adult beetles generally feed on leaves, chewing out the tissue between the veins, only leaving the leaf skeleton. They feed on more than 300 plant species, including vegetable crops, flowering plants, trees, and shrubs. They show a preference for leaves of grapes, fruit-bearing trees, and soy. Besides leaves, they also feed on ripe fruit of mean host plants, for example, plums, cherries, raspberries, blueberries, or apples, and they may even feed on flower petals, for example, rose blossoms. Depending on food supply, they can also feed on the leaves of forest trees, including hazel nut, oaks, or linden. Damage from grubs The damage by Japanese beetles is not limited to their adult form. Their larvae feed underground just below the surface, where they consume roots and thereby reduce the vitality and yield of their host plants. These grubs prefer roots of lush pasture and turfgrass but can also feed on roots of maize, beans, tomatoes, strawberries, or nursery seedlings. Predators such as wild boars or crows use the grubs as a food source and cause secondary damage when digging for them. The digging can cause more disruption to the sward than the initial damage by the grubs. The IPM-Popillia field guide to the most common European scarab beetles Is this a Japanese Beetle?  thats the question we hear and read hundreds of times per year. In most cases, we can tell within seconds that it is not. You want to know how this works? Then try yourself with our new identification tool! Our easy-to-use field identification key will show you how to discriminate between the Japanese Beetle and its most abundant European relatives. Seasonal development of the Japanese Beetle In regions with a moderate climate, there is one generation of Japanese beetles yearly. The peak flight of adult P. japonica is in July, but adults may be active from Mid-May until September, depending on climate and weather conditions. Females live 30-45 days and can lay up to 60 eggs in this period, preferably in the moist, loamy soil of pastures, meadows, or lawns. The economic impact of the Japanese beetle The Japanese beetle is a polyphagous species, meaning that it can feed on numerous host plants/crops. This makes the beetle a threat to agriculture, as its diet also includes important crops such as maize or soy. By feeding on the leaves and the ripe fruit of host plants, the adult beetle harms plant photosynthesis abilities and reduces farmers yield and harvest quality. Furthermore, Japanese beetle larvae can also cause substantial damages. The grubs develop beneath the soil and feed on the roots of plants or turf. The damages of the larvae to turf and grassland adversely affects sports facilities such as soccer fields and/or golf courses. Host plants The Japanese beetle has over 300 different host plants/crops, implying a wide variety of plants to feed on. Some of these host plants/crops such as soybeans, grapes, apples or blueberries are of economic importance to farmers. Depending on the availability of host crops, the beetle can also feed on the leaves of trees such as hazel nut, oaks, or linden. For a full list of Japanese beetle host plants including classifications into main or secondary host, see Tayeh et al. 2022 . Yield loss estimates from the literature Depending on the Japanese beetles preference for a specific crop, the infestation level and the availability of plant protection products, estimated yield loss can vary greatly. An overview of yield loss estimates for some of the beetles main host plants/crops is presented below. Caution should applied to the interpretation of these figures, given that these yield loss estimates depend on the particular study framework and cannot be generalized. Soy Ribero et al. (2022) : reduction in seed size but no total yield damage could be observed (US) EFSA et al. (2019 ) : between 0% - 10% (Europe) Gould (1963) : 20% for heavily infested field (US) Maize EFSA et al. (2019 ) : between 0% - 10% (Europe) Steckel & Tindall (2013) : 0% - 32.4% reduction in total kernel weight (US) Gould (1963) : 10 bushels per acre for heavily infested fields (US) Grapevine Ebbenga et al. (2022) : no total yield reduction could be observed but negative impact on quality (US) EFSA et al. (2019 ) : between 1% - 20% (Europe) Stonefruit EFSA et al. (2019 ) : between 1% - 20% (Europe) Softfruit EFSA et al. (2019 ) : between 2% - 50% (Europe) Turf / Grassland EFSA et al. (2019 ) : between 1% - 20% (Europe; turf of sport fields) Ladd & Buriff (1979) : between 12% - 100% (bluegrass) Total damage estimates The total economic damage caused by the Japanese beetle is composed of direct and indirect economic losses and costs, such as agricultural yield and quality loss, replacement costs, costs and environmental consequences of additional control measures, applied by farmers, private persons as well as national plant protection services, costs to non-agricultural businesses such as golf courses, potential employment loss, costs due to import and export regulations in the event of an infestation, and indirect costs for economic sectors, which are connected or dependent on goods or services from directly affected sectors. Currently only few studies have tried to estimate above-mentioned costs. According to USDA/APHIS (2015) costs for the control of the Japanese beetle in the US exceed US$460 million per year. In the European Union, the beetle has been ranked the second most important quarantine pest for crops due to its potential severe economic, social and environmental impacts. Even though no extensive damage has officially been reported for the case of Europe, a recent study of the IPM Popillia project found that the potential damage costs could be substantial. The potential yield damage to six main host crops of the beetle ranges from 30 million to 7.8 billion per year. Large grape and wine producing countries like France or Italy would be affected with potential annual damage costs of around 92 million and 62 million, respectively. Migration routes The migration routes of P. japonica are strongly linked to human-mediated transport. In fact, the species has been shown to move passively on vehicles and goods, making transportation infrastructures (airports, railways and road networks) critical points for the further spread of the insect into new areas (Borner et al., 2023). For example, interceptions in Central Europe, far from the already infested regions, confirm the importance of human transport in the spread of this pest (Borner et al., 2024). Host plants of Popillia japonica These are known host plants of the Japanese Beetle Popillia japonica. Insights on various treatment typologies Chemical control methods: LLINs: Long-Lasting Insecticide-Treated Nets (LLINs) represent a relatively new approach in the context of Integrated Pest Management (IPM) for the control of P. japonica. These nets, with fibres impregnated or coated with pyrethroids, are assembled in attract-and-kill devices, to lure and kill adult P. japonica. The insects are attracted by a dual semiochemical lure placed near the nets, they walk on the LLINs for approximately 90 seconds and then become paralyzed and eventually die within minutes. (Marianelli et al., 2019). Both lab and field tests have demonstrated their efficacy in killing beetles and reducing local population density with minimal environmental impact (Paoli et al., 2023). Recent studies indicate that using a single net per hectare may represent a good trade-off between effectiveness and management efforts to lower adult populations in infested areas (Paoli et al., 2024). Agronomical and Physical practices Crop rotation: Grubs do not pose a threat to alsike clover (Trifolium hybridum L.), red clover (T. pratense L.), white clover (T. repens L.), alfalfa (Medicago sativa L.), soybean (Glycine max (L.) Merr.), buckwheat (Fagopyrum esculentum Moench), oats (Avena sativa L.), barley (Hordeum vulgäre L.), common rye (Sécale céréale L.), or orchardgrass (Dactylis glomerata L.). Implementing these crops in rotation helps reducing insect damage (Fleming, 1976). Tillage: Cultivating the soil to a depth of 8 cm in summer brings the eggs to the surface, where they are killed by sun and wind. This method destroys about 25 to 30 percent of the eggs. Furthermore, plowing to about 15 cm, followed by disking and harrowing to 8 cm destroyed 40 to 50 percent of the grubs in fallow fields and 25 to 30 percent in sodland. However, in pastures a lower mortality rate occurred due to the breakup of the clods of not always occurred. Instead, using implements that pulverize the soil and prepare the land for planting in one operation proved more effective in killing grubs than the common farm implements; these include \"Rototillers\" and \"Rotocultivators\": One pulverization on fallow or sodland killed about 70 percent of the grubs Two about 82% Three about 94% The best results were obtained when the grubs were close to the soil surface, specifically in early fall and late spring (Fleming, 1976). Kaolin: Caution is advised because kaolin is washed off by rain. If this treatment is not repeated over time, it will not protect newly developing shoots (Bosio, technical communication). Biological control methods: EPN (Entomopathogenic Nematodes): These organisms have a unique mechanism to kill their hosts: the infective juveniles (Ijs), the only free-living stage of EPN, move in the soil seeking P. japonica larvae. Upon encountering their hosts, the IJs penetrate the larvae through the natural body openings (mouth, anus, and spiracles) or through thin areas of the cuticle. Once inside the larval body, the IJs release symbiotic bacteria, which multiply rapidly, producing toxins and exoenzymes that compromise the insect's immune system, leading to death by septicemia. Finally, a new group of IJs goes out into the soil and searches for new hosts (Poinar, 1990). The control of P. japonica larvae is more effective when the natural strains of Heterorhabditis bacteriophora are applied against first and second instars larvae (Power et al., 2009; Koppenhöfer and Fuzy, 2004; Marianelli et al., 2018; Torrini et al., 2020). In the case of application against third instars, pre-wintering larvae are more susceptible than post-wintering ones (Paoli et al., 2017). Furthermore, EPN natural strains possess physiological traits well-adapted to local ecological conditions. As a result, they thrive in their native soils and can persist there for years, thereby reducing the need for additional treatments (Gotta et al., 2023). EPF (Entomopathogenic Fungi): Entomopathogenic Fungi (EPF), such as Metarhizium spp. and Beauveria spp., act as biological control agents by infecting and killing insects through their cuticle. These fungi grow inside the host until it dies. They are used for the control of P. japonica at both larval and adult stages. EPF treatments are generally applied as conidia or blastospores in the soils. Studies have shown variable results: for instance, Metarhizium brunneum was effective against P. japonica adults but less against larvae (Barzanti et al., 2023; Graf et al., 2023). Furthermore, the use of native strains such as Metarhizium robertsii for the control of larvae has been tested in some fields reporting moderate results (Marianelli et al., 2024). Predators/parasitoids: Natural enemies have been identified from the Japanese beetles native range (Potter & Held 2002). For its management, at least 47 species of predatory and parasitic insects from Asia and two from Australia were released in the United States (Althoff & Rice, 2022). Out of these, Tiphia vernalis (Fig. 1S3) Rohwer (Hymenoptera: Tiphiidae), proved to be the most effective in reducing P. japonica population densities (Potter & Held 2002). The female of T. vernalis paralyses the larvae by stinging the host in the ventral nerve cord and oviposits the eggs between the third thoracic and the first abdominal segment (Balock, 1934; Rogers & Potter, 2003). When the larvae emerge as adults, honeydew and floral nectar serve as important food sources for the primary diet of T. vernalis. For Tiphia vernalis in a stand of turf, the parasitism rate is higher if plants of Paeonia lactiflora are introduced in the target environment (Rogers & Potter, 2004). Also, black cherry (Prunus serotina Ehrh. c.) provides another nectar source that benefits this insect; the presence of nearby nectar sources influences the T. vernalis effectiveness and determines a high parasitization rate. Then, black cherry is another tool to increase the biological control of P. japonica in landscape management (Mclaughin et al., 2022). Tiphia popilliavora: Tiphia popilliavora wasp female lays eggs on the first or second thorax segments (Althoff & Rice, 2022); then T. popilliavora larvae feed externally on the host (Balock et al., 1934). Similarly, for T. popilliavora it is recommended to plant peonies or wild parsnip, because they promote the establishment and spread of wasp populations, increasing parasitism rates (Althoff & Rice, 2022). Istocheta aldrichi: it is a tachinid fly that parasitizes P. japonica adults. Its eggs are laid on the adults prothorax. Then, I. aldrichi larvae move into the internal organs, after their first molt. After the oviposition, P. japonica survives for 5-9 days. However, if spring temperatures are high, early fly emergence will occur, misaligning the adult phenology of the host (Althoff & Rice, 2022). Saponins: Saponins extracted from alfalfa (Medicago sativa) are biologically active molecules that have demonstrated anti-feedant and insecticidal effects against P. japonica. They act as a food deterrent causing a significant reduction in the consumption of treated leaves compared to untreated ones. Furthermore, at a concentration of 3% saponins have been observed to increase mortality in P. japonica adults (Iovinella et al., 2023). REFERENCES Althoff, E. R., & Rice, K. B. (2022). Japanese beetle (Coleoptera: Scarabaeidae) invasion of North America: history, ecology, and management. Journal of Integrated Pest Management, 13(1), 2. Balock, J. W. (1934). The Status of Tiphia vernalis Rohwer, an imported Parasite of the Japanese Beetle, at the Close of 1933. Barzanti, G. P., Enkerli, J., Benvenuti, C., Strangi, A., Mazza, G., Torrini, G., Simoncini, S., Paoli, F., & Marianelli, L. (2023). Genetic variability of Metarhizium isolates from the Ticino Valley Natural Park (Northern Italy) as a possible microbiological resource for the management of Popillia japonica. Journal of Invertebrate Pathology, 197, 107891. Fleming, W. E. (1976). Integrating control of the Japanese beetle: a historical review (No. 1545). US Department of Agriculture, Agricultural Research Service. Gotta, P., Ciampitti, M., Cavagna, B., Bosio, G., Gilioli, G., Alma, A., Battisti, A., Mori, N., Mazza, G., Torrini, G., Paoli, F., Santoiemma, G., Simonetto, A., Lessio, F., Sperandio, G., Giaocmetto, E., Bianchi, A., Roversi, P. F., & Marianelli, L. (2023). Popillia japonicaItalian outbreak management. Frontiers in Insect Science, 3, 1175138. Graf, T., Scheibler, F., Niklaus, P. A., & Grabenweger, G. (2023). From lab to field: biological control of the Japanese beetle with entomopathogenic fungi. Frontiers in Insect Science, 3, 1138427. Iovinella, I., Barbieri, F., Biazzi, E., Sciandra, C., Tava, A., Mazza, G., Marianelli, L., Cini, A., Roversi, P. F., & Torrini, G. (2023). Antifeedant and insecticidal effects of alfalfa saponins in the management of the Japanese beetle Popillia japonica. Journal of Applied Entomology, 147(8), 651-660. Koppenhöfer, A. M., & Fuzy, E. M. (2004). Effect of white grub developmental stage on susceptibility to entomopathogenic nematodes. Journal of Economic Entomology, 97(6), 1842-1849. Marianelli, L., Paoli, F., Torrini, G., Mazza, G., Benvenuti, C., Binazzi, F., Sabbatini Peverieri, G., Bosio, G., Venanzio, D., Giacometto, E., Priori, S., Koppenhöfer, A. M., & Roversi, P. F. (2018). Entomopathogenic nematodes as potential biological control agents of Popillia japonica (Coleoptera, Scarabaeidae) in Piedmont Region (Italy). Journal of Applied Entomology, 142(3), 311-318. Marianelli, L., Paoli, F., Sabbatini Peverieri, G., Benvenuti, C., Barzanti, G. P., Bosio, G., Venanzio, D., Giacometto, E., & Roversi, P. F. (2019). Longlasting insecticidetreated nets: a new integrated pest management approach for Popillia japonica (Coleoptera: Scarabaeidae). Integrated environmental assessment and management, 15(2), 259-265. Marianelli, L., Sciandra, C., Iovinella, I., Strangi, A., Simoncini, S., Barbieri, F., Barzanti, G. P., Benvenuti., C., Mazza., G., Paoli, F., Sabbatini Peverieri, G., Amoriello, S., Madonni, L., Innocenti degli, E., Roversi P. F., Graf, T., Grabenweger, G., & Torrini, G. (2024), Popillia japonica Italian outbreak management by means of natural strains of Biological Control Agents, Presented in the Symposium Bringing it home: Advances in research on the international pest Popillia japonica during the XXVII International Congress of Entomology Kyoto, Japan, August 25-30, 2024 . McLaughlin, R., Keller, J., Wagner, E., Biddinger, D., Grozinger, C., & Hoover, K. (2022). Insect visitors of black cherry (Prunus serotina) (Rosales: Rosaceae) and factors affecting viable seed production. Environmental entomology, 51(2), 471-481. Paoli, F., Marianelli, L., Torrini, G., Mazza, G., Benvenuti, C., Bosio, G., Venanzio, D., Tarasco, E., Klein, M., & Roversi, P. F. (2017). Differential susceptibility of Popillia japonica 3rd instars to Heterorhabditis bacteriophora (Italian strain) at three different seasons. Biocontrol Science and Technology, 27(3), 439-444. Paoli, F., Iovinella, I., Barbieri, F., Sciandra, C., Sabbatini Peverieri, G., Mazza, G., Torrini, G., Barzanti, G. P., Benvenuti, C., Strangi, A., Bosio, G., Mori, E., Roversi, P. F., & Marianelli, L. (2023). Effectiveness of fieldexposed attractandkill devices against the adults of Popillia japonica (Coleoptera: Scarabaeidae): a study on duration, form and storage. Pest Management Science, 79(9), 3262-3270. Paoli, F., Barbieri, F., Iovinella, I., Sciandra, C., Barzanti, G. P., Torrini, G., Sabbatini Peverieri, G., Mazza, G., Benvenuti, C., Sacco, D., Martinetti, D., Roversi, P. F., & Marianelli, L. (2024). Comparison of different attractandkill device densities to control the adult population of Popillia japonica (Coleoptera: Scarabaeidae). Pest Management Science. Poinar Jr, G. O. (1990). Taxonomy and biology of Steinernematidae and Heterorhabditidae. Entomopathogenic nematodes in biological control, 54. Power, K. T., An, R., & Grewal, P. S. (2009). Effectiveness of Heterohabditis bacteriophora strain GPS11 applications targeted against different instars of the Japanese beetle Popillia japonica. Biological Control, 48(3), 232-236. Potter, D. A., & Held, D. W. (2002). Biology and management of the Japanese beetle. Annual review of entomology, 47(1), 175-205. Potter, D. A., & Held, D. W. (2002). Biology and management of the Japanese beetle. Annual review of entomology, 47(1), 175-205. Rogers, M. E., & Potter, D. A. (2003). Effects of spring imidacloprid application for white grub control on parasitism of Japanese beetle (Coleoptera: Scarabaeidae) by Tiphia vernalis (Hymenoptera: Tiphiidae). Journal of Economic Entomology, 96(5), 1412-1419. Rogers, M. E., & Potter, D. A. (2004). Potential for sugar sprays and flowering plants to increase parasitism of white grubs (Coleoptera: Scarabaeidae) by tiphiid wasps (Hymenoptera: Tiphiidae). Environmental Entomology, 33(3), 619-626. Torrini, G., Paoli, F., Mazza, G., Simoncini, S., Benvenuti, C., Strangi, A., Tarasco, E., Barzanti, G. P., Bosio, G., Cutino, I., Roversi, P. E., & Marianelli, L. (2020). Evaluation of indigenous entomopathogenic nematodes as potential biocontrol agents against Popillia japonica (Coleoptera: Scarabaeidae) in Northern Italy. Insects, 11(11), 804. This Horizon 2020 project website is powered by SPOTTERON Citizen Science"
        ],
        [
         "37",
         "Oficina de prensa ssn_admin 2023-06-05T10:26:14+02:00 Contacto elisa.mora@ceab.csic.es Comunicación  Mosquito Alert Tel. +34 972 33 61 01 Recursos e imagen corporativa: 2023  Material Descargar Logos Descargar Fotos de los mosquitos Descargar Material Divulgación Descargar Vídeos Consultar Notas de prensa Consultar Mosquito Alert en los medios Enero La Vanguardia: El misterio del mosquito tigre en invierno Crónica Global: La UAB alerta de la presencia prematura de mosquitos en Barcelona por el cambio climático Europa press: El CREAF alerta del avance de la floración, procesionaria y mosquitos por el invierno cálido Beteve: Mosquits a lhivern? Es detecten casos aïllats a Catalunya per laugment de les temperaturas Efe agro: Un estudio analiza el impacto climático en las plagas y la floración MónPlaneta: Un hivern càlid avança la prossecionària i els mosquits a Catalunya Públic: Detectades floracions prematures a Catalunya de plantes silvestres a causa del canvi climàtic La República: Tot saccelera: flors, processionària i mosquits surten abans a conseqüència del canvi climàtic Ciudad Ciencia: Te gustaría participar en Mosquito Alert? Metrópoli: Detectados en Barcelona mosquito tigre y comunes en enero El Periódico: Los mosquitos se asientan en Barcelona en pleno invierno Menéame: Los mosquitos se asientan en Barcelona en pleno invierno RAC1: Com afecta el canvi climàtic els mosquits: A 1 de gener, hem detectat mosquits tigre a Barcelona Empordà: Els mosquits sassenten a Barcelona en ple hivern Noticias de Última Hora: Los mosquitos se asientan en Barcelona en pleno invierno VIA 15: Els mosquits dhivern (min 20) Catalan News: Climate change: mosquitoes in January and windflowers blooming 5 months early Territori Rural: Les temperatures de lhivern han provocat canvis en la flora i fauna dels boscos Diciembre COST: Mosquito Alert app: how to track invasive mosquitos Octubre DKV: Mosquito invasores y cambio climático Información: Expertos en plagas avisan de un otoño cargado de mosquitos y cucarachas por las lluvias y las altas temperaturas Terra Fundación: Dengue y clima: favorece el calentamiento la propagación de arbovirosis? IES Bajo Cinca: Proyecto Mosquito Alert Septiembre RTL Today: Ministry of Health enables mosquito reporting via app to trace diseases Neiker: Why is it important to track the expansion of invasive mosquito species? El Día: Aedes aegypti: jaque al mosquito viral Ages: Gesundheit für Mensch, Tier & Pflanze Instituto Superiore di Sanità: Zanzare che transmettono West Nile e altri virus: con Mosquito Alert è possibile tracciarle Le Quotidien: Mosquito Alert: une application pour traquer le moustique tigre Fortune Health: Mosquito Alert, la tecnología nemica delle zanzare Alimenti & Salute: Nasce lapplicativo per il tracciamento della zanzara: il Mosquito Alert! Contacto: Mosquito Alert. Luxemburgo tem aplicaçao para detetar mosquitos invulgares Paperjam: Mosquito Alert, lapp pour surveiller les moustiques 65ymás: Alertan de un otoño cargado de plagas de mosquitos y cucarachas Diario16: La meteórica expansión del mosquito tigre en España hace que su extinción sea ya imposible Nius: El otoño vendrá cargado de mosquitos y cucarachas por las últimas lluvias y las altas temperaturas Animals Health: Alertan de plagas de mosquitos transmisores de zoonosis este año Juan de Lanuza: Ganadores Mosquito Alert Europa press: Expertos en plagas avisan de un otoño cargado de mosquitos y cucarachas por las últimas lluvias y altas temperaturas La Razón: Un otoño cargado de cucarachas y mosquitos por el calor y las últimas lluvias Lessentiel: App Mosquito Alert erfasst krankheitsübertragende Stech-mücken Pikalia: Zanzare che trasmettono virus: tracciarle è importante. Con lapp Mosquito Alert, i cittadini aiutano i reicercatori Marimurtra: Actividades de la Semana de la Ciencia 2022 Agosto Vozpópuli: Sanidad adquiere un sistema para vigilar a mosquitos vectores de dengue y chikungunya ConSalud.es: Barcelona intensifica la vigilancia de mosquitos en 82 zonas de riesgo TV3: Un estiu amb menys mosquits? Agencia SINC: Rastrear mosquitos que portan enfermedades por todo el mundo ya es posible Hoy: El SES y la UEX incorporan Mosquito Alert dentro del programa de vigilancia del mosquito tigre NoticiasExtremadura: El SES y la UEX incorporan Mosquito Alert dentro del programa de vigilancia del mosquito tigre Diario Veterinario: Extremadura pide la ayuda de la ciudadanía para detectar la presencia del mosquito tigre Información: Lanzan una web para seguir en tiempo real los mosquitos portadores de enfermedades Salud Diario: Rastrear mosquitos que portan enfermedades por todo el mundo ya es posible Diario Veterinario: Ciencia ciudadana para combatir las plagas de mosquitos en España Debate: Así los puedes identificar: las características del mosquito del dengue Onda Regional: Los últimos meses de sequía en el país determinan la ausencia del mosquito tigre CRN noticias: Salud: Jaque al mosquito viral Revista Q: Jaque al mosquito viral Muy Interesante: Cuál es el animal más mortífero para los seres humanos? News Medical Life Science: USF researchers launch a mosquito-tracking dashboard driven by citizen science Digital Extremadura: El SES y la UEX incorporan Mosquito Alert dentro del programa de vigilancia del mosquito tigre EPE: Lanzan una web para seguir en tiempo real los mosquitos portadores de enfermedades El Periódico: Lanzan una web para seguir en tiempo real los mosquitos portadores de enfermedades El Espectador: Ahora se pueden rastrear en tiempo real mosquitos que portan enfermedades por el mundo Ajuntament de Caldes de Malavella: Atenció als consells per evitar els mosquits tigres! Extensión Universitaria: Emergencia climática: la adaptación como una herramienta eficaz frente al cambio climático News Europa: Los últimos meses de sequía en el país determinan la ausencia del mosquito tigre Faro de Vigo: Lanzan unha web para seguir en tempo real os mosquitos portadores de enfermedades Rainwatch: Rastrear mosquitos que portan enfermedades en el mundo ya es posible Humanidad y Medio: Este cuadro de mando mundial sigue a mosquitos portadores de enfermedades mortales Money Training Club: Un cuadro de mandos que rastrea mosquitos peligrosos por todo el mundo Notibol: Sanidad y la Universidad de Extremadura piden ayuda ciudadana para vigilar al mosquito tigre elDiario.es: Un cuadro de mandos que rastrea mosquitos peligrosos por todo el mundo elDiario.es: Sanidad y la Universidad de Extremadura piden ayuda ciudadana para vigilar al mosquito tigre Diario de Querétaro: Jaque al mosquito viral Unión de Consumidores de Extremadura: Lanzan una web para seguir en tiempo real los mosquitos portadores de enfermedades El Periódico de Extremadura: Extremadura solicita ayuda ciudadana para detectar al mosquito tigre Burgos noticias: Rastrear mosquitos que portan enfermedades por todo el mundo ya es posible Extremadura.com: El SES y la UEX incorporan Mosquito Alert dentro del programa de vigilancia del mosquito tigre AdapteCCa.es: Mosquito Alert: ciencia ciudadana y adaptación al cambio climático Radio Televisión Miajadas: El SES y la UEX incorporan Mosquito Alert dentro del programa de vigilancia del mosquito tigre Grada: El Servicio Extremeño de Salud y la Universidad de Extremadura incorporan la aplicación Mosquito Alert al programa de vigilancia del mosquito tigre CORDIS: Ordinary citizens help to combat the global threat of mosquito-borne diseases Julio University of South Florida: UDF researchers launch global dashboard to track invasive mosquitoes carrying deadly diseases Science X Phys.org: Global dashboard to track invasive mosquitoes carrying deadly diseases Get About Columbia: USF researchers launch citizen science-driven mosquito- tracking dashboard EurekaAlert!: Global dashboard to track invasive mosquitoes carrying deadly diseases Universidad de La Laguna: Gávez Esteban: El mosquito es el animal que más muertes causa en el mundo TimeOut: Es cierto que cada vez hay más mosquitos en Barcelona? Ajuntament de Caldes de Malavella: Que no hi hagi mosquits tigre depèn de tu! Periodismo Ciudadano: Mosquito Alert: una app para detectar la presencia de mosquitos invasores El Confidencial: Ciencia ciudadana sobre el asfalto: catalogar pájaros y otros bichos es posible en Madrid Muy Interesante: La ciencia ciudadana contra el mosquito tigre ConSalud: Estas son las principales especies de mosquitos y enfermedades que transmiten a los humanos Ajuntament de Terrassa: El ayuntamiento trabaja en un estudio sobre el mosquito tigre en los barrios de les Fonts, Can Goteres y Can Palet de Vista Alegre Santa Cristina: Xerrada informativa mosquit tigre Bio Bilbao: Qué afección tiene el cambio climático sobre tu salud? Comune di Barberino Tavarnelle: Parte il progetto Mosquito Alert Ràdio Capital: La Bisbal dEmpordà inicia un estudi de seguiment del mosquit tigre Nuova Comunicazione: Mosquito Alert, a Bargno a Ripoli la lotta alle zanzare si fa con una app Hipertextual: Cómo funcionan los aparatos antimosquitos? Ajuntament de Sabadell: Alumnat de lInstitut Ca NOriac participa en un projecte per aprofundir en el coneixement del mosquit tigre Notícies 3/24: Què funciona i què no contra els mosquits, hi tenen a veure els colors de la roba? Diari de Girona: La Bisbal dEmpordà pren mesures contra el mosquit tigre Món Planeta: LIRTA crea un parany intelligent que identifica els mosquits pel brunzit JLA Noticias: La ciencia ciudadana contra el mosquito tigre Veterinari della Provincia di Brecia: Estate, tornano le zanzare: i cittadini al finaco dei ricercatori nel tracciamento con lapp Mosquito Alert MET: Parte il progetto Mosquito Alert. A Barberino Tavarnelle una rete di cittadini-scienziati per identificare le specie di zanzare presenti sul territorio Ivoox: Molts mosquits aquest estiu Cadena SER Catalunya: Molts mosquits aquest estiu La Vanguardia: La plaga de mosquitos que convirtió a Esparreguera en capital de Catalunya Junio CSIC Catalunya: Mosquito Alert será una de les eines del nou projecte ID Alert, per fer front a les noves amenaces sanitàries Euronews.green: This scientist wants you to send him dead mosquitoes in the post Giga Blog: Publishing Citizen Science data to fight against mosquito borne diseases Yahoo! News: This scientist wants you to send him dead mosquitoes in the post Ambientum: Abundacia de plagas por las altas temperaturas La Provincia:  Mosquito Alert Combattere le zanzare usando lo smartphone Tg24 Sky: Mosquito Alert: lapp per riconoscere e mappare le zanzare IES Azuer Manzanares: El equipo Colibrí indeleble cereza ha sido premiado dentro del proyecto Mosquito Alert IEAS Satafi: Ganadores del producto final Mosquito Alert Met: Bagno a Ripoli  Mosquito Alert, la lotta alle zanzare si fa con una app Rivista Natura: Tornano le zanzare e torna lApp Mosquito Alert Padovaoggi: Notizie su Mosquito Alert IES Plurilingüe Eusebio da Guarda: Premio do CSIC Mosquito Alert TecnoLovez: Mosquito Alert  applicazione per riconoscere e mappare le zanzare Blog IDEE: Portal de datos de Mosquito Alert CEAB-CSIC: Mosquito Alert: leveraging citizen science to create a Gbif mosquito occurrence dataset Sapienza UNiversita di Roma: Summertime, mosquitoes are back back: citizens join researchers in tracking them with the Mosquito Alert app Instituto Zooprofilattico Sperimentale delle Venezie: Estate, tornano le zanzare: i cittadini al fianco dei ricercatori nel tracciamento con lapp Mosquito Alert Ajuntament de Terrassa: Mosquito tigre Unibo Magazine: Mosquito Alert: I cittadini al fianco dei ricercatori nel tracciamento delle zanzare Instituto Superiore di Sanità: Estate, tornano le zanzare: i cittadini al fianco dei ricercatori nel tracciamento con lapp Mosquito Alert Lab Manager: Citizens power mobilized to fight against mosquito borne diseases Qui Antella: Mosquito Alert: una app per la lotta alle zanzare XTEC: Premis Mosquito Alert BioTech: ID Alert reforzará la resiliencia de Europa frente a las amenazas emergentes para la salud La Razón: Un verano de plagas por las altas temperaturas La Repubblica: Scienza partecipata: adesso le zanzare si tracciano con lapp Gbif: Fighting vector-borne diseases with data EurekaAlert!: Fighting vector-borne diseases with data Nacio Digital: El mosquit tigre torna a Terrassa: què cal fer per evitar-lo Corriere del Veneto: Arriva app Mosquito per fotografare le zanzare, gli scieziati: invitateci le immagini, e importante Mayo Metropolitano.it: Zanzare: anche in Italia unapp per conoscerne specie e pericolosità Beuningen Nueuws.nl: Last van muggen? Sla ze plat, maak een foto en stuur die op Met: Alia Spa. Lotta all zanyre, al via la campaign di disinfestazione e la nova app Mosquito Alert per le segnalazioni Contacto: Chegada do mosquito tigre asiático ao Luxemburgo é inevitável Fionline: Lotta all zanyre, al via la campaign di disinfestazione e la nova app Mosquito Alert per le segnalazioni Ecologgi: App antizanzare: segnalare le zanzare Salute Lazio: Alarm zanzare, arriva lapp: come usare Mosquito Alert Spanje Vandaag: Specialisten verwachten meer kriebel-en tijgermuggen in Spanje El Periódico: La Casa de la Ciència del CSIC en València organiza un ciclo de conferencias sobre Ciencia Ciudadana Ooe.orf: Vormarsch der Tigermücken soll gebremst werden Periodismo Ciudadano: Mosquito Alert: una app para detectar la presencia de mosquitos invasores Max Planck Institute: Human-Human and Human-Mosquito Networks: Inferring degree distributions and assessing implications for disease dynamics Meteo.it: Zanzare, arriva lapp: come usare Mosquito Alert El Periódico Extremadura: A la caza de los mosquitos en Plasencia Consorci dEducació de Barcelona: Convocatòria unificada de programes i de capacitació dequips educatius. Curs 2022-2023 Sleutelstad: Science071: Nour interviewt Sam, Lisa en Loui over Mosquito Alert en muggen Quotidiano Nazionales: Allarme zanzare, arriva lApp per difendersi. Ecco come usarla. Mappe delle zone infestate. inToscana: A Firenze lotta alle zanzare con lapp Mosquito Alert per le segnalazioni Corriere Fiorentino: Firenze, reparte la disinfestazione delle zanzare e arriva lapp Mosquito Alert IES Satafi: Proyecto Mosquito Alert Sabadell.cat: Alumnat de lInstiut Ca NOriac participa en un projecte per aprofondir en el coneixement del mosquit tigre Stampar: Započela je sezona aktivnosti komaraca. Kako se zaštititi? Zazoom.it: Il Comune sfida le zanzare. Desinfestazione e lapp Mosquito Alert Land Oberösterreich: LH-Stv.in Haberlander: OÖ setzt 2022 erweitertes Stechmückenmonitoring fort  Gemeinsam Ausbreitung gebietsfremder Gelsen verhindern Tips Linz-Satdt: Stechmücken unter Beobachtung: Oö erweitert 2022 Monitoring um Ausbreitung der Asiatischen TigerMücken zu verhindern 055 Firenze: Malattie virali trasmesse da lanzaré e zecche: il piano di prevenzione della Regione Greendex: Hajtóvadászat indul a tigrisszúnyog és társai után Index.hu: A lakosság segítségét kérik a tigrisszúnyogok felkutatására Verona Sera: Caldo e zanzare, come difendersi: il vademécum dellUlss 9 Scaligera. Cè pure la App Mosquito Alert GeosNews: Allarme zanzare, arriva lApp. Come usare Mosquito Alert Eco di Toscana: Lotta alle zanzare: la campagna di disifestazione parte dalla nuova app 5 Graz: So solo es der Tigermücke nun an den Kragen gehen Stamp Toscana: Lotta alle zanzare, al 70% focolai su are private, spent lApp Azelet Meg Minden: Kemenesi Gábor  A víruskutató dumcsistandja Linz News: Haberlander warnt vor Tigermücken Heute: Warnung vor neuer Gelsen-Art in Oberösterreich TopsNews Italia: Allarme zanzare, arriva lApp per difendersi. Ecco come usarla. Mappe delle zone infestate 24h.hu: Lassan miden feltétel adott egy Zika-járványhoz Point of News.it: Allarme zanzare, arriva lApp per difendersi. Ecco come usarla. Mappe delle zone infestate Ooe24. News: Oö setzt 2022 erwitertes Stechmückenmonitoring fort  Gemensam Ausbreitung gebietsfremder Gelsen verhindern Trends Techno: Das Vordringen der Tigermücken soll verlangsamt werden ShkmgMcnuh: Mosquito Alarm, the app arrives. How to use Mosquito Alert Upf YouTube: Pentàgon UPF 2022-Alex Richter presenta projecte de ciència ciutadana Mosquito Alert Qui News Firenze: Lotta alle zanzare, 70% di focalai in zone private Info Trends: Das Vordringen der Tigermücken soll verlangsamt werden Enero  Marzo ConSalud.es: Mosquito Alert, clave de un proyecto para alertar sobre enfermedades transmitidas por mosquitos Horizon EU Research & Innovation Magazine: Observations from space help scientists get one step ahead of the tiny but deadly mosquito LifeInvasAqua: Una app contra el mosquito tigre (Aedes albopictus), entre los casos de éxito de adaptación al cambio climático Muse: Zanzare e altri fastidi Octubre  Diciembre TV3: Mosquito Alert: Tindrem mosquits tigre fins a finals de novembre BioTech: Barcelona dispone del primer mapa del mundo que predice el riesgo de encontrarse un mosquito tigre Plataforma sobre Adaptación al Cambio Climático en España: Mosquito Alert, ciencia ciudadana y adaptación al cambio climático NWO: Marion Koopmans: We must prevent a pandemic caused by mosquitoes Higiene Ambiental: Control de mosquitos en imbornales de Barcelona La Vanguardia: El virus del Nilo Occidental nos amenaza más porque los inviernos son poco fríos La Opinión de Murcia: El cementerio Nuestro Padre Jesús limita el aforo al 75% WayPoint Travel Blog: Citizen Science: alla ricercar dellanimale più pericoloso del mondo Septiembre Miteco (Ministerio para la transición ecológica y el reto demográfico): Mosquito Alert: ciencia ciudadana y adaptación al cambio climático DKV: Mosquitos invasores y cambio climático Kronen Zeitung: Asiatische Tigermücke ist nun in Graz gelandet La Vanguardia: Barcelona desenvolupa el primer mapa del món que prediu el risc diari de trovar-se un mosquit tigre El Periódico: Barcelona tiene el primer mapa que predice el riesgo de picadura de un mosquito tigre Betevé: Un mapa prediu el risc de trovar-se un mosquit tigre a Barcelona en temps real Metropoli: Barcelona crea un mapa que identifica los mosquitos tigre CREAF: Barcelona dispone del primer mapa del mundo que predice el riesgo de encontrarse un mosquito tigre 20minutos: Un mapa indica el riesgo de encontrarse con un mosquito tigre en Barcelona según la zona en la que estés ASPB: Primer mapa de risc de trovar-se un mosquit tigre a Barcelona Curiosity Saves: How to get involved and become a citizen scientist Verde y Azul: Wolbachia, la bacteria que podría cambiar el mundo Ayuntamiento de Rivas Vaciamadrid: Mosquito tigre: consejos para evitar su proliferación en el entorno doméstico TeleMadrid: Consejos para evitar la proliferación del mosquito tigre en Rivas Vaciamadrid Noticias de Álava: Álava, tras el mosquito tigre FECYT: Ciencia ciudadana como metodología transversal Pocimas de Salud: Todo sobre el mosquito tigre en imágenes Agosto RTPA: El mosquito japonés ya está en Asturias y el tigre se acerca por Euskadi 7Días Extremadura: Desarrollan una tecnología para identificar mosquito tigre, más peligrosos que los comunes Maldita Ciencia: Las siete claves del virus del Nilo Occidental; qué es, qué lo transmite y cómo evitarlo Noticias de Álava: Euskadi vigila por primera vez la presencia del mosquito tigre en grandes poblaciones COST: World Mosquito Day: COST Action against invasive species in Europe OneHealthPACT: Mosquito Alert App OneHealthPACT: Mosquito Alert App in the media: onderzoekers vragen om fotos van platgeslagen muggen Roermond Nueuws.nl: Europeanen kunnen met Mosquito app helpen inheemse muggen in kaart te brengen Libelle: Opgelet: dése exotische muggensoorten zijn gespot in Nederland en dit betekent dat voor jou Het Parool: Gevaarlijke tijgermug rukt op naar Amstelveen DrSunshine: Last van muggen? Sea ze plat en mask een foto! Padiva.net: App realizzate e promosse dal Comune di Padova Menorca@aldia: Mosquito Alert muestra 85 puntos en Menorca donde habita el mosquito tigre Parque de las Ciencias Andalucía Granada: Más allá del laboratorio, la revolución del hazlo tú mismo Julio Napoli Today: Procida Capitale della Cultura, ecco lapp per segnalare la zanzara tigre Verona Sera: Caldo e zanzare, come difendersi: il vademecum dellUlss 9 Scaligera. Cè pure la app Mosquito Alert Napoli Time: Procida con la citizen science per comabattere la zanzara tigre ANSA.it: Zanzare; studio della Federico II a Procida Il Procidano: Procida, con la citizen science per combattere la zanjara tigre Positano News: Procida, con la citizen science per combattere la zanjara tigre Napoli Village: Procida, con la citizen science per combattere la zanjara tigre Portofolio: Kemenesi Gábor: ellepik Magyarországot a trópusi betegségeket terjesztö inváziós szúnyogok Hvg.hu: Már a magyarokat is csípik az inváziós szúnyogok, nö a kockázata a trópusi betegségeknek Napi.hu: Meg kell állítani az invazív szúnyogfajokat indítanak  figyelmeztet a virológus 168: Már a kertben vanas a veszélyes vérszívók WMN Life: Ne legyél vacsora  szúnyogirtás házilag, és egy applikáció amivel segítheted a vérszívókat megfékezö tudósok munkáját Forber: Indus a Nagy szúnyogírtás, de mi is lehetünk szúnyogvadászok BORS: Vísusokat terjeszthetnek a fura kinézétü szúnyogok University of Pécs: Like the silver stripes of a mosquito Pécsért.hu: Egymillió embert ölnek meg évente a szúnyogok: a kutatók idén is várják a rovarmintákat De Telegraaf: Column Babette: sla ze, maar niet te hard NOS: Foto van platgeslagen mug moet onderzoekers helpen: niet te hard slaan Rinjmond: Last van muggen? Sla m plat en mask een foto Nieuws.nl: Last van muggen? Sla m plat en mask een foto! Drimble: Last van muggen? Sla m plat en mask een foto! RTV Meppel: M aak foto van platgeslagen mug Stop Doemdenken!: Op de tropen voorbereid Lokale Omroep Krimpen: Muggen Deventerrtv.nl: Last van muggen? Sla m plat en mask een foto Den Bosch Nieuws.nl: Last van muggen? iCat: Mosquito Alert NOS: Foto van platgeslagen mug moet onderzoekers helpen: niet te hard slaan NOS: Met Mosquito Alert App hopen weternschappers meer over verspreiding virussen te leren Het Parool: Onderzoekers vragen om fotos van platgeslagen muggen VNexplorer: Get your mosquito swatter out for science (but dont hit them too hard) Dutch News.nl: Get your mosquito swatter out for science (but dont hit them too hard) EuroNews: Aggressive tiger mosquitoes are spreading through Europe: how can we protect ourselves? Netherland News Live: New app for photos of dead mosquitoes: dont hit too hard! Datanami: Neural network identifies dangerous mosquitoes Marktechpost: A deep convolutional neural network for classification of tiger mosquitoes Diari de Barcelona: Creen una nova tecnologia per identificar els mosquits tigre EFE verde: Desarrollan tecnología para identificar mosquitos portadores de enfermedades GEO: Tecnología española para identificar al mosquito tigre UOC: A UOC team develops a neural network to identify tiger mosquitoes Institut Joan dAustria: Mosquito Alert, treballs premiats del nostre alumnat Dicyt: Una tecnología prende a identificar mosquitos tigre a partir de imágenes Infosalus: Investigadores españoles desarrollan una tecnología para identificar mosquito tigre Institut Valldemossa: Premi Mosquito Alert El Mundo: Picaduras de mosquito: cómo podemos prevenir sus ataques y aliviar los efectos que causan? Verde y azul: El dengue ya no es una enfermedad tropical, está en el Mediterráneo y puede afectar al turismo Developer Blog: Fighting disease-carrying mosquitoes with neural network La Vanguardia: Las áreas de rentas bajas de Barcelona tienen más mosquitos La Vanguardia: Investigadores de UOC diseñan una tecnología para identificar mosquitos tigre Ecologismos: Nuevo sistema para detectar la presencia del mosquito tigre Via Empresa: La UOC crea una tecnología per identificar mosquits tigre Vila Press: La UOC ha usado redes neuronales para identificar mosquitos tigre FQmagazine: Mosquito Alert: lapp per braccare le zanzare. Ecco come funziona Onda Cero: El mosquit tigre és una de les amenaces del temps destiu a Catalunya Junio Novosadska TV: Mapiranje rasprostranjenosti komaraca K1 UZIVO: Video: vid-20210603-wa0005_JBaLLjFs Radio-televizija Vojvodine: Информације о комарцима које фотографишете преко апикације Москито алерт Radio-televizija Vojvodine: Informacije o komarcima koje fotografišete preko apikacije Moskito Alert Radio-televizija Vojvodine: Informacije o komarcima koje fotografišete preko apikacije Moskito Alert Italy 24News: Which mosquito bites me at home? An app helps Diputació de Barcelona: Suport de la Diputación de Barcelona als municipis en la prevenció i control del mosquit tigre Institut Joan dAustria: Mosquito Alert I. E. S. Leonardo da Vinci: Proyecto de ciencia ciudadana Mosquito Alert Mayo El Periódico: Badalona pone en marcha la campaña de control del mosquito tigre El Periódico Mediterráneo: Las segundas viviendas, un factor clave en la expansión del mosquito en Castellón Betevé: Mosquits transmissors de malalties: quins viuen a Catalunya i quins hi poden arribar Catalunya Ràdio: Mosquits modfiicats genèticament per erradicar malalties mortals El Correo: Es hora de sacar al científico que llevamos dentro AIM-cost: Take part of the war against mosquitoes: download the Mosquito Alert app tecmalimp: Que vienen los mosquitos!! La Vanguardia: Llega el verano y así puedes identificar el mosquito tigre Limpiezas: Alto riesgo de proliferación de varias especies de mosquitos este verano bVector: Interview with Prof. Frederic Bartumeus As: Los mosquitos más peligrosos Cugat Media: Consells per preparar larribada del mosquit tigre a Sant Cugat Nuadox: AI identifies tiger mosquito from photos in Mosquito Alert app Muse: Mosquito Alert: il progetto di Citizen Science sulla zanzara tigre TechXplore: Artificial intelligence identifies the tiger mosquito from photos in the Mosquito Alert Radio Palafolls: Lapp sobre el mosquit tigre, eficaç en lestudi de linsecte a Palafolls Panama On: La inteligencia artificial ya identifica al mosquito tigre de las fotos recibidas en la app Mosquito Aler t Time News: The Mosquito Alert app arrives in Italy El Axioma: Perfeccionan app que permite identificar al mosquito tigre EurekAlert!: Artificial intelligence identifies the tiger mosquito from photos in the Mosquito Alert LAdige: Gli scolari di Gardolo a caccia di zanzare (ma con tablet e app) Explica.co: They perfect the app that allows to identify the tiger mosquito Verde y azul: Perfeccionan la app que permite identificar el mosquito tigre Trentino Cultura: Mosquito Alert Mètode: Citizen science projects @anmviOggi: IZSVE: Citizen science per la lotta alle zanzare Smart City Journal: La inteligencia artificial identifica al mosquito tigre de las fotos recibidas en la app Mosquito Alert Skytg24: Zanzare, arriba in Italia lapp per conoscerne tipo e pericolosità Redattore Sociale: Salute, Mosquito Alert: arrive lapp per reiconoscere le zanzare il Dolimiti: Tracciare la presenza di zanzare con unapp: il via alla Pedrolli di Gardolo alla sperimentazione del progetto Mosquito Alert Opinione, Agenzia Giornalistica: Muse trento, Mosquito Alert: decisivo il roulo dei cittadini, parte dalla scuola Pedrolli di Gardolo il progetto sperimentale di citizen science sulla zanzara tigre Sapienza Università di Roma: Lotta alle zanzare: approda in Italia Mosquito Alert, lapp che permette ai cittadini di contribuire con un click Borderline24: Fotografare le zanzare per contribuire alla ricerca: in Italia la app per la lotta infestazioni diari ara: Alliberen mosquits modificats genèticament a Florida La Cope: La inteligencia artificial ya identifica al mosquito tigre en fotografías LifeInvasAqua: La inteligencia artificial ya identifica al mosquito tigre en fotografías Santa Cristina: Aturar el mosquit tigre depèn de tu! CerVent: Ventanas abiertas con el buen tiempo? Importancia de la instalación de una mosquitera RegioneEmilia-Romagna: La citizen science come strumento di acquisizione dati sulle zanzare La Lampada delle Science: Diventiamo tutti ricercatori e caombattiamo le zanzare con la citizen science! Economía Hoy: La inteligencia artificial ya identifica al mosquito tigre de las fotos recibidas en la app Mosquito Alert Catalunya Vanguardista: La inteligencia artificial identifica al mosquito tigre BioTech: Artificial intelligence identifies the tiger mosquito from the photos received in the Mosquito Alert app elDiario.es: La inteligencia artificial ya identifica al mosquito tigre en fotografías Noticias Yahoo: La inteligencia artificial ya identifica al mosquito tigre en fotografías Ecoticias.com: La inteligencia artificial ya identifica al mosquito tigre de las fotos recibidas en la app Mosquito Alert El Español, Crónica Global: La inteligencia artificial ya identifica al mosquito tigre en fotografías Lo Campus Diari: La intelligència artificial ja identifica el mosquit tigre de les fotos rebulles en lapp Mosquito Alert UPF: La intelligència artificial ja identifica el mosquit tigre de les fotos rebulles en lapp Mosquito Alert Marzo Ages.at: Mosquito Alert: Platform for Meldungen von Tigermücken uns anderen Gelsen Observatorio de la Ciencia Ciudadana: Ciencia ciudadana y salud en Vital Open Science Plataforma sobre Adaptación al Cambio Climático en España: Mosquito Alert, un observatorio de ciencia ciudadana 360º El Ágora, diario del agua: Ciencia ciudadana con nombre de mujer Nobbot: Por qué pican los mosquitos? iagua: El MITECO expone los casos prácticos en adaptación al cambio climático en España y Europa El periódico de la energía: MITECO expone los casos prácticos en adaptación al cambio climático para inspirar medidas ambientales y económicas EuropaPress: El MITECO lanza un portal con casos prácticos en adaptación al cambio climático para inspirar soluciones ambientales Fundación Biodiversidad: El MITECO presenta un miniportal web centrado en casos prácticos de adaptación al cambio climático en España y Europa Cuenca Hidrográfica del Guadiana: El MITECO presenta un miniportal web centrado en casos prácticos de adaptación al cambio climático en España y Europa Murcia.com: El MITECO presenta un miniportal web centrado en casos prácticos de adaptación al cambio climático en España y Europa MITECO: El MITECO presenta un miniportal web centrado en casos prácticos de adaptación al cambio climático en España y Europa NoticiasPress: El MITECO presenta un miniportal web centrado en casos prácticos de adaptación al cambio climático en España y Europa El Ágora, diario del agua: MITECO lanza una plataforma colaborativa para impulsar la adaptación EFE Verde: Valvanera Ulargui presenta casos de éxito en lucha contra el cambio climático Humanidad y Medio: El MITECO presenta un miniportal web centrado en casos prácticos de adaptación al cambio climático en España y Europa Diario Siglo XXI: El MITECO expone los casos prácticos en adaptación al cambio climático para inspirar medidas ambientales La Cerca: El MITECO presenta un miniportal web centrado en casos prácticos de adaptación al cambio climático en España y Europa Noticias De: El MITECO expone los casos prácticos en adaptación al cambio climático para inspirar medidas ambientales Construible: El MITECO crea una plataforma para mostrar casos prácticos de éxito al cambio climático Retema: El MITECO presenta un portal centrado en casos de adaptación al cambio climático en España y Europa Febrero Xtec: Premiats en un projecte de ciència ciutadana Enero Heraldo: Ciencia ciudadana y aprendizaje servicio: más sinergias entre ciencia y educación Diciembre TV1, LInformatiu: Un any amb molts mosquits (14:02-15:51) TV3: Els científics es preparen per larribada de més malalties transmeses per mosquiits afavorides pel canvi climàtic. Clip complert (min 34:33) TV3: Els científics es preparen per larribada de malalties transmeses per mosquits (min. 34:33) El País: La detección de mosquito tigre en España se duplica en 2020 El Punt Avui: El 2020 registra el doble de mosquits tigre a lestar que lany anterior El Periódico: 2020, año de picaduras: récord y el doble de mosquitos tigre elDiario: 2020, el año con más mosquitos en España, y el doble de mosquitos tigre La República: El 2020 registra el doble de mosquits tigre a lestar que lany anterior Diario de Sevilla: 2020, el año con más mosquitos en España, y el doble de mosquitos tigre La Vanguardia: 2020, el año con más mosquitos en España, y el doble de mosquitos tigre La Vanguardia: El año con más mosquitos tigre: 2020 también ha sido un año negativo en picadas offTheBus: The detection of tiger mosquitoes in Spain doubles in 2020 Yahoo! Noticias: 2020, el año con más mosquitos en España, y el doble de mosquitos tigre Nius: 2020, el año con más mosquitos en España y siguen activos pese a la época Objetivo Cádiz: 2020, el año con más mosquitos en España MónPlaneta: El 2020 registra el doble de mosquits tigre a lEstat que lany anterior España Diario: Los españoles nos rascamos más que nunca: récord histórico de mosquitos este año y preocupan los tigres TV3 Notícies: Rècord de mosquits tigre el 2020, el doble de lany passat i encara actius a la tardor Mundo Geo: 2020, el año con más mosquitos tigre en España La Voz de Galicia: El mosquito tigre, la otra epidemia La Mañana: El 2020 registra el doble de mosquits tigre a lEstat que lany anterior TeleCinco: Has visto más bichos en 2020? Con razón: este ha sido el año con más mosquitos en España Diari Ara: El 2020 ha sigut lany amb més mosquits tigre a Espanya Eix Diari: El 2020 registra el doble de mosquits tigre a lEstat que lany anterior Ecoticias: Calentamiento global, temperaturas cálidas y lluvias regulares, así ha sido el año con más mosquitos en España Nació SantCugat: La població del mosquit tigre es duplica durant el 2020 El Ágora Diario del Agua: España registra en 2020 su récord de mosquitos tigre Ambientum: La imparable expansión del mosquito tigre La Voz de Asturias: El mosquito tigre, la otra epidemia El periódico Mediterráneo: 2020, año de picaduras: récord y el doble de mosquitos tigre EFE Verde: 2020, el año con más mosquitos en España, y el doble de mosquitos tigre Nació Digital: La població del mosquit tigre es duplica durant el 2020 Catalunya Diari: 2020: El pitjor any també de mosquits a Catalunya amb rècord dels tigre Las Voces del Pueblo: Muchos mosquitos en España en 2020 El tiempo.es: Este 2020ha sido el año con más mosquitos en España de la historia Iambiente: El 2020 registra el doble de mosquitos tigre en España que el año anterior elDiario.es: Muertes por calor, infecciones o tiempo extremo: ningún país es inmune a los daños en la salud del cambio climático Noviembre deVolkskrant: En dan bereik ook nog het westnijlvirus Nederland, verspreid door de huis-tuin-en-keukenmug Higiene ambiental: Virus del Nilo Occidental: guía del ECDC para el control de vectores Periodismo Ciudadano: Mosquito Alert: una app para detectar la presencia de mosquitos invasores Revista Limpiezas: El confinamiento por Covid-19, el perfecto caldo de cultivo para la proliferación de plagas Marimurtra Jardí Botànic: Activitats de la setmana de la ciència 2020 al Jardín Botànic Marimurtra Octubre nrc.nl: Op zoek naar het vershil tussen tijgermug en gelekoortsmug Diario de Castellón: Castelló li declara la guerra als mosquits amb lampliació del contráete de control de plagues fins el 2023 La Metro (La 2): Pagès youtuber i control de mosquits (min 5:35) Betevé: Mosquits transmissors de malalties: quins viuen a Catalunya i quins hi poden arribar AljarafeDigital: Nace una app para controlar y luchar contra el mosquito del virus del Nilo Occidental elDiario.es: Ciencia ciudadana para rastrear la expansión de mosquitos por Europa CastellónPlaza: Castelló adjudica el control de plagas de mosquitos hasta 2023 por 200.697 euros SaludNews: El proyecto Mosquito Alert se amplía a 18 países europeos, incluyendo España Diario de Rivas: Detectada la presencia del mosquito tigre en Rivas: estas son las recomendaciones para evitar su proliferación Museo delle Scienze: Mosquito alert, Lapp per inviare segnalazioni sulle zanzare Grada (Universidad Extremadura): La iniciativa europea AIMSurv 2020 busca mosquitos invasores Plagas Urbanas: El proyecto Mosquito Alert amplia sus ámbitos de actividad El Independiente: La app para luchar contra epidemias de dengue y del virus del Nilo il Dolomiti: Anche in Trentino arriva lapp per tracciare la presenza delle zanzare. Lesperta del Muse: Per contenerla decisivo il ruolo dei cittadini El Punt Avui: Controlant els mosquits Tu otro diario: Se amplía Mosquito Alert: el proyecto para rastrear la propagación de insectos transmisores de enfermedades Higieneambiental.com: El proyecto de ciencia ciudadana Mosquito Alert amplia sus ámbitos de actividad La Vanguardia: Rivas pide colaboración vecinal para evitar que prolifere el mosquito tigre El Digital de Albacete: Mosquito Alert se amplía a Europa para rastrear la propagación de mosquitos transmisores de enfermedades F5haber: Türkiye de tehlike altında! İstilacı türlere cepten takip NTV: İstilacı tehlikeye cepten takip Enerji Gazetesi: İklim değişikliği nedeniyle, günümüzde yaşam alanı tropikal enlemlerle sınırlı olan hastalık taşıyıcı birçok sivrisinek türünün özellikle DocCheck: Die neue App Mosquito Alert soll es in Zukunft ermöglichen, krankheitsübertragende Mücken in ganz Europa zu erfassen und ihre Ausbreitung Sannio Portale: Che fine fanno le zanzare dinverno? La Sapienza lancia Mosquito Alert, unapplicazione gratuita per telefoni cellulari Le ultime notizie: Una app per mappare le lanzaré La Neta Neta!: La imparable expansión de un nuevo mosquito invasor El Catalán: La nueva app Mosquito Alert, impulsada por la Fundación La Caixa incorpora dos nuevas especies invasoras y permite avisar de la picadura de un mosquito Haber365: İstilacı Türler İçin Uygulama Geliştirildi Gesundheit: Mosquito-Warn-App Leggo: Mosquito app, il morro di zanzara si fotógrafa per mappare i virus SIMeVeP: Che fine fanno le zanzare dinverno? Unapp può aitutare a scoprirlo SiVeMP: Una app per mappare le zanzare BlogNews it: Ecco Mosquito app, il morso di zanzara si fotografa per mappare i virus Istituto Zooprofilattico Sperimentale delle Venezie: Che fine fanno le zanzare dinverno? Unapp può aiutare a scoprirlo News Beezer: The best weapon against the beetle and the mosquito: the cell phone hvg.hu: A legjobb fegyver a poloska ellen: a szúnyogháló és a mobiltelefon Bursada bugün: Telefonla sivrisinek takibi En Bursa: Türkiye de tehlikede, istilacılar kapıda Cyprus News Agency: ΑΝΑΚΟΙΝΩΣΗ ΤΥΠΟΥ  ΙΝΣΤΙΤΟΥΤΟ ΚΥΠΡΟΥ World Magazine: Zanzare, la Sapienza lancia il loro monitoraggio tramite smartphone Il denaro: Mosquito Alert, lApp monitora-zanzare: verso una mappatura spaziale e temporale Italia Online: Mosquito Alert, lApp monitora-zanzare: verso una mappatura spaziale e temporale Zazoom: Mosquito Alert, lApp monitora-zanzare: verso una mappatura spaziale e temporale Glonna bot: Mosquito Alert, lApp monitora-zanzare: verso una mappatura spaziale e temporale Son Dakika: İstilacı tehlikeye yakın takip Enerji Ekonomisi: İklim için: Türkiyede sivrisineklerin yayılımı Hürriyet: İstilacı tehlikeye yakın takip Yahoo Notizie: Una app per mappare le zanzare Ygeia Press:  Mosquito Alert: Πρωτοποριακή εφαρμογή για κινητά τηλέφωνα καταγράφει τα μολυσματικά είδη κουνουπιών In Business News: Mosquito Alert: Πρωτοποριακή εφαρμογή για κινητά τηλέφωνα καταγράφει τα μολυσματικά είδη κουνουπιών Sky tg24: Zanzare, la Spapienza lancia il loro monitoraggio tramite smartphone Eurokerdos: Ενημερωθείε για τα μολυσματικά κουνούπια από την εφαρμογή Mosquito Alert Agenzia Italia: Una app per mappare le zanzare 9colonne: Ricerca, che fine fanno le zanzare dinverno? Ecco mappatura spaziale e temporale Gold News: International experts launch a pan-European system to monitor the spread of disease-carrying mosquitoes Ikimhaber: İklim Kriziyle Birlikte Yaygınlaşan Sivrisinekler İzlenebilecek Sapienza Università di Roma: Che fine fanno le zanzare dinverno? Head Topics: Se amplía Mosquito Alert: el proyecto para rastrear la propagación de insectos transmisores de enfermedades Crónica Global: El mosquito del virus del Nilo podría establecerse en Cataluña Siglo XXI: El proyecto Mosquito Alert se amplía a Europa para rastrear la propagación de mosquitos transmisores de enfermedades Enerji günlügü: Iklim degisikliguyle birlikte yayginlasan sivrisinerkler izlenebilecek El Boletín: El proyecto Mosquito Alert se amplía a Europa para rastrear la propagación de mosquitos transmisores de enfermedades Crónica Balear: El proyecto Mosquito Alert se amplía a Europa para rastrear la propagación de mosquitos transmisores de enfermedades ConSalud: El proyecto Mosquito Alert se amplía a 18 países europeos, incluyendo España Navarra.com: España se incorpora a Mosquito Alert para controlar a los insectos que pueden transmitir peligrosas enfermedades Radio Palafolls: Palafolls promou lus duna app per combatre el mosquit tigre Varázslatos Magyrország: Mosquito Alert  állampolgári hozzájárulással a tudományért, a fertözö betegségek ellen Món Planeta: Mosquito Alert incorpora dues noves espècies invasores Ecodiari: La nova app Mosquito Alert incorpora dues noves espècies invasores i permet avisar de la picada dun mosquit dclm.es: 6 DE OCTUBRE: Día 205º de la pandemia TuOtroDiario: Se amplía Mosquito Alert: el proyecto para rastrear la propagación de insectos transmisores de enfermedades Moncloa: El proyecto Mosquito Alert se amplía a Europa para rastrear mosquitos transmisores de enfermedades EuropaPress: El proyecto Mosquito Alert se amplía a Europa para rastrear la propagación de mosquitos transmisores de enfermedades La Vanguardia: La app Mosquito Alert incorpora nuevas especies y permite avisar de picaduras El Imparcial: La nueva app Mosquito Alert incorpora dos nuevas especies invasoras Infosalus: La nueva aplicación Mosquito Alert incorpora dos nuevas especies y permite avisar si se sufre una picadura Betevé: Mosquito Alert permet ara seguir el mosquit comú i quatre espècies de mosquits invasors Siglo XXI: La nueva app Mosquito Alert incorpora nuevas especies invasoras UPF Barcelona: La app Mosquito Alert ya permite avisar cuando nos pica un mosquito e incorpora dos nuevas especies de mosquito invasor Ciber Isciii: La app Mosquito Alert ya permite avisar cuando nos pica un mosquito e incorpora dos nuevas especies de mosquito invasor Servimedia: La nueva app Mosquito Alert incorpora nuevas especies invasoras COPE: La nueva aplicación Mosquito Alert incorpora dos nuevas especies y permite avisar si se sufre una picadura Septiembre El taquígrafo: Mosquito Alert y la Fundación la Caixa, suma de esfuerzos contra enfermedades Grada (Universidad Extremadura): La iniciativa europea AIMSurv 2020 busca mosquitos invasores RNE: Juntos paso a paso (min 13:30  18:55) NIUS: Brote en Italia: así está entrando el dengue en Europa Nobbot: Frederic Bartumeus (Mosquito Alert): Antes de la COVID-19 estábamos esperando un brote de dengue Betevé: La pluja podrà incrementar lexpansió del mosquit tigre el Ágora, Diario del Agua: Las siete claves del virus del Nilo Occidental Limpiezas: La presencia del mosquito tigre en España aumenta en un 70% debido al confinamiento Nova Ràdio Lloret: La pluja, la calor i el confinament fan augmentar els mosquits tigre Agosto Nuevo Periódico: El mosquito común, posible transmisor del virus del Nilo que ha infectado a 12 personas en Sevilla Canal Extremadura: El sol sale por el oeste 20/08/20 (min 32:00) Diario Sur: Este verano habrá más mosquitos tigre y vamos a notar más su picadura La Vanguardia: Si no hacemos nada, el mosquito tigre nos echará de nuestro jardín Observatorio de la Ciencia Ciudadana en España: Caso 13.000 contribuciones ciudadanas al proyecto Mosquito Alert Diari de Girona: El jardín botànic Marimutra de Lloret tren mesures per frenar el mosquit tigre TotBarcelona: El mosquit tigre es dispara a Barcelona després duna primavera tropical La Selva 360: Estudi del comportament del mosquit tigre al Marimurtra El Cierre Digital: Así mata el virus del Nilo Occidental: dos muertos y puede convertirse en epidemia MundoEco: Todas las claves del virus del Nilo Occidental Cultura Colectiva: Por qué se celebra el Día Mundial del Mosquito cada 20 de agosto ANEPMA: Virus del Nilo en Andalucía: 7 claves para comprender el brote Telecinco: Virus del Nilo Occidental: qué es, cómo se transmite y maneras de evitarlo Newtral: Mosquito Alert, la otra app para esquivar epidemias Onda Vasca: Mosquito Alert, una plataforma para controlar a los mosquitos transmisores de enfermedades Nobbot: Cómo ha llegado un virus del delta del Nilo hasta Sevilla? El Heraldo: Las siete claves del Virus del Nilo Occidental: qué es, qué lo transmite y cómo evitarlo La Gaceta de Salamanca: Alerta por el espectacular crecimiento de la población de mosquito tigre en España El Plural: Ingresadas 18 personas, cinco en la UCI, en Andalucía por el Virus del Nilo transmitido por un mosquito Diario Sur: El mosquito Aedes japonicus también transmite enfermedades como el dengue y el chikungunya Crónicas de Lanzarote: Ingresadas 16 personas, 5 en la UCI, por una nueva infección vírica en Coria y La Puebla del Río El Cierre Digital: Virus del Nilo: la preocupante enfermedad transmitida por un mosquito de Asia que amenaza Andalucía Aljarafe Digital: Guía para evitar la picadura del mosquito tigre y la fiebre del Nilo occidental El Notiziero: El perfecto cóctel molotov que ha hecho que aumente en un 70% el mosquito tigre en España Nuevo periódico: El mosquito común, posible transmisor del virus del Nilo que ha infectado a 12 personas en Sevilla Ecoavant: Las siete claves del virus del Nilo Occidental: qué es, qué lo transmite y cómo evitarlo Ahora León: Las siete claves del virus del Nilo Occidental Noreste: Fiebre del Nilo: alerta en España por mosquito transmisor Infomascota: Virus del Nilo Occidental: qué es, quién lo transmite y cómo evitarlo Agencia Sinc: Las siete claves del virus del Nilo Occidental: qué es, qué lo transmite y cómo evitarlo NIUS: Las siete claves del virus del Nilo Occidental: qué es, qué lo transmite y cómo evitarlo La Nueva España: El mosquito tigre ha aumentado un 70% en España respecto al año pasado La Vanguardia: Qué es, cómo se transmite y a quién afecta el virus del Nilo? Diari Ara: El mosquit comú, possible transmissor del virus del Nil que ha infectat 12 persones a Sevilla 7diasExtremadura: El mosquito tigre prolifera de forma vertiginosa en España Netnoticias.mx: Alerta en España por la llegada del mosquito transmisor de la fiebre del Nilo Diario Sur: El mosquito Aedes japonicus también transmite enfermedades como el dengue y el chikungunya NuevoPeriodico: El mosquito común, posible transmisor del virus del Nilo que ha infectado a 12 personas en Sevilla Newtral: Virus del Nilo Occidental y mosquitos: preguntas y respuestas el Periódico: El mosquito tigre, transmisor de 22 virus, ha aumentado un 70% en España El Cierre Digital: Virus del Nilo: La preocupante enfermedad transmitida por un mosquito de Asia que amenaza Andalucía RNE 14 horas: Fiebre del Nilo. Preguntas y respuestas Diario veterinario: El mosquito tigre prolifera de forma vertiginosa en España La Sexta: No, el mosquito japonés no está picando en Sevilla: estos son los mosquitos más peligrosos en España El Pais: El mosquito que está detrás del brote infeccioso de Sevilla Información: El mosquito tigre ha aumentado un 70% en España respecto al año pasado El Ciudadano: Alertan sobre expansión de una nueva especie invasora de mosquito en España La Pandereta: Ingresada 18 personas en Andalucía por una nueva infección vírica Debate: Alertan en España por la llegada del mosquito transmisor de la fiebre del Nilo El Plural: Así es el Aedes japonicus , el mosquito que atemoriza a España y que puede contagiar dengue Onda Cero: El virus del Nilo que ha contagiado a 18 personas en Sevilla: qué es y qué síntomas tiene El Comercio: Sevilla investiga un brote de meningitis asociado a los mosquitos con 18 casos El Diario Vasco: Sevilla investiga un brote de meningitis asociado a los mosquitos con 18 casos OK diario: 16 hospitalizados por un posible mosquito transmisor del virus del Nilo ABC: Ingresadas 16 personas, 5 en la UCI, por una nueva infección vírica en Coria y La Puebla del Río Diario Sur: Así es el mosquito Aedes japonicus transmisor del virus del Nilo que estaría detrás de 16 hospitalizados en Andalucía La Voz de Galicia: Alerta en Sevilla por un brote de meningitis vírica asociada a los mosquitos con 18 casos Capital: El mosquito tigre aumentó un 70% su presencia en España durante el primer semestre Animals Health: El mosquito tigre aumenta en España hasta un 70% por el confinamiento El Heraldo: El mosquito tigre ha aumentado un 70% en España respecto al año pasado El Confidencial: Andalucía confirma 11 positivos de virus del Nilo entre los 19 casos de meningoencefalitis Zamora 24horas: El mosquito tigre ha aumentado un 70% en España respecto al año pasado La Voz de Asturias: Primera alerta en España por posible picaduras del mosquito invasor asentado en Asturias InfoSalus: El mosquito tigre ha aumentado un 70% en España respecto al pasado año La Opinión A Coruña: El mosquito tigre ha aumentado un 70% en España respecto al año pasado Antena3 Noticias: Advierten de la llegada a España de un mosquito que puede transmitir el Dengue y el virus del Nilo Occidental La Sexta: Alertan de la expansión en España de un mosquito que puede transmitir el Dengue y el virus del Nilo Occidental Minuto.es: Un peligroso mosquito atemoriza a España Menorc@aldia Diario Digital: La UIB coordina el primer muestreo internacional de especies de mosquitos invasores en Europa El Diario Vasco: Este verano habrá más mosquitos tigre y vamos a notar más su picadura El Comercio: Este verano habrá más mosquitos tigre y vamos a notar más su picadura Head Topics España: Alertan de la expansión en España de un mosquito que puede transmitir el Dengue y el virus del Nilo Occidental ChapinTV.com: Los zancudos son capaces de transmitir el Covid-19? Crónica Global: El mosquito del virus del Nilo podría establecerse en Cataluña Lindependant: Catalogne  Un nouveau moustique, encore plus résistant que le tigre, inquiète les experts Julio La Vanguardia: Investigadores de la UEx participan en la iniciativa europea AIMSURV para la búsqueda de mosquitos invasores Europa Press: Investigadores de la UEx participan en la iniciativa europea AIMSURV para la búsqueda de mosquitos invasores El diario de la UIB: La UIB coordina el primer mostreig internacional despècies de mosquits invasors a Europa Hogarmania: Hay un 70% más de mosquitos que hace dos años! Animals Health: Veterinarios de España buscarán mosquitos invasores en Europa Universidad de Extremadura: Investigadores de la UEx participan en la iniciativa europea AIMSURV para la búsqueda de mosquitos invasores Serbal: El mosquito tigre, la nueva amenaza que se expande por Almería El Mundo: El mosquito tigre vuelve con fuerza a Barcelona por el confinamiento del estado de alarma El Periódico Extremadura: El mosquito tigre acabará llegando, pero hay que tratar de que sea lo más tarde posible No es un día cualquiera (RNE): Un disco al día, insecticidas y el derecho a entender Las Provincias: Mapa del mosquito tigre en la Comunitat Valenciana: los municipios más afectados Metropoli: Alerta: 2020 registra la mayor cifra de mosquitos tigre en 5 años Planta Baixa (TV3): Aquest any, un 70% més de mosquits tigre (min 48:00  54:30) La Voz de Galicia: El mosquito asiático, que transmite el virus del Nilo, apunto de llegar a Galicia MICOF: Se dispara la población de garrapatas y mosquitos transmisores de enfermedades Infomed: Esta primavera ha registrado el mayor número de mosquitos tigre de los últimos años HeadTopics: El calor y la lluvia disparan la presencia del mosquito tigre ViralTV: El calor y la lluvia disparan la presencia del mosquito tigre RAC1: Els msoquits tigre a la primavera de 2020 (16:00-28:00) OndaCero: El mosquit tigre creix un 70% el primer semestre del 2020 (audio) 21Noticias: Esta pasada primavera se registró el mayor número de mosquitos tigre de los últimos cinco años Diario de León: Más mosquitos tigre que en los últimos cinco años ÉliteDiario: Aumenta la población de mosquitos tigre en España TOTSantCugat: La primavera amb més mosquits tigre dels últims cinc anys Cambio16: Población del mosquito tigre aumentó un 70% en el primer semestre Diario Sur: El mosquito tigre se extiende por las segundas residencias y las piscinas hinchables La Vanguardia: Se han vuelto resistentes a los insecticidas los mosquitos? Minuto5 Noticias: Esta primavera ha registrado el mayor número de mosquitos tigre de los últimos cinco años el Periódico: El calor y la lluvia disparan la presencia del mosquito trigre FuerteventuraDigital: En España esta primavera ha registrado el mayor número de mosquitos tigre de los últimos 5 años Antena3 Noticias: Por qué este verano hay más mosquitos que en años anteriores? El Español: La invasión del mosquito tigre en España: así se explica este fenómeno ABC Diario: Se dispara la población de garrapatas y mosquitos transmisores de enfermedades Fundación IO: Mosquito tigre en EspañaDatos del proyecto Mosquito Alert Catalunya migdia (Catalunya Ràdio): Hem viscut la primavera amb més mosquits tigre dels últims 5 anys Ecoavant: Esta primavera ha registrado el mayor número de mosquitos tigre de los últimos cinco años TICbeat: Una primavera récord para los mosquitos tigre en España EuroWeekly News: Pesky tiger mosquitos flourishing on Spains costas Ambientum: El mosquito tigre se ha hecho fuerte en España TeleCinco: La primavera registró el mayor número de mosquitos tigre de los últimos cinco años 20minutos: Esta primavera ha registrado el mayor número de mosquitos tigre de los últimos cinco años Menorca@aldia: Ferreries alerta sobre el mosquito tigre que ya veranea en toda Menorca elDiario.es: Esta primavera ha registrado el mayor número de mosquitos tigre de los últimos cinco años El Ágora: La población de mosquito tigre crece de forma explosiva este año Redacción médica: Esta primavera ha registrado el mayor número de mosquitos tigre de los últimos cinco años Infosalus: Esta primavera ha registrado el mayor número de mosquitos tigre de los últimos cinco años Betevé: Noticies Migidia video (11:31-12:44) Diario de Ibiza: El mosquito tigre vuelve al ataque en Baleares UPF: La primavera del 2020 va registrar el major nombre de mosquits tigre dels últims cinc anys, segons Mosquito Alert El Español: Por qué ha aumentado la población del mosquito tigre? Nació Digital: La primavera de 2020 registra el major nombre de mosquits tigre dels últims anys Mallorca Zeitung: Tigermücke auf Mallorca  kein Alarm, aber Tipps zur Vorsicht La Vanguardia: El mosquito tigre nos invade: ha crecido un 70% en el primer semestre de este año SINC: Esta primavera ha registrado el mayor número de mosquitos tigre de los últimos cinco años Ecoticias: El mayor número de mosquitos tigre de los últimos 5 años MónPlaneta: La primavera de 2020 registra el número més gran de mosquits tigre dels darrers 5 anys El Correo en Andalucía: 2020 registra el mayor número de mosquitos tigre de los últimos años Limpiezas: Aedes japonicus , un nuevo mosquito comienza a asentarse en nuestras fronteras Betevé: Un estudi detecta més mosquits tigre durant la primavera que en els darrers cinc anys Diario de Mallorca: El mosquito tigre vuelve al ataque Información: La humedad dispara el bochorno y deja una noche tropical con 26 grados de mínima El Punt Avui: La presència del mosquit tigre és la més alta del últims cinc anys Las Provincias: La población de mosquito tigre se dispara en 2020 Efe Verde: La población de mosquito tigre aumenta un 70% en el primer semestre del año elDiario.es: La población de mosquito tigre aumenta un 70% en el primer semestre del año Europa Press: Expertos señalan que la primavera registró el mayor número de mosquitos tigre de los últimos años The World News: Los expertos alejan el pánico a una plaga de mosquitos tigre en verano Yahoo noticias: La población de mosquito tigre aumenta un 70% en el primer semestre del año La Vanguardia: La primavera de 2020 registra la mayor cifra de mosquitos tigre en 5 años La Vanguardia: La población de mosquito tigre aumenta un 70% en el primer semestre del año Crónica Global: Los expertos alejan el pánico a una plaga de mosquitos tigre en verano La Cope: La población de mosquito tigre aumenta un 70% en el primer semestre del año Regió7: La primavera de 2020 recull el major nombre de mosquits tigre de lúltim lustre Noticias de Gipuzkoa: Un nuevo mosquito entre nosotros Noticias de Navarra: El mosquito tigre acecha las piscinas hinchables 20 Minutos: El mosquito tigre veranea en segundas residencias y piscinas hinchables NIUS: Los mosquitos tigre se ceban con las segundas residencias y piscinas hinchables por el COVID-19 La Razón: El mosquito tigre prolifera en segundas residencias y piscinas hinchables Telecinco: Segundas residencias y piscinas hinchables, los destinos favoritos para el mosquito tigre Heraldo: El mosquito tigre veranea en segundas residencias y piscinas hinchables Agencia EFE Verde: El mosquito tigre veranea en segundas residencias y piscinas hinchables NIUS: Las picaduras de los mosquitos no transmiten el coronavirus Junio Informativos Telecinco: Abandono de segundas residencias y humedad: las razones de la invasión del mosquito tigre en España HigieneAmbiental: Aedes japonicus se establece en el norte de España El Comercio: Advierten por el asentamiento en Asturias del mosquito  Aedes japonicus , vector del dengue 20minutos: ANECPLA advierte de la llegada a Asturias de una nueva especie invasora de mosquito vector del dengue o el chikungunya El Correo Gallego: Advierten de la llegada a España de una nueva especie invasora de mosquito vector del dengue Siglo XXI: Anecpla alerta de la amenaza que supone para España el Aedes japonicus , un mosquito originario del este de Asia Infosalus: ANECPLA advierte de la llegada a España de una nueva especie invasora de mosquito vector del dengue o el chikungunya Aquí Madrid: El virus del Nilo llega a España The Seaside Gazette: Japanese Mosquitoes Teleprensa: Anecpla advierte de la llegada a España de una nueva especie invasora de mosquito vector del dengue o el chikungunya TV Bergueda, Ben trobats: Mosquito Alert Betevé: La primavera plujosa propiciarà la cria de mosquit tigre? Antena3 Noticias: Alertan de la presencia en España de un mosquito invasor que podría traer el virus del Nilo Occidental Cantabria directa: El mosquito invasor, Aedes japonicus , ya se ha estabilizado en Cantabria y Asturias Ideal: Los peligros del mosquito japonés que se propaga más rápido que el mosquito tigre El Caso: Alerta: el mosquit japonès porta a Catalunya un nou i perillós virus Clm24: El mosquito japonés trae a España un nuevo y peligroso virus Cope: Pueden los mosquitos transmitir el coronavirus? Soy de.: El nuevo mosquito japonés podría traer a España el virus del Nilo Xataka: El mosquito que llegó de Japón: hay una nueva espècie invasora en España y nos está ganando la partida El Tiempo Hoy: Crece la preocupación por el mosquito invasor japonicus: podrá expandirse en verano por el norte de España Diario Tecnología: El mosquito que llegó de Japón: hay una nueva especie invasora en España y nos está ganando la partida Ideal: Alertan del mosquito japonés que ya está en España y podría transmitir el virus del Nilo Diario de Sevilla: El mosquito japonés que puede traer a España el virus del Nilo Occidental Axarquiaplus: Crece la preocupación por el mosquito invasor japonicus: podrá expandirse en verano por el norte de España IDEAL Digital: Alertan del mosquito japonés que ya está en España y podría transmitir el virus del Nilo La Voz de Asturias: A la caza del nuevo mosquito asiático que ya se ha asentado en Asturias El País: The new invasive mosquito species spreading like an oil stain in Spain N Digital: Nuevo vector en imparable expansión Pontevedra Viva: Quin observe algún mosquito inusual este verán las Rías Baixas, que saque unha foto e alerte os expertos La Neta Neta!: La imparable expansión de un nuevo mosquito invasor El País: La imparable expansión de un nuevo mosquito invasor Hipertextual: Esto es todo lo que tienes que saber del nuevo mosquito que invade España El Tiempo.es: Un verano complicado por la mayor presencia del mosquito tigre Ciencia: Dúas especies de mosquitos africanos chegan a Galicia Nació Digital: Els consells per combatre el mosquit tigre Uitb, X Jornada de Enfermedades Emergentes: Models participatius i dinnovació oberta per a la salut pública: el cas de Mosquito Alert El Periódico: Los expertos auguran un verano complicado con el mosquito tigre Món Terrassa: LAjuntament demana la collaboració ciutadana per controlar el mosquit tigre TerrassaDigital: Arrenca la campanya de control i prevenció del mosquit tigre Restauración de Ecosistemas: Qué es la ciencia ciudadana? 24horas Puebla: Surge el mosquito tigre; transmisor de más de 20 tipos de virus Radio Fórmula Querétaro: Miedo! Aparece peligroso mosquito tigre, transmisor de 22 tipos de virus Cadena 100: Un estiu amb més mosquits El Caso: Alerta, una nueva y muy peligrosa especie amenaza España: el mosquito de Japón TV3: Les restriccions de moviment afavoreixen al mosquit tigre (Video 21:37-24:32) TV3: Un estiu amb més mosquits tigre i mosques negres però amb menys xinxes de llit Europe World News: Alarm in Europe for the recurrence of the tiger mosquito in urban areas Ajuntament de Viladecavalls: Lluita contra el mosquit tigre! Moncloa: Demostrado: el mosquito tigre no transmite el coronavirus Barcelona Cultura: Rere el sastre de la pandemia Entrepeneur: Alerta en Europa por reaparición de mosquito tigre en zonas urbanas TVPacífico: Mosquito tigre asiático pone en alerta a Europa: puede transmitir 22 virus diferentes QS Noticias: Mosquito tigre regresa, puede transmitir 22 tipos de virus Noticias 24: Mosquito tigre asiático amenaza Europa EP Mundo: Plaga! Esto apareció en Europa y generó pánico, son muchas enfermedades El Tiempo Hoy: El tigre en el Mediterráneo y el japonicus en el Cantábrico: los mosquitos invasores que preocupan en verano Betevé: La mosca negra, un insecte molt molest que ens pot amargar lestiu Mayo Diario Tijuana: La picadura de mosquito nos puede afectar de Covid-19? La Libertad: Mosquito tigre genera nueva amenaza de salud por transmisión de virus El Tabloide: Apareció mosquito tigre, capaz de transmitir 22 tipos de virus en Europa Todo Noticias: Alarma en Ibiza por el mosquito tigre asiático: puede transmitir 22 enfermedades Clarín: Riesgo sanitario en medio de la pandemia, alerta por la reparación del mosquito tigre asiático: cuáles son algunos de los 22 virus que transmite Ajuntament de Llagostera: Programa de seguiment i vigilància del mosquit tigre Cx Noticias: Alertan sobre aparición de mosquito tigre, puede transmitir 22 tipos de virus Notigram: Llega mosquito tigre y transmite 22 virus diferentes Periódico AM: Alertan sobre la legada del mosquito tigre, puede transmitir 22 tipos de virus Cope: The Sun alerta de falsos mosquitos ultra agresivos en Ibiza Pulzo: Alerta en Europa por aparición de mosquito tigre, capaz de transmitir 22 tipos de virus Futbolred: Alerta mundial por mosquito tigre: transmite 22 tipos de virus TeleSol Diario: Cuánto más?: alerta mundial por el mosquito tigre que puede contagiar dengue, Zika o chikungunya Almanaque: Alertan por mosquito que puede transmitir hasta 22 tipos de virus Que Pasa Salta: Temor por la aparición del mosquito tigre, capaz de transmitir 22 enfermedades Al Chile!: Alerta mundial por mosquito tigre: transmite hasta 22 tipos de virus Head Topics: Alerta en Europa por aparición de mosquito tigre, capaz de transmitir 22 tipos de virus Marca: Mosquito tigre alerta a Europa, puede transmitir 22 tipos de virus La República: Mosquito tigre asiático capaz de transmitir 22 tipos de virus pone en alerta a Europa Noticias de Costa Rica: Siempre hay riesgo de brote Noticiero Panamá: Siempre hay riesgo de brote Profesionales Panamá: Tras dos veranos con los primeros casos autóctonos de dengue, los expertos advierten: siempre hay riesgo de brote I-Diet: Los expertos advierten: Siempre hay riesgo de brote 20 minutos: Tras dos veranos con los primeros casos autóctonos de dengue, los expertos advierten: siempre hay riesgo de brote Cope: Esto es lo que has de saber sobre el mosquito y la posible transmisión del coronavirus a través de su picadura Onda Regional: Salud intensifica la vigilancia frente al mosquito tigre en colaboración con todos los ayuntamientos ArrelsOnline: La OMS aclara que no hay ninguna evidencia de que el mosquito tigre transmita el COVID-19 Muy Interesante: Empieza la temporada de mosquito tigre: qué enfermedades transmite? Noticias de la Ciencia y la Tecnología: Comienza la temporada de mosquito tigre marcada por la pandemia del coronavirus Más De Cultura: Hay aplicaciones que hacen el bien, sólo hay que saber dónde buscar 20 minutos: Puede transmitir el mosquito tigre el coronavirus en verano? El Ágora: Arranca la campaña del mosquito tigre, que no transmite el coronavirus K-fe digital: Los expertos afirman que el mosquito tigre transmite 22 virus pero no el Covid-19 Jornal.cat: Mosquito Alert avisa que comença la temporada de mosquit tigre però recorda que no transmet el coronavirus Web24News: The tiger mosquito is capable of smitting 22 different types of viruses, but what about covid-19? Cope: Expertos afirman que el mosquito tigre transmite 22 virus pero no el Covid-19 UPF: Comença la temporada de mosquit tigre marcada per la pandèmia de coronavirus El Confidencial: El mosquito tigre es capaz de transmitir 22 tipos de virus diferentes, pero y el covid-19? La Voz de Asturias: Confirman la presencia del mosquito Aedes japonicus en Asturias Canarias7: El mosquito tigre transmite 22 virus, pero no la Covid-19 TeleMadrid: Los expertos afirman que el mosquito tigre transmite 22 virus, pero no el Covid-19 MaspalomasAhora: Comienza la campaña contra el mosquito tigre, que no transmite el coronavirus Infosalus: Expertos afirman que el mosquito tigre transmite 22 virus pero no el Covid-19 Cadena Ser La Ventana: (44:45) Vuelve el mosquito tigre (audio) Cadena Ser: Vuelve el temido mosquito tigre Efe Verde: Comienza la campaña del mosquito tigre, que no transmite el coronavirus La Opinión de Málaga: El mosquito tigre transmite 22 virus pero no el coronavirus eldiario.es: Comienza la campaña del mosquito tigre, que no transmite el coronavirus España Diario: Vuelve el mosquito más molesto en España, pero con buenas noticias sobre su relación con la COVID-19 Menorca: Transmite el mosquito tigre la COVID-19? Diario Castilla la Mancha: Los expertos de Mosquito Alert afirman que el mosquito tigre transmite 22 virus pero no el COVID-19 Crónica Global: Un estudio afirma que el mosquito tigre transmite 22 virus, pero no el Covid-19 Ecoticias: Empieza la temporada de mosquito tigre marcada por la pandemia del coronavirus Setmanari LEbre: Comença la temporada de mosquit tigre però no transmet el coronavirus Información: El mosquito tigre transmite 22 virus pero no el coronavirus Microsoft news: Los expertos afirman que el mosquito tigre transmite 22 virus peron no el COVID-19 Periódico de Ibiza: Transmite el mosquito tigre la COVID-19? UHNoticias: Transmite el mosquito tigre la COVID-19? Tribuna Valladolid: Expertos afirman que el mosquito tigre transmite 22 virus pero no el COVID-19 Diario de Mallorca: El mosquito tigre transmite 22 virus pero no el coronavirus TVSantCugat: Alerten de linici de la temporada de mosquit tigre però recorden que no transmet el coronavirus Diari Més Digital: Empieza la campaña del mosquito tigre, que no transmite el coronavirus Mallorca Magazin: Die Tigermücke überträgt nicht das Coronavirus La Vanguardia: El control del mosquito tigre se reanuda, sin riesgo de que transmita la Covid-19 Noticias por el mundo: El control del mosquito tigre se reanuda, sin riesgo de que transmita la Covid-19 MónPlaneta: Mosquito Alert avisa de linici de la temporada de mosquit tigre Moncloa: Expertos afirman que el mosquito tigre transmite 22 virus pero no el Covod-19 Redacción médica: Expertos afirman que el mosquito tigre transmite 22 virus pero no el Covid-19 La Nueva España: El mosquito tigre transmite 22 virus pero no el coronavirus Heraldo de Aragón: Los expertos afirman que el mosquito tigre transmite 22 virus pero no el Covid-19 La Opinión de Murcia: El mosquito tigre transmite 22 virus pero no el coronoravirus La Opinión, El Correo de Zamora: El mosquito tigre transmite 22 virus pero no el coronoravirus Teller Report: Experts claim that the tiger mosquito transmits 22 viruses but not Covid-19 El Día: El mosquito tigre transmite 22 virus pero no el coronavirus La Voz del Sur: Los expertos indican que algunos mosquitos pueden transmitir enfermedades, pero no el Covid-19 El Iris: Mosquito Alert avisa que comença la temporada de moscard tigre però recorda que no transmet el coronavirus Ok diario: El mosquito tigre no puede transmitir el coronavirus The World News: Un estudio afirma que el mosquito tigre transmite 22 virus, pero no el Covid-19 Breakingnews.fr: Le mosutique tigre transmet 22 virus mais pas le coronavirus Head Topics: Los expertos afirman que el mosquito tigre transmite 22 virus pero no el Covid-19 Informativos TeleCinco, ÚltimaHora: Los expertos afirman que el mosquito tigre transmite 22 virus pero no el Covid-19 El Mundo: Los expertos afirman que el mosquito tigre transmite 22 virus pero no el Covid-19 La Gaceta de Salamanca: El mosquito tigre transmite 22 virus pero no el Covid-19, según expertos El Digital de Albacete: Puedes contagiarte de COVID-19 por una picadura del mosquito tigre? Bolsamania: Expertos afirman que el mosquito tigre transmite 22 virus pero no el Covid-19 El Notiziero: El mosquito tigre transmite 22 virus pero no el Covid-19 Ara: La tecnologia, una aliada per frenar els riscos del mosquit tigre Barcelona.cat: Sintensifica la vigilància i control del mosquit tigre a 64 zones de risc La República: Mosquito Alert avisa que comenta la temporada de mosquit tigre però recorda que no transmet el coronavirus VilaWeb: Mosquito Alert avisa que comença la temporada de mosquit tigre però recorda que no transmet el coronavirus Andreuenc: Comença la temporada dalerta sobre el mosquit tigre Ajuntament de Barcelona: Barcelona intensifica la vigilancia y control del mosquito tigre en 64 zonas de riesgo El Periodico.cat: Les fortes pluses dabril aceleren laparició de mosquits El Periódico: Las fuertes lluvias de abril aceleran la aparición de mosquitos Higieneambietal: Pueden los mosquitos transmitir el coronavirus? Abril La Vanguardia: Refuerzo de los Servicios de control del mosquito tigre Diari de Girona: Científics descarten la propagació del coronavirus a través duna picada de mosquit tigre Ajuntament de Santa Eulàlia de Ronçana: Al mosquit tigre ni una gota daigua! Ibercivis: #citscichates dedicados a la comunicación en ciencia ciudadana AIM Digital: Los humanos, la causa real de las pandemias Instituto Humanitas Unisinos: A dimensão ecológica das pandemias Nuestro clima: La real causa de las pandemias son los humanos Noticias Ambientales: Los humanos, la causa real de las pandemias Marzo La Vanguardia: Ciencia ciudadana y datos masivos, la nueva vacuna contra el dengue? Cibertec: Cómo beneficia el big data a la medicina? Anticimex: Mosquito tigre en Barcelona Anticimex: Mosquito tigre en Valencia Anticimex: Mosquito tigre en Málaga Página12: La dimensión ecológica de las pandemias Rebelión: La dimensión ecológica de las pandemias Proyecto Lemu: La dimensión ambiental de las pandemias Febrero La Vanguardia: Un millón de euros para convertir Barcelona en un laboratorio de ciencia para el mundo Europapress: Barcelona destinará un millón a siete proyectos en su primera convocatoria de ayudas a la ciencia Betevé: Es fan públics els set projectes de recerca I innovació científica que Barcelona subvencionarà ABC: Barcelona impulsará soluciones innovadoras para mejorar la calidad de vida, movilidad y medio ambiente el Periódico: El Pla Barcelona Ciència destina un millón de euros a siete proyectos de investigación La Vanguardia: El Plan Barcelona Ciencia destina un millón de euros a siete proyectos Diari de Girona: El CEAB participa en una xarxa europea contra mosquits invasors InfoBarcelona: Siete proyectos para reforzar el tejido científico de la ciudad Barcelona Cultura: Lliurades les subvencions per a projectes de ciència, recerca i innovació Ajuntament de Barcelona: El Pla Barcelona Ciència destina un milió deuros a set projectes de recerca i innovació per reforçar el teixit científic de la ciutat elPlural: El Ayuntamiento de Barcelona y la Caixa destinan un millón de euros a siete proyectos de investigación CatalunyaPress: Barcelona y la Caixa destinan un millón a siete proyectos en su primera convocatoria de ayudas a la ciencia InfoBarcelona: Seven projects to strengthen the citys science network upf: Los proyectos MicroBioMap y MosquitoAlertBCN, seleccionados por el Plan Barcelona Ciencia UAB: El projecte NewMob sobre nous mitjans de transport elèctric i compartit, seleccionat pel programa BarcelonaCiència Economía 3: Los drones generan el 10% del negocio de Lokímica y le abren el camino en Suramérica ecoticias.com: Conoce el proyecto MosquitoAlertBCN CREAF: Ciencia ciudadana y trampas inteligentes contra el mosquito tigre Wikipedia: List of citizen science projects Scouts, asde: las mejores apps para scouts Thigis: Més de la ciència ciutadana i el medi ambient UH Noticias: El gusano del corazón gana terreno en Mallorca con la proliferación del mosquito tigre Portal Veterinaria: Las enfermedades vectoriales son la principal amenaza para la salud mundial Enero In-cyprus: Workshop raises awareness about mosquitoes CyprusMail: Mosquito exoperts visit Akrotiri The Cyprus Institute: The Cyprus Institute Co-Organises Workshop Everything you wanted to know about mosquitoes TeRRIFICA: The TeRRIFICA Consortium meets in Barcelona:moving towards innovative climate action through co-creation Glbal University Network for Innovation: The TeRRIFICA Consortium meets in Barcelona: moving towards innovative climate action through co-creation ACUP: LACUP acull a Barcelona la 3ª reunió de consorci del projecte europeu TeRRIFICA (Territorial RRI fostering innovative climate action) AIM Cost: Frederic Bartumeus explaining the importance of citizen science at the AIMsurv Training School in Cyprus (vídeo) Diciembre The Conversation: As heat strikes, heres one way to help fight disease-carrying and nuisance mosquitoes OpenSystems de la Universitat de Barcelona: Ciència citadana a les biblioteques. Observa, analitza i participa CREAF: Les comunitats de pràctiques de WeObserve es van reunir a Barcelona per transformar els observatoris ciutadans NewDaily: As heat strikes, heres one way to help fight disease-carrying and nuisance mosquitoes Las provincias: Lokímica utiliza la última tecnología en el ámbito del control de plagas repisalud, Instituto de Salud Carlos III: Mapas de riesgo de Arbovirosis en España Noviembre La Vanguardia, Natural: Big data para combatir las enfermedades que transmite el mosquito tigre La Razón: Una App para el control de transmisores Diari de Girona: El CEAB de Blanes participa en un projecte per prevenir malalties provocades pel mosquit tigre El Plural: Big data para combatir al mosquito tigre La Penúltima: Cambio climático y salud BioTech: Ciencia ciudadana y big data contra las epidemias provocadas por mosquitos Redacción médica: Nace un proyecto para prevenir enfermedades transmitidas por el mosquito tigre Universitat Pompeu Fabra: Big Mosquito Bytes propone la ciencia ciudadana y el Big Data como una solución contra las epidemias provocadas por mosquitos Univadis: Proyecto para prevenir enfermedades transmitidas por el mosquito tigre en España Ecoticias.com: Catalunya, comienza el Mes de la Ciencia Ciudadana y el Medio Ambiente Generalitat de Catalunya: Comença el Mes de la Ciència Ciutadana i el Medi Ambient Novaradiolloret: Mosquito Alert muntarà un estand didàctic per donar informació sobre el mosquit tigre Unitat dInnovació  UPF Business Shuttle: Big Mosquito Bytes proposa la ciència ciutadana I el big data com una solució contra les epidèmies provocades per mosquits 18ª Fira de Recercaen Directe 2020: Mosquits, els tranmissors de malalties globals Higieneambiental.com: Mikel Bengoa nos habla sobre el mosquito tigre Octubre La Vanguardia: Nace un proyecto para prevenir enfermedades transmitidas por el mosquito tigre La Vanguardia: Inician un nuevo proyecto para predecir epidemias provocadas por mosquitos Dicat-CSIC: Un proyecto propone el big data y la ciencia ciudadana para combatir las epidemias Ciber isciii: Ciencia ciudadana y big data contra las epidemias provocadas por mosquitos Barcelona Cultura: Mosquito Alert: controla lexpansió del mosquit tigre Europa press: Nace un proyecto para prevenir enfermedades transmitidas por el mosquito tigre Servimedia: la Caixa financia un proyecto para prevenir epidemias provocadas por mosquitos a través del big data y el diseño urbanístico Bolsamanía: Nace un proyecto para prevenir enfermedades transmitidas por el mosquito tigre Xarxanet: Bernat Claramunt: La societat tú una necessitat creixent de participació en el coneixement de lentorn, és fácil i útil, un win to win Ecoticias.com: Proyecto Big Mosquito Bytes Saludadiario.es: Ciencia ciudadana y big data contra las epidemias provocadas por mosquitos Septiembre Diari de Girona: La presencia del mosquit tigre sallargarà a causa del canvi climàtic El desinsectador y desratizador: Aedes japonicus y Anopheles plumbeus (díptera, Culicidae) en el concejo de Sieri, Asturias El Punt Avui: Ajut per a una recerca sobre la prevenció del dengue Agosto La Vanguardia: Mosquito tigre: lo peor está por llegar TVE1, LInformatiu: Setembre i octubre són els mesos en els quals el mosquit tigre està més actiu TV Girona, Té de tot: Entrevista en Frederic Bartumeus TV Girona: Eclosió mosquit tigre Nova Ràdio Lloret: La presencia de mosquit tigre ha baixat, però tornarà a pujar a mitjan setembre El Plural: Llega a España un mosquito capaz de infectar el dengue Diari de Girona: Experts alerten que leclosió del mosquit tigre es produirà a partir del 15 dagost Asociación Española de Pediatría, Comité Asesor de Vacunas: Alta incidencia de dengue en el mundo Cugat Mèdia: 15 anys dun veí incòmode The World News: Mosquito tigre: lo peor está por llegar Blanco Plagas: Mosquito tigre: lo peor está por llegar CEAB: Día mundial del mosquito Diari de Girona: Experts alerten que leclosió del mosquit tigre es produirà a partir del 15 dagost Cugat.cat: 15 anys dun veí incòmode Julio TV3, Els Matins: La lluita contra els mosquits La Rioja: Mosquito Alert, una herramienta global de apoyo al ciudadano CREAF, el blog: La ciencia ciutadana, una gran aliada per a vigilar les espècies exòtiques Institut Narcís Monturiol: Projecte Mosquito-Alert, 1r dESO premi al millor video i al video més original Camping Arena Blanca: Las 8 apps de camping imprescindibles para tu viaje Junio Magazine, La Vanguardia: Mosquitos, de simple molestia a amenaza global El diario.es: La crisis climática obliga a España a gestionar la expansión de mosquitos invasores que contagian enfermedades Cambio16: España se enfrenta al mosquito tigre Crónica Global: Una web catalana calcula las posibilidades de padecer enfermedades epidemiológicas La Vanguardia: Presentan plataforma predicción riesgo de brotes dengue, zika y chikungunya El País: Els instituts de Barcelona declaren la guerra al mosquit tigre TVE 1, LInformatiu (Min 16:02): Mosquito Alert i lAgència de Salut Pública de Barcelona volen escoles zero mosquits RTVE, La Vida Verda (radio): Mosquito Alert, un projecte de ciència ciutadana CCCBLAB: Ciencia Ciudadana y cambio social The World News: Els instituts de Barcelona declaren la guerra al mosquit tigre La Ser, Radio Castellón: El mosquito tigre, qué hacer? La República: 500 estudiants de set instituts de Barcelona sinicien en la ciència ciutadana buscant punts de cria de mosquits Wilabew: 500 estudiants de set instituts de Barcelona sinicien en la ciència ciutadana buscant punts de cria de mosquits CATzona: Els instituts de Barcelona declaren la guerra al mosquit tigre Mayo La Vanguardia: Un ejército de ciudadanos al servicio de la biodiversidad del planeta Diari Ara: Una apli alerta dels riscos del mosquit tigre a les escoles La Vanguardia: Unos 400 alumnos barceloneses harán mapas de zonas de cría de mosquito tigre Sostenible; Diputació de Barcelona: Mosquito Alert i lAgència de Salut Pública de Barcelona volen escoles zero mosquits Betevé 91fm: Frederic Bartumeus: La nostra mobilitat en cotxe és clau Ecoticias: Mosquito Alert y la Agencia de Salut Pública de Barcelona quieren escuelas cero mosquitos Abril Betevé: El mosquit tigre viatja en cotxe i li agraden les tapisseries fosques datos.gob.es: El poder de la ciencia ciudadana para generar datos abiertos Marzo El Periódico: Catalunya predecirá riesgos de dengue, zika y chikungunya autóctonos Enero Higieneambiental.com: Europa se une contra los mosquitos Aedes Octubre Sostenible: Frederic Bartumeus: Trencar la barrera entre els científics i la ciutadania ha estat una revolució Levante: Un juego infantil contra el mosquito tigre gana el ##Climathon en València La Razón: Dengue: Las lluvias favorecerán la expansión del mosquito tigre La Vanguardia: Mosquito tigre: único sospechoso de los primeros casos de dengue en España La Voz de Galicia: Confirmados los primeros casos de dengue contraídos en España Animals Helath: Los veterinarios de Badajoz piden medidas contra el mosquito tigre Digital Extremadura: El mosquito tigre continúa conquistando terreno ElPeriódico Extremadura: Sin avisos, por ahora, en la app Mosquito Alert Septiembre La Nueva España: Los investigadores piden ayuda para acotar la presencia del mosquito asiático El Periódico Extremadura: La UEx vigila el mosquito tigre en 17 puntos de Extremadura y pide colaboración ciudadana HOY Extremadura: La UEx certifica la presencia del mosquito tigre en la región EuropaPress: La UEx pide a los ciudadanos que crean haber visto un mosquito tigre que envíen la fotografía a la app Mosquito alert Betevé: notícies vespre Agosto Informatius TVE: MOSQUIT TIGRE  Continua expandint-se. Diariodeburgos: Identifican un nuevo mosquito asiático transmisor del dengue readacción médica Ecuador: Así es el mosquito que puede generar infecciones por dengue en España COPE: Es capaz el mosquito asiático de transmitir enfermedades? La Nueva España: Sanidad pide ayuda ciudadana para vigilar al mosquito japonés hallado en Siero Infosalus: Anecpla aconseja aumentar las medidas de control contra los mosquitos ante los últimos descubrimientos La Opinión de Tenerife: Anecpla insta a intensificar las medidas de control contra los mosquitos 20minutos: Estas vacaciones llévate la ciencia en el móvil con las apps del CSIC La Voz de Galicia: El mosquito asiático, cerca de Galicia EuropaPress: Tecnología para el Bien: Aplicaciones para conseguir un mundo mejor La Vanguardia: Entidades públicas y privadas usan las nuevas tecnologías para crear soluciones y mejorar la vida de las personas tourinews: Se desata el verano de las plagas Aragonradio: Aparece el mosquito rayado, Lo hay en Aragón? COPE: La Tarde con Roger Eritja, jefe del equipo de entomólogos de Mosquito Alert La Sexta TV: Detectado por primera vez en España un mosquito asiático que transmite dengue y Chikungunya Antena3: Detectan por primera vez en España un nuevo mosquito invasor de origen asiático RTP: Identifican en Siero un mosquito asiático transmisor del virus Nilo La Nueva España: Cómo es el nuevo mosquito invasor en Asturias? COPE España: Identifican por primera vez en España al mosquito asiático transmisor del virus Nilo ABC Cataluña: Identifican por primera vez España un mosquito asiático transmisor del virus del Nilo RT: España: Detectan un nuevo mosquito invasor de origen asiático Público: Llega a España un nuevo mosquito invasor de origen asiático Telecinco: Detectado en España un mosquito asiático capaz de transmitir el virus del Nilo Occidental y el dengue NacioDigital: Detectat per primera vegada un nou mosquit invasor dorigen asiàtic El Mundo: Detectado por primera vez en España un mosquito asiático capaz de infectar con dengue y chikungunya El Comercio: Detectado por primera vez en Asturias un nuevo mosquito invasor de origen asiático La Nueva España: Detectado en Siero, por primera vez en España, un nuevo mosquito invasor de origen asiático Levante: Detecten per primera vegada a Espanya un mosquit asiàtic transmissor del virus Nil 20minutos: Localizan en España un mosquito invasor de origen asiático transmisor del virus del Nilo Occidental Crónica Vida: Un nuevo mosquito invasor de origen asiático aparece en Asturias CatalunyaPress: Detectat a Espanya un nou mosquit invasor dorigen asiàtic El Confidencial: Llega a España un mosquito asiático que puede transmitir el virus del Nilo La Opinión de Zamora: Detectan por primera vez en España un mosquito asiático transmisor del virus Nilo COPE: Detectado en Asturias un nuevo mosquito invasor La Vanguardia: Detectado por primera vez en España un nuevo mosquito invasor de origen asiático Aldia.cat: Detectat per primera vegada a Espanya un nou mosquit invasor dorigen asiàtic EcoDiario: Detectado por primera vez en España un nuevo mosquito invasor de origen asiático LaGacetadesalamanca.es: Un nuevo mosquito invasor de origen asiático llega a España El Independiente: Detectado en Asturias un nuevo mosquito invasor de origen asiático EuropaPress: Detectado por primera vez en España un nuevo mosquito invasor de origen asiático NacioDigital: Detectat per primera vegada un nou mosquit invasor dorigen asiàtic Julio Cugat.cat: El Pou parla del projecte de ciència ciutadana Mosquito Alert Catalunya ràdio: Sintensifica el control del mosquit tigre a Barcelona EuropaPress: Barcelona empieza el control del mosquito tigre en 60 zonas de la ciudad Betevé: Samplien a 60 les zones de risc del mosquit tigre Cadena SER: SER Extremadura Cáceres Metrópoli abierta: Aumentan los focos de riesgo de mosquito tigre en Barcelona El Periódico: Mosquito tigre en Barcelona: ampliadas las zonas de vigilancia para controlarlo DiariARA: Barcelona amplia a 60 zones la campanya per controlar el mosquit tigre 20 minutos: Barcelona empieza el control del mosquito tigre en 60 zonas de la ciudad La Vanguardia: Barcelona incrementa las zonas de riesgo del mosquito tigre Animals Health: El mosquito tigre, una amenaza a tener en cuenta este verano Terrassadigital: Activada la campanya de prevenció i control del mosquit tigre Codigo Nuevo: Por qué todos los putos mosquitos del universo te pican a ti Junio ONDA CERO Extremadura: Noticias Canal Extremadura: El mosquito jején coloniza Cáceres y no te da ganas de reir 20minutos: Extremadura incorpora una APP para que los ciudadanos puedan alertar de la presencia del mosquito tigre METROPOLI ABIERTA: Tendremos problemas con los mosquitos este verano? La Cronica de Badajoz: Ponen en marcha en Extremadura una app para alertar del mosquito tigre El Diario.es: Una app para alertar de la presencia y cría del mosquito tigre El Periodico Extremadura: A la caza del mosquito tigre El Periódico Extremadura: Ponen en marcha en Extremadura una app para alertar del mosquito tigre RegiónDIGITAL: Extremadura incorpora una APP para alertar de la presencia del mosquito tigre EFEverde: Una app para alertar del mosquito tigre en Extremadura ExtremaduraHOY: La UEx pide ayuda a la ciudadanía para luchar contra el mosquito tigre EuropaPress: Extremadura incorpora una APP para que los ciudadanos puedan alertar de la presencia del mosquito tigre en la región Cugat.cat: Sant Cugat es prepara per a la temporada del mosquit tigre La Xarxa: Alerta per mosquits a Sant Cugat epcatalunya: La aplicación de alerta del mosquito tigre se internacionaliza en Colombia y China ConSalud.es: El Vall dHebron desarrolla un sistema para combatir los arbovirus autóctonos en Cataluña ABC: Una plataforma alertará en Cataluña sobre el riesgo de contagio de Zika y Dengue por mosquito tigre La Vanguardia (EFE): Desarrollan un sistema de alerta de riesgo casos autóctonos de Zika o Dengue La Vanguardia: Una plataforma alertará de riesgo de contagio de Zika y Dengue por mosquito tigre en Catalunya TV3: Telenotícies migdia (7/6/18) min 35:27 València Extra: Arranca la campaña de prevención contra el mosquito tigre SER: La campaña de prevención contra el mosquito tigre ya está en marcha Levante-EMV: El Ayuntamiento de València pone en marcha la campaña de prevención contra el mosquito tigre Mayo El Mundo: Una aplicación contra los mosquitos que transmiten zika, dengue y fiebre amarilla Betevé 91fm: Safari Mosquito Alert amb IES Pau Clarís i lAMB Betevé: Mosquito Alert, un projecte de ciència ciutadana per combatre els mosquits Abril Televisión Región de Murcia: Curiosity  entrevista Francisco Collantes Galicia Confidencial: Un novo mosquito en Galicia Marzo ALMA: La ciencia de las personas Murcia.com: La UMU participa en un estudio publicado en Nature Communications que recalca la importancia de la ciencia ciudadana para combatir al mosquito tigre El Periódico de Aragón: Destacan la importancia de la colaboración ciudadana para detectar al mosquito tigre La Opinión de Murcia: Cazar mosquitos tigre con el móvil como si fueran Pokémon Febrero La Vanguardia: Una decena de centros del CSIC participa en el evento de divulgación YoMo Núvol: Els guardonats dels Premis Ciutat de Barcelona 2017 El Temps: Tots els noms dels Premis Ciutat de Barcelona El Nacional.cat: Uns Ciutat de Barcelona amb nom de dona El Mundo: Marina Garcés y Carla Simón, Premis Ciutat de Barcelona directe.cat: Carla Simó, Marina Garcés i Imma Colomer, entre els guardonats amb els Premis Ciutat de Barcelona 2017 El Periódico: La directora de Estiu 1993 gana un premio Ciutat de Barcelona Heraldo: La caza del mosquito tigre reparte varios trofeos entre los escolares aragoneses Vilaweb: Colau recorda els presos polítics en el lliurament dels Premis Ciutat de Barcelona El Nacional.cat: Llamada en los Premis Ciutat de Barcelona a liberar los presos políticos Betevé: Premis Ciutat Bcn El Periódico: Premios Ciutat de Barcelona: de Sindihogar a un goya Enero La Vanguardia: Nace el primer catálogo mundial de especies invasoras Diciembre El Periódico: Detectado en Canarias el mosquito transmisor de la fiebre amarilla y el dengue 8tv: Catalunya Directe Noviembre TOT Sant Cugat: El mosquit i lapp TV3: TN Migdia (min 35:37) El Nacional: Los mosquitos tigre aprovechan nuestros coches para expandirse COPE CATALUNYA-ANDORRA: (min 1:11:30) ONDA CERO: Julia en la onda (min 17:30) ABC: Barcelona es la principal exportadora de mosquitos tigre a través de los coches Més digital: Tarragona és la segona província des don més sexpandeix el mosquit tigre a través dels cotxes 20minutos: Cinco de cada 1.000 coches que circulan por Barcelona en verano transportan mosquitos tigre Diari de Girona: Detecten intercanvi de mosquits tigre entre Girona i Barcelona pels cotxes El Periódico: Cinco de cada mil coches que circulan por Barcelona llevan un mosquito tigre Diariomedico: Barcelona: cinco de cada mil coches transportan un mosquito tigre en verano Mon planeta: Un estudi de diferents institucions evidencia que 5 de cada 1000 cotxes que circulen a lestiu per lÀrea Metropolitana transporta un daquests mosquits La Vanguardia: Cinco de cada 1.000 coches que circulan por Barcelona en verano transportan mosquito tigre Opinión de Murcia: El mosquito tigre viaja en coche EFEfuturo: Los viajes de verano (en coche) del mosquito tigre Ecoticias: 5 de cada 1.000 coches que circulan diariamente durante el verano por el Área Metropolitana de Barcelona transportan un mosquito tigre 324: El mosquit tigre viatja en cotxe particular a lÀrea Metropolitana Crónicaglobal-Elespañol: Cinco de cada mil coches que circulan por Barcelona llevan un mosquito tigre Diarioinformación: Alicante exporta mosquitos tigre El món: estudiar els mosquits RNE Ràdio 4: Metròpoli Octubre Diario de Ibiza: El Far de ses Coves Blanques acoge un taller sobre el mosquito tigre El País: La Comunidad detecta por primera vez la presencia del mosquito tigre en la región RNE: 24h Tertúlia científica (min 34) La Razón: Colaboración ciudadana contra el mosquito tigre EFE Futuro: Las nuevas tecnologías acorralan al mosquito tigre La Vanguardia: 40.000 ciudadanos ayudan a controlar el mosquito tigre Noticias de la ciencia: Una app y la ciencia ciudadana acorralan al mosquito tigre en España El Periódico: La ayuda ciudadana contra el mosquito tigre es eficaz y valiosa El Periódico: Las aportaciones ciudadanas ayudan a controlar la expansión del mosquito tigre El Periódico de Aragón: La ayuda ciudadana contra el mosquito tigre es eficaz y valiosa EFE Verde: Valencia implica a los ciudadanos en la lucha contra el mosquito tigre 8tv: Catalunya Directe Septiembre Diariosur: El mosquito invisible se extiende como una plaga por los barrios de Málaga Levante-EMV: Comentario del tiempo-Mosquito Alert La Vanguardia: La lucha contra el mosquito tigre llega a las escuelas de varias provincias españolas Levante: El alumnado de Castelló avisará de la presencia de insectos mediante la app Mosquito Alert Periódico de Ibiza: Las escuelas de Ibiza se suman a la lucha contra el mosquito tigre El Periódico: La lucha contra el mosquito tigre llega a las escuelas de varias provincias españolas Cuatro.com: La lucha contra el mosquito tigre llega a las escuelas de varias provincias españolas E uropaPress: La lucha contra el mosquito tigre llega a las escuelas de varias provincias españolas Agosto La Rioja: Otro temible enemigo que llegará a La Rioja en coche La Rioja: Mosquito Alert, una aplicación móvil de lucha contra el invasor Malagahoy: Benalmádena lanza una campaña para controlar los mosquitos Ivecinos: Benalmádena inicia una campaña de control de mosquitos con la APP Mosquito Alert Julio RTVE: REPOR Periodistas.es: Sanidad pone en marcha una red para controlar el Zika La Vanguardia: Madrid se pone de nuevo en guardia por el virus Zika Telemadrid: Vigilancia para controlar la posible llegada del mosquito tigre, transmisor del Zika Terrassadigital.cat: Terrassa sadhereix al projecte Mosquito Alert per a la millora de la vigilància daquests insectes La Vanguardia: Terrassa se une al proyecto Mosquito Alert para controlar su expansión El Economista: El Ayuntamiento pone a disposición de la ciudadanía la APP Bichosavis para mejorar la gestión de las plagas EuropaPress: Una APP permite alertar de la presencia de posibles plagas en València: Bichosavis ElDiario.es: Valencia lanza BichosAvís, una aplicación para chivarle al Ayuntamiento dónde hay mosquitos y cucarachas Levante: El ayuntamiento crea BichosAvis, una aplicación para alertar de las plagas 20minutos: El Ayuntamiento pone a disposición de la ciudadanía la APP Bichosavis para mejorar la gestión de las plagas La Provincias: BichosAvis, la aplicación que el Ayuntamiento de Valencia ofrece a la población para controlar las plagas Els Matins de TV3: Empaitant els mosquits tigre. Un casal destiu ensenya els nens a combatre el mosquit tigre Junio OPEN KNOWLEDGE INTERNATIONAL BLOG: Hong Kong joins the Global Mosquito Alert fight using Open Data Ràdio Tordera: El mosquit tigre criarà massivament si hi ha un estiu calorós LA VERDAD: El mosquito tigre echa raíces en Murcia El Segre: El mosquit tigrem a mig Lleida La Xarxa: La tarda 22.06.17 (18h a 19h) Catalunya Informació: Som com som RTVE Ràdio 4: Vida verda (min 43:27) Sants 3 Ràdio: MeteoSants  Sants-Montjuïc representa el 25% de les zones de risc de mosquit tigre a la ciutat Mayo Balaguer TV: Alumnes de Balaguer participen duna iniciativa ciutadana per estudiar el mosquit tigre Naciódigital: Alerta global contra els mosquits South China Morning Post-Health&Beauty: Hong Kong citizen scientists localise mosquito tracking app to let people report sightings of the disease carriers ARA.cat: Arriben els mosquits: com es preveu aquesta temporada? La Vanguardia Natural: Las mejores imágenes de la nueva temporada del mosquito tigre ECOticias: Todos contra los mosquitos en una lucha liderada por la ONU TOT Sant Cugat: Mosquito Alert, el mapa per saber on hi ha més moquits tigre TOT Cerdanyola: més moquits tigre Betevé: LInstitut Bosc de Montjuïc collabora en la lluita contra el mosquit tigre Ràdio Banyoles: Hora del pati, el mosquit tigre. Ràdio Sabadell: Ramon Vidal, regidor de salut: La presència del mosquit tigre a Sabadell està controlada i reduïda TVE 1: Informatius Catalunya TVE 1: Telediario (min 31:41) Ara.cat: Les escoles de Barcelona collaboraran per controlar el mosquit tigre SER: Reportatge: batuda escolar per combatre el mosquit tigre (16/05/2017) La Vanguardia: Agencia salud de Barcelona introduce lucha contra mosquito tigre en escuelas Radio Palamós: Mosquito Alert presenta una nova eina de gestió contra el mosquit tigre La Xarxa: Notícies en xarxa Levante: La app para el mosquito tigre El Periódico: Una aplicación permite alertas a las administraciones públicas sobre el mosquito tigre Vilaweb, via ACN: Neix un portal del mosquit tigre que recull informació dels ciutadans per fer una gestió i control més efectius Sostenible.cat: LONU i Mosquito Alert salien per frenar els mosquits transmissors de malalties amb participació ciutadana Europa press: La ONU y plataformas científicas se unen contra mosquitos transmisores de enfermedades ConBienestar: Se coordinan en todo el mundo para controlar al mosquito UPR Diálogo: Investigadora del RCM busca desarrollar aplicación para el monitoreo de mosquitos Agencia Hoy: Se coordinan en todo el mundo para controlar al mosquito Lo campus diari: Les Nacions Unides i Mosquito Alert impulsen una aliança global per frenar els mosquits transmissors de malalties mitjançant la participació ciutadana Actualidad humanitària: La ONU lanzará una iniciativa mundial contra las enfermedades transmitidas por los mosquitos AIMDigital: Naciones Unidas y Mosquito Alert impulsan una alianza global para frenar los mosquitos transmisores de enfermedades Al dia.cat: LONU i plataformes científiques suneixen contra mosquits transmissors de malalties Vilaweb: LONU i plataformes científiques suneixen contra mosquits transmissors de malalties Lima al día: Crean alianza global contra enfermedades transmitidas por mosquitos La Vanguardia: Científicos y ciudadanos se unen para luchar contra el mosquito en todo el planeta Diari de Girona: Mapes interactius dels embornals de 120 municipis per combatre el mosquit tigre Diari de Girona: Mosquito Alert situa en el mapa 8.000 punts amb presència del mosquit tigre El Punt: Presenten un portal per controlar el mosquit tigre Empordà: Neix un portal del mosquit tigre que recull informació dels ciutadans per fer una gestió i control més efectius Nació Digital: Neix un portal de gestió del mosquit tigre amb participació ciutadana La Ciutat de Girona: Arriba Mosquito Alert, un portal de prevenció i control del mosquit tigre El Gerió: Neix un portal sobre el mosquit tigre que recull informació dels ciutadans Llagostera Ràdio: Neix un portal del mosquit tigre que recull informació dels ciutadans per fer una gestió i control més efectius RAC 1: Programa 14/1 5 Nació Cerdanya: Neix un portal de gestió del mosquit tigre amb participació ciutadana ECODIARI: Neix un portal de gestió del mosquit tigre amb participació ciutadana NCYT: Las Naciones Unidas y Mosquito Alert impulsan una alianza global para frenar los mosquitos transmisores de enfermedades mediante la participación ciudadana El Periódico: La ONU y plataformas científicas se unen contra mosquitos transmisores de enfermedades EL INDEPENDIENTE: La ONU y la ciencia ciudadana contra mosquitos transmisores de enfermedades EL MUNDO: La ONU y plataformas científicas se unen contra mosquitos transmisores de enfermedades Blikopnieuws: Global Mosquito Alert moet levens gaan redden Diari de Girona: Laplicació gironina contra el mosquit tigre combatrà linsecte en àmbit mundial / En paper Relief web: Pioneering UN-Backed, Citizen-Led Alliance against Mosquito-Borne Diseases Joins Global Fight to Save 2.7 Million Lives Every Year Nature Today: Muggenradar onderdeel van nieuw baanbrekend wereldwijd citizen science programma voor muggen LA VANGUARDIA: La ONU y plataformas científicas se unen contra mosquitos transmisores de enfermedades El Economista: La ONU y plataformas científicas se unen contra mosquitos transmisores de enfermedades Gente Digital: La ONU y plataformas científicas se unen contra mosquitos transmisores de enfermedades Rioja 2: No sabemos cuándo pero el mosquito tigre llegará a La Rioja EL INDEPENDIENTE: El mosquito tigre se adelanta por el calor y las lluvias del invierno Abril Junta de Andalucía: CAPTURA DE LOS PRIMEROS EJEMPLARES DE MOSQUITO TIGRE EN TORREMOLINOS, Málaga Barcelona Metrópolis: El control de plagas en la gran metrópolis Documental The Crowd & The Cloud: Capítulo 3 Viral vs. Virus Betevé Radio: Mosquito Alert, una aplicació per lluitar contra lexpansió dels mosquits Marzo SER Girona: El mosquit tigre sexpandeix cap a linterior Temps de ciència: La participació ciutadana ha minimitzat el risc de transmissió de malalties globals Diciembre La Vanguardia: La ciencia ciudadana aporta más del 50% de los datos de biodiversidad Digital. CSIC: Revista CSIC Abierto ( licenica ) Noviembre TV3: Zika, mare contra mare, al QuèQuiCom La Vanguardia: La región continúa libre del mosquito tigre, transmisor del virus Zika Pa ciència, la nostra: entrevista a Frederic Bartumeus (min 32:04) Octubre La Vanguardia: La ciencia ciudadana se hace un hueco en la comunidad científica EL PAÍS: Jugar con un móvil mientras se combate una enfermedad olvidada NCYT: El mosquito tigre conoce todas las provincias de la costa mediterránea española Higieneambiental.com: El mosquito tigre avanza imparable por la geografía española Cadena SER: El mosquito tigre llega a 70 nuevos municipios españoles en solo un año Hipertextual: El peligroso mosquito tigre ya ha invadido toda la costa mediterránea española SINC: El mosquito tigre conoce todas las provincias de la costa mediterránea española La Opinión de Murcia: El mosquito tigre avanza hacia el interior La Voz del Sur: El mosquito tigre llega a Cádiz EL MUNDO: El mosquito tigre llegó a 70 nuevos municipios españoles en 2015 El nacional.cat: El mosquit tigre colonitza linterior i les illes Andalucía información: El mosquito tigre pica a Cádiz EFE verde: El mosquito tigre avanza hacia el interior de España tras invadir el litoral mediterráneo 20minutos: El mosquito tigre llega a 70 nuevos municipios de tres provincias, entre ellas Cádiz, en un año La Vanguardia Natural: La plaga del mosquito tigre se extiende como una bola de nieve Canal Sur: El mosquito tigre llega a Cádiz y avanza hacia el interior de la Península Heraldo: El mosquito tigre ha llegado a Huesca Público: El mosquito tigre continúa su invasión y llega a 70 nuevos municipios españoles en un año RTVE: El mosquito tigre avanza hacia el interior del país tras invadir el litoral mediterráneo EFE Futuro: El mosquito tigre avanza hacia el interior de España tras invadir el litoral mediterráneo El Periódico de Aragón: Un estudio confirma que hay mosquito tigre en Huesca, Monzón y La Joyosa La voz de Cádiz: El mosquito tigre llega a Cádiz y sigue su avance hacia interior España Septiembre Televisió Eivissa Formentera: Notícies 16/9/16 (min 17:50) Periódico Ibiza y Formentera: La invasión del mosquito tigre ya se ha extendido por todos los municipios de la isla de Eivissa Periódico Ibiza y Formentera: Foto del día Barcelona TV: DEUWATTS Canvi climàtic Agosto Revista LEspia de lAnoia: Mosquit tigre IB3 Televisió: Eivissa vol exterminar el mosquit tigre (min 16:12-20:25) Periódico de Ibiza: Alianza entre Consell y ayuntamientos para luchar contra la invasión del mosquito tigre Levante: La población del mosquito tigre baja un 60% y queda reducida a mínimos Diario de Almería: Una aplicación para el seguimientio y la lucha contra la plaga veraniega EL PAÍS: La amenaza del mosquito tigre y otros insectos en verano SER Valencia: Hoy por Hoy Verano (min 29:23) El Periódico: Badalona refuerza la prevención del mosquito tigre con agentes cívicos que informan a los vecinos puerta a puerta Onda Cero: Zaragoza en la Onda (min 16:06) ABC: Una app para alertar sobre el mosquito del zika Europa Press: Una app para alertar sobre el mosquito del zika / (imágenes de recurso) Eroski Consumer: Mosquito tigre Julio Consalud: Cuáles son las CC. AA. más comprometidas con la mHealth? Magazine Digital: El mosquito bajo lupa Junio Ràdio Palamós: La collaboració ciutadana ajuda a dibuixar lexpansió del mosquit tigre Europa Press: Campaña para aprender a defenderse del mosquito tigre RTVE: España Directo (min 16:20) EL PAÍS: Un plan para evitar que el mosquito tigre llegue a Madrid Ràdio Sabadell: Notícies La Vanguardia: La Comunidad y la UCM colocan trampas para prevenir el Zika en la región LA RIOJA.com: Una app para el mosquito tigre RTVE: La Comunidad de Madrid instala trampas para evitar la expansión del mosquito tigre Agencia SINC: Trampas para prevenir el zika en la Comunidad de Madrid Barcelona TV: Salut Pública confirma que larribada dun cas autòcton de Zika és qüestió de temps Ràdio Sabadell: Els sabadellencs poden alertar de la presència de mosquits tigre a través del telefon mòbil Cadena SER: Hora Barcelona (min 01:10) Cadena SER: Hora 14 Catalunya (min 20:33) El Periódico Bcn: Barcelona busca ayuda ciudadana contra el mosquito tigre La Vanguardia: Barcelona contabiliza 50 áreas de riego de expansión del mosquito tigre TV3: Campanya de control de mosquit tigre La Vanguardia: Piden la colaboración ciudadana para hacer un mapa presencia mosquito tigre RTVE: LInformatiu Barcelona (min 3:18) 20 minutos: Piden ayuda ciudadana para hacer un mapa de la presencia del mosquito tigre en Barcelona Catalunya Ràdio: El matí de Catalunya Ràdio El Periódico Bcn: Expansión a paso firme Antena 3: Cataluña pide ayuda ciudadana para crear un mapa en el que se indique dónde habita el mosquito tigre 8 al dia: El mosquit tigre arriba a Lleida Cadena SER: Barcelona continua lluitant contra el mosquit tigre BTV: Nova campanya contra el mosquit tigre amb les malalties tropicals en el punt de mira El Punt AVUI: El mosquit tigre arriba al Prepirineu i es propaga per Ponent Reporte 24.net: Piden ayuda ciudadana para hacer un mapa de la presencia del mosquito tigre en Barcelona Nació Lleida: Alerta pel mosquit tigre a Ponent Sostenible: Mosquito Alert: una plataforma ciutadana per investigar i controlar mosquits transmissors de malalties globals IDEAL.es: El mosquito tigre cerca a Granada Bioinvasoras: Qué es Mosquito Alert La Opinión de Murcia: Todo sobre el mosquito tigre Btv Terrícoles: Entrevista a Josep Perelló sobre la ciencia ciudadana en las escuelas (cat) (min 14:50) IDEAL.es Granada: El mosquito tigre cerca a Granada Motherboard: This App Helps Citizens Report Deadly Mosquito Sightings ABC: Madrid coloca 200 trampas para controlar la entrada del Zika Diario SUR Málaga: La huella del mosquito tigre se extiende por todo el litoral de la provincia Diario SUR Málaga: Una app permite investigar y controlar su expansión a través de la colaboración ciudadana ABC Sociedad: La propagación del mosquito tigre eleva el riesgo de zika en España (dibujos) Cuatro  Documental Especial: Zika, alerta sanitaria global (Mosquito Alert min 43:20) TV3: Espai Terra (min 21:15) Mayo TVE: Telediario 21h  Virus del Zika y Pau Gasol RAC1 Versió RAC1: Esports amb Albert Bassas ARA.cat Meteo: Un estiu amb més mosquits de lhabitual? La voz de Galicia: La app para detectar el mosquito del zika lleva 20.000 descargas EL CORREO.com: Ojo al mosquito del zika! El Periódico: Àlex López-Durán: Los alumnos ya conocen el aegypti y lo identificarían El Punt AVUI: La ciència ciutadana a les escoles, sota avaluació Big Vang: La ciencia ciudadana entra en las escuelas Público: La ciencia ciudadana acude en socorro del medio ambiente Abril Tercer Milenio  Heraldo: Mosquito Alert, ciencia ciudadana contra mosquitos que transmiten enfermedades RTVE Informativos Murcia: Jornada técnica sobre vigilancia y control de mosquito tigre (min5:18) (Ràdio) La Xarxa: Programa La Tarda Espècies invasores Ràdio Tàrrega: Detectat el mosquit tigre a Tàrrega La Vanguardia Natural: Este es el mapa rojo de la invasión del mosquito tigre Marzo Revista Mètode: Objetivo: atrapar el tigre RAC 1: Tot és possible (min 17:00) (català) La Razón: Mosquito Alert, la app para alertar de la presencia del mosquito que transmite el zika Canal 3/24 (TV3): Una aplicació mòbil per alertar del mosquit del Zika El Punt avui: Lalerta pel mosquit tigre preveurà també el del Zika La Opinión de Murcia: Mosquito alert, una app para que los murcianos avisen de la presencia del mosquito tigre SER Catalunya: Una app per controlar el mosquit de la febre groga Diari ara: Catalunya es prepara per larribada del mosquit del Zika El Mundo: Una app implica a los ciudadanos para prevenir la llegada del Zika a España ABC: Una aplicación permite que los ciudadanos alerten del mosquito que transmite zika El Periódico: Ayuda ciudadana para prevenir la llegada del mosquito del zika LA VANGUARDIA: Una aplicación permite que ciudadanos alerten del mosquito que transmite zika Enero Ciencia para llevar: Mosquitos tigre, eucaliptos, mejillones cebra Las especies exóticas son siempre perjudiciales? ABC Sociedad: España corre riesgo de transmisión del virus zika por el mosquito tigre  Prensa escrita El País: Virus del Zika en Europa: alerta no es lo mismo que alarma Asociación Española de Comunicacon Científica: Ponte en el mapa de la ciencia ciudadana Barcelona Cultura: La ciència ciutadana agafa força a Barcelona El Digital Barcelona: Barcelona reuneix els experts en ciència ciutadana American Pest Control: Nuevos focos de mosquito tigre en Valencia Levante El Mercatil Valenciano: Pintura contra el mosquito tigre LA VANGUARDIA C. Valenciana: El Ayuntamiento de Valencia habilita una web para combatir el mosquito tigre EL PAÍS C. Valenciana: Una aplicación recoge información de focos del mosquito tigre en Valencia Diagonal Global: El mosquito tigre ha venido para quedarse MALLORCA ZEITUNG: Prävention: Was tun gegen die Tigermücke? EL PERIÓDICO Mediterráneo: Detectan 54 nuevos focos de mosquito tigre en tan solo 7 días RADIO EITB: Radio Euskadi, La mecánica del caracol (Naukas ) NAUKAS 2015: Aitana Oltra, mosquito tigre ONDA CERO Valencia: Valencia en la Onda RNE noticias: El mosquito tigre, en la lista de las cien especies invasivas del mundo TELEPOLIS: Fahndung auf der Autobahn: Tigermücke gesucht EL PAÍS: Imparables invasores con alas TELECINCO online: El mosquito tigre, en la lista de las cien peores especies invasivas del mundo LA SEXTA: Camiseta repelente en Terrassa y Atrapaeltigre LA VANGUARDIA: La ayuda ciudadana es vital para controlar el mosquito tigre, según una experta EL PAÍS: La autopista del mosquito tigre TVE1: LA MAÑANA El Confidencial: Así es el chikungunya, el virus del hombre que se retuerce de dolor Aragón TV: INFORMATIVOS SIN IR MÁS LEJOS EL PAÍS: Los Mossos contra el mosquito tigre El Periódico: Mosquitos al volante LA SEXTA Noticias: Controles policiales contra el mosquito tigre TV3: Control de científics i mossos de mosquit tigre a dins dels cotxes LA VANGUARDIA: Mossos y científicos se unen para buscar a los mosquitos tigre en coches Antena 3: Los Mossos se lanzan a la caza de mosquitos tigre escondidos como polizones en los coches LA VANGUARDIA: Investigadores y Mossos dEsquadra buscan mosquitos tigre en los coches EL MUNDO: Atrapa el mosquito tigre! Cadena COPE Girona: El matí COPE National Geographic: Unidos contra el mosquito tigre Las Provincias: Valencia en pie de guerra contra el mosquito tigre La Razón: Una app contra el mosquito tigre Rue 89: Mieux que savete et tapette, votre smartphone contre les moustiques El Periódico: Barcelona crea una app para avisar de la presencia del mosquito tigre LA VANGUARDIA Natural: Barcelona se suma a la app para perseguir al mosquito tigre EL PAÍS: Barcelona se une a la caza del mosquito tigre RTVE Telediario: Crean una aplicación móvil para informar sobre los lugares de cría del mosquito tigre La Sexta: El mosquito tigre se extiende en Más vale tarde min 24 Cadena SER Hora 25: Entrevista con A. Oltra, T. Montalvo y M. Martínez min 08:10 Catalunya Ràdio: la contraportada a 8 dies a la setmana min 08:17 COPE Barcelona: Atrapaeltigre en una entrevista en El Matí Cadena COPE Catalunya/Andorra Ràdio Prat: Atrapaeltigre en una entrevista de Planeta Prat RTVE Telediario: El Ministerio de Sanidad no ve alarmante la presencia del mosquito tigre Higiene Ambiental: Atrapa el tigre en una entrevista Para Todos La 2: Innovación-Ciencia Colaborativa LA SEXTA:  En El Aire , min. 13.45 BTV:  Coneixem el Novum  Àrtic La Vanguardia:  Barcelona lidera las iniciativas de ciencia ciudadana  NAUKAS Bilbao  AtrapaelTigre.com en el espectáculo de ciencia y humor TV3:  Una aplicació per atrapar el mosquit tigre  Telenotícies Comarques TVE:  Tigatrapp, la aplicación que lucha contra el mosquito tigre  Aquí la Tierra TV3:  Generació Digital , min. 11.43 TVE:  Telediario Mediodía , min. 36.40 TV3:  Mosquit tigre arriba al pre-Pirineu  Telenotícies Comarques Onda Regional de Murcia:  Ciencia&Media. Ciencia al día , min. 5.00 Cadena SER:  El Viajero Cuántico  La Ventana  RNE:  A Hombros de Gigantes , min. 47.59 La Vanguardia:  Atrapaeltigre, ciencia ciudadana para vigilar al mosquito que más pica  El Mundo Baleares:  Atrapa el tigre con el móvil  La Opinión de Murcia:  Crean una aplicación del móvil para cazar mosquitos tigres  Europapress:  Una aplicación para móviles ayuda a detectar al mosquito tigre  La Vanguardia:  Una aplicación contra el mosquito tigre  Antena3:  Crean una aplicación para atrapar mosquitos tigre a través del móvil  EFE Verde:  La aplicación para atrapar mosquitos tigre se extiende a toda España  La Estrella de Panamá:  Una aplicación móvil para atrapar mosquitos tigre  La Opinión de Murcia:  Una aplicación móvil permite conocer y localizar el mosquito tigre en la Región  La Vanguardia:  Usted también puede ser científico  Heraldo de Aragón:  Combatir el mosquito tigre entre todos  La Vanguardia:  Ciencia a pie de calle  ARA.cat:  Lexpansió imparable del mosquit tigre  Agencia SINC:  El mosquito tigre, localizado en Andalucía gracias a un proyecto de colaboración ciudadana  Muy Interesante:  Detectan el mosquito-tigre en Andalucía mediante una app y la colaboración cuidadana  Sevilla Actualidad:  El mosquito tigre, localizado por primera vez en Andalucía  La Voz de Galicia:  Una app y la ayuda ciudadana permiten hallar mosquitos tigre en Andalucía  La Vanguardia:  El mosquito tigre ha invadido en una década buena parte de España  Málaga Hoy:  La ruta de la A-7 seguida por el mosquito tigre  8TV:  Tertúlia 8 al dia  COPE:  La Noche  Onda Cero Cataluña:  Fem lAgost  RTVE:  Escolares de Girona ayudarán a atrapar al mosquito tigre este verano  TICbeat:  El teléfono móvil como herramienta de investigación  324. CAT:  Tigatrapp, la nova aplicació per conèixer on es pot trobar el mosquit tigre  El Periódico:  El CSIC estudia la dispersió del mosquit tigre amb una app  ARA.cat:  Una app per acabar amb el mosquit tigre  El Punt Avui:  Una aplicació situa el mosquit tigre per al CSIC  Expansión:  La app que ayuda a combatir los mosquitos  TICbeat:  Tigatrapp, una app para espiar y controlar los movimientos del mosquito tigre  Quo:  A la caza del mosquito tigre en Europa  Levante-EMV:  Una APP contra el mosquito tigre"
        ],
        [
         "38",
         null
        ],
        [
         "39",
         "Sin Permiso Efeminista_v2 Suscríbete aquí Mundial fútbol clubes Toda la información EFE SERVICIOS 7 enero EFE Servicios El contenido que buscas Accede ahora Infografías + gráficos El formato clave de la comunicación digital Solicítalo Ahora con un mes de prueba sin coste EFE Comunica 7 enero Damos voz a tu proyecto Conoce EFE Comunica 10 julio 2025 España Portada España - Noticias Sánchez lanza su plan contra la corrupción tras reconocer que pensó en dimitir por Cerdán Madrid (EFE).- El presidente del Gobierno, Pedro Sánchez, ha propuesto un plan estatal de 15 medidas contra la corrupción, en el que ha recogido buena parte de las propuestas de España Portada España - Noticias 10 julio 2025 10 julio 2025 Cataluña Medio Ambiente Portada España - Noticias Los bomberos confían en poder controlar esta tarde el incendio de Paüls (Tarragona) Barcelona (EFE).- Los Bomberos de la Generalitat de Cataluña confían en poder dar por controlado este jueves por la tarde el incendio que se declaró el lunes en Paüls y Cataluña Medio Ambiente Portada España - Noticias 10 julio 2025 10 julio 2025 Deportes Otras noticias América Portada España - Noticias 4-0. El PSG aplasta al Real Madrid y jugará la final del Mundial de Clubes contra el Chelsea Por David Villafranca  East Rutherford (EE. UU.) (EFE).- El PSG trituró este miércoles por 4-0 al Real Madrid y se clasificó para la final del Mundial de Clubes de la Deportes Otras noticias América Portada España - Noticias 10 julio 2025 10 julio 2025 Cultura Navarra Otras noticias España Portada España - Noticias Los toros de Victoriano del Río corren un encierro agrupado, veloz y limpio Pamplona (EFE).- Los toros de la ganadería madrileña de Victoriano del Río han hecho un cuatro encierro de los Sanfermines veloz y al parecer sin heridos por asta. La manada, Cultura Navarra Otras noticias España Portada España - Noticias 10 julio 2025 Más contenidos Productos para medios de comunicación Contenidos editoriales que conectan con los usuarios Conócelos Conócelos Productos para empresas e instituciones Contenidos corporativos que generan notoriedad y repercusión mediática Elecciones Elecciones generales 2023 Elecciones generales 2023 Más noticias Otras noticias 10 julio 2025 Mundo Otras noticias América Otras noticias España Ola solidaria tras la tragedia: decenas de voluntarios ayudan en el corazón del desastre de las inundaciones en Texas Kerrville (EE. UU.) (EFE). Decenas de voluntarios de distintos lugares de EE. UU. se han desplegado en las comunidades afectadas por las inundaciones en Texas. Desde obreros de construcción de origen latino, Mundo Otras noticias América Otras noticias España 10 julio 2025 10 julio 2025 Cultura Otras noticias España Broncano cierra una temporada de pulsos con Pablo Motos, que sigue líder Madrid (EFE).- 'La Revuelta' se va este jueves de vacaciones tras una temporada que el propio David Broncano ha calificado de muy buena e intensa, con datos de audiencia notables Cultura Otras noticias España 10 julio 2025 10 julio 2025 Cantabria Cultura Otras noticias España Un menú inspirado en lo que cocinaban los habitantes de Altamira Santillana del Mar (EFE).- Un restaurante de Santillana del Mar ha elaborado un menú degustación inmersivo en la historia, inspirado en lo que cocinaban quienes vivieron en ese municipio cántabro Cantabria Cultura Otras noticias España 10 julio 2025 Más noticias Arrancan los Sanfermines con chupinazo a grito de \"Palestina Libre\" Taiwán realiza un entrenamiento de fuego real con sus nuevos tanques de combate"
        ],
        [
         "40",
         "DE EN You are here: SPOTTERON Citizen Science  About Services Since 2014, SPOTTERON is providing Citizen Science Apps and Services for science projects and institutions with a strong focus on design, technical professionality, reliability and user interaction. Trusted by universities, institutions and stakeholders across Europe and beyond, we are creating custom digital solutions for science and Citizen Science Applications along with Project Websites and advanced tools for Data Analysis and Data Visualization. Our long term experience in design, media and web technologies comes together with our focus on innovation for science communication and interactive Citizen Science Apps. WHAT WE DO Citizen Science Apps & Observatories With the SPOTTERON Citizen Science Platform (www.spotteron.net) we offer a customizable and affordable system for applications in the areas of Citizen Science, environmental protection and volunteer monitoring. In cooperation with research projects, we develop independent smartphone apps for Android and IOS, interactive applications for browsers such as map applications or citizen science games, and provide a stable and reliable platform for projects. Read more about Citizen Science Apps & Observatories Interactive Science Games Games and gamification elements can be a practical tool for science communication, data analysis and to reach out to new groups. We create custom game apps for science projects and museum exhibtions to immerse visitors and participants and provide a modern learning experience. Read more about Interactive Science Games Webdesign for Science Sites & Hubs Having a professional website for science projects, exhibitions or portals is a very important part in a modern online world. Modern websites and hubs are always based on a content management system (CMS) to allow project admins to easily create new content and to have modern features ready like sliders, overview pages and more. Read more about Webdesign for Science Sites & Hubs Science Media We are a visual species. To communicate ideas, present results, promote projects or visualize scientic topics we provide services for professional media production and print design. Read more about Science Media Made with  in Europe"
        ],
        [
         "41",
         "Home Our Work About Us Our Work About Us Protecting Vulnerable Populations Conserving Critical Habitats Saving Large Whales From Vessel Strike The State of Cetaceans Ocean Conservationists Corporate Engagement About Us Photo credit: Brittany Visona Founded in 2001, ORCA is a marine conservation charity that is entirely dedicated to the long- term study and protection of whales, dolphins and porpoises and their habitats in oceans worldwide. Our vision is to keep oceans alive with whales and dolphins. ORCAs mission is to give everyone who cares about whale and dolphin conservation an active role in safeguarding their future. There are over 90 species of whales, dolphins and porpoises, collectively known as cetaceans. Many of these species are not adequately protected by international conventions and their populations are being impacted by overfishing, marine pollution, destruction of their habitats and climate change. We work to identify and protect critical whale and dolphin habitats in our oceans, through the active and passionate support of over 1000 dedicated volunteers along with our in-house ocean conservationist teams. Through the partnerships weve built with ferry, cruise and freight companies, we have created unique platforms of opportunity for a true citizen-science programme by using their vessels as seagoing observation stations. ORCA is passionate about people - in fact, our work is as much about people as it is about whales and dolphins. What makes ORCA unique is our dedication to combining accessible marine education with our conservation activities, allowing us to give everyone opportunities to take an active role in marine science and conservation. You may also be interested in Previous slide Next slide Sea Safari Sea Safari Experience whales and dolphins with ORCA and join us out at sea. Read more Become a member Become a member Supporting ORCA as a member is a way everyone can help to protect the ocean. Read more Training Training Start your citizen science journey and help ORCA protect whales and dolphins Read more Our Work About Us Protecting Vulnerable Populations Conserving Critical Habitats Saving Large Whales From Vessel Strike The State of Cetaceans Ocean Conservationists Corporate Engagement"
        ],
        [
         "42",
         ""
        ],
        [
         "43",
         "We turn smartphones into scientific instruments We build world-famous apps, sensors, and platforms featured in Nature , Space.com , The Verge , BBC Click , and many more. Let us build your success too. [email protected]  +31 45 20 31 008 iSPEX: (citizen) science app for environmental monitoring - water & air quality Read more Mini Secchi: citizen science water quality monitoring app Read more Black Hole Finder: citizen science app to help astronomers find black holes Read more Dark Sky Meter & Loss of the Night: citizen science light pollution monitoring apps Read more Track record worldwide Our apps and low-cost sensors have generated discoveries with thousands of users contributing scientific data daily. Featured in top publications and used by research institutions. Worldwide Media Coverage Nature Journal: Featured smartphone science breakthrough Major Media: Space.com , The Verge , BBC Click , CBS , Scientific American , Cosmos Growing User Base 10,000+ Active Users: Submitting data daily Real Impact: Contributors become co-authors on research papers Proven Track Record Multiple successful products: iSPEX 1 and 2, Black Hole Finder, Dark Sky Meter, Mobis, Loss of the Night, Mini/Midi Secchi, Zicht op Licht, Transit of Venus, Digital Diversity Wheel, Aware Hero Citizen science apps for environmental research Join thousands of citizen scientists using our environmental monitoring apps. Transform your smartphone into research-grade scientific instruments for community-driven environmental data collection. Environmental monitoring Mobile apps for water quality, air pollution, and light pollution monitoring. Join citizen science projects with verified environmental data collection. Join environmental monitoring projects  Community science projects Join 10,000+ citizen scientists in research-grade data collection. Our platform enables participants to become co-authors on peer-reviewed publications. Astronomy apps Participate in black hole discovery and astronomical research through mobile apps. Citizen scientists become co-authors on research publications. Join astronomy citizen science  Get The Same Results EU H2020 research consortium partner Trusted consortium partner in European research initiatives, bringing citizen science expertise to cutting-edge projects. Cos4Cloud H2020 Consortium partner in the 3M Cos4Cloud project, developing co-designed citizen science services for biodiversity and the environment. We contribute our experience in mobile citizen science platforms and data quality assurance. Learn about Cos4Cloud  Monocle H2020 Consortium partner in the Monocle-H2020 project, focusing on advanced monitoring and assessment techniques. Our smartphone sensor technology played a key role in democratizing environmental monitoring. Explore Monocle project  Ready for your next EU project? With experience in H2020 consortium partnerships, we bring technical knowledge, citizen science platforms, and research methodology to your proposals. Partner With Us Showcase From Arctic expeditions to global development projects, our apps and sensors are used by researchers and organizations worldwide for scientific and social impact work. Black Hole Finder 2024 Citizens now control robotic telescopes to confirm black hole discoveries. Featured in Space.com and The Verge as revolutionary democratization of astronomical research. Transit of Venus. The app that started it all 100,000+ downloads in one week - our first citizen science milestone. Our citizen science efforts mentioned in Nature Our smartphone science work was featured in Nature's \"Smartphone science\" article, highlighting how researchers are converting devices into distributed laboratories. BBC Click TV coverage BBC Click featured our Dark Sky Meter app in their program about citizen science projects recording light pollution. Arctic research Famous polar researcher Bernice Notenboom used iSPEX to measure aerosols during her Greenland expedition, demonstrating our sensors' reliability in extreme conditions. Global development impact For Oxfam, we developed a digital diversity wheel app that brought our smartphone-based research tools to remote areas in Zimbabwe. Latest updates Loading latest developments... About the founders Norbert Schmidt \"I build tools that bridge the gap between complex science and everyday users.\" Norbert is an entrepreneur and technology innovator with deep experience in scientific applications and citizen science. As an early adopter of self-hosted large language models, he specializes in privacy-respecting AI for science and healthcare domains. Beyond founding Pocket Science, Norbert has developed multiple groundbreaking scientific platforms including iSPEX (taking a Leiden University invention and developing it into a spectropolarimeter add-on for smartphones for air and water quality monitoring), the Dark Sky Meter app he created, and the Black Hole Finder (the leading platform for visual confirmation of black hole merger events). He has presented his work at TEDx , and his research publications as co-author include work in Optics Express, Geophysical Research Letters, and other scientific journals. When not developing the next generation of scientific tools, Norbert enjoys amateur astronomy and trail running. His multidisciplinary approach combines deep technical knowledge with a genuine passion for making science accessible to everyone. Joep van der Heiden Co-founder and research partner with a background in psychological investigation. Joep brings essential research methodology knowledge to Pocket Science, serving as co-investigator in our EU-funded projects. His psychological research background provides crucial insights into user behavior and scientific methodology, ensuring our citizen science applications are both scientifically rigorous and user-friendly. Joep's investigative expertise has been instrumental in designing research protocols for our large-scale citizen science initiatives. Like Norbert, he enjoys amateur astronomy and trail running. Contact E: [email protected] E: [email protected] P: +31 45 20 31 008 Kloosterweg 1 6412 CN Heerlen Pocket Science is a trademark of DDQ B. V."
        ],
        [
         "44",
         "You are here: Home > About About the Project BiciZen: a collaborative platform to make cities more bikeable. BiciZen is an open and collaborative platform that crowdsources data about everyday cycling experiences in city regions around Europe. Our platform aims to empower cyclists with information that can improve their everyday cycling experience. By contributing to BiciZen, cyclists also contribute to a broader research project and help city officials understand patterns and problems related to cycling. We aim to highlight the contribution of the citizen cyclist in the transformation of their city region. Our name, BiciZen , is the convergence of the Bicycle + Citizen , and a nod to the pure joy of riding, which under the best circumstances, evokes inner peace and tranquility. BiciZen engages people who cycle in city regions and want to make cycling safer and easier. By participating in BiciZen you will be contributing to a larger dialogue on the future of bicycle infrastructure in your city. BiciZen also helps you connect with other cyclists. The data collected on the BiciZen platform will provide a historical record of cycling incidents, events, and commentary that can be consulted by all stakeholders. Anonymized datasets will be shared as open data for research use. The data collected through BiciZen is open and free to cycling activists, city officials or researchers and made available on our website. BiciZen has been created through a research collaboration between five ECIU universities funded by the ECIU SMART-ER seed program for citizen science. BiciZen has been supported by the Ramón y Cajal Fellowship (RyC-2019-027279-I) of the Spanish Ministerio de Ciencia, Innovación y Universidades and the Agencia Estatal de Investigación . No Trackers - No Ads This website uses no external trackers, no analytics, just session cookies and values your online privacy. powered by SPOTTERON Citizen Science Find your Citizen Science Apps at www.spotteron.app"
        ]
       ],
       "shape": {
        "columns": 1,
        "rows": 45
       }
      },
      "text/plain": [
       "0                                                      \n",
       "1     Science for every body We run the worlds large...\n",
       "2     Lets protect and enjoy our natural world toget...\n",
       "3     Observations (Total  24h): -  - Species (24h):...\n",
       "4     GLOBE Breadcrumb About About GLOBE Observer GL...\n",
       "5     A platform to disrupt and democratize health r...\n",
       "6     About Spotfire Spotfire pioneers a visual-firs...\n",
       "7     Why do most mental health problems arise durin...\n",
       "8     DE EN You are here: SPOTTERON Citizen Science ...\n",
       "9                                                  None\n",
       "10    About Faunawatch has been committed to animal ...\n",
       "11    Wildlife Acoustics creates the worlds leading ...\n",
       "12    About the Zooniverse Section About the Zoonive...\n",
       "13    Sections About Us USA National Phenology Netwo...\n",
       "14    DE EN You are here: SPOTTERON Citizen Science ...\n",
       "15    About the YouCount project YouCount is a proje...\n",
       "16                                                 None\n",
       "17    About HerpMapper HerpMapper is a 501(c)(3) non...\n",
       "18    About us Taking action for the ocean today, so...\n",
       "19    Cosa faremo noi? Il progetto si propone di att...\n",
       "20    About the project About the Corona Report App ...\n",
       "21                                                 None\n",
       "22    The Way the World Learns to Dive  PADI (Profes...\n",
       "23                                                 None\n",
       "24    About BirdWeather What is BirdWeather? BirdWea...\n",
       "25                                                 None\n",
       "26    Home About us About us This website and the Ey...\n",
       "27    Skip to content Data submission Single datapoi...\n",
       "28    Dawn Chorus: created in a moment of silence Du...\n",
       "29    About BeeMachine BeeMachine was developed by B...\n",
       "30    BirdTrack Page menu Close page menu BirdTrack ...\n",
       "31    About us The OpenRadiation project is a collab...\n",
       "32    The Wisconsin Pollinators website is maintaine...\n",
       "33    Error al acceder a la URL: 403 Client Error: F...\n",
       "34    Training Workshops We hold in-person training ...\n",
       "35    This video clip is a documentation of a public...\n",
       "36    You are here: Home > About the beetle About th...\n",
       "37    Oficina de prensa ssn_admin 2023-06-05T10:26:1...\n",
       "38                                                 None\n",
       "39    Sin Permiso Efeminista_v2 Suscríbete aquí Mund...\n",
       "40    DE EN You are here: SPOTTERON Citizen Science ...\n",
       "41    Home Our Work About Us Our Work About Us Prote...\n",
       "42                                                     \n",
       "43    We turn smartphones into scientific instrument...\n",
       "44    You are here: Home > About About the Project B...\n",
       "Name: platform_about, dtype: object"
      ]
     },
     "execution_count": 25,
     "metadata": {},
     "output_type": "execute_result"
    }
   ],
   "source": [
    "df.platform_about"
   ]
  },
  {
   "cell_type": "code",
   "execution_count": null,
   "id": "c57e5683",
   "metadata": {},
   "outputs": [],
   "source": [
    "# Replace empty string by None\n",
    "import numpy as np\n",
    "df.loc[df.platform_about == \"\", \"platform_about\"] = None"
   ]
  },
  {
   "cell_type": "code",
   "execution_count": null,
   "id": "2c3afc0e",
   "metadata": {},
   "outputs": [
    {
     "name": "stdout",
     "output_type": "stream",
     "text": [
      "<class 'pandas.core.frame.DataFrame'>\n",
      "RangeIndex: 45 entries, 0 to 44\n",
      "Data columns (total 10 columns):\n",
      " #   Column              Non-Null Count  Dtype  \n",
      "---  ------              --------------  -----  \n",
      " 0   name                45 non-null     object \n",
      " 1   developer           45 non-null     object \n",
      " 2   description         45 non-null     object \n",
      " 3   url                 45 non-null     object \n",
      " 4   language            45 non-null     object \n",
      " 5   platform_url        45 non-null     object \n",
      " 6   active              45 non-null     object \n",
      " 7   year_creation       41 non-null     float64\n",
      " 8   platform_about_url  39 non-null     object \n",
      " 9   platform_about      37 non-null     object \n",
      "dtypes: float64(1), object(9)\n",
      "memory usage: 3.6+ KB\n"
     ]
    }
   ],
   "source": [
    "df.info()"
   ]
  },
  {
   "cell_type": "markdown",
   "id": "55636239",
   "metadata": {},
   "source": [
    "## terms_use_link"
   ]
  },
  {
   "cell_type": "code",
   "execution_count": 29,
   "id": "c7abd777",
   "metadata": {},
   "outputs": [],
   "source": [
    "# Keywords to identify \"Terms of Use\"\n",
    "terms_keyword = [\n",
    "    # Inglés\n",
    "    'terms', 'terms-of-use', 'terms-of-service',\n",
    "    # Español\n",
    "    'términos', 'condiciones', 'aviso-legal',\n",
    "    # Francés\n",
    "    'conditions', 'mentions-légales', 'cgu',\n",
    "    # Neerlandés\n",
    "    'voorwaarden', 'gebruiksvoorwaarden',\n",
    "    # Alemán\n",
    "    'nutzungsbedingungen', 'agb',\n",
    "    # Sueco\n",
    "    'användarvillkor', 'villkor',\n",
    "    # Danés\n",
    "    'vilkår', 'betingelser',\n",
    "    # Italiano\n",
    "    'termini', 'condizioni',\n",
    "    # Portugués\n",
    "    'termos', 'condições',\n",
    "]"
   ]
  },
  {
   "cell_type": "code",
   "execution_count": 30,
   "id": "2ff9d699",
   "metadata": {},
   "outputs": [],
   "source": [
    "def find_terms_url(base_url, list_terms):\n",
    "    try:\n",
    "        headers = {\n",
    "            'User-Agent': 'Mozilla/5.0 (Windows NT 10.0; Win64; x64) AppleWebKit/537.36 (KHTML, like Gecko) Chrome/91.0.4472.124 Safari/537.36'\n",
    "        }\n",
    "        response = requests.get(base_url, headers=headers, timeout=10)\n",
    "        response.raise_for_status()\n",
    "        \n",
    "        soup = BeautifulSoup(response.text, 'html.parser')\n",
    "        \n",
    "        # Buscar en todos los enlaces\n",
    "        all_links = [a.get('href') for a in soup.find_all('a', href=True)]\n",
    "        \n",
    "        # Convertir a URLs absolutas y filtrar None\n",
    "        absolute_links = []\n",
    "        for link in all_links:\n",
    "            if link:\n",
    "                try:\n",
    "                    absolute_links.append(urljoin(base_url, link))\n",
    "                except:\n",
    "                    continue\n",
    "        \n",
    "        # Buscar coincidencias con términos \"about\" en los enlaces\n",
    "        for term in list_terms:\n",
    "            for link in absolute_links:\n",
    "                if term in link.lower():\n",
    "                    return link\n",
    "        \n",
    "        # Si no se encuentra por URL, buscar en el texto del enlace\n",
    "        for a in soup.find_all('a'):\n",
    "            text = a.get_text().lower()\n",
    "            if any(term in text for term in list_terms):\n",
    "                href = a.get('href')\n",
    "                if href:\n",
    "                    return urljoin(base_url, href)\n",
    "        \n",
    "        return None\n",
    "\n",
    "    except Exception as e:\n",
    "        print(f\"Error procesando {base_url}: {str(e)}\")\n",
    "        return None\n"
   ]
  },
  {
   "cell_type": "code",
   "execution_count": 31,
   "id": "bb33d001",
   "metadata": {},
   "outputs": [
    {
     "name": "stdout",
     "output_type": "stream",
     "text": [
      "Error procesando http://www.natural-apptitude.co.uk/project/sealife-tracker/: 404 Client Error: Not Found for url: https://www.natural-apptitude.co.uk/project/sealife-tracker\n",
      "Error procesando https://uwiseismic.com/myhaz-vct/: ('Connection aborted.', RemoteDisconnected('Remote end closed connection without response'))\n",
      "Error procesando https://bigbutterflycount.butterfly-conservation.org/: 403 Client Error: Forbidden for url: https://bigbutterflycount.butterfly-conservation.org/\n"
     ]
    }
   ],
   "source": [
    "df['terms_use_link'] = df['platform_url'].apply(lambda x: find_terms_url(x, terms_keyword))"
   ]
  },
  {
   "cell_type": "code",
   "execution_count": 32,
   "id": "bcd1f59e",
   "metadata": {},
   "outputs": [
    {
     "name": "stdout",
     "output_type": "stream",
     "text": [
      "<class 'pandas.core.frame.DataFrame'>\n",
      "RangeIndex: 45 entries, 0 to 44\n",
      "Data columns (total 10 columns):\n",
      " #   Column              Non-Null Count  Dtype  \n",
      "---  ------              --------------  -----  \n",
      " 0   name                45 non-null     object \n",
      " 1   developer           45 non-null     object \n",
      " 2   description         45 non-null     object \n",
      " 3   url                 45 non-null     object \n",
      " 4   language            45 non-null     object \n",
      " 5   platform_url        45 non-null     object \n",
      " 6   active              45 non-null     object \n",
      " 7   year_creation       41 non-null     float64\n",
      " 8   platform_about_url  39 non-null     object \n",
      " 9   terms_use_link      17 non-null     object \n",
      "dtypes: float64(1), object(9)\n",
      "memory usage: 3.6+ KB\n"
     ]
    }
   ],
   "source": [
    "df.info()"
   ]
  },
  {
   "cell_type": "markdown",
   "id": "8e30e434",
   "metadata": {},
   "source": [
    "* Run just one time (Google limit):"
   ]
  },
  {
   "cell_type": "code",
   "execution_count": 33,
   "id": "ba2e0cf5",
   "metadata": {},
   "outputs": [
    {
     "name": "stdout",
     "output_type": "stream",
     "text": [
      "Error buscando https://beemachine.ai: 429 Client Error: Too Many Requests for url: https://www.google.com/sorry/index?continue=https://www.google.com/search%3Fq%3Dsite%253Ahttps%253A%252F%252Fbeemachine.ai%2B%2528inurl%253Aterms%2BOR%2Bintitle%253Aterms%2529%26num%3D3%26hl%3Den%26start%3D0%26safe%3Dactive&hl=en&q=EgRTIoHjGIH93cMGIjDWJEFuRLReuFzqxoMExB3kDD6QGWweuoUQ0vo3ffHZzGgqI3r6fDOouE870ESKSucyAnJSWgFD\n",
      "Error buscando http://www.birdtrack.net: 429 Client Error: Too Many Requests for url: https://www.google.com/sorry/index?continue=https://www.google.com/search%3Fq%3Dsite%253Ahttp%253A%252F%252Fwww.birdtrack.net%2B%2528inurl%253Aterms%2BOR%2Bintitle%253Aterms%2529%26num%3D3%26hl%3Den%26start%3D0%26safe%3Dactive&hl=en&q=EgRTIoHjGIT93cMGIjBA2kOSOJsBRoNGf7TCTpSfcrYxp86UWBSQixIXGjXT2NfwXi2VPNpfNom6c9iELj8yAnJSWgFD\n",
      "Error buscando https://www.openradiation.org/en: 429 Client Error: Too Many Requests for url: https://www.google.com/sorry/index?continue=https://www.google.com/search%3Fq%3Dsite%253Ahttps%253A%252F%252Fwww.openradiation.org%252Fen%2B%2528inurl%253Aterms%2BOR%2Bintitle%253Aterms%2529%26num%3D3%26hl%3Den%26start%3D0%26safe%3Dactive&hl=en&q=EgRTIoHjGIj93cMGIjBnnd5-SQAi7_zixqiIZEHdlkrH1YbosJzQCzamyzqyp1ZyrVFqwfgaOiVXZWg5d7EyAnJSWgFD\n",
      "Error buscando https://pollinators.wisc.edu/wibee/: 429 Client Error: Too Many Requests for url: https://www.google.com/sorry/index?continue=https://www.google.com/search%3Fq%3Dsite%253Ahttps%253A%252F%252Fpollinators.wisc.edu%252Fwibee%252F%2B%2528inurl%253Aterms%2BOR%2Bintitle%253Aterms%2529%26num%3D3%26hl%3Den%26start%3D0%26safe%3Dactive&hl=en&q=EgRTIoHjGIv93cMGIjAvzrePTe2q_Fk0ZuMyN1WzxTiHAgWWYSq3vOPT1R9Rs3Os7HxpGG7dKvrwCM95oO8yAnJSWgFD\n",
      "Error buscando https://bigbutterflycount.butterfly-conservation.org/: 429 Client Error: Too Many Requests for url: https://www.google.com/sorry/index?continue=https://www.google.com/search%3Fq%3Dsite%253Ahttps%253A%252F%252Fbigbutterflycount.butterfly-conservation.org%252F%2B%2528inurl%253Aterms%2BOR%2Bintitle%253Aterms%2529%26num%3D3%26hl%3Den%26start%3D0%26safe%3Dactive&hl=en&q=EgRTIoHjGI_93cMGIjDu2XWEzgYHQyoL1sjwqbooNzUS-1eYQoQhIlphr23jQ1xJj3f7jl8Nc4M-EpCZO9cyAnJSWgFD\n",
      "Error buscando https://caterpillarscount.unc.edu: 429 Client Error: Too Many Requests for url: https://www.google.com/sorry/index?continue=https://www.google.com/search%3Fq%3Dsite%253Ahttps%253A%252F%252Fcaterpillarscount.unc.edu%2B%2528inurl%253Aterms%2BOR%2Bintitle%253Aterms%2529%26num%3D3%26hl%3Den%26start%3D0%26safe%3Dactive&hl=en&q=EgRTIoHjGJL93cMGIjD8u3u8VCX0oPKBmQBqq74hJ-D-blHKDIR0KF7U_ZMTtTh5-GWrMEdVA0mRXuor7psyAnJSWgFD\n",
      "Error buscando https://build4people.org/: 429 Client Error: Too Many Requests for url: https://www.google.com/sorry/index?continue=https://www.google.com/search%3Fq%3Dsite%253Ahttps%253A%252F%252Fbuild4people.org%252F%2B%2528inurl%253Aterms%2BOR%2Bintitle%253Aterms%2529%26num%3D3%26hl%3Den%26start%3D0%26safe%3Dactive&hl=en&q=EgRTIoHjGJX93cMGIjAkzq7n8CMeXk3t2qekLCeJJM0tu3mikKV0h_3OViZK37qThuB1BKS5CLBkYq5r9l0yAnJSWgFD\n",
      "Error buscando https://www.popillia.eu/: 429 Client Error: Too Many Requests for url: https://www.google.com/sorry/index?continue=https://www.google.com/search%3Fq%3Dsite%253Ahttps%253A%252F%252Fwww.popillia.eu%252F%2B%2528inurl%253Aterms%2BOR%2Bintitle%253Aterms%2529%26num%3D3%26hl%3Den%26start%3D0%26safe%3Dactive&hl=en&q=EgRTIoHjGJj93cMGIjDr0FN5aTKvZckIPpTcrpgnJWs1F3wIrPgSif2tLD10-XdJLZnB5U2wyOG7bBpALnAyAnJSWgFD\n",
      "Error buscando http://www.mosquitoalert.com: 429 Client Error: Too Many Requests for url: https://www.google.com/sorry/index?continue=https://www.google.com/search%3Fq%3Dsite%253Ahttp%253A%252F%252Fwww.mosquitoalert.com%2B%2528inurl%253Aterms%2BOR%2Bintitle%253Aterms%2529%26num%3D3%26hl%3Den%26start%3D0%26safe%3Dactive&hl=en&q=EgRTIoHjGJv93cMGIjBE7h-Gz57FYYoXhXSFwK6ccRHHgmYJNELaTZxXzyQkRsgjmJaioDb9DiOC9i8f8R4yAnJSWgFD\n",
      "Error buscando https://www.natureboostproject.com: 429 Client Error: Too Many Requests for url: https://www.google.com/sorry/index?continue=https://www.google.com/search%3Fq%3Dsite%253Ahttps%253A%252F%252Fwww.natureboostproject.com%2B%2528inurl%253Aterms%2BOR%2Bintitle%253Aterms%2529%26num%3D3%26hl%3Den%26start%3D0%26safe%3Dactive&hl=en&q=EgRTIoHjGJ793cMGIjAOZweenM8jrBvMivrd9_85a2BVyPkJOXzBLOSIUsNggEax3BnulFiG5qp2HSZIHKoyAnJSWgFD\n",
      "Error buscando http://medusapp.net: 429 Client Error: Too Many Requests for url: https://www.google.com/sorry/index?continue=https://www.google.com/search%3Fq%3Dsite%253Ahttp%253A%252F%252Fmedusapp.net%2B%2528inurl%253Aterms%2BOR%2Bintitle%253Aterms%2529%26num%3D3%26hl%3Den%26start%3D0%26safe%3Dactive&hl=en&q=EgRTIoHjGKL93cMGIjDaLC5uRyrDmPXyQZG2V7VI5toWXlFPtgPfjA7J-gYb2XM9Cb6eOmcS-EY_A9ShGXUyAnJSWgFD\n",
      "Error buscando https://www.spotteron.net/: 429 Client Error: Too Many Requests for url: https://www.google.com/sorry/index?continue=https://www.google.com/search%3Fq%3Dsite%253Ahttps%253A%252F%252Fwww.spotteron.net%252F%2B%2528inurl%253Aterms%2BOR%2Bintitle%253Aterms%2529%26num%3D3%26hl%3Den%26start%3D0%26safe%3Dactive&hl=en&q=EgRTIoHjGKb93cMGIjCbxCtjq_6g3ZsppbMOt_pkuJ-grRq2mQwXn1ll-ywumAndJlmJZiiDXEE_6ETPy6cyAnJSWgFD\n",
      "Error buscando https://www.orca.org.uk: 429 Client Error: Too Many Requests for url: https://www.google.com/sorry/index?continue=https://www.google.com/search%3Fq%3Dsite%253Ahttps%253A%252F%252Fwww.orca.org.uk%2B%2528inurl%253Aterms%2BOR%2Bintitle%253Aterms%2529%26num%3D3%26hl%3Den%26start%3D0%26safe%3Dactive&hl=en&q=EgRTIoHjGKr93cMGIjB8IEfyDdvxOT7IV59IgAR6pSbALdWbohiSxL6tcz5MvSgEIvW0omn-jHk-rn-7RBEyAnJSWgFD\n",
      "Error buscando https://instantwild.zsl.org/: 429 Client Error: Too Many Requests for url: https://www.google.com/sorry/index?continue=https://www.google.com/search%3Fq%3Dsite%253Ahttps%253A%252F%252Finstantwild.zsl.org%252F%2B%2528inurl%253Aterms%2BOR%2Bintitle%253Aterms%2529%26num%3D3%26hl%3Den%26start%3D0%26safe%3Dactive&hl=en&q=EgRTIoHjGK393cMGIjBpJGTZqYnRDjqeUJu7g-r-fvFI9YPOxaSg3Xwne5Vf4HrdaV8JLZ0MEPysibHY1_gyAnJSWgFD\n",
      "Error buscando https://www.pocket.science/products/blackholefinder/: 429 Client Error: Too Many Requests for url: https://www.google.com/sorry/index?continue=https://www.google.com/search%3Fq%3Dsite%253Ahttps%253A%252F%252Fwww.pocket.science%252Fproducts%252Fblackholefinder%252F%2B%2528inurl%253Aterms%2BOR%2Bintitle%253Aterms%2529%26num%3D3%26hl%3Den%26start%3D0%26safe%3Dactive&hl=en&q=EgRTIoHjGLH93cMGIjDP4Hrdq7ZyOuLNhE_tngjew81Ov3llM3kGDX6jzeX9J9bzk8xAURwxMh5XkVu2rNcyAnJSWgFD\n",
      "Error buscando https://www.bicizen.org/: 429 Client Error: Too Many Requests for url: https://www.google.com/sorry/index?continue=https://www.google.com/search%3Fq%3Dsite%253Ahttps%253A%252F%252Fwww.bicizen.org%252F%2B%2528inurl%253Aterms%2BOR%2Bintitle%253Aterms%2529%26num%3D3%26hl%3Den%26start%3D0%26safe%3Dactive&hl=en&q=EgRTIoHjGLX93cMGIjC_6Rrk8xI-hOM9JiBtWgCLzSNLtuQRlw1g9CKwjRXjkYQrggi3k350cpt5cUY26RwyAnJSWgFD\n"
     ]
    }
   ],
   "source": [
    "from googlesearch import search\n",
    "import time\n",
    "\n",
    "def search_google_terms(co_url, list_keywords):\n",
    "    for term in list_keywords:\n",
    "        query = f\"site:{co_url} (inurl:{term} OR intitle:{term})\"\n",
    "        try:\n",
    "            # Busca en sitios específicos de ciencia ciudadana\n",
    "            results = list(search(query, num_results=1, lang=\"en\"))\n",
    "            time.sleep(2)\n",
    "            return results[0] if results else None\n",
    "        except Exception as e:\n",
    "            print(f\"Error buscando {co_url}: {e}\")\n",
    "            time.sleep(2)\n",
    "            return None\n",
    "        \n",
    "df[\"terms_use_google\"] = df['platform_url'].apply(lambda x: search_google_terms(x, terms_keyword))"
   ]
  },
  {
   "cell_type": "code",
   "execution_count": null,
   "id": "5a1ab0e1",
   "metadata": {},
   "outputs": [],
   "source": [
    "# Replace empty string by None\n",
    "df.loc[df.terms_use_google == \"\", \"terms_use_google\"] = None"
   ]
  },
  {
   "cell_type": "code",
   "execution_count": 34,
   "id": "2736ccc4",
   "metadata": {},
   "outputs": [
    {
     "data": {
      "application/vnd.microsoft.datawrangler.viewer.v0+json": {
       "columns": [
        {
         "name": "index",
         "rawType": "int64",
         "type": "integer"
        },
        {
         "name": "name",
         "rawType": "object",
         "type": "string"
        },
        {
         "name": "terms_use_link",
         "rawType": "object",
         "type": "unknown"
        }
       ],
       "ref": "ce9fa368-a422-4f4d-b3ac-4e9670d861e6",
       "rows": [
        [
         "0",
         "Anecdata.org",
         null
        ],
        [
         "1",
         "ZOE Health Study",
         null
        ],
        [
         "2",
         "Leave No Trace Citizen Science",
         "https://lnt.org/terms-conditions"
        ],
        [
         "3",
         "BirdNET",
         null
        ],
        [
         "4",
         "GLOBE Observer",
         null
        ],
        [
         "5",
         "Quantified Citizen Pro",
         "https://www.quantifiedcitizen.com/terms-of-use.html"
        ],
        [
         "6",
         "spotFIRE | Citizen Science",
         null
        ],
        [
         "7",
         "Brain Explorer",
         null
        ],
        [
         "8",
         "WaterLinx | Citizen Science",
         "https://www.spotteron.net/terms-of-use"
        ],
        [
         "9",
         "The Happiness Project",
         null
        ],
        [
         "10",
         "Faunawatch Citizen Science",
         null
        ],
        [
         "11",
         "Echo Meter Touch Bat Detector",
         "https://www.wildlifeacoustics.com/legal-documentation/terms-of-use"
        ],
        [
         "12",
         "Zooniverse",
         null
        ],
        [
         "13",
         "Nature's Notebook",
         "https://www.usanpn.org/about/terms"
        ],
        [
         "14",
         "AmphiApp | Citizen Science",
         "https://www.spotteron.net/terms-of-use"
        ],
        [
         "15",
         "YOUCOUNT Youth Citizen Science",
         "https://www.youcountproject.eu/terms-of-use-website"
        ],
        [
         "16",
         "ISeeChange Tracker",
         null
        ],
        [
         "17",
         "HerpMapper",
         "https://www.herpmapper.org/terms"
        ],
        [
         "18",
         "WhaleReport",
         "https://ocean.org/terms/"
        ],
        [
         "19",
         "CSMON-LIFE segnalazioni",
         null
        ],
        [
         "20",
         "CoronaReport",
         "https://www.coronareport.global/about-the-project/project-terms-of-use"
        ],
        [
         "21",
         "Sealife Tracker",
         null
        ],
        [
         "22",
         "PADI AWARE",
         null
        ],
        [
         "23",
         "Dark Sky Meter",
         null
        ],
        [
         "24",
         "BirdWeather",
         "https://www.birdweather.com/terms-of-service"
        ],
        [
         "25",
         "myHAZ-VCT",
         null
        ],
        [
         "26",
         "EyeOnWater - Colour",
         null
        ],
        [
         "27",
         "Tea Bag Index | SPOTTERON",
         null
        ],
        [
         "28",
         "Dawn Chorus",
         null
        ],
        [
         "29",
         "BeeMachine",
         "https://beemachine.ai/page/terms-of-use"
        ],
        [
         "30",
         "BirdTrack",
         "http://www.birdtrack.net/terms-conditions"
        ],
        [
         "31",
         "OpenRadiation",
         "https://www.openradiation.org/en/conditions-dutilisation"
        ],
        [
         "32",
         "WiBee",
         null
        ],
        [
         "33",
         "Big Butterfly Count",
         null
        ],
        [
         "34",
         "Caterpillars Count!",
         null
        ],
        [
         "35",
         "Build4People: Citizen Science",
         null
        ],
        [
         "36",
         "IPM Popillia Pest Management",
         null
        ],
        [
         "37",
         "Mosquito Alert",
         "https://www.mosquitoalert.com/aviso-legal/"
        ],
        [
         "38",
         "Citizen Scientist",
         null
        ],
        [
         "39",
         "MedusApp",
         null
        ],
        [
         "40",
         "CoastSnap | SPOTTERON",
         "https://www.spotteron.net/terms-of-use"
        ],
        [
         "41",
         "ORCA Oceanwatchers",
         "https://orca.org.uk/terms-conditions"
        ],
        [
         "42",
         "ZSL Instant Wild",
         null
        ],
        [
         "43",
         "Black hole finder",
         null
        ],
        [
         "44",
         "BiciZen",
         null
        ]
       ],
       "shape": {
        "columns": 2,
        "rows": 45
       }
      },
      "text/html": [
       "<div>\n",
       "<style scoped>\n",
       "    .dataframe tbody tr th:only-of-type {\n",
       "        vertical-align: middle;\n",
       "    }\n",
       "\n",
       "    .dataframe tbody tr th {\n",
       "        vertical-align: top;\n",
       "    }\n",
       "\n",
       "    .dataframe thead th {\n",
       "        text-align: right;\n",
       "    }\n",
       "</style>\n",
       "<table border=\"1\" class=\"dataframe\">\n",
       "  <thead>\n",
       "    <tr style=\"text-align: right;\">\n",
       "      <th></th>\n",
       "      <th>name</th>\n",
       "      <th>terms_use_link</th>\n",
       "    </tr>\n",
       "  </thead>\n",
       "  <tbody>\n",
       "    <tr>\n",
       "      <th>0</th>\n",
       "      <td>Anecdata.org</td>\n",
       "      <td>None</td>\n",
       "    </tr>\n",
       "    <tr>\n",
       "      <th>1</th>\n",
       "      <td>ZOE Health Study</td>\n",
       "      <td>None</td>\n",
       "    </tr>\n",
       "    <tr>\n",
       "      <th>2</th>\n",
       "      <td>Leave No Trace Citizen Science</td>\n",
       "      <td>https://lnt.org/terms-conditions</td>\n",
       "    </tr>\n",
       "    <tr>\n",
       "      <th>3</th>\n",
       "      <td>BirdNET</td>\n",
       "      <td>None</td>\n",
       "    </tr>\n",
       "    <tr>\n",
       "      <th>4</th>\n",
       "      <td>GLOBE Observer</td>\n",
       "      <td>None</td>\n",
       "    </tr>\n",
       "    <tr>\n",
       "      <th>5</th>\n",
       "      <td>Quantified Citizen Pro</td>\n",
       "      <td>https://www.quantifiedcitizen.com/terms-of-use...</td>\n",
       "    </tr>\n",
       "    <tr>\n",
       "      <th>6</th>\n",
       "      <td>spotFIRE | Citizen Science</td>\n",
       "      <td>None</td>\n",
       "    </tr>\n",
       "    <tr>\n",
       "      <th>7</th>\n",
       "      <td>Brain Explorer</td>\n",
       "      <td>None</td>\n",
       "    </tr>\n",
       "    <tr>\n",
       "      <th>8</th>\n",
       "      <td>WaterLinx | Citizen Science</td>\n",
       "      <td>https://www.spotteron.net/terms-of-use</td>\n",
       "    </tr>\n",
       "    <tr>\n",
       "      <th>9</th>\n",
       "      <td>The Happiness Project</td>\n",
       "      <td>None</td>\n",
       "    </tr>\n",
       "    <tr>\n",
       "      <th>10</th>\n",
       "      <td>Faunawatch Citizen Science</td>\n",
       "      <td>None</td>\n",
       "    </tr>\n",
       "    <tr>\n",
       "      <th>11</th>\n",
       "      <td>Echo Meter Touch Bat Detector</td>\n",
       "      <td>https://www.wildlifeacoustics.com/legal-docume...</td>\n",
       "    </tr>\n",
       "    <tr>\n",
       "      <th>12</th>\n",
       "      <td>Zooniverse</td>\n",
       "      <td>None</td>\n",
       "    </tr>\n",
       "    <tr>\n",
       "      <th>13</th>\n",
       "      <td>Nature's Notebook</td>\n",
       "      <td>https://www.usanpn.org/about/terms</td>\n",
       "    </tr>\n",
       "    <tr>\n",
       "      <th>14</th>\n",
       "      <td>AmphiApp | Citizen Science</td>\n",
       "      <td>https://www.spotteron.net/terms-of-use</td>\n",
       "    </tr>\n",
       "    <tr>\n",
       "      <th>15</th>\n",
       "      <td>YOUCOUNT Youth Citizen Science</td>\n",
       "      <td>https://www.youcountproject.eu/terms-of-use-we...</td>\n",
       "    </tr>\n",
       "    <tr>\n",
       "      <th>16</th>\n",
       "      <td>ISeeChange Tracker</td>\n",
       "      <td>None</td>\n",
       "    </tr>\n",
       "    <tr>\n",
       "      <th>17</th>\n",
       "      <td>HerpMapper</td>\n",
       "      <td>https://www.herpmapper.org/terms</td>\n",
       "    </tr>\n",
       "    <tr>\n",
       "      <th>18</th>\n",
       "      <td>WhaleReport</td>\n",
       "      <td>https://ocean.org/terms/</td>\n",
       "    </tr>\n",
       "    <tr>\n",
       "      <th>19</th>\n",
       "      <td>CSMON-LIFE segnalazioni</td>\n",
       "      <td>None</td>\n",
       "    </tr>\n",
       "    <tr>\n",
       "      <th>20</th>\n",
       "      <td>CoronaReport</td>\n",
       "      <td>https://www.coronareport.global/about-the-proj...</td>\n",
       "    </tr>\n",
       "    <tr>\n",
       "      <th>21</th>\n",
       "      <td>Sealife Tracker</td>\n",
       "      <td>None</td>\n",
       "    </tr>\n",
       "    <tr>\n",
       "      <th>22</th>\n",
       "      <td>PADI AWARE</td>\n",
       "      <td>None</td>\n",
       "    </tr>\n",
       "    <tr>\n",
       "      <th>23</th>\n",
       "      <td>Dark Sky Meter</td>\n",
       "      <td>None</td>\n",
       "    </tr>\n",
       "    <tr>\n",
       "      <th>24</th>\n",
       "      <td>BirdWeather</td>\n",
       "      <td>https://www.birdweather.com/terms-of-service</td>\n",
       "    </tr>\n",
       "    <tr>\n",
       "      <th>25</th>\n",
       "      <td>myHAZ-VCT</td>\n",
       "      <td>None</td>\n",
       "    </tr>\n",
       "    <tr>\n",
       "      <th>26</th>\n",
       "      <td>EyeOnWater - Colour</td>\n",
       "      <td>None</td>\n",
       "    </tr>\n",
       "    <tr>\n",
       "      <th>27</th>\n",
       "      <td>Tea Bag Index | SPOTTERON</td>\n",
       "      <td>None</td>\n",
       "    </tr>\n",
       "    <tr>\n",
       "      <th>28</th>\n",
       "      <td>Dawn Chorus</td>\n",
       "      <td>None</td>\n",
       "    </tr>\n",
       "    <tr>\n",
       "      <th>29</th>\n",
       "      <td>BeeMachine</td>\n",
       "      <td>https://beemachine.ai/page/terms-of-use</td>\n",
       "    </tr>\n",
       "    <tr>\n",
       "      <th>30</th>\n",
       "      <td>BirdTrack</td>\n",
       "      <td>http://www.birdtrack.net/terms-conditions</td>\n",
       "    </tr>\n",
       "    <tr>\n",
       "      <th>31</th>\n",
       "      <td>OpenRadiation</td>\n",
       "      <td>https://www.openradiation.org/en/conditions-du...</td>\n",
       "    </tr>\n",
       "    <tr>\n",
       "      <th>32</th>\n",
       "      <td>WiBee</td>\n",
       "      <td>None</td>\n",
       "    </tr>\n",
       "    <tr>\n",
       "      <th>33</th>\n",
       "      <td>Big Butterfly Count</td>\n",
       "      <td>None</td>\n",
       "    </tr>\n",
       "    <tr>\n",
       "      <th>34</th>\n",
       "      <td>Caterpillars Count!</td>\n",
       "      <td>None</td>\n",
       "    </tr>\n",
       "    <tr>\n",
       "      <th>35</th>\n",
       "      <td>Build4People: Citizen Science</td>\n",
       "      <td>None</td>\n",
       "    </tr>\n",
       "    <tr>\n",
       "      <th>36</th>\n",
       "      <td>IPM Popillia Pest Management</td>\n",
       "      <td>None</td>\n",
       "    </tr>\n",
       "    <tr>\n",
       "      <th>37</th>\n",
       "      <td>Mosquito Alert</td>\n",
       "      <td>https://www.mosquitoalert.com/aviso-legal/</td>\n",
       "    </tr>\n",
       "    <tr>\n",
       "      <th>38</th>\n",
       "      <td>Citizen Scientist</td>\n",
       "      <td>None</td>\n",
       "    </tr>\n",
       "    <tr>\n",
       "      <th>39</th>\n",
       "      <td>MedusApp</td>\n",
       "      <td>None</td>\n",
       "    </tr>\n",
       "    <tr>\n",
       "      <th>40</th>\n",
       "      <td>CoastSnap | SPOTTERON</td>\n",
       "      <td>https://www.spotteron.net/terms-of-use</td>\n",
       "    </tr>\n",
       "    <tr>\n",
       "      <th>41</th>\n",
       "      <td>ORCA Oceanwatchers</td>\n",
       "      <td>https://orca.org.uk/terms-conditions</td>\n",
       "    </tr>\n",
       "    <tr>\n",
       "      <th>42</th>\n",
       "      <td>ZSL Instant Wild</td>\n",
       "      <td>None</td>\n",
       "    </tr>\n",
       "    <tr>\n",
       "      <th>43</th>\n",
       "      <td>Black hole finder</td>\n",
       "      <td>None</td>\n",
       "    </tr>\n",
       "    <tr>\n",
       "      <th>44</th>\n",
       "      <td>BiciZen</td>\n",
       "      <td>None</td>\n",
       "    </tr>\n",
       "  </tbody>\n",
       "</table>\n",
       "</div>"
      ],
      "text/plain": [
       "                              name  \\\n",
       "0                     Anecdata.org   \n",
       "1                 ZOE Health Study   \n",
       "2   Leave No Trace Citizen Science   \n",
       "3                          BirdNET   \n",
       "4                   GLOBE Observer   \n",
       "5           Quantified Citizen Pro   \n",
       "6       spotFIRE | Citizen Science   \n",
       "7                   Brain Explorer   \n",
       "8      WaterLinx | Citizen Science   \n",
       "9            The Happiness Project   \n",
       "10      Faunawatch Citizen Science   \n",
       "11   Echo Meter Touch Bat Detector   \n",
       "12                      Zooniverse   \n",
       "13               Nature's Notebook   \n",
       "14      AmphiApp | Citizen Science   \n",
       "15  YOUCOUNT Youth Citizen Science   \n",
       "16              ISeeChange Tracker   \n",
       "17                      HerpMapper   \n",
       "18                     WhaleReport   \n",
       "19         CSMON-LIFE segnalazioni   \n",
       "20                    CoronaReport   \n",
       "21                 Sealife Tracker   \n",
       "22                      PADI AWARE   \n",
       "23                  Dark Sky Meter   \n",
       "24                     BirdWeather   \n",
       "25                       myHAZ-VCT   \n",
       "26             EyeOnWater - Colour   \n",
       "27       Tea Bag Index | SPOTTERON   \n",
       "28                     Dawn Chorus   \n",
       "29                      BeeMachine   \n",
       "30                       BirdTrack   \n",
       "31                   OpenRadiation   \n",
       "32                           WiBee   \n",
       "33             Big Butterfly Count   \n",
       "34             Caterpillars Count!   \n",
       "35   Build4People: Citizen Science   \n",
       "36    IPM Popillia Pest Management   \n",
       "37                  Mosquito Alert   \n",
       "38               Citizen Scientist   \n",
       "39                        MedusApp   \n",
       "40           CoastSnap | SPOTTERON   \n",
       "41              ORCA Oceanwatchers   \n",
       "42                ZSL Instant Wild   \n",
       "43               Black hole finder   \n",
       "44                         BiciZen   \n",
       "\n",
       "                                       terms_use_link  \n",
       "0                                                None  \n",
       "1                                                None  \n",
       "2                    https://lnt.org/terms-conditions  \n",
       "3                                                None  \n",
       "4                                                None  \n",
       "5   https://www.quantifiedcitizen.com/terms-of-use...  \n",
       "6                                                None  \n",
       "7                                                None  \n",
       "8              https://www.spotteron.net/terms-of-use  \n",
       "9                                                None  \n",
       "10                                               None  \n",
       "11  https://www.wildlifeacoustics.com/legal-docume...  \n",
       "12                                               None  \n",
       "13                 https://www.usanpn.org/about/terms  \n",
       "14             https://www.spotteron.net/terms-of-use  \n",
       "15  https://www.youcountproject.eu/terms-of-use-we...  \n",
       "16                                               None  \n",
       "17                   https://www.herpmapper.org/terms  \n",
       "18                           https://ocean.org/terms/  \n",
       "19                                               None  \n",
       "20  https://www.coronareport.global/about-the-proj...  \n",
       "21                                               None  \n",
       "22                                               None  \n",
       "23                                               None  \n",
       "24       https://www.birdweather.com/terms-of-service  \n",
       "25                                               None  \n",
       "26                                               None  \n",
       "27                                               None  \n",
       "28                                               None  \n",
       "29            https://beemachine.ai/page/terms-of-use  \n",
       "30          http://www.birdtrack.net/terms-conditions  \n",
       "31  https://www.openradiation.org/en/conditions-du...  \n",
       "32                                               None  \n",
       "33                                               None  \n",
       "34                                               None  \n",
       "35                                               None  \n",
       "36                                               None  \n",
       "37         https://www.mosquitoalert.com/aviso-legal/  \n",
       "38                                               None  \n",
       "39                                               None  \n",
       "40             https://www.spotteron.net/terms-of-use  \n",
       "41               https://orca.org.uk/terms-conditions  \n",
       "42                                               None  \n",
       "43                                               None  \n",
       "44                                               None  "
      ]
     },
     "execution_count": 34,
     "metadata": {},
     "output_type": "execute_result"
    }
   ],
   "source": [
    "df[[\"name\", \"terms_use_link\"]]"
   ]
  },
  {
   "cell_type": "code",
   "execution_count": 35,
   "id": "dbc112be",
   "metadata": {},
   "outputs": [],
   "source": [
    "# Fix manually\n",
    "df.loc[df.name == \"CoastSnap | SPOTTERON\", \"terms_use_link\"] = \"https://www.spotteron.net/terms-of-use\""
   ]
  },
  {
   "cell_type": "code",
   "execution_count": 37,
   "id": "c615dd81",
   "metadata": {},
   "outputs": [],
   "source": [
    "df.drop(columns=['terms_use_google'], inplace=True)"
   ]
  },
  {
   "cell_type": "code",
   "execution_count": 38,
   "id": "a8c9150f",
   "metadata": {},
   "outputs": [
    {
     "name": "stdout",
     "output_type": "stream",
     "text": [
      "<class 'pandas.core.frame.DataFrame'>\n",
      "RangeIndex: 45 entries, 0 to 44\n",
      "Data columns (total 10 columns):\n",
      " #   Column              Non-Null Count  Dtype  \n",
      "---  ------              --------------  -----  \n",
      " 0   name                45 non-null     object \n",
      " 1   developer           45 non-null     object \n",
      " 2   description         45 non-null     object \n",
      " 3   url                 45 non-null     object \n",
      " 4   language            45 non-null     object \n",
      " 5   platform_url        45 non-null     object \n",
      " 6   active              45 non-null     object \n",
      " 7   year_creation       41 non-null     float64\n",
      " 8   platform_about_url  39 non-null     object \n",
      " 9   terms_use_link      17 non-null     object \n",
      "dtypes: float64(1), object(9)\n",
      "memory usage: 3.6+ KB\n"
     ]
    }
   ],
   "source": [
    "df.info()"
   ]
  },
  {
   "cell_type": "code",
   "execution_count": null,
   "id": "d60ea8c1",
   "metadata": {},
   "outputs": [
    {
     "data": {
      "application/vnd.microsoft.datawrangler.viewer.v0+json": {
       "columns": [
        {
         "name": "index",
         "rawType": "int64",
         "type": "integer"
        },
        {
         "name": "platform_url",
         "rawType": "object",
         "type": "string"
        },
        {
         "name": "terms_use_link",
         "rawType": "object",
         "type": "unknown"
        }
       ],
       "ref": "6cbaaded-3779-413f-9c2c-761e4a626ff6",
       "rows": [
        [
         "0",
         "https://www.anecdata.org/",
         null
        ],
        [
         "1",
         "https://health-study.zoe.com/",
         null
        ],
        [
         "2",
         "https://lnt.org/our-work/citizen-science/",
         "https://lnt.org/terms-conditions"
        ],
        [
         "3",
         "https://birdnet.cornell.edu",
         null
        ],
        [
         "4",
         "https://observer.globe.gov/",
         null
        ],
        [
         "5",
         "https://www.quantifiedcitizen.com/",
         "https://www.quantifiedcitizen.com/terms-of-use.html"
        ],
        [
         "6",
         "https://www.spotfire.com/",
         null
        ],
        [
         "7",
         "https://www.brainexplorer.net",
         null
        ],
        [
         "8",
         "https://www.spotteron.net/apps/regional-community-science-projects/waterlinx-citizen-science",
         "https://www.spotteron.net/terms-of-use"
        ],
        [
         "9",
         "https://thehappinessproject.app",
         null
        ],
        [
         "10",
         "https://faunawatch.org/contact/",
         null
        ],
        [
         "11",
         "https://www.echometertouch.com",
         "https://www.wildlifeacoustics.com/legal-documentation/terms-of-use"
        ],
        [
         "12",
         "https://www.zooniverse.org/",
         null
        ],
        [
         "13",
         "https://www.usanpn.org",
         "https://www.usanpn.org/about/terms"
        ],
        [
         "14",
         "https://www.spotteron.net/apps/regional-community-science-projects/amphiapp-citizen-science-app-en",
         "https://www.spotteron.net/terms-of-use"
        ],
        [
         "15",
         "https://www.youcountproject.eu/",
         "https://www.youcountproject.eu/terms-of-use-website"
        ],
        [
         "16",
         "https://www.iseechange.org/",
         null
        ],
        [
         "17",
         "https://www.herpmapper.org/",
         "https://www.herpmapper.org/terms"
        ],
        [
         "18",
         "https://ocean.org/whales/wras/",
         "https://ocean.org/terms/"
        ],
        [
         "19",
         "http://www.csmon-life.eu",
         null
        ],
        [
         "20",
         "https://www.coronareport.global/",
         "https://www.coronareport.global/about-the-project/project-terms-of-use"
        ],
        [
         "21",
         "http://www.natural-apptitude.co.uk/project/sealife-tracker/",
         null
        ],
        [
         "22",
         "https://www.padi.com/aware",
         null
        ],
        [
         "23",
         "https://www.darkskymeter.com/",
         null
        ],
        [
         "24",
         "https://www.birdweather.com/",
         "https://www.birdweather.com/terms-of-service"
        ],
        [
         "25",
         "https://uwiseismic.com/myhaz-vct/",
         null
        ],
        [
         "26",
         "https://www.eyeonwater.org/",
         null
        ],
        [
         "27",
         "http://www.teatime4science.org/",
         null
        ],
        [
         "28",
         "https://dawn-chorus.org/",
         null
        ],
        [
         "29",
         "https://beemachine.ai",
         "https://beemachine.ai/page/terms-of-use"
        ],
        [
         "30",
         "http://www.birdtrack.net",
         "http://www.birdtrack.net/terms-conditions"
        ],
        [
         "31",
         "https://www.openradiation.org/en",
         "https://www.openradiation.org/en/conditions-dutilisation"
        ],
        [
         "32",
         "https://pollinators.wisc.edu/wibee/",
         null
        ],
        [
         "33",
         "https://bigbutterflycount.butterfly-conservation.org/",
         null
        ],
        [
         "34",
         "https://caterpillarscount.unc.edu",
         null
        ],
        [
         "35",
         "https://build4people.org/",
         null
        ],
        [
         "36",
         "https://www.popillia.eu/",
         null
        ],
        [
         "37",
         "http://www.mosquitoalert.com",
         "https://www.mosquitoalert.com/aviso-legal/"
        ],
        [
         "38",
         "https://www.natureboostproject.com",
         null
        ],
        [
         "39",
         "http://medusapp.net",
         null
        ],
        [
         "40",
         "https://www.spotteron.net/",
         "https://www.spotteron.net/terms-of-use"
        ],
        [
         "41",
         "https://www.orca.org.uk",
         "https://orca.org.uk/terms-conditions"
        ],
        [
         "42",
         "https://instantwild.zsl.org/",
         null
        ],
        [
         "43",
         "https://www.pocket.science/products/blackholefinder/",
         null
        ],
        [
         "44",
         "https://www.bicizen.org/",
         null
        ]
       ],
       "shape": {
        "columns": 2,
        "rows": 45
       }
      },
      "text/html": [
       "<div>\n",
       "<style scoped>\n",
       "    .dataframe tbody tr th:only-of-type {\n",
       "        vertical-align: middle;\n",
       "    }\n",
       "\n",
       "    .dataframe tbody tr th {\n",
       "        vertical-align: top;\n",
       "    }\n",
       "\n",
       "    .dataframe thead th {\n",
       "        text-align: right;\n",
       "    }\n",
       "</style>\n",
       "<table border=\"1\" class=\"dataframe\">\n",
       "  <thead>\n",
       "    <tr style=\"text-align: right;\">\n",
       "      <th></th>\n",
       "      <th>platform_url</th>\n",
       "      <th>terms_use_link</th>\n",
       "    </tr>\n",
       "  </thead>\n",
       "  <tbody>\n",
       "    <tr>\n",
       "      <th>0</th>\n",
       "      <td>https://www.anecdata.org/</td>\n",
       "      <td>None</td>\n",
       "    </tr>\n",
       "    <tr>\n",
       "      <th>1</th>\n",
       "      <td>https://health-study.zoe.com/</td>\n",
       "      <td>None</td>\n",
       "    </tr>\n",
       "    <tr>\n",
       "      <th>2</th>\n",
       "      <td>https://lnt.org/our-work/citizen-science/</td>\n",
       "      <td>https://lnt.org/terms-conditions</td>\n",
       "    </tr>\n",
       "    <tr>\n",
       "      <th>3</th>\n",
       "      <td>https://birdnet.cornell.edu</td>\n",
       "      <td>None</td>\n",
       "    </tr>\n",
       "    <tr>\n",
       "      <th>4</th>\n",
       "      <td>https://observer.globe.gov/</td>\n",
       "      <td>None</td>\n",
       "    </tr>\n",
       "    <tr>\n",
       "      <th>5</th>\n",
       "      <td>https://www.quantifiedcitizen.com/</td>\n",
       "      <td>https://www.quantifiedcitizen.com/terms-of-use...</td>\n",
       "    </tr>\n",
       "    <tr>\n",
       "      <th>6</th>\n",
       "      <td>https://www.spotfire.com/</td>\n",
       "      <td>None</td>\n",
       "    </tr>\n",
       "    <tr>\n",
       "      <th>7</th>\n",
       "      <td>https://www.brainexplorer.net</td>\n",
       "      <td>None</td>\n",
       "    </tr>\n",
       "    <tr>\n",
       "      <th>8</th>\n",
       "      <td>https://www.spotteron.net/apps/regional-commun...</td>\n",
       "      <td>https://www.spotteron.net/terms-of-use</td>\n",
       "    </tr>\n",
       "    <tr>\n",
       "      <th>9</th>\n",
       "      <td>https://thehappinessproject.app</td>\n",
       "      <td>None</td>\n",
       "    </tr>\n",
       "    <tr>\n",
       "      <th>10</th>\n",
       "      <td>https://faunawatch.org/contact/</td>\n",
       "      <td>None</td>\n",
       "    </tr>\n",
       "    <tr>\n",
       "      <th>11</th>\n",
       "      <td>https://www.echometertouch.com</td>\n",
       "      <td>https://www.wildlifeacoustics.com/legal-docume...</td>\n",
       "    </tr>\n",
       "    <tr>\n",
       "      <th>12</th>\n",
       "      <td>https://www.zooniverse.org/</td>\n",
       "      <td>None</td>\n",
       "    </tr>\n",
       "    <tr>\n",
       "      <th>13</th>\n",
       "      <td>https://www.usanpn.org</td>\n",
       "      <td>https://www.usanpn.org/about/terms</td>\n",
       "    </tr>\n",
       "    <tr>\n",
       "      <th>14</th>\n",
       "      <td>https://www.spotteron.net/apps/regional-commun...</td>\n",
       "      <td>https://www.spotteron.net/terms-of-use</td>\n",
       "    </tr>\n",
       "    <tr>\n",
       "      <th>15</th>\n",
       "      <td>https://www.youcountproject.eu/</td>\n",
       "      <td>https://www.youcountproject.eu/terms-of-use-we...</td>\n",
       "    </tr>\n",
       "    <tr>\n",
       "      <th>16</th>\n",
       "      <td>https://www.iseechange.org/</td>\n",
       "      <td>None</td>\n",
       "    </tr>\n",
       "    <tr>\n",
       "      <th>17</th>\n",
       "      <td>https://www.herpmapper.org/</td>\n",
       "      <td>https://www.herpmapper.org/terms</td>\n",
       "    </tr>\n",
       "    <tr>\n",
       "      <th>18</th>\n",
       "      <td>https://ocean.org/whales/wras/</td>\n",
       "      <td>https://ocean.org/terms/</td>\n",
       "    </tr>\n",
       "    <tr>\n",
       "      <th>19</th>\n",
       "      <td>http://www.csmon-life.eu</td>\n",
       "      <td>None</td>\n",
       "    </tr>\n",
       "    <tr>\n",
       "      <th>20</th>\n",
       "      <td>https://www.coronareport.global/</td>\n",
       "      <td>https://www.coronareport.global/about-the-proj...</td>\n",
       "    </tr>\n",
       "    <tr>\n",
       "      <th>21</th>\n",
       "      <td>http://www.natural-apptitude.co.uk/project/sea...</td>\n",
       "      <td>None</td>\n",
       "    </tr>\n",
       "    <tr>\n",
       "      <th>22</th>\n",
       "      <td>https://www.padi.com/aware</td>\n",
       "      <td>None</td>\n",
       "    </tr>\n",
       "    <tr>\n",
       "      <th>23</th>\n",
       "      <td>https://www.darkskymeter.com/</td>\n",
       "      <td>None</td>\n",
       "    </tr>\n",
       "    <tr>\n",
       "      <th>24</th>\n",
       "      <td>https://www.birdweather.com/</td>\n",
       "      <td>https://www.birdweather.com/terms-of-service</td>\n",
       "    </tr>\n",
       "    <tr>\n",
       "      <th>25</th>\n",
       "      <td>https://uwiseismic.com/myhaz-vct/</td>\n",
       "      <td>None</td>\n",
       "    </tr>\n",
       "    <tr>\n",
       "      <th>26</th>\n",
       "      <td>https://www.eyeonwater.org/</td>\n",
       "      <td>None</td>\n",
       "    </tr>\n",
       "    <tr>\n",
       "      <th>27</th>\n",
       "      <td>http://www.teatime4science.org/</td>\n",
       "      <td>None</td>\n",
       "    </tr>\n",
       "    <tr>\n",
       "      <th>28</th>\n",
       "      <td>https://dawn-chorus.org/</td>\n",
       "      <td>None</td>\n",
       "    </tr>\n",
       "    <tr>\n",
       "      <th>29</th>\n",
       "      <td>https://beemachine.ai</td>\n",
       "      <td>https://beemachine.ai/page/terms-of-use</td>\n",
       "    </tr>\n",
       "    <tr>\n",
       "      <th>30</th>\n",
       "      <td>http://www.birdtrack.net</td>\n",
       "      <td>http://www.birdtrack.net/terms-conditions</td>\n",
       "    </tr>\n",
       "    <tr>\n",
       "      <th>31</th>\n",
       "      <td>https://www.openradiation.org/en</td>\n",
       "      <td>https://www.openradiation.org/en/conditions-du...</td>\n",
       "    </tr>\n",
       "    <tr>\n",
       "      <th>32</th>\n",
       "      <td>https://pollinators.wisc.edu/wibee/</td>\n",
       "      <td>None</td>\n",
       "    </tr>\n",
       "    <tr>\n",
       "      <th>33</th>\n",
       "      <td>https://bigbutterflycount.butterfly-conservati...</td>\n",
       "      <td>None</td>\n",
       "    </tr>\n",
       "    <tr>\n",
       "      <th>34</th>\n",
       "      <td>https://caterpillarscount.unc.edu</td>\n",
       "      <td>None</td>\n",
       "    </tr>\n",
       "    <tr>\n",
       "      <th>35</th>\n",
       "      <td>https://build4people.org/</td>\n",
       "      <td>None</td>\n",
       "    </tr>\n",
       "    <tr>\n",
       "      <th>36</th>\n",
       "      <td>https://www.popillia.eu/</td>\n",
       "      <td>None</td>\n",
       "    </tr>\n",
       "    <tr>\n",
       "      <th>37</th>\n",
       "      <td>http://www.mosquitoalert.com</td>\n",
       "      <td>https://www.mosquitoalert.com/aviso-legal/</td>\n",
       "    </tr>\n",
       "    <tr>\n",
       "      <th>38</th>\n",
       "      <td>https://www.natureboostproject.com</td>\n",
       "      <td>None</td>\n",
       "    </tr>\n",
       "    <tr>\n",
       "      <th>39</th>\n",
       "      <td>http://medusapp.net</td>\n",
       "      <td>None</td>\n",
       "    </tr>\n",
       "    <tr>\n",
       "      <th>40</th>\n",
       "      <td>https://www.spotteron.net/</td>\n",
       "      <td>https://www.spotteron.net/terms-of-use</td>\n",
       "    </tr>\n",
       "    <tr>\n",
       "      <th>41</th>\n",
       "      <td>https://www.orca.org.uk</td>\n",
       "      <td>https://orca.org.uk/terms-conditions</td>\n",
       "    </tr>\n",
       "    <tr>\n",
       "      <th>42</th>\n",
       "      <td>https://instantwild.zsl.org/</td>\n",
       "      <td>None</td>\n",
       "    </tr>\n",
       "    <tr>\n",
       "      <th>43</th>\n",
       "      <td>https://www.pocket.science/products/blackholef...</td>\n",
       "      <td>None</td>\n",
       "    </tr>\n",
       "    <tr>\n",
       "      <th>44</th>\n",
       "      <td>https://www.bicizen.org/</td>\n",
       "      <td>None</td>\n",
       "    </tr>\n",
       "  </tbody>\n",
       "</table>\n",
       "</div>"
      ],
      "text/plain": [
       "                                         platform_url  \\\n",
       "0                           https://www.anecdata.org/   \n",
       "1                       https://health-study.zoe.com/   \n",
       "2           https://lnt.org/our-work/citizen-science/   \n",
       "3                         https://birdnet.cornell.edu   \n",
       "4                         https://observer.globe.gov/   \n",
       "5                  https://www.quantifiedcitizen.com/   \n",
       "6                           https://www.spotfire.com/   \n",
       "7                       https://www.brainexplorer.net   \n",
       "8   https://www.spotteron.net/apps/regional-commun...   \n",
       "9                     https://thehappinessproject.app   \n",
       "10                    https://faunawatch.org/contact/   \n",
       "11                     https://www.echometertouch.com   \n",
       "12                        https://www.zooniverse.org/   \n",
       "13                             https://www.usanpn.org   \n",
       "14  https://www.spotteron.net/apps/regional-commun...   \n",
       "15                    https://www.youcountproject.eu/   \n",
       "16                        https://www.iseechange.org/   \n",
       "17                        https://www.herpmapper.org/   \n",
       "18                     https://ocean.org/whales/wras/   \n",
       "19                           http://www.csmon-life.eu   \n",
       "20                   https://www.coronareport.global/   \n",
       "21  http://www.natural-apptitude.co.uk/project/sea...   \n",
       "22                         https://www.padi.com/aware   \n",
       "23                      https://www.darkskymeter.com/   \n",
       "24                       https://www.birdweather.com/   \n",
       "25                  https://uwiseismic.com/myhaz-vct/   \n",
       "26                        https://www.eyeonwater.org/   \n",
       "27                    http://www.teatime4science.org/   \n",
       "28                           https://dawn-chorus.org/   \n",
       "29                              https://beemachine.ai   \n",
       "30                           http://www.birdtrack.net   \n",
       "31                   https://www.openradiation.org/en   \n",
       "32                https://pollinators.wisc.edu/wibee/   \n",
       "33  https://bigbutterflycount.butterfly-conservati...   \n",
       "34                  https://caterpillarscount.unc.edu   \n",
       "35                          https://build4people.org/   \n",
       "36                           https://www.popillia.eu/   \n",
       "37                       http://www.mosquitoalert.com   \n",
       "38                 https://www.natureboostproject.com   \n",
       "39                                http://medusapp.net   \n",
       "40                         https://www.spotteron.net/   \n",
       "41                            https://www.orca.org.uk   \n",
       "42                       https://instantwild.zsl.org/   \n",
       "43  https://www.pocket.science/products/blackholef...   \n",
       "44                           https://www.bicizen.org/   \n",
       "\n",
       "                                       terms_use_link  \n",
       "0                                                None  \n",
       "1                                                None  \n",
       "2                    https://lnt.org/terms-conditions  \n",
       "3                                                None  \n",
       "4                                                None  \n",
       "5   https://www.quantifiedcitizen.com/terms-of-use...  \n",
       "6                                                None  \n",
       "7                                                None  \n",
       "8              https://www.spotteron.net/terms-of-use  \n",
       "9                                                None  \n",
       "10                                               None  \n",
       "11  https://www.wildlifeacoustics.com/legal-docume...  \n",
       "12                                               None  \n",
       "13                 https://www.usanpn.org/about/terms  \n",
       "14             https://www.spotteron.net/terms-of-use  \n",
       "15  https://www.youcountproject.eu/terms-of-use-we...  \n",
       "16                                               None  \n",
       "17                   https://www.herpmapper.org/terms  \n",
       "18                           https://ocean.org/terms/  \n",
       "19                                               None  \n",
       "20  https://www.coronareport.global/about-the-proj...  \n",
       "21                                               None  \n",
       "22                                               None  \n",
       "23                                               None  \n",
       "24       https://www.birdweather.com/terms-of-service  \n",
       "25                                               None  \n",
       "26                                               None  \n",
       "27                                               None  \n",
       "28                                               None  \n",
       "29            https://beemachine.ai/page/terms-of-use  \n",
       "30          http://www.birdtrack.net/terms-conditions  \n",
       "31  https://www.openradiation.org/en/conditions-du...  \n",
       "32                                               None  \n",
       "33                                               None  \n",
       "34                                               None  \n",
       "35                                               None  \n",
       "36                                               None  \n",
       "37         https://www.mosquitoalert.com/aviso-legal/  \n",
       "38                                               None  \n",
       "39                                               None  \n",
       "40             https://www.spotteron.net/terms-of-use  \n",
       "41               https://orca.org.uk/terms-conditions  \n",
       "42                                               None  \n",
       "43                                               None  \n",
       "44                                               None  "
      ]
     },
     "execution_count": 39,
     "metadata": {},
     "output_type": "execute_result"
    }
   ],
   "source": [
    "df[[\"platform_url\", 'terms_use_link']].head(10)"
   ]
  },
  {
   "cell_type": "code",
   "execution_count": 40,
   "id": "f1914603",
   "metadata": {},
   "outputs": [
    {
     "name": "stdout",
     "output_type": "stream",
     "text": [
      "<class 'pandas.core.frame.DataFrame'>\n",
      "RangeIndex: 45 entries, 0 to 44\n",
      "Data columns (total 10 columns):\n",
      " #   Column              Non-Null Count  Dtype  \n",
      "---  ------              --------------  -----  \n",
      " 0   name                45 non-null     object \n",
      " 1   developer           45 non-null     object \n",
      " 2   description         45 non-null     object \n",
      " 3   url                 45 non-null     object \n",
      " 4   language            45 non-null     object \n",
      " 5   platform_url        45 non-null     object \n",
      " 6   active              45 non-null     object \n",
      " 7   year_creation       41 non-null     float64\n",
      " 8   platform_about_url  39 non-null     object \n",
      " 9   terms_use_link      17 non-null     object \n",
      "dtypes: float64(1), object(9)\n",
      "memory usage: 3.6+ KB\n"
     ]
    }
   ],
   "source": [
    "df.info()"
   ]
  },
  {
   "cell_type": "code",
   "execution_count": 41,
   "id": "a6293afe",
   "metadata": {},
   "outputs": [],
   "source": [
    "# Fix manually\n",
    "df.loc[df.name == \"The Happiness Project\", \"terms_use_link\"] = \"https://thehappinessproject.app/terms-and-conditions\""
   ]
  },
  {
   "cell_type": "code",
   "execution_count": 42,
   "id": "001dee7f",
   "metadata": {},
   "outputs": [
    {
     "name": "stdout",
     "output_type": "stream",
     "text": [
      "<class 'pandas.core.frame.DataFrame'>\n",
      "RangeIndex: 45 entries, 0 to 44\n",
      "Data columns (total 10 columns):\n",
      " #   Column              Non-Null Count  Dtype  \n",
      "---  ------              --------------  -----  \n",
      " 0   name                45 non-null     object \n",
      " 1   developer           45 non-null     object \n",
      " 2   description         45 non-null     object \n",
      " 3   url                 45 non-null     object \n",
      " 4   language            45 non-null     object \n",
      " 5   platform_url        45 non-null     object \n",
      " 6   active              45 non-null     object \n",
      " 7   year_creation       41 non-null     float64\n",
      " 8   platform_about_url  39 non-null     object \n",
      " 9   terms_use_link      18 non-null     object \n",
      "dtypes: float64(1), object(9)\n",
      "memory usage: 3.6+ KB\n"
     ]
    }
   ],
   "source": [
    "df.info()"
   ]
  },
  {
   "cell_type": "code",
   "execution_count": 43,
   "id": "a6e81b31",
   "metadata": {},
   "outputs": [],
   "source": [
    "df.to_csv(\"../data/ios_apps_platforms_test.csv\", index=False)"
   ]
  },
  {
   "cell_type": "markdown",
   "id": "22a50264",
   "metadata": {},
   "source": [
    "## privacy_policy"
   ]
  },
  {
   "cell_type": "code",
   "execution_count": 44,
   "id": "5a3ec1cd",
   "metadata": {},
   "outputs": [
    {
     "name": "stdout",
     "output_type": "stream",
     "text": [
      "Error procesando http://www.natural-apptitude.co.uk/project/sealife-tracker/: 404 Client Error: Not Found for url: https://www.natural-apptitude.co.uk/project/sealife-tracker\n",
      "Error procesando https://uwiseismic.com/myhaz-vct/: ('Connection aborted.', RemoteDisconnected('Remote end closed connection without response'))\n",
      "Error procesando https://bigbutterflycount.butterfly-conservation.org/: 403 Client Error: Forbidden for url: https://bigbutterflycount.butterfly-conservation.org/\n"
     ]
    }
   ],
   "source": [
    "privacy_keywords = [\n",
    "    \"privacy\",\n",
    "    \"privacidad\",\n",
    "    \"datenschutz\",\n",
    "    \"confidentialité\",\n",
    "    \"politica\",\n",
    "    \"política\",\n",
    "    \"privacidade\",\n",
    "    \"personuppgifter\",\n",
    "    \"privacyverklaring\",\n",
    "    \"integritetspolicy\",\n",
    "]\n",
    "\n",
    "df['privacy_link'] = df['platform_url'].apply(lambda x: find_terms_url(x, privacy_keywords))"
   ]
  },
  {
   "cell_type": "code",
   "execution_count": 45,
   "id": "5fabfa7c",
   "metadata": {},
   "outputs": [
    {
     "name": "stdout",
     "output_type": "stream",
     "text": [
      "<class 'pandas.core.frame.DataFrame'>\n",
      "RangeIndex: 45 entries, 0 to 44\n",
      "Data columns (total 11 columns):\n",
      " #   Column              Non-Null Count  Dtype  \n",
      "---  ------              --------------  -----  \n",
      " 0   name                45 non-null     object \n",
      " 1   developer           45 non-null     object \n",
      " 2   description         45 non-null     object \n",
      " 3   url                 45 non-null     object \n",
      " 4   language            45 non-null     object \n",
      " 5   platform_url        45 non-null     object \n",
      " 6   active              45 non-null     object \n",
      " 7   year_creation       41 non-null     float64\n",
      " 8   platform_about_url  39 non-null     object \n",
      " 9   terms_use_link      18 non-null     object \n",
      " 10  privacy_link        30 non-null     object \n",
      "dtypes: float64(1), object(10)\n",
      "memory usage: 4.0+ KB\n"
     ]
    }
   ],
   "source": [
    "df.info()"
   ]
  },
  {
   "cell_type": "code",
   "execution_count": 46,
   "id": "35cbd603",
   "metadata": {},
   "outputs": [],
   "source": [
    "df.to_csv(\"../data/ios_apps_platforms_test.csv\", index=False)"
   ]
  },
  {
   "cell_type": "markdown",
   "id": "89d71473",
   "metadata": {},
   "source": [
    "## code_repository"
   ]
  },
  {
   "cell_type": "code",
   "execution_count": 47,
   "id": "c64ca17a",
   "metadata": {},
   "outputs": [
    {
     "name": "stdout",
     "output_type": "stream",
     "text": [
      "Error procesando http://www.natural-apptitude.co.uk/project/sealife-tracker/: 404 Client Error: Not Found for url: https://www.natural-apptitude.co.uk/project/sealife-tracker\n",
      "Error procesando https://uwiseismic.com/myhaz-vct/: ('Connection aborted.', RemoteDisconnected('Remote end closed connection without response'))\n",
      "Error procesando https://bigbutterflycount.butterfly-conservation.org/: 403 Client Error: Forbidden for url: https://bigbutterflycount.butterfly-conservation.org/\n"
     ]
    }
   ],
   "source": [
    "repository_keywords = [\n",
    "    \"github\",\n",
    "    \"gitlab\",\n",
    "    \"bitbucket\",\n",
    "    \"sourceforge\",\n",
    "    \"codeberg\",\n",
    "    \"gitea\",\n",
    "]\n",
    "\n",
    "df['code_repository'] = df['platform_url'].apply(lambda x: find_terms_url(x, repository_keywords))"
   ]
  },
  {
   "cell_type": "code",
   "execution_count": 48,
   "id": "7afd0aca",
   "metadata": {},
   "outputs": [
    {
     "name": "stdout",
     "output_type": "stream",
     "text": [
      "<class 'pandas.core.frame.DataFrame'>\n",
      "RangeIndex: 45 entries, 0 to 44\n",
      "Data columns (total 12 columns):\n",
      " #   Column              Non-Null Count  Dtype  \n",
      "---  ------              --------------  -----  \n",
      " 0   name                45 non-null     object \n",
      " 1   developer           45 non-null     object \n",
      " 2   description         45 non-null     object \n",
      " 3   url                 45 non-null     object \n",
      " 4   language            45 non-null     object \n",
      " 5   platform_url        45 non-null     object \n",
      " 6   active              45 non-null     object \n",
      " 7   year_creation       41 non-null     float64\n",
      " 8   platform_about_url  39 non-null     object \n",
      " 9   terms_use_link      18 non-null     object \n",
      " 10  privacy_link        30 non-null     object \n",
      " 11  code_repository     1 non-null      object \n",
      "dtypes: float64(1), object(11)\n",
      "memory usage: 4.3+ KB\n"
     ]
    }
   ],
   "source": [
    "df.info()"
   ]
  },
  {
   "cell_type": "markdown",
   "id": "029ef389",
   "metadata": {},
   "source": [
    "Only one website has a reference to the GitHub repository on its home page."
   ]
  },
  {
   "cell_type": "code",
   "execution_count": 49,
   "id": "493afb14",
   "metadata": {},
   "outputs": [
    {
     "data": {
      "application/vnd.microsoft.datawrangler.viewer.v0+json": {
       "columns": [
        {
         "name": "index",
         "rawType": "int64",
         "type": "integer"
        },
        {
         "name": "name",
         "rawType": "object",
         "type": "string"
        },
        {
         "name": "developer",
         "rawType": "object",
         "type": "string"
        },
        {
         "name": "description",
         "rawType": "object",
         "type": "string"
        },
        {
         "name": "url",
         "rawType": "object",
         "type": "string"
        },
        {
         "name": "language",
         "rawType": "object",
         "type": "string"
        },
        {
         "name": "platform_url",
         "rawType": "object",
         "type": "string"
        },
        {
         "name": "active",
         "rawType": "object",
         "type": "string"
        },
        {
         "name": "year_creation",
         "rawType": "float64",
         "type": "float"
        },
        {
         "name": "platform_about_url",
         "rawType": "object",
         "type": "string"
        },
        {
         "name": "terms_use_link",
         "rawType": "object",
         "type": "unknown"
        },
        {
         "name": "privacy_link",
         "rawType": "object",
         "type": "unknown"
        },
        {
         "name": "code_repository",
         "rawType": "object",
         "type": "string"
        }
       ],
       "ref": "af979f37-0288-4396-8004-752b0ece3a1a",
       "rows": [
        [
         "3",
         "BirdNET",
         "Stefan Kahl",
         "How can computers learn to recognize birds from sounds? The BirdNET research project uses artificial intelligence and neural networks to train computers to identify nearly 3,000 of the most common species of North America and Europe. You can record a file using the internal microphone of your iOS device and see if BirdNET correctly identifies the probable bird species present in your recording. Get to know the birds around you and help us to collect observations by submitting your recordings. \n\nBirdNET is a joint project of the K. Lisa Yang Center for Conservation Bioacoustics at the Cornell Lab of Ornithology, and Chemnitz University of Technology.",
         "https://apps.apple.com/us/app/birdnet/id1541842885?uo=4",
         "['CS', 'NL', 'EN', 'FR', 'DE', 'IT', 'LT', 'PL', 'PT', 'RU', 'ES', 'UK']",
         "https://birdnet.cornell.edu",
         "Status code: 200",
         "1985.0",
         "https://birdnet.cornell.edu/map",
         null,
         null,
         "https://github.com/kahst/BirdNET-Analyzer"
        ]
       ],
       "shape": {
        "columns": 12,
        "rows": 1
       }
      },
      "text/html": [
       "<div>\n",
       "<style scoped>\n",
       "    .dataframe tbody tr th:only-of-type {\n",
       "        vertical-align: middle;\n",
       "    }\n",
       "\n",
       "    .dataframe tbody tr th {\n",
       "        vertical-align: top;\n",
       "    }\n",
       "\n",
       "    .dataframe thead th {\n",
       "        text-align: right;\n",
       "    }\n",
       "</style>\n",
       "<table border=\"1\" class=\"dataframe\">\n",
       "  <thead>\n",
       "    <tr style=\"text-align: right;\">\n",
       "      <th></th>\n",
       "      <th>name</th>\n",
       "      <th>developer</th>\n",
       "      <th>description</th>\n",
       "      <th>url</th>\n",
       "      <th>language</th>\n",
       "      <th>platform_url</th>\n",
       "      <th>active</th>\n",
       "      <th>year_creation</th>\n",
       "      <th>platform_about_url</th>\n",
       "      <th>terms_use_link</th>\n",
       "      <th>privacy_link</th>\n",
       "      <th>code_repository</th>\n",
       "    </tr>\n",
       "  </thead>\n",
       "  <tbody>\n",
       "    <tr>\n",
       "      <th>3</th>\n",
       "      <td>BirdNET</td>\n",
       "      <td>Stefan Kahl</td>\n",
       "      <td>How can computers learn to recognize birds fro...</td>\n",
       "      <td>https://apps.apple.com/us/app/birdnet/id154184...</td>\n",
       "      <td>['CS', 'NL', 'EN', 'FR', 'DE', 'IT', 'LT', 'PL...</td>\n",
       "      <td>https://birdnet.cornell.edu</td>\n",
       "      <td>Status code: 200</td>\n",
       "      <td>1985.0</td>\n",
       "      <td>https://birdnet.cornell.edu/map</td>\n",
       "      <td>None</td>\n",
       "      <td>None</td>\n",
       "      <td>https://github.com/kahst/BirdNET-Analyzer</td>\n",
       "    </tr>\n",
       "  </tbody>\n",
       "</table>\n",
       "</div>"
      ],
      "text/plain": [
       "      name    developer                                        description  \\\n",
       "3  BirdNET  Stefan Kahl  How can computers learn to recognize birds fro...   \n",
       "\n",
       "                                                 url  \\\n",
       "3  https://apps.apple.com/us/app/birdnet/id154184...   \n",
       "\n",
       "                                            language  \\\n",
       "3  ['CS', 'NL', 'EN', 'FR', 'DE', 'IT', 'LT', 'PL...   \n",
       "\n",
       "                  platform_url            active  year_creation  \\\n",
       "3  https://birdnet.cornell.edu  Status code: 200         1985.0   \n",
       "\n",
       "                platform_about_url terms_use_link privacy_link  \\\n",
       "3  https://birdnet.cornell.edu/map           None         None   \n",
       "\n",
       "                             code_repository  \n",
       "3  https://github.com/kahst/BirdNET-Analyzer  "
      ]
     },
     "execution_count": 49,
     "metadata": {},
     "output_type": "execute_result"
    }
   ],
   "source": [
    "df[df['code_repository'].notnull()]"
   ]
  },
  {
   "cell_type": "markdown",
   "id": "4695f9a0",
   "metadata": {},
   "source": [
    "- Second strategy: using github API."
   ]
  },
  {
   "cell_type": "code",
   "execution_count": 50,
   "id": "22a0473b",
   "metadata": {},
   "outputs": [],
   "source": [
    "# Find repository and organization\n",
    "from dotenv import load_dotenv\n",
    "import os\n",
    "\n",
    "# Cargar las variables desde el archivo .env\n",
    "load_dotenv()\n",
    "\n",
    "github_token = os.getenv(\"GITHUB_TOKEN\")"
   ]
  },
  {
   "cell_type": "code",
   "execution_count": 51,
   "id": "808ce30d",
   "metadata": {},
   "outputs": [],
   "source": [
    "def search_github_repo(platform_name, max_resultados=3):\n",
    "    url = \"https://api.github.com/search/repositories\"\n",
    "    params = {\n",
    "        \"q\": f\"{platform_name} in:name\",\n",
    "        \"sort\": \"stars\",\n",
    "        \"order\": \"desc\",\n",
    "        \"per_page\": max_resultados\n",
    "    }\n",
    "\n",
    "    headers = {\n",
    "        \"Accept\": \"application/vnd.github+json\",\n",
    "        \"Authorization\": f\"token {github_token}\"\n",
    "    }\n",
    "\n",
    "    response = requests.get(url, params=params, headers=headers)\n",
    "    \n",
    "    if response.status_code == 200:\n",
    "        results = response.json()[\"items\"]\n",
    "        repos_info = []\n",
    "        for repo in results:\n",
    "            full_name = repo['full_name']  # ej. birdnet-team/BirdNET-Analyzer\n",
    "            owner = repo['owner']['login']  # ej. birdnet-team\n",
    "            repos_info.append({\n",
    "                \"first_repo\": f\"https://github.com/{full_name}\",\n",
    "                \"organization\": owner,\n",
    "                \"url_organization\": f\"https://github.com/{owner}\"\n",
    "            })\n",
    "        time.sleep(5)\n",
    "        if len(repos_info) > 0:\n",
    "            return repos_info[0]['first_repo']\n",
    "        else:\n",
    "            return None\n",
    "    else:\n",
    "        print(f\"Error in request: {response.status_code}\")\n",
    "        time.sleep(5)\n",
    "        return None"
   ]
  },
  {
   "cell_type": "code",
   "execution_count": 52,
   "id": "a462fadf",
   "metadata": {},
   "outputs": [
    {
     "name": "stdout",
     "output_type": "stream",
     "text": [
      "Found repositories:\n",
      "https://github.com/birdnet-team/BirdNET-Analyzer\n"
     ]
    }
   ],
   "source": [
    "# Example of use:\n",
    "\n",
    "plataform = \"BirdNET\"\n",
    "repo = search_github_repo(plataform)\n",
    "print(\"Found repositories:\")\n",
    "print(repo)"
   ]
  },
  {
   "cell_type": "code",
   "execution_count": 53,
   "id": "6d368e4a",
   "metadata": {},
   "outputs": [],
   "source": [
    "df[\"code_repository_github_api\"] = df['name'].apply(search_github_repo)"
   ]
  },
  {
   "cell_type": "code",
   "execution_count": 54,
   "id": "f3c5959d",
   "metadata": {},
   "outputs": [
    {
     "name": "stdout",
     "output_type": "stream",
     "text": [
      "<class 'pandas.core.frame.DataFrame'>\n",
      "RangeIndex: 45 entries, 0 to 44\n",
      "Data columns (total 13 columns):\n",
      " #   Column                      Non-Null Count  Dtype  \n",
      "---  ------                      --------------  -----  \n",
      " 0   name                        45 non-null     object \n",
      " 1   developer                   45 non-null     object \n",
      " 2   description                 45 non-null     object \n",
      " 3   url                         45 non-null     object \n",
      " 4   language                    45 non-null     object \n",
      " 5   platform_url                45 non-null     object \n",
      " 6   active                      45 non-null     object \n",
      " 7   year_creation               41 non-null     float64\n",
      " 8   platform_about_url          39 non-null     object \n",
      " 9   terms_use_link              18 non-null     object \n",
      " 10  privacy_link                30 non-null     object \n",
      " 11  code_repository             1 non-null      object \n",
      " 12  code_repository_github_api  18 non-null     object \n",
      "dtypes: float64(1), object(12)\n",
      "memory usage: 4.7+ KB\n"
     ]
    }
   ],
   "source": [
    "df.info()"
   ]
  },
  {
   "cell_type": "code",
   "execution_count": 55,
   "id": "847eeeb7",
   "metadata": {},
   "outputs": [
    {
     "name": "stdout",
     "output_type": "stream",
     "text": [
      "URL first repository: https://github.com/IGES-Geospatial/globe-observer-utils\n"
     ]
    }
   ],
   "source": [
    "plataforma = \"GLOBE Observer\"\n",
    "url_org = search_github_repo(plataforma)\n",
    "if url_org:\n",
    "    print(\"URL first repository:\", url_org)\n",
    "else:\n",
    "    print(\"Nothing found.\")"
   ]
  },
  {
   "cell_type": "code",
   "execution_count": 56,
   "id": "6a51a019",
   "metadata": {},
   "outputs": [],
   "source": [
    "# Remove manually wrong repositories\n",
    "\n",
    "remove_repo_links = [\n",
    "    \"https://github.com/hdsingh/Brain-Explorer\",\n",
    "    \"https://github.com/gargargargar/the-happiness-project\",\n",
    "    \"https://github.com/yuzhengyang/WhaleReport\",\n",
    "    \"https://github.com/SeaLife/csgo-item-price-tracker\",\n",
    "    \"https://github.com/zudzug/RainMeter-DarkSky-Framework\",\n",
    "    \"https://github.com/simonkuo/beemachine\",\n",
    "    \"https://github.com/mak-kirkland/birdtracks\",\n",
    "    \"https://github.com/juanjoSanz/hass_wibeee\",\n",
    "    \"https://github.com/bmidgley/citizen-scientist\",\n",
    "    \"https://github.com/avdata99/medusapp\",\n",
    "]\n",
    "\n",
    "\n",
    "for remove_link in remove_repo_links:\n",
    "    df.loc[df.code_repository_github_api == remove_link, \"code_repository_github_api\"] = None"
   ]
  },
  {
   "cell_type": "code",
   "execution_count": 57,
   "id": "8c2610d3",
   "metadata": {},
   "outputs": [
    {
     "name": "stdout",
     "output_type": "stream",
     "text": [
      "<class 'pandas.core.frame.DataFrame'>\n",
      "RangeIndex: 45 entries, 0 to 44\n",
      "Data columns (total 13 columns):\n",
      " #   Column                      Non-Null Count  Dtype  \n",
      "---  ------                      --------------  -----  \n",
      " 0   name                        45 non-null     object \n",
      " 1   developer                   45 non-null     object \n",
      " 2   description                 45 non-null     object \n",
      " 3   url                         45 non-null     object \n",
      " 4   language                    45 non-null     object \n",
      " 5   platform_url                45 non-null     object \n",
      " 6   active                      45 non-null     object \n",
      " 7   year_creation               41 non-null     float64\n",
      " 8   platform_about_url          39 non-null     object \n",
      " 9   terms_use_link              18 non-null     object \n",
      " 10  privacy_link                30 non-null     object \n",
      " 11  code_repository             1 non-null      object \n",
      " 12  code_repository_github_api  8 non-null      object \n",
      "dtypes: float64(1), object(12)\n",
      "memory usage: 4.7+ KB\n"
     ]
    }
   ],
   "source": [
    "df.info()"
   ]
  },
  {
   "cell_type": "code",
   "execution_count": 58,
   "id": "59f0abc5",
   "metadata": {},
   "outputs": [],
   "source": [
    "df.to_csv(\"../data/ios_apps_platforms_test.csv\", index=False)"
   ]
  },
  {
   "cell_type": "markdown",
   "id": "917e5d0f",
   "metadata": {},
   "source": [
    "## language code"
   ]
  },
  {
   "cell_type": "code",
   "execution_count": 59,
   "id": "813f24c6",
   "metadata": {},
   "outputs": [
    {
     "name": "stdout",
     "output_type": "stream",
     "text": [
      "<class 'pandas.core.frame.DataFrame'>\n",
      "RangeIndex: 45 entries, 0 to 44\n",
      "Data columns (total 13 columns):\n",
      " #   Column                      Non-Null Count  Dtype  \n",
      "---  ------                      --------------  -----  \n",
      " 0   name                        45 non-null     object \n",
      " 1   developer                   45 non-null     object \n",
      " 2   description                 45 non-null     object \n",
      " 3   url                         45 non-null     object \n",
      " 4   language                    45 non-null     object \n",
      " 5   platform_url                45 non-null     object \n",
      " 6   active                      45 non-null     object \n",
      " 7   year_creation               41 non-null     float64\n",
      " 8   platform_about_url          39 non-null     object \n",
      " 9   terms_use_link              18 non-null     object \n",
      " 10  privacy_link                30 non-null     object \n",
      " 11  code_repository             1 non-null      object \n",
      " 12  code_repository_github_api  8 non-null      object \n",
      "dtypes: float64(1), object(12)\n",
      "memory usage: 4.7+ KB\n"
     ]
    }
   ],
   "source": [
    "# language_code\n",
    "df = pd.read_csv(\"../data/ios_apps_platforms_test.csv\")\n",
    "df.info()"
   ]
  },
  {
   "cell_type": "code",
   "execution_count": 60,
   "id": "7ba04cba",
   "metadata": {},
   "outputs": [],
   "source": [
    "import requests\n",
    "\n",
    "def analyze_website_tech(url, timeout=10):\n",
    "    \"\"\"\n",
    "    Analyzes a URL to detect web technologies used    \n",
    "    \"\"\"\n",
    "    result = {\n",
    "        'url': url,\n",
    "        'technologies': [],\n",
    "        'language': None,\n",
    "        'framework': None,\n",
    "        'server': None,\n",
    "        'headers': {},\n",
    "        'status_code': None,\n",
    "        'error': None\n",
    "    }\n",
    "    \n",
    "    try:\n",
    "        # Make HTTP request\n",
    "        response = requests.get(url, timeout=timeout, allow_redirects=True)\n",
    "        result['status_code'] = response.status_code\n",
    "        \n",
    "        # Analyze headers\n",
    "        headers = response.headers\n",
    "        result['headers'] = dict(headers)\n",
    "        \n",
    "        # Get HTML content\n",
    "        html_content = response.text.lower()\n",
    "        \n",
    "        # Detect technologies by headers\n",
    "        tech_info = detect_tech_from_headers(headers)\n",
    "        result.update(tech_info)\n",
    "        \n",
    "        # Detect technologies by HTML content\n",
    "        html_tech = detect_tech_from_html(html_content)\n",
    "        result['technologies'].extend(html_tech)\n",
    "        \n",
    "        # Detect by URL patterns\n",
    "        url_tech = detect_tech_from_url(url)\n",
    "        result['technologies'].extend(url_tech)\n",
    "        \n",
    "        # Determine primary language\n",
    "        result['language'] = determine_primary_language(result)\n",
    "        \n",
    "        # Drop duplicates\n",
    "        result['technologies'] = list(set(result['technologies']))\n",
    "        \n",
    "    except requests.exceptions.RequestException as e:\n",
    "        result['error'] = str(e)\n",
    "    except Exception as e:\n",
    "        result['error'] = f\"Unexpected error: {str(e)}\"\n",
    "    \n",
    "    return result\n",
    "\n",
    "def detect_tech_from_headers(headers):\n",
    "    \"\"\"Detects technologies based on HTTP headers\"\"\"\n",
    "    tech_info = {\n",
    "        'technologies': [],\n",
    "        'language': None,\n",
    "        'framework': None,\n",
    "        'server': None\n",
    "    }\n",
    "    \n",
    "    # Convert headers to lowercase for search\n",
    "    headers_lower = {k.lower(): v for k, v in headers.items()}\n",
    "    \n",
    "    # Detect web server\n",
    "    if 'server' in headers_lower:\n",
    "        server = headers_lower['server']\n",
    "        tech_info['server'] = server\n",
    "        \n",
    "        if 'apache' in server.lower():\n",
    "            tech_info['technologies'].append('Apache')\n",
    "        if 'nginx' in server.lower():\n",
    "            tech_info['technologies'].append('Nginx')\n",
    "        if 'iis' in server.lower():\n",
    "            tech_info['technologies'].append('IIS')\n",
    "    \n",
    "    # Detect language by specific headers\n",
    "    if 'x-powered-by' in headers_lower:\n",
    "        powered_by = headers_lower['x-powered-by'].lower()\n",
    "        \n",
    "        if 'php' in powered_by:\n",
    "            tech_info['language'] = 'PHP'\n",
    "            tech_info['technologies'].append('PHP')\n",
    "        elif 'asp.net' in powered_by:\n",
    "            tech_info['language'] = 'ASP.NET'\n",
    "            tech_info['technologies'].append('ASP.NET')\n",
    "        elif 'express' in powered_by:\n",
    "            tech_info['language'] = 'Node.js'\n",
    "            tech_info['technologies'].append('Node.js')\n",
    "            tech_info['technologies'].append('Express')\n",
    "    \n",
    "    # Detect Ruby on Rails\n",
    "    if 'x-runtime' in headers_lower:\n",
    "        tech_info['language'] = 'Ruby'\n",
    "        tech_info['framework'] = 'Ruby on Rails'\n",
    "        tech_info['technologies'].append('Ruby on Rails')\n",
    "    \n",
    "    # Detect by cookies\n",
    "    if 'set-cookie' in headers_lower:\n",
    "        cookies = headers_lower['set-cookie'].lower()\n",
    "        \n",
    "        if 'phpsessid' in cookies:\n",
    "            tech_info['language'] = 'PHP'\n",
    "            tech_info['technologies'].append('PHP')\n",
    "        elif 'jsessionid' in cookies:\n",
    "            tech_info['language'] = 'Java'\n",
    "            tech_info['technologies'].append('Java')\n",
    "        elif '_session_id' in cookies and 'rails' in cookies:\n",
    "            tech_info['language'] = 'Ruby'\n",
    "            tech_info['technologies'].append('Ruby on Rails')\n",
    "    \n",
    "    # Detect CloudFlare\n",
    "    if 'cf-ray' in headers_lower:\n",
    "        tech_info['technologies'].append('CloudFlare')\n",
    "    \n",
    "    return tech_info\n",
    "\n",
    "def detect_tech_from_html(html_content):\n",
    "    \"\"\"Detects technologies by analyzing HTML content\"\"\"\n",
    "    technologies = []\n",
    "    \n",
    "    # WordPress\n",
    "    if any(indicator in html_content for indicator in [\n",
    "        'wp-content', 'wp-includes', 'wordpress', '/wp-json/'\n",
    "    ]):\n",
    "        technologies.append('WordPress')\n",
    "    \n",
    "    # Drupal\n",
    "    if any(indicator in html_content for indicator in [\n",
    "        'drupal', 'sites/default/files', 'misc/drupal.js'\n",
    "    ]):\n",
    "        technologies.append('Drupal')\n",
    "    \n",
    "    # Joomla\n",
    "    if any(indicator in html_content for indicator in [\n",
    "        'joomla', 'option=com_', 'joomla.org'\n",
    "    ]):\n",
    "        technologies.append('Joomla')\n",
    "    \n",
    "    # React\n",
    "    if any(indicator in html_content for indicator in [\n",
    "        'react', 'data-reactroot', '__react', 'react-dom'\n",
    "    ]):\n",
    "        technologies.append('React')\n",
    "    \n",
    "    # Vue.js\n",
    "    if any(indicator in html_content for indicator in [\n",
    "        'vue.js', 'vue.min.js', 'v-if=', 'v-for='\n",
    "    ]):\n",
    "        technologies.append('Vue.js')\n",
    "    \n",
    "    # Angular\n",
    "    if any(indicator in html_content for indicator in [\n",
    "        'angular', 'ng-app', 'ng-controller', 'angular.min.js'\n",
    "    ]):\n",
    "        technologies.append('Angular')\n",
    "    \n",
    "    # jQuery\n",
    "    if any(indicator in html_content for indicator in [\n",
    "        'jquery', 'jquery.min.js', '$.fn.jquery'\n",
    "    ]):\n",
    "        technologies.append('jQuery')\n",
    "    \n",
    "    # Bootstrap\n",
    "    if any(indicator in html_content for indicator in [\n",
    "        'bootstrap', 'bootstrap.min.css', 'bootstrap.css'\n",
    "    ]):\n",
    "        technologies.append('Bootstrap')\n",
    "    \n",
    "    # Django (Python)\n",
    "    if any(indicator in html_content for indicator in [\n",
    "        'csrfmiddlewaretoken', 'django', '__admin_media_prefix__'\n",
    "    ]):\n",
    "        technologies.append('Django')\n",
    "    \n",
    "    # Laravel (PHP)\n",
    "    if any(indicator in html_content for indicator in [\n",
    "        'laravel_session', 'laravel', 'csrf-token'\n",
    "    ]):\n",
    "        technologies.append('Laravel')\n",
    "    \n",
    "    # Ruby on Rails\n",
    "    if any(indicator in html_content for indicator in [\n",
    "        'csrf-param', 'csrf-token', 'rails', 'data-method='\n",
    "    ]):\n",
    "        technologies.append('Ruby on Rails')\n",
    "    \n",
    "    # Google Analytics\n",
    "    if any(indicator in html_content for indicator in [\n",
    "        'google-analytics', 'gtag(', 'ga('\n",
    "    ]):\n",
    "        technologies.append('Google Analytics')\n",
    "    \n",
    "    return technologies\n",
    "\n",
    "def detect_tech_from_url(url):\n",
    "    \"\"\"Detects technologies based on URL patterns\"\"\"\n",
    "    technologies = []\n",
    "    \n",
    "    # Analyze file extensions\n",
    "    if '.php' in url:\n",
    "        technologies.append('PHP')\n",
    "    elif '.asp' in url or '.aspx' in url:\n",
    "        technologies.append('ASP.NET')\n",
    "    elif '.jsp' in url:\n",
    "        technologies.append('Java')\n",
    "    elif '.py' in url:\n",
    "        technologies.append('Python')\n",
    "    elif '.rb' in url:\n",
    "        technologies.append('Ruby')\n",
    "    elif '.cfm' in url:\n",
    "        technologies.append('ColdFusion')\n",
    "    \n",
    "    # WordPress specific patterns\n",
    "    if any(pattern in url for pattern in ['/wp-content/', '/wp-admin/', '/wp-includes/']):\n",
    "        technologies.append('WordPress')\n",
    "    \n",
    "    # Drupal patterns\n",
    "    if any(pattern in url for pattern in ['/node/', '/admin/config/']):\n",
    "        technologies.append('Drupal')\n",
    "    \n",
    "    return technologies\n",
    "\n",
    "def determine_primary_language(result):\n",
    "    \"\"\"Determine the primary language based on all the information\"\"\"\n",
    "    technologies = result['technologies']\n",
    "    \n",
    "    # Prioridad por frameworks específicos\n",
    "    if 'Ruby on Rails' in technologies:\n",
    "        return 'Ruby'\n",
    "    elif 'Django' in technologies:\n",
    "        return 'Python'\n",
    "    elif 'Laravel' in technologies:\n",
    "        return 'PHP'\n",
    "    elif 'ASP.NET' in technologies:\n",
    "        return 'ASP.NET'\n",
    "    elif 'PHP' in technologies or 'WordPress' in technologies:\n",
    "        return 'PHP'\n",
    "    elif 'Java' in technologies:\n",
    "        return 'Java'\n",
    "    elif 'Node.js' in technologies:\n",
    "        return 'JavaScript (Node.js)'\n",
    "    elif any(js_tech in technologies for js_tech in ['React', 'Vue.js', 'Angular']):\n",
    "        return 'JavaScript'\n",
    "    elif result['language'] is not None:\n",
    "        return result['language']\n",
    "    else:\n",
    "        return None\n",
    "\n"
   ]
  },
  {
   "cell_type": "code",
   "execution_count": 64,
   "id": "777faf30",
   "metadata": {},
   "outputs": [],
   "source": [
    "# Función que retorna solo el lenguaje\n",
    "def get_language(url):\n",
    "    try:\n",
    "        result = analyze_website_tech(url)\n",
    "        return result['language']\n",
    "    except:\n",
    "        return None\n",
    "    \n",
    "df['code_language'] = df['platform_url'].apply(get_language)"
   ]
  },
  {
   "cell_type": "code",
   "execution_count": 65,
   "id": "48b412ba",
   "metadata": {},
   "outputs": [
    {
     "data": {
      "application/vnd.microsoft.datawrangler.viewer.v0+json": {
       "columns": [
        {
         "name": "code_language",
         "rawType": "object",
         "type": "string"
        },
        {
         "name": "count",
         "rawType": "int64",
         "type": "integer"
        }
       ],
       "ref": "c68658dc-f487-4889-95cf-81dac4a1c357",
       "rows": [
        [
         "PHP",
         "20"
        ],
        [
         "JavaScript",
         "4"
        ],
        [
         "Ruby",
         "2"
        ],
        [
         "Java",
         "1"
        ]
       ],
       "shape": {
        "columns": 1,
        "rows": 4
       }
      },
      "text/plain": [
       "code_language\n",
       "PHP           20\n",
       "JavaScript     4\n",
       "Ruby           2\n",
       "Java           1\n",
       "Name: count, dtype: int64"
      ]
     },
     "execution_count": 65,
     "metadata": {},
     "output_type": "execute_result"
    }
   ],
   "source": [
    "df.code_language.value_counts()"
   ]
  },
  {
   "cell_type": "markdown",
   "id": "598cbcb0",
   "metadata": {},
   "source": [
    "**NOTE:**\n",
    "* **PHP**: frameworks like Laravel, Symfony, CodeIgniter... and CMS like WordPress, Drupal, Joomla...\n",
    "* **JavaScript**: frontends like React, Vue.js, Angular, jQuery... and backends like Node.js or Express.js."
   ]
  },
  {
   "cell_type": "code",
   "execution_count": 66,
   "id": "2376712f",
   "metadata": {},
   "outputs": [],
   "source": [
    "df.to_csv(\"../data/ios_apps_platforms_test.csv\", index=False)"
   ]
  },
  {
   "cell_type": "markdown",
   "id": "9c770c10",
   "metadata": {},
   "source": [
    "## governance_explicit"
   ]
  },
  {
   "cell_type": "code",
   "execution_count": 67,
   "id": "66566908",
   "metadata": {},
   "outputs": [
    {
     "name": "stdout",
     "output_type": "stream",
     "text": [
      "Error procesando http://www.natural-apptitude.co.uk/project/sealife-tracker/: 404 Client Error: Not Found for url: https://www.natural-apptitude.co.uk/project/sealife-tracker\n",
      "Error procesando https://uwiseismic.com/myhaz-vct/: ('Connection aborted.', RemoteDisconnected('Remote end closed connection without response'))\n",
      "Error procesando https://bigbutterflycount.butterfly-conservation.org/: 403 Client Error: Forbidden for url: https://bigbutterflycount.butterfly-conservation.org/\n"
     ]
    }
   ],
   "source": [
    "gov_terms = [\n",
    "    \"governance\",\n",
    "    \"data governance\", \n",
    "    \"gobierno de datos\", \n",
    "    \"gobernanza de datos\", \n",
    "    \"gestión de datos\",\n",
    "    \"data management\", \n",
    "    \"gestión de datos\", \n",
    "    \"data stewardship\", \n",
    "    \"calidad de datos\",\n",
    "    \"data quality\", \n",
    "    \"cumplimiento de datos\",\n",
    "    \"data compliance\", \n",
    "    \"política de datos\", \n",
    "    \"data policy\", \n",
    "    \"estrategia de datos\",\n",
    "    \"data strategy\", \n",
    "    \"protección de datos\", \n",
    "    \"data protection\", \n",
    "    \"gobernanza de la información\",\n",
    "    \"information governance\", \n",
    "    \"gouvernance des données\", \n",
    "    \"governance dei dati\", \n",
    "    \"Daten-Governance\", \n",
    "    \"governança de dados\"\n",
    "]\n",
    "\n",
    "df['governance_url'] = df['platform_url'].apply(lambda x: find_terms_url(x, gov_terms))"
   ]
  },
  {
   "cell_type": "code",
   "execution_count": 68,
   "id": "76589788",
   "metadata": {},
   "outputs": [
    {
     "name": "stdout",
     "output_type": "stream",
     "text": [
      "<class 'pandas.core.frame.DataFrame'>\n",
      "RangeIndex: 45 entries, 0 to 44\n",
      "Data columns (total 15 columns):\n",
      " #   Column                      Non-Null Count  Dtype  \n",
      "---  ------                      --------------  -----  \n",
      " 0   name                        45 non-null     object \n",
      " 1   developer                   45 non-null     object \n",
      " 2   description                 45 non-null     object \n",
      " 3   url                         45 non-null     object \n",
      " 4   language                    45 non-null     object \n",
      " 5   platform_url                45 non-null     object \n",
      " 6   active                      45 non-null     object \n",
      " 7   year_creation               41 non-null     float64\n",
      " 8   platform_about_url          39 non-null     object \n",
      " 9   terms_use_link              18 non-null     object \n",
      " 10  privacy_link                30 non-null     object \n",
      " 11  code_repository             1 non-null      object \n",
      " 12  code_repository_github_api  8 non-null      object \n",
      " 13  code_language               27 non-null     object \n",
      " 14  governance_url              3 non-null      object \n",
      "dtypes: float64(1), object(14)\n",
      "memory usage: 5.4+ KB\n"
     ]
    }
   ],
   "source": [
    "df.info()"
   ]
  },
  {
   "cell_type": "code",
   "execution_count": 69,
   "id": "d5626079",
   "metadata": {},
   "outputs": [
    {
     "data": {
      "application/vnd.microsoft.datawrangler.viewer.v0+json": {
       "columns": [
        {
         "name": "governance_url",
         "rawType": "object",
         "type": "string"
        },
        {
         "name": "count",
         "rawType": "int64",
         "type": "integer"
        }
       ],
       "ref": "885f56ac-cc92-4623-99cf-5a955d960198",
       "rows": [
        [
         "https://www.spotteron.net/citizen-science-app-features/data-handling",
         "3"
        ]
       ],
       "shape": {
        "columns": 1,
        "rows": 1
       }
      },
      "text/plain": [
       "governance_url\n",
       "https://www.spotteron.net/citizen-science-app-features/data-handling    3\n",
       "Name: count, dtype: int64"
      ]
     },
     "execution_count": 69,
     "metadata": {},
     "output_type": "execute_result"
    }
   ],
   "source": [
    "df['governance_url'].value_counts()"
   ]
  },
  {
   "cell_type": "code",
   "execution_count": 70,
   "id": "0ce8b804",
   "metadata": {},
   "outputs": [],
   "source": [
    "df.to_csv(\"../data/ios_apps_platforms_test.csv\", index=False)"
   ]
  },
  {
   "cell_type": "markdown",
   "id": "f9bb656d",
   "metadata": {},
   "source": [
    "## API"
   ]
  },
  {
   "cell_type": "markdown",
   "id": "e799432b",
   "metadata": {},
   "source": [
    "- Search in common paths to API:"
   ]
  },
  {
   "cell_type": "code",
   "execution_count": 71,
   "id": "7e1450c9",
   "metadata": {},
   "outputs": [],
   "source": [
    "import pandas as pd\n",
    "import requests\n",
    "\n",
    "# Try common paths to API\n",
    "\n",
    "def check_api(url):\n",
    "    api_endpoints = ['/api', '/api/v1', '/swagger', '/docs']\n",
    "    for endpoint in api_endpoints:\n",
    "        try:\n",
    "            resp = requests.get(url.rstrip('/') + endpoint, timeout=3)\n",
    "            if resp.status_code == 200:\n",
    "                return url.rstrip('/') + endpoint\n",
    "        except requests.RequestException:\n",
    "            continue\n",
    "    return None\n",
    "\n",
    "df['api_link'] = df['platform_url'].apply(check_api)"
   ]
  },
  {
   "cell_type": "code",
   "execution_count": 72,
   "id": "450da144",
   "metadata": {},
   "outputs": [
    {
     "name": "stdout",
     "output_type": "stream",
     "text": [
      "<class 'pandas.core.frame.DataFrame'>\n",
      "RangeIndex: 45 entries, 0 to 44\n",
      "Data columns (total 16 columns):\n",
      " #   Column                      Non-Null Count  Dtype  \n",
      "---  ------                      --------------  -----  \n",
      " 0   name                        45 non-null     object \n",
      " 1   developer                   45 non-null     object \n",
      " 2   description                 45 non-null     object \n",
      " 3   url                         45 non-null     object \n",
      " 4   language                    45 non-null     object \n",
      " 5   platform_url                45 non-null     object \n",
      " 6   active                      45 non-null     object \n",
      " 7   year_creation               41 non-null     float64\n",
      " 8   platform_about_url          39 non-null     object \n",
      " 9   terms_use_link              18 non-null     object \n",
      " 10  privacy_link                30 non-null     object \n",
      " 11  code_repository             1 non-null      object \n",
      " 12  code_repository_github_api  8 non-null      object \n",
      " 13  code_language               27 non-null     object \n",
      " 14  governance_url              3 non-null      object \n",
      " 15  api_link                    9 non-null      object \n",
      "dtypes: float64(1), object(15)\n",
      "memory usage: 5.8+ KB\n"
     ]
    }
   ],
   "source": [
    "df.info()"
   ]
  },
  {
   "cell_type": "code",
   "execution_count": 73,
   "id": "146a790e",
   "metadata": {},
   "outputs": [
    {
     "data": {
      "application/vnd.microsoft.datawrangler.viewer.v0+json": {
       "columns": [
        {
         "name": "api_link",
         "rawType": "object",
         "type": "string"
        },
        {
         "name": "count",
         "rawType": "int64",
         "type": "integer"
        }
       ],
       "ref": "c72dc7b2-e939-4baf-a5cb-b971f561fa11",
       "rows": [
        [
         "https://birdnet.cornell.edu/api",
         "1"
        ],
        [
         "https://www.spotfire.com/docs",
         "1"
        ],
        [
         "https://www.echometertouch.com/api",
         "1"
        ],
        [
         "https://www.iseechange.org/swagger",
         "1"
        ],
        [
         "https://www.coronareport.global/api/v1",
         "1"
        ],
        [
         "https://www.birdweather.com/api",
         "1"
        ],
        [
         "http://www.birdtrack.net/api",
         "1"
        ],
        [
         "https://caterpillarscount.unc.edu/api",
         "1"
        ],
        [
         "https://instantwild.zsl.org/api",
         "1"
        ]
       ],
       "shape": {
        "columns": 1,
        "rows": 9
       }
      },
      "text/plain": [
       "api_link\n",
       "https://birdnet.cornell.edu/api           1\n",
       "https://www.spotfire.com/docs             1\n",
       "https://www.echometertouch.com/api        1\n",
       "https://www.iseechange.org/swagger        1\n",
       "https://www.coronareport.global/api/v1    1\n",
       "https://www.birdweather.com/api           1\n",
       "http://www.birdtrack.net/api              1\n",
       "https://caterpillarscount.unc.edu/api     1\n",
       "https://instantwild.zsl.org/api           1\n",
       "Name: count, dtype: int64"
      ]
     },
     "execution_count": 73,
     "metadata": {},
     "output_type": "execute_result"
    }
   ],
   "source": [
    "df.api_link.value_counts()"
   ]
  },
  {
   "cell_type": "markdown",
   "id": "ae08dee7",
   "metadata": {},
   "source": [
    "- Find term API or swagger in home:"
   ]
  },
  {
   "cell_type": "code",
   "execution_count": 74,
   "id": "13a558a7",
   "metadata": {},
   "outputs": [
    {
     "name": "stdout",
     "output_type": "stream",
     "text": [
      "Error procesando https://thehappinessproject.app: HTTPSConnectionPool(host='thehappinessproject.app', port=443): Read timed out. (read timeout=10)\n",
      "Error procesando http://www.natural-apptitude.co.uk/project/sealife-tracker/: 404 Client Error: Not Found for url: https://www.natural-apptitude.co.uk/project/sealife-tracker\n",
      "Error procesando https://uwiseismic.com/myhaz-vct/: ('Connection aborted.', RemoteDisconnected('Remote end closed connection without response'))\n",
      "Error procesando https://bigbutterflycount.butterfly-conservation.org/: 403 Client Error: Forbidden for url: https://bigbutterflycount.butterfly-conservation.org/\n"
     ]
    }
   ],
   "source": [
    "# Find API mention in home code\n",
    "\n",
    "api_terms = [\"api\", \"swagger\"]\n",
    "\n",
    "df['api_link'] = df['platform_url'].apply(lambda x: find_terms_url(x, api_terms))"
   ]
  },
  {
   "cell_type": "code",
   "execution_count": 75,
   "id": "f5ec634b",
   "metadata": {},
   "outputs": [
    {
     "name": "stdout",
     "output_type": "stream",
     "text": [
      "<class 'pandas.core.frame.DataFrame'>\n",
      "RangeIndex: 45 entries, 0 to 44\n",
      "Data columns (total 16 columns):\n",
      " #   Column                      Non-Null Count  Dtype  \n",
      "---  ------                      --------------  -----  \n",
      " 0   name                        45 non-null     object \n",
      " 1   developer                   45 non-null     object \n",
      " 2   description                 45 non-null     object \n",
      " 3   url                         45 non-null     object \n",
      " 4   language                    45 non-null     object \n",
      " 5   platform_url                45 non-null     object \n",
      " 6   active                      45 non-null     object \n",
      " 7   year_creation               41 non-null     float64\n",
      " 8   platform_about_url          39 non-null     object \n",
      " 9   terms_use_link              18 non-null     object \n",
      " 10  privacy_link                30 non-null     object \n",
      " 11  code_repository             1 non-null      object \n",
      " 12  code_repository_github_api  8 non-null      object \n",
      " 13  code_language               27 non-null     object \n",
      " 14  governance_url              3 non-null      object \n",
      " 15  api_link                    3 non-null      object \n",
      "dtypes: float64(1), object(15)\n",
      "memory usage: 5.8+ KB\n"
     ]
    }
   ],
   "source": [
    "df.info()"
   ]
  },
  {
   "cell_type": "code",
   "execution_count": 76,
   "id": "a69ddca8",
   "metadata": {},
   "outputs": [
    {
     "data": {
      "application/vnd.microsoft.datawrangler.viewer.v0+json": {
       "columns": [
        {
         "name": "api_link",
         "rawType": "object",
         "type": "string"
        },
        {
         "name": "count",
         "rawType": "int64",
         "type": "integer"
        }
       ],
       "ref": "1ef5cebe-78c0-40d2-863d-3cdf438c621e",
       "rows": [
        [
         "https://birdnet.cornell.edu/api/",
         "1"
        ],
        [
         "https://app.birdweather.com/api/index.html",
         "1"
        ],
        [
         "http://hokcab01.almacen.api.auditmedia.es//api/Recortes/9060d58a-be68-4976-8423-13e92901e243/tv.mp4",
         "1"
        ]
       ],
       "shape": {
        "columns": 1,
        "rows": 3
       }
      },
      "text/plain": [
       "api_link\n",
       "https://birdnet.cornell.edu/api/                                                                       1\n",
       "https://app.birdweather.com/api/index.html                                                             1\n",
       "http://hokcab01.almacen.api.auditmedia.es//api/Recortes/9060d58a-be68-4976-8423-13e92901e243/tv.mp4    1\n",
       "Name: count, dtype: int64"
      ]
     },
     "execution_count": 76,
     "metadata": {},
     "output_type": "execute_result"
    }
   ],
   "source": [
    "df.api_link.value_counts()"
   ]
  },
  {
   "cell_type": "markdown",
   "id": "21e0ff5a",
   "metadata": {},
   "source": [
    "- Search platform name + API in duckduckgo:"
   ]
  },
  {
   "cell_type": "code",
   "execution_count": 77,
   "id": "85c6a50d",
   "metadata": {},
   "outputs": [],
   "source": [
    "import time\n",
    "from urllib.parse import parse_qs, unquote, urlparse\n",
    "import requests\n",
    "from bs4 import BeautifulSoup\n",
    "\n",
    "def duckduckgo_search(query):\n",
    "    search = f\"{query} api\"\n",
    "    headers = {\"User-Agent\": \"Mozilla/5.0\"}\n",
    "    search_url = f\"https://lite.duckduckgo.com/lite/?q={search.replace(' ', '+')}\"\n",
    "\n",
    "    response = requests.get(search_url, headers=headers, timeout=10)\n",
    "    soup = BeautifulSoup(response.text, \"html.parser\")\n",
    "\n",
    "    # Buscar el primer enlace resultante\n",
    "    first_link = soup.find(\"a\", class_=\"result-link\")\n",
    "    if first_link and \"href\" in first_link.attrs:\n",
    "        raw_href = first_link[\"href\"]\n",
    "        parsed = urlparse(raw_href)\n",
    "        query_params = parse_qs(parsed.query)\n",
    "        if \"uddg\" in query_params:\n",
    "            time.sleep(5)\n",
    "            return unquote(query_params[\"uddg\"][0])  # Enlace decodificado\n",
    "        else:\n",
    "            time.sleep(5)\n",
    "            return raw_href  # Por si acaso ya es directo\n",
    "    time.sleep(5)"
   ]
  },
  {
   "cell_type": "code",
   "execution_count": 79,
   "id": "97eee2ad",
   "metadata": {},
   "outputs": [],
   "source": [
    "df['api_link_ddg'] = df['name'].apply(duckduckgo_search)"
   ]
  },
  {
   "cell_type": "code",
   "execution_count": 80,
   "id": "1d602cea",
   "metadata": {},
   "outputs": [],
   "source": [
    "# Remove links to home\n",
    "df.loc[\n",
    "    df[\"platform_url\"].str.rstrip(\"/\") == df[\"api_link_ddg\"].str.rstrip(\"/\"), \n",
    "    \"api_link_ddg\"\n",
    "    ] = None"
   ]
  },
  {
   "cell_type": "code",
   "execution_count": 81,
   "id": "f54f5742",
   "metadata": {},
   "outputs": [
    {
     "name": "stdout",
     "output_type": "stream",
     "text": [
      "<class 'pandas.core.frame.DataFrame'>\n",
      "RangeIndex: 45 entries, 0 to 44\n",
      "Data columns (total 17 columns):\n",
      " #   Column                      Non-Null Count  Dtype  \n",
      "---  ------                      --------------  -----  \n",
      " 0   name                        45 non-null     object \n",
      " 1   developer                   45 non-null     object \n",
      " 2   description                 45 non-null     object \n",
      " 3   url                         45 non-null     object \n",
      " 4   language                    45 non-null     object \n",
      " 5   platform_url                45 non-null     object \n",
      " 6   active                      45 non-null     object \n",
      " 7   year_creation               41 non-null     float64\n",
      " 8   platform_about_url          39 non-null     object \n",
      " 9   terms_use_link              18 non-null     object \n",
      " 10  privacy_link                30 non-null     object \n",
      " 11  code_repository             1 non-null      object \n",
      " 12  code_repository_github_api  8 non-null      object \n",
      " 13  code_language               27 non-null     object \n",
      " 14  governance_url              3 non-null      object \n",
      " 15  api_link                    3 non-null      object \n",
      " 16  api_link_ddg                32 non-null     object \n",
      "dtypes: float64(1), object(16)\n",
      "memory usage: 6.1+ KB\n"
     ]
    }
   ],
   "source": [
    "df.info()"
   ]
  },
  {
   "cell_type": "code",
   "execution_count": null,
   "id": "dda447c7",
   "metadata": {},
   "outputs": [
    {
     "data": {
      "application/vnd.microsoft.datawrangler.viewer.v0+json": {
       "columns": [
        {
         "name": "index",
         "rawType": "int64",
         "type": "integer"
        },
        {
         "name": "platform_url",
         "rawType": "object",
         "type": "string"
        },
        {
         "name": "api_link_ddg",
         "rawType": "object",
         "type": "unknown"
        }
       ],
       "ref": "9b588fb6-7393-44a7-aee6-71dea15ff83a",
       "rows": [
        [
         "0",
         "https://www.anecdata.org/",
         "https://www.anecdata.org/pages/api"
        ],
        [
         "1",
         "https://health-study.zoe.com/",
         "https://api.covidradar.org/launch/"
        ],
        [
         "2",
         "https://lnt.org/our-work/citizen-science/",
         "https://lnt.org/our-work/citizen-science/citizen-science-toolkit/"
        ],
        [
         "3",
         "https://birdnet.cornell.edu",
         null
        ],
        [
         "4",
         "https://observer.globe.gov/",
         "https://www.globe.gov/globe-data/globe-api"
        ],
        [
         "5",
         "https://www.quantifiedcitizen.com/",
         "https://api.quantifiedcitizen.com/"
        ],
        [
         "6",
         "https://www.spotfire.com/",
         null
        ],
        [
         "7",
         "https://www.brainexplorer.net",
         "https://mouse.brain-map.org/static/api"
        ],
        [
         "8",
         "https://www.spotteron.net/apps/regional-community-science-projects/waterlinx-citizen-science",
         null
        ],
        [
         "9",
         "https://thehappinessproject.app",
         "https://github.com/jfaccioli/happiness-project"
        ],
        [
         "10",
         "https://faunawatch.org/contact/",
         "https://github.com/stcalica/citizen-science-apis"
        ],
        [
         "11",
         "https://www.echometertouch.com",
         "https://www.wildlifeacoustics.com/products/echo-meter-touch-2"
        ],
        [
         "12",
         "https://www.zooniverse.org/",
         "http://developer.zooniverse.org/en/latest/apis/platform.html"
        ],
        [
         "13",
         "https://www.usanpn.org",
         "https://www.usanpn.org/node/223"
        ],
        [
         "14",
         "https://www.spotteron.net/apps/regional-community-science-projects/amphiapp-citizen-science-app-en",
         null
        ],
        [
         "15",
         "https://www.youcountproject.eu/",
         null
        ],
        [
         "16",
         "https://www.iseechange.org/",
         "http://www.google.com/search?hl=en&q=ISeeChange Tracker api"
        ],
        [
         "17",
         "https://www.herpmapper.org/",
         null
        ],
        [
         "18",
         "https://ocean.org/whales/wras/",
         null
        ],
        [
         "19",
         "http://www.csmon-life.eu",
         null
        ],
        [
         "20",
         "https://www.coronareport.global/",
         "https://disease.sh/"
        ],
        [
         "21",
         "http://www.natural-apptitude.co.uk/project/sealife-tracker/",
         "https://globalfishingwatch.org/our-apis/"
        ],
        [
         "22",
         "https://www.padi.com/aware",
         null
        ],
        [
         "23",
         "https://www.darkskymeter.com/",
         "https://rapidapi.com/blog/dark-sky-api-python/"
        ],
        [
         "24",
         "https://www.birdweather.com/",
         "https://app.birdweather.com/api/index.html"
        ],
        [
         "25",
         "https://uwiseismic.com/myhaz-vct/",
         "https://vct.myhaz.app/docs/index.html"
        ],
        [
         "26",
         "https://www.eyeonwater.org/",
         null
        ],
        [
         "27",
         "http://www.teatime4science.org/",
         null
        ],
        [
         "28",
         "https://dawn-chorus.org/",
         "https://www.light.gg/db/compare/306374"
        ],
        [
         "29",
         "https://beemachine.ai",
         null
        ],
        [
         "30",
         "http://www.birdtrack.net",
         "https://www.bto.org/get-involved/volunteer/projects/birdtrack"
        ],
        [
         "31",
         "https://www.openradiation.org/en",
         "https://github.com/openradiation/openradiation-api"
        ],
        [
         "32",
         "https://pollinators.wisc.edu/wibee/",
         "https://nest.wibeee.com/swagger-ui.html"
        ],
        [
         "33",
         "https://bigbutterflycount.butterfly-conservation.org/",
         "https://github.com/EBDennis/GAI_BBC_example"
        ],
        [
         "34",
         "https://caterpillarscount.unc.edu",
         "https://github.com/caterpillarscountdev/CaterpillarsCount"
        ],
        [
         "35",
         "https://build4people.org/",
         "https://build4people.org/new-planning-and-design-guideline-governance-and-participation-published-as-part-of-the-b4p-transformation-toolbox/"
        ],
        [
         "36",
         "https://www.popillia.eu/",
         "https://www.popillia.eu/about-the-project/collaborations/tools-for-collaboration-and-data-exchange"
        ],
        [
         "37",
         "http://www.mosquitoalert.com",
         "https://api.mosquitoalert.com/"
        ],
        [
         "38",
         "https://www.natureboostproject.com",
         "https://participatorysciences.org/resources/citizen-science-data-sharing-apis/"
        ],
        [
         "39",
         "http://medusapp.net",
         "https://docs.medusajs.com/api/store"
        ],
        [
         "40",
         "https://www.spotteron.net/",
         "https://www.coastsnap.com/"
        ],
        [
         "41",
         "https://www.orca.org.uk",
         "https://api.orca.so/docs"
        ],
        [
         "42",
         "https://instantwild.zsl.org/",
         "https://instantwild.zsl.org/intro"
        ],
        [
         "43",
         "https://www.pocket.science/products/blackholefinder/",
         "https://github.com/DogukanUrker/BlackHoleAPI"
        ],
        [
         "44",
         "https://www.bicizen.org/",
         null
        ]
       ],
       "shape": {
        "columns": 2,
        "rows": 45
       }
      },
      "text/html": [
       "<div>\n",
       "<style scoped>\n",
       "    .dataframe tbody tr th:only-of-type {\n",
       "        vertical-align: middle;\n",
       "    }\n",
       "\n",
       "    .dataframe tbody tr th {\n",
       "        vertical-align: top;\n",
       "    }\n",
       "\n",
       "    .dataframe thead th {\n",
       "        text-align: right;\n",
       "    }\n",
       "</style>\n",
       "<table border=\"1\" class=\"dataframe\">\n",
       "  <thead>\n",
       "    <tr style=\"text-align: right;\">\n",
       "      <th></th>\n",
       "      <th>platform_url</th>\n",
       "      <th>api_link_ddg</th>\n",
       "    </tr>\n",
       "  </thead>\n",
       "  <tbody>\n",
       "    <tr>\n",
       "      <th>0</th>\n",
       "      <td>https://www.anecdata.org/</td>\n",
       "      <td>https://www.anecdata.org/pages/api</td>\n",
       "    </tr>\n",
       "    <tr>\n",
       "      <th>1</th>\n",
       "      <td>https://health-study.zoe.com/</td>\n",
       "      <td>https://api.covidradar.org/launch/</td>\n",
       "    </tr>\n",
       "    <tr>\n",
       "      <th>2</th>\n",
       "      <td>https://lnt.org/our-work/citizen-science/</td>\n",
       "      <td>https://lnt.org/our-work/citizen-science/citiz...</td>\n",
       "    </tr>\n",
       "    <tr>\n",
       "      <th>3</th>\n",
       "      <td>https://birdnet.cornell.edu</td>\n",
       "      <td>None</td>\n",
       "    </tr>\n",
       "    <tr>\n",
       "      <th>4</th>\n",
       "      <td>https://observer.globe.gov/</td>\n",
       "      <td>https://www.globe.gov/globe-data/globe-api</td>\n",
       "    </tr>\n",
       "    <tr>\n",
       "      <th>5</th>\n",
       "      <td>https://www.quantifiedcitizen.com/</td>\n",
       "      <td>https://api.quantifiedcitizen.com/</td>\n",
       "    </tr>\n",
       "    <tr>\n",
       "      <th>6</th>\n",
       "      <td>https://www.spotfire.com/</td>\n",
       "      <td>None</td>\n",
       "    </tr>\n",
       "    <tr>\n",
       "      <th>7</th>\n",
       "      <td>https://www.brainexplorer.net</td>\n",
       "      <td>https://mouse.brain-map.org/static/api</td>\n",
       "    </tr>\n",
       "    <tr>\n",
       "      <th>8</th>\n",
       "      <td>https://www.spotteron.net/apps/regional-commun...</td>\n",
       "      <td>None</td>\n",
       "    </tr>\n",
       "    <tr>\n",
       "      <th>9</th>\n",
       "      <td>https://thehappinessproject.app</td>\n",
       "      <td>https://github.com/jfaccioli/happiness-project</td>\n",
       "    </tr>\n",
       "    <tr>\n",
       "      <th>10</th>\n",
       "      <td>https://faunawatch.org/contact/</td>\n",
       "      <td>https://github.com/stcalica/citizen-science-apis</td>\n",
       "    </tr>\n",
       "    <tr>\n",
       "      <th>11</th>\n",
       "      <td>https://www.echometertouch.com</td>\n",
       "      <td>https://www.wildlifeacoustics.com/products/ech...</td>\n",
       "    </tr>\n",
       "    <tr>\n",
       "      <th>12</th>\n",
       "      <td>https://www.zooniverse.org/</td>\n",
       "      <td>http://developer.zooniverse.org/en/latest/apis...</td>\n",
       "    </tr>\n",
       "    <tr>\n",
       "      <th>13</th>\n",
       "      <td>https://www.usanpn.org</td>\n",
       "      <td>https://www.usanpn.org/node/223</td>\n",
       "    </tr>\n",
       "    <tr>\n",
       "      <th>14</th>\n",
       "      <td>https://www.spotteron.net/apps/regional-commun...</td>\n",
       "      <td>None</td>\n",
       "    </tr>\n",
       "    <tr>\n",
       "      <th>15</th>\n",
       "      <td>https://www.youcountproject.eu/</td>\n",
       "      <td>None</td>\n",
       "    </tr>\n",
       "    <tr>\n",
       "      <th>16</th>\n",
       "      <td>https://www.iseechange.org/</td>\n",
       "      <td>http://www.google.com/search?hl=en&amp;q=ISeeChang...</td>\n",
       "    </tr>\n",
       "    <tr>\n",
       "      <th>17</th>\n",
       "      <td>https://www.herpmapper.org/</td>\n",
       "      <td>None</td>\n",
       "    </tr>\n",
       "    <tr>\n",
       "      <th>18</th>\n",
       "      <td>https://ocean.org/whales/wras/</td>\n",
       "      <td>None</td>\n",
       "    </tr>\n",
       "    <tr>\n",
       "      <th>19</th>\n",
       "      <td>http://www.csmon-life.eu</td>\n",
       "      <td>None</td>\n",
       "    </tr>\n",
       "    <tr>\n",
       "      <th>20</th>\n",
       "      <td>https://www.coronareport.global/</td>\n",
       "      <td>https://disease.sh/</td>\n",
       "    </tr>\n",
       "    <tr>\n",
       "      <th>21</th>\n",
       "      <td>http://www.natural-apptitude.co.uk/project/sea...</td>\n",
       "      <td>https://globalfishingwatch.org/our-apis/</td>\n",
       "    </tr>\n",
       "    <tr>\n",
       "      <th>22</th>\n",
       "      <td>https://www.padi.com/aware</td>\n",
       "      <td>None</td>\n",
       "    </tr>\n",
       "    <tr>\n",
       "      <th>23</th>\n",
       "      <td>https://www.darkskymeter.com/</td>\n",
       "      <td>https://rapidapi.com/blog/dark-sky-api-python/</td>\n",
       "    </tr>\n",
       "    <tr>\n",
       "      <th>24</th>\n",
       "      <td>https://www.birdweather.com/</td>\n",
       "      <td>https://app.birdweather.com/api/index.html</td>\n",
       "    </tr>\n",
       "    <tr>\n",
       "      <th>25</th>\n",
       "      <td>https://uwiseismic.com/myhaz-vct/</td>\n",
       "      <td>https://vct.myhaz.app/docs/index.html</td>\n",
       "    </tr>\n",
       "    <tr>\n",
       "      <th>26</th>\n",
       "      <td>https://www.eyeonwater.org/</td>\n",
       "      <td>None</td>\n",
       "    </tr>\n",
       "    <tr>\n",
       "      <th>27</th>\n",
       "      <td>http://www.teatime4science.org/</td>\n",
       "      <td>None</td>\n",
       "    </tr>\n",
       "    <tr>\n",
       "      <th>28</th>\n",
       "      <td>https://dawn-chorus.org/</td>\n",
       "      <td>https://www.light.gg/db/compare/306374</td>\n",
       "    </tr>\n",
       "    <tr>\n",
       "      <th>29</th>\n",
       "      <td>https://beemachine.ai</td>\n",
       "      <td>None</td>\n",
       "    </tr>\n",
       "    <tr>\n",
       "      <th>30</th>\n",
       "      <td>http://www.birdtrack.net</td>\n",
       "      <td>https://www.bto.org/get-involved/volunteer/pro...</td>\n",
       "    </tr>\n",
       "    <tr>\n",
       "      <th>31</th>\n",
       "      <td>https://www.openradiation.org/en</td>\n",
       "      <td>https://github.com/openradiation/openradiation...</td>\n",
       "    </tr>\n",
       "    <tr>\n",
       "      <th>32</th>\n",
       "      <td>https://pollinators.wisc.edu/wibee/</td>\n",
       "      <td>https://nest.wibeee.com/swagger-ui.html</td>\n",
       "    </tr>\n",
       "    <tr>\n",
       "      <th>33</th>\n",
       "      <td>https://bigbutterflycount.butterfly-conservati...</td>\n",
       "      <td>https://github.com/EBDennis/GAI_BBC_example</td>\n",
       "    </tr>\n",
       "    <tr>\n",
       "      <th>34</th>\n",
       "      <td>https://caterpillarscount.unc.edu</td>\n",
       "      <td>https://github.com/caterpillarscountdev/Caterp...</td>\n",
       "    </tr>\n",
       "    <tr>\n",
       "      <th>35</th>\n",
       "      <td>https://build4people.org/</td>\n",
       "      <td>https://build4people.org/new-planning-and-desi...</td>\n",
       "    </tr>\n",
       "    <tr>\n",
       "      <th>36</th>\n",
       "      <td>https://www.popillia.eu/</td>\n",
       "      <td>https://www.popillia.eu/about-the-project/coll...</td>\n",
       "    </tr>\n",
       "    <tr>\n",
       "      <th>37</th>\n",
       "      <td>http://www.mosquitoalert.com</td>\n",
       "      <td>https://api.mosquitoalert.com/</td>\n",
       "    </tr>\n",
       "    <tr>\n",
       "      <th>38</th>\n",
       "      <td>https://www.natureboostproject.com</td>\n",
       "      <td>https://participatorysciences.org/resources/ci...</td>\n",
       "    </tr>\n",
       "    <tr>\n",
       "      <th>39</th>\n",
       "      <td>http://medusapp.net</td>\n",
       "      <td>https://docs.medusajs.com/api/store</td>\n",
       "    </tr>\n",
       "    <tr>\n",
       "      <th>40</th>\n",
       "      <td>https://www.spotteron.net/</td>\n",
       "      <td>https://www.coastsnap.com/</td>\n",
       "    </tr>\n",
       "    <tr>\n",
       "      <th>41</th>\n",
       "      <td>https://www.orca.org.uk</td>\n",
       "      <td>https://api.orca.so/docs</td>\n",
       "    </tr>\n",
       "    <tr>\n",
       "      <th>42</th>\n",
       "      <td>https://instantwild.zsl.org/</td>\n",
       "      <td>https://instantwild.zsl.org/intro</td>\n",
       "    </tr>\n",
       "    <tr>\n",
       "      <th>43</th>\n",
       "      <td>https://www.pocket.science/products/blackholef...</td>\n",
       "      <td>https://github.com/DogukanUrker/BlackHoleAPI</td>\n",
       "    </tr>\n",
       "    <tr>\n",
       "      <th>44</th>\n",
       "      <td>https://www.bicizen.org/</td>\n",
       "      <td>None</td>\n",
       "    </tr>\n",
       "  </tbody>\n",
       "</table>\n",
       "</div>"
      ],
      "text/plain": [
       "                                         platform_url  \\\n",
       "0                           https://www.anecdata.org/   \n",
       "1                       https://health-study.zoe.com/   \n",
       "2           https://lnt.org/our-work/citizen-science/   \n",
       "3                         https://birdnet.cornell.edu   \n",
       "4                         https://observer.globe.gov/   \n",
       "5                  https://www.quantifiedcitizen.com/   \n",
       "6                           https://www.spotfire.com/   \n",
       "7                       https://www.brainexplorer.net   \n",
       "8   https://www.spotteron.net/apps/regional-commun...   \n",
       "9                     https://thehappinessproject.app   \n",
       "10                    https://faunawatch.org/contact/   \n",
       "11                     https://www.echometertouch.com   \n",
       "12                        https://www.zooniverse.org/   \n",
       "13                             https://www.usanpn.org   \n",
       "14  https://www.spotteron.net/apps/regional-commun...   \n",
       "15                    https://www.youcountproject.eu/   \n",
       "16                        https://www.iseechange.org/   \n",
       "17                        https://www.herpmapper.org/   \n",
       "18                     https://ocean.org/whales/wras/   \n",
       "19                           http://www.csmon-life.eu   \n",
       "20                   https://www.coronareport.global/   \n",
       "21  http://www.natural-apptitude.co.uk/project/sea...   \n",
       "22                         https://www.padi.com/aware   \n",
       "23                      https://www.darkskymeter.com/   \n",
       "24                       https://www.birdweather.com/   \n",
       "25                  https://uwiseismic.com/myhaz-vct/   \n",
       "26                        https://www.eyeonwater.org/   \n",
       "27                    http://www.teatime4science.org/   \n",
       "28                           https://dawn-chorus.org/   \n",
       "29                              https://beemachine.ai   \n",
       "30                           http://www.birdtrack.net   \n",
       "31                   https://www.openradiation.org/en   \n",
       "32                https://pollinators.wisc.edu/wibee/   \n",
       "33  https://bigbutterflycount.butterfly-conservati...   \n",
       "34                  https://caterpillarscount.unc.edu   \n",
       "35                          https://build4people.org/   \n",
       "36                           https://www.popillia.eu/   \n",
       "37                       http://www.mosquitoalert.com   \n",
       "38                 https://www.natureboostproject.com   \n",
       "39                                http://medusapp.net   \n",
       "40                         https://www.spotteron.net/   \n",
       "41                            https://www.orca.org.uk   \n",
       "42                       https://instantwild.zsl.org/   \n",
       "43  https://www.pocket.science/products/blackholef...   \n",
       "44                           https://www.bicizen.org/   \n",
       "\n",
       "                                         api_link_ddg  \n",
       "0                  https://www.anecdata.org/pages/api  \n",
       "1                  https://api.covidradar.org/launch/  \n",
       "2   https://lnt.org/our-work/citizen-science/citiz...  \n",
       "3                                                None  \n",
       "4          https://www.globe.gov/globe-data/globe-api  \n",
       "5                  https://api.quantifiedcitizen.com/  \n",
       "6                                                None  \n",
       "7              https://mouse.brain-map.org/static/api  \n",
       "8                                                None  \n",
       "9      https://github.com/jfaccioli/happiness-project  \n",
       "10   https://github.com/stcalica/citizen-science-apis  \n",
       "11  https://www.wildlifeacoustics.com/products/ech...  \n",
       "12  http://developer.zooniverse.org/en/latest/apis...  \n",
       "13                    https://www.usanpn.org/node/223  \n",
       "14                                               None  \n",
       "15                                               None  \n",
       "16  http://www.google.com/search?hl=en&q=ISeeChang...  \n",
       "17                                               None  \n",
       "18                                               None  \n",
       "19                                               None  \n",
       "20                                https://disease.sh/  \n",
       "21           https://globalfishingwatch.org/our-apis/  \n",
       "22                                               None  \n",
       "23     https://rapidapi.com/blog/dark-sky-api-python/  \n",
       "24         https://app.birdweather.com/api/index.html  \n",
       "25              https://vct.myhaz.app/docs/index.html  \n",
       "26                                               None  \n",
       "27                                               None  \n",
       "28             https://www.light.gg/db/compare/306374  \n",
       "29                                               None  \n",
       "30  https://www.bto.org/get-involved/volunteer/pro...  \n",
       "31  https://github.com/openradiation/openradiation...  \n",
       "32            https://nest.wibeee.com/swagger-ui.html  \n",
       "33        https://github.com/EBDennis/GAI_BBC_example  \n",
       "34  https://github.com/caterpillarscountdev/Caterp...  \n",
       "35  https://build4people.org/new-planning-and-desi...  \n",
       "36  https://www.popillia.eu/about-the-project/coll...  \n",
       "37                     https://api.mosquitoalert.com/  \n",
       "38  https://participatorysciences.org/resources/ci...  \n",
       "39                https://docs.medusajs.com/api/store  \n",
       "40                         https://www.coastsnap.com/  \n",
       "41                           https://api.orca.so/docs  \n",
       "42                  https://instantwild.zsl.org/intro  \n",
       "43       https://github.com/DogukanUrker/BlackHoleAPI  \n",
       "44                                               None  "
      ]
     },
     "execution_count": 83,
     "metadata": {},
     "output_type": "execute_result"
    }
   ],
   "source": [
    "df[[\"platform_url\",\"api_link_ddg\"]].head(10)"
   ]
  },
  {
   "cell_type": "code",
   "execution_count": 84,
   "id": "f1cadff7",
   "metadata": {},
   "outputs": [],
   "source": [
    "# Manual revision\n",
    "drop_api_link_result = [\n",
    "    \"https://api.covidradar.org/launch/\",\n",
    "    \"https://lnt.org/our-work/citizen-science/citizen-science-toolkit/\",\n",
    "    \"https://github.com/BirdNET-Team/BirdNET-Analyzer\",\n",
    "    \"https://api.quantifiedcitizen.com/\", # status code 404\n",
    "    \"https://mouse.brain-map.org/static/api\", # Not the same platform\n",
    "    \"https://the-happiness-project.com/\", # Same as home\n",
    "    \"http://www.csmon-life.eu/\", # Same as home\n",
    "    \"https://www.iseechange.com/\", # Same as home\n",
    "    \"https://www.wildlifeacoustics.com/uploads/user-guides/EMT-ANDROID-GUIDE-EN-12112023.pdf\", # user guide, not api\n",
    "    \"https://www.usanpn.org/node/223\", # Same as home\n",
    "    \"https://www.iseechange.com/\",  # Same as home\n",
    "    \"http://www.csmon-life.eu/\", # Same as home\n",
    "    \"https://disease.sh/\", # False result\n",
    "    \"https://api.myshiptracking.com/\", # False result\n",
    "]"
   ]
  },
  {
   "cell_type": "code",
   "execution_count": 85,
   "id": "ee84a3fe",
   "metadata": {},
   "outputs": [],
   "source": [
    "for link in drop_api_link_result:\n",
    "    df.loc[df[\"api_link_ddg\"] == link, \"api_link_ddg\"] = None"
   ]
  },
  {
   "cell_type": "code",
   "execution_count": 86,
   "id": "c4a690d6",
   "metadata": {},
   "outputs": [
    {
     "name": "stdout",
     "output_type": "stream",
     "text": [
      "<class 'pandas.core.frame.DataFrame'>\n",
      "RangeIndex: 45 entries, 0 to 44\n",
      "Data columns (total 17 columns):\n",
      " #   Column                      Non-Null Count  Dtype  \n",
      "---  ------                      --------------  -----  \n",
      " 0   name                        45 non-null     object \n",
      " 1   developer                   45 non-null     object \n",
      " 2   description                 45 non-null     object \n",
      " 3   url                         45 non-null     object \n",
      " 4   language                    45 non-null     object \n",
      " 5   platform_url                45 non-null     object \n",
      " 6   active                      45 non-null     object \n",
      " 7   year_creation               41 non-null     float64\n",
      " 8   platform_about_url          39 non-null     object \n",
      " 9   terms_use_link              18 non-null     object \n",
      " 10  privacy_link                30 non-null     object \n",
      " 11  code_repository             1 non-null      object \n",
      " 12  code_repository_github_api  8 non-null      object \n",
      " 13  code_language               27 non-null     object \n",
      " 14  governance_url              3 non-null      object \n",
      " 15  api_link                    3 non-null      object \n",
      " 16  api_link_ddg                26 non-null     object \n",
      "dtypes: float64(1), object(16)\n",
      "memory usage: 6.1+ KB\n"
     ]
    }
   ],
   "source": [
    "df.info()"
   ]
  },
  {
   "cell_type": "code",
   "execution_count": null,
   "id": "3737b6b4",
   "metadata": {},
   "outputs": [
    {
     "data": {
      "application/vnd.microsoft.datawrangler.viewer.v0+json": {
       "columns": [
        {
         "name": "index",
         "rawType": "int64",
         "type": "integer"
        },
        {
         "name": "platform_url",
         "rawType": "object",
         "type": "string"
        },
        {
         "name": "api_link_ddg",
         "rawType": "object",
         "type": "unknown"
        }
       ],
       "ref": "fb6e996a-cdce-4a22-b5af-1506155140d1",
       "rows": [
        [
         "0",
         "https://www.anecdata.org/",
         "https://www.anecdata.org/pages/api"
        ],
        [
         "1",
         "https://health-study.zoe.com/",
         null
        ],
        [
         "2",
         "https://lnt.org/our-work/citizen-science/",
         null
        ],
        [
         "3",
         "https://birdnet.cornell.edu",
         null
        ],
        [
         "4",
         "https://observer.globe.gov/",
         "https://www.globe.gov/globe-data/globe-api"
        ],
        [
         "5",
         "https://www.quantifiedcitizen.com/",
         null
        ],
        [
         "6",
         "https://www.spotfire.com/",
         null
        ],
        [
         "7",
         "https://www.brainexplorer.net",
         null
        ],
        [
         "8",
         "https://www.spotteron.net/apps/regional-community-science-projects/waterlinx-citizen-science",
         null
        ],
        [
         "9",
         "https://thehappinessproject.app",
         "https://github.com/jfaccioli/happiness-project"
        ],
        [
         "10",
         "https://faunawatch.org/contact/",
         "https://github.com/stcalica/citizen-science-apis"
        ],
        [
         "11",
         "https://www.echometertouch.com",
         "https://www.wildlifeacoustics.com/products/echo-meter-touch-2"
        ],
        [
         "12",
         "https://www.zooniverse.org/",
         "http://developer.zooniverse.org/en/latest/apis/platform.html"
        ],
        [
         "13",
         "https://www.usanpn.org",
         null
        ],
        [
         "14",
         "https://www.spotteron.net/apps/regional-community-science-projects/amphiapp-citizen-science-app-en",
         null
        ],
        [
         "15",
         "https://www.youcountproject.eu/",
         null
        ],
        [
         "16",
         "https://www.iseechange.org/",
         "http://www.google.com/search?hl=en&q=ISeeChange Tracker api"
        ],
        [
         "17",
         "https://www.herpmapper.org/",
         null
        ],
        [
         "18",
         "https://ocean.org/whales/wras/",
         null
        ],
        [
         "19",
         "http://www.csmon-life.eu",
         null
        ],
        [
         "20",
         "https://www.coronareport.global/",
         null
        ],
        [
         "21",
         "http://www.natural-apptitude.co.uk/project/sealife-tracker/",
         "https://globalfishingwatch.org/our-apis/"
        ],
        [
         "22",
         "https://www.padi.com/aware",
         null
        ],
        [
         "23",
         "https://www.darkskymeter.com/",
         "https://rapidapi.com/blog/dark-sky-api-python/"
        ],
        [
         "24",
         "https://www.birdweather.com/",
         "https://app.birdweather.com/api/index.html"
        ],
        [
         "25",
         "https://uwiseismic.com/myhaz-vct/",
         "https://vct.myhaz.app/docs/index.html"
        ],
        [
         "26",
         "https://www.eyeonwater.org/",
         null
        ],
        [
         "27",
         "http://www.teatime4science.org/",
         null
        ],
        [
         "28",
         "https://dawn-chorus.org/",
         "https://www.light.gg/db/compare/306374"
        ],
        [
         "29",
         "https://beemachine.ai",
         null
        ],
        [
         "30",
         "http://www.birdtrack.net",
         "https://www.bto.org/get-involved/volunteer/projects/birdtrack"
        ],
        [
         "31",
         "https://www.openradiation.org/en",
         "https://github.com/openradiation/openradiation-api"
        ],
        [
         "32",
         "https://pollinators.wisc.edu/wibee/",
         "https://nest.wibeee.com/swagger-ui.html"
        ],
        [
         "33",
         "https://bigbutterflycount.butterfly-conservation.org/",
         "https://github.com/EBDennis/GAI_BBC_example"
        ],
        [
         "34",
         "https://caterpillarscount.unc.edu",
         "https://github.com/caterpillarscountdev/CaterpillarsCount"
        ],
        [
         "35",
         "https://build4people.org/",
         "https://build4people.org/new-planning-and-design-guideline-governance-and-participation-published-as-part-of-the-b4p-transformation-toolbox/"
        ],
        [
         "36",
         "https://www.popillia.eu/",
         "https://www.popillia.eu/about-the-project/collaborations/tools-for-collaboration-and-data-exchange"
        ],
        [
         "37",
         "http://www.mosquitoalert.com",
         "https://api.mosquitoalert.com/"
        ],
        [
         "38",
         "https://www.natureboostproject.com",
         "https://participatorysciences.org/resources/citizen-science-data-sharing-apis/"
        ],
        [
         "39",
         "http://medusapp.net",
         "https://docs.medusajs.com/api/store"
        ],
        [
         "40",
         "https://www.spotteron.net/",
         "https://www.coastsnap.com/"
        ],
        [
         "41",
         "https://www.orca.org.uk",
         "https://api.orca.so/docs"
        ],
        [
         "42",
         "https://instantwild.zsl.org/",
         "https://instantwild.zsl.org/intro"
        ],
        [
         "43",
         "https://www.pocket.science/products/blackholefinder/",
         "https://github.com/DogukanUrker/BlackHoleAPI"
        ],
        [
         "44",
         "https://www.bicizen.org/",
         null
        ]
       ],
       "shape": {
        "columns": 2,
        "rows": 45
       }
      },
      "text/html": [
       "<div>\n",
       "<style scoped>\n",
       "    .dataframe tbody tr th:only-of-type {\n",
       "        vertical-align: middle;\n",
       "    }\n",
       "\n",
       "    .dataframe tbody tr th {\n",
       "        vertical-align: top;\n",
       "    }\n",
       "\n",
       "    .dataframe thead th {\n",
       "        text-align: right;\n",
       "    }\n",
       "</style>\n",
       "<table border=\"1\" class=\"dataframe\">\n",
       "  <thead>\n",
       "    <tr style=\"text-align: right;\">\n",
       "      <th></th>\n",
       "      <th>platform_url</th>\n",
       "      <th>api_link_ddg</th>\n",
       "    </tr>\n",
       "  </thead>\n",
       "  <tbody>\n",
       "    <tr>\n",
       "      <th>0</th>\n",
       "      <td>https://www.anecdata.org/</td>\n",
       "      <td>https://www.anecdata.org/pages/api</td>\n",
       "    </tr>\n",
       "    <tr>\n",
       "      <th>1</th>\n",
       "      <td>https://health-study.zoe.com/</td>\n",
       "      <td>None</td>\n",
       "    </tr>\n",
       "    <tr>\n",
       "      <th>2</th>\n",
       "      <td>https://lnt.org/our-work/citizen-science/</td>\n",
       "      <td>None</td>\n",
       "    </tr>\n",
       "    <tr>\n",
       "      <th>3</th>\n",
       "      <td>https://birdnet.cornell.edu</td>\n",
       "      <td>None</td>\n",
       "    </tr>\n",
       "    <tr>\n",
       "      <th>4</th>\n",
       "      <td>https://observer.globe.gov/</td>\n",
       "      <td>https://www.globe.gov/globe-data/globe-api</td>\n",
       "    </tr>\n",
       "    <tr>\n",
       "      <th>5</th>\n",
       "      <td>https://www.quantifiedcitizen.com/</td>\n",
       "      <td>None</td>\n",
       "    </tr>\n",
       "    <tr>\n",
       "      <th>6</th>\n",
       "      <td>https://www.spotfire.com/</td>\n",
       "      <td>None</td>\n",
       "    </tr>\n",
       "    <tr>\n",
       "      <th>7</th>\n",
       "      <td>https://www.brainexplorer.net</td>\n",
       "      <td>None</td>\n",
       "    </tr>\n",
       "    <tr>\n",
       "      <th>8</th>\n",
       "      <td>https://www.spotteron.net/apps/regional-commun...</td>\n",
       "      <td>None</td>\n",
       "    </tr>\n",
       "    <tr>\n",
       "      <th>9</th>\n",
       "      <td>https://thehappinessproject.app</td>\n",
       "      <td>https://github.com/jfaccioli/happiness-project</td>\n",
       "    </tr>\n",
       "    <tr>\n",
       "      <th>10</th>\n",
       "      <td>https://faunawatch.org/contact/</td>\n",
       "      <td>https://github.com/stcalica/citizen-science-apis</td>\n",
       "    </tr>\n",
       "    <tr>\n",
       "      <th>11</th>\n",
       "      <td>https://www.echometertouch.com</td>\n",
       "      <td>https://www.wildlifeacoustics.com/products/ech...</td>\n",
       "    </tr>\n",
       "    <tr>\n",
       "      <th>12</th>\n",
       "      <td>https://www.zooniverse.org/</td>\n",
       "      <td>http://developer.zooniverse.org/en/latest/apis...</td>\n",
       "    </tr>\n",
       "    <tr>\n",
       "      <th>13</th>\n",
       "      <td>https://www.usanpn.org</td>\n",
       "      <td>None</td>\n",
       "    </tr>\n",
       "    <tr>\n",
       "      <th>14</th>\n",
       "      <td>https://www.spotteron.net/apps/regional-commun...</td>\n",
       "      <td>None</td>\n",
       "    </tr>\n",
       "    <tr>\n",
       "      <th>15</th>\n",
       "      <td>https://www.youcountproject.eu/</td>\n",
       "      <td>None</td>\n",
       "    </tr>\n",
       "    <tr>\n",
       "      <th>16</th>\n",
       "      <td>https://www.iseechange.org/</td>\n",
       "      <td>http://www.google.com/search?hl=en&amp;q=ISeeChang...</td>\n",
       "    </tr>\n",
       "    <tr>\n",
       "      <th>17</th>\n",
       "      <td>https://www.herpmapper.org/</td>\n",
       "      <td>None</td>\n",
       "    </tr>\n",
       "    <tr>\n",
       "      <th>18</th>\n",
       "      <td>https://ocean.org/whales/wras/</td>\n",
       "      <td>None</td>\n",
       "    </tr>\n",
       "    <tr>\n",
       "      <th>19</th>\n",
       "      <td>http://www.csmon-life.eu</td>\n",
       "      <td>None</td>\n",
       "    </tr>\n",
       "    <tr>\n",
       "      <th>20</th>\n",
       "      <td>https://www.coronareport.global/</td>\n",
       "      <td>None</td>\n",
       "    </tr>\n",
       "    <tr>\n",
       "      <th>21</th>\n",
       "      <td>http://www.natural-apptitude.co.uk/project/sea...</td>\n",
       "      <td>https://globalfishingwatch.org/our-apis/</td>\n",
       "    </tr>\n",
       "    <tr>\n",
       "      <th>22</th>\n",
       "      <td>https://www.padi.com/aware</td>\n",
       "      <td>None</td>\n",
       "    </tr>\n",
       "    <tr>\n",
       "      <th>23</th>\n",
       "      <td>https://www.darkskymeter.com/</td>\n",
       "      <td>https://rapidapi.com/blog/dark-sky-api-python/</td>\n",
       "    </tr>\n",
       "    <tr>\n",
       "      <th>24</th>\n",
       "      <td>https://www.birdweather.com/</td>\n",
       "      <td>https://app.birdweather.com/api/index.html</td>\n",
       "    </tr>\n",
       "    <tr>\n",
       "      <th>25</th>\n",
       "      <td>https://uwiseismic.com/myhaz-vct/</td>\n",
       "      <td>https://vct.myhaz.app/docs/index.html</td>\n",
       "    </tr>\n",
       "    <tr>\n",
       "      <th>26</th>\n",
       "      <td>https://www.eyeonwater.org/</td>\n",
       "      <td>None</td>\n",
       "    </tr>\n",
       "    <tr>\n",
       "      <th>27</th>\n",
       "      <td>http://www.teatime4science.org/</td>\n",
       "      <td>None</td>\n",
       "    </tr>\n",
       "    <tr>\n",
       "      <th>28</th>\n",
       "      <td>https://dawn-chorus.org/</td>\n",
       "      <td>https://www.light.gg/db/compare/306374</td>\n",
       "    </tr>\n",
       "    <tr>\n",
       "      <th>29</th>\n",
       "      <td>https://beemachine.ai</td>\n",
       "      <td>None</td>\n",
       "    </tr>\n",
       "    <tr>\n",
       "      <th>30</th>\n",
       "      <td>http://www.birdtrack.net</td>\n",
       "      <td>https://www.bto.org/get-involved/volunteer/pro...</td>\n",
       "    </tr>\n",
       "    <tr>\n",
       "      <th>31</th>\n",
       "      <td>https://www.openradiation.org/en</td>\n",
       "      <td>https://github.com/openradiation/openradiation...</td>\n",
       "    </tr>\n",
       "    <tr>\n",
       "      <th>32</th>\n",
       "      <td>https://pollinators.wisc.edu/wibee/</td>\n",
       "      <td>https://nest.wibeee.com/swagger-ui.html</td>\n",
       "    </tr>\n",
       "    <tr>\n",
       "      <th>33</th>\n",
       "      <td>https://bigbutterflycount.butterfly-conservati...</td>\n",
       "      <td>https://github.com/EBDennis/GAI_BBC_example</td>\n",
       "    </tr>\n",
       "    <tr>\n",
       "      <th>34</th>\n",
       "      <td>https://caterpillarscount.unc.edu</td>\n",
       "      <td>https://github.com/caterpillarscountdev/Caterp...</td>\n",
       "    </tr>\n",
       "    <tr>\n",
       "      <th>35</th>\n",
       "      <td>https://build4people.org/</td>\n",
       "      <td>https://build4people.org/new-planning-and-desi...</td>\n",
       "    </tr>\n",
       "    <tr>\n",
       "      <th>36</th>\n",
       "      <td>https://www.popillia.eu/</td>\n",
       "      <td>https://www.popillia.eu/about-the-project/coll...</td>\n",
       "    </tr>\n",
       "    <tr>\n",
       "      <th>37</th>\n",
       "      <td>http://www.mosquitoalert.com</td>\n",
       "      <td>https://api.mosquitoalert.com/</td>\n",
       "    </tr>\n",
       "    <tr>\n",
       "      <th>38</th>\n",
       "      <td>https://www.natureboostproject.com</td>\n",
       "      <td>https://participatorysciences.org/resources/ci...</td>\n",
       "    </tr>\n",
       "    <tr>\n",
       "      <th>39</th>\n",
       "      <td>http://medusapp.net</td>\n",
       "      <td>https://docs.medusajs.com/api/store</td>\n",
       "    </tr>\n",
       "    <tr>\n",
       "      <th>40</th>\n",
       "      <td>https://www.spotteron.net/</td>\n",
       "      <td>https://www.coastsnap.com/</td>\n",
       "    </tr>\n",
       "    <tr>\n",
       "      <th>41</th>\n",
       "      <td>https://www.orca.org.uk</td>\n",
       "      <td>https://api.orca.so/docs</td>\n",
       "    </tr>\n",
       "    <tr>\n",
       "      <th>42</th>\n",
       "      <td>https://instantwild.zsl.org/</td>\n",
       "      <td>https://instantwild.zsl.org/intro</td>\n",
       "    </tr>\n",
       "    <tr>\n",
       "      <th>43</th>\n",
       "      <td>https://www.pocket.science/products/blackholef...</td>\n",
       "      <td>https://github.com/DogukanUrker/BlackHoleAPI</td>\n",
       "    </tr>\n",
       "    <tr>\n",
       "      <th>44</th>\n",
       "      <td>https://www.bicizen.org/</td>\n",
       "      <td>None</td>\n",
       "    </tr>\n",
       "  </tbody>\n",
       "</table>\n",
       "</div>"
      ],
      "text/plain": [
       "                                         platform_url  \\\n",
       "0                           https://www.anecdata.org/   \n",
       "1                       https://health-study.zoe.com/   \n",
       "2           https://lnt.org/our-work/citizen-science/   \n",
       "3                         https://birdnet.cornell.edu   \n",
       "4                         https://observer.globe.gov/   \n",
       "5                  https://www.quantifiedcitizen.com/   \n",
       "6                           https://www.spotfire.com/   \n",
       "7                       https://www.brainexplorer.net   \n",
       "8   https://www.spotteron.net/apps/regional-commun...   \n",
       "9                     https://thehappinessproject.app   \n",
       "10                    https://faunawatch.org/contact/   \n",
       "11                     https://www.echometertouch.com   \n",
       "12                        https://www.zooniverse.org/   \n",
       "13                             https://www.usanpn.org   \n",
       "14  https://www.spotteron.net/apps/regional-commun...   \n",
       "15                    https://www.youcountproject.eu/   \n",
       "16                        https://www.iseechange.org/   \n",
       "17                        https://www.herpmapper.org/   \n",
       "18                     https://ocean.org/whales/wras/   \n",
       "19                           http://www.csmon-life.eu   \n",
       "20                   https://www.coronareport.global/   \n",
       "21  http://www.natural-apptitude.co.uk/project/sea...   \n",
       "22                         https://www.padi.com/aware   \n",
       "23                      https://www.darkskymeter.com/   \n",
       "24                       https://www.birdweather.com/   \n",
       "25                  https://uwiseismic.com/myhaz-vct/   \n",
       "26                        https://www.eyeonwater.org/   \n",
       "27                    http://www.teatime4science.org/   \n",
       "28                           https://dawn-chorus.org/   \n",
       "29                              https://beemachine.ai   \n",
       "30                           http://www.birdtrack.net   \n",
       "31                   https://www.openradiation.org/en   \n",
       "32                https://pollinators.wisc.edu/wibee/   \n",
       "33  https://bigbutterflycount.butterfly-conservati...   \n",
       "34                  https://caterpillarscount.unc.edu   \n",
       "35                          https://build4people.org/   \n",
       "36                           https://www.popillia.eu/   \n",
       "37                       http://www.mosquitoalert.com   \n",
       "38                 https://www.natureboostproject.com   \n",
       "39                                http://medusapp.net   \n",
       "40                         https://www.spotteron.net/   \n",
       "41                            https://www.orca.org.uk   \n",
       "42                       https://instantwild.zsl.org/   \n",
       "43  https://www.pocket.science/products/blackholef...   \n",
       "44                           https://www.bicizen.org/   \n",
       "\n",
       "                                         api_link_ddg  \n",
       "0                  https://www.anecdata.org/pages/api  \n",
       "1                                                None  \n",
       "2                                                None  \n",
       "3                                                None  \n",
       "4          https://www.globe.gov/globe-data/globe-api  \n",
       "5                                                None  \n",
       "6                                                None  \n",
       "7                                                None  \n",
       "8                                                None  \n",
       "9      https://github.com/jfaccioli/happiness-project  \n",
       "10   https://github.com/stcalica/citizen-science-apis  \n",
       "11  https://www.wildlifeacoustics.com/products/ech...  \n",
       "12  http://developer.zooniverse.org/en/latest/apis...  \n",
       "13                                               None  \n",
       "14                                               None  \n",
       "15                                               None  \n",
       "16  http://www.google.com/search?hl=en&q=ISeeChang...  \n",
       "17                                               None  \n",
       "18                                               None  \n",
       "19                                               None  \n",
       "20                                               None  \n",
       "21           https://globalfishingwatch.org/our-apis/  \n",
       "22                                               None  \n",
       "23     https://rapidapi.com/blog/dark-sky-api-python/  \n",
       "24         https://app.birdweather.com/api/index.html  \n",
       "25              https://vct.myhaz.app/docs/index.html  \n",
       "26                                               None  \n",
       "27                                               None  \n",
       "28             https://www.light.gg/db/compare/306374  \n",
       "29                                               None  \n",
       "30  https://www.bto.org/get-involved/volunteer/pro...  \n",
       "31  https://github.com/openradiation/openradiation...  \n",
       "32            https://nest.wibeee.com/swagger-ui.html  \n",
       "33        https://github.com/EBDennis/GAI_BBC_example  \n",
       "34  https://github.com/caterpillarscountdev/Caterp...  \n",
       "35  https://build4people.org/new-planning-and-desi...  \n",
       "36  https://www.popillia.eu/about-the-project/coll...  \n",
       "37                     https://api.mosquitoalert.com/  \n",
       "38  https://participatorysciences.org/resources/ci...  \n",
       "39                https://docs.medusajs.com/api/store  \n",
       "40                         https://www.coastsnap.com/  \n",
       "41                           https://api.orca.so/docs  \n",
       "42                  https://instantwild.zsl.org/intro  \n",
       "43       https://github.com/DogukanUrker/BlackHoleAPI  \n",
       "44                                               None  "
      ]
     },
     "execution_count": 87,
     "metadata": {},
     "output_type": "execute_result"
    }
   ],
   "source": [
    "df[[\"platform_url\",\"api_link_ddg\"]].head(10)"
   ]
  },
  {
   "cell_type": "markdown",
   "id": "ac3f1322",
   "metadata": {},
   "source": [
    "**duckduckgo query limit**: The search operation limit is set at 30 requests per minute, while content fetching is limited to 20 requests per minute. "
   ]
  },
  {
   "cell_type": "code",
   "execution_count": 88,
   "id": "d02c201a",
   "metadata": {},
   "outputs": [],
   "source": [
    "from googlesearch import search\n",
    "\n",
    "def google_search(co_name):\n",
    "    query = f\"{co_name} api\"\n",
    "    try:\n",
    "        resultados = list(search(query, num_results=1, lang=\"en\"))\n",
    "        return resultados[0] if resultados else None\n",
    "    except Exception as e:\n",
    "        print(f\"Error buscando {co_name}: {e}\")\n",
    "        return None\n",
    "\n",
    "df['api_link_google'] = df['name'].apply(duckduckgo_search)"
   ]
  },
  {
   "cell_type": "code",
   "execution_count": 89,
   "id": "bd641d52",
   "metadata": {},
   "outputs": [],
   "source": [
    "# Remove links to home\n",
    "df.loc[df.platform_url.str.rstrip(\"/\") == df.api_link_google.str.rstrip(\"/\"), \"api_link_google\"] = None"
   ]
  },
  {
   "cell_type": "markdown",
   "id": "9aae61b5",
   "metadata": {},
   "source": [
    "Google query limit: max 100 queries per day."
   ]
  },
  {
   "cell_type": "code",
   "execution_count": 90,
   "id": "e788801e",
   "metadata": {},
   "outputs": [
    {
     "name": "stdout",
     "output_type": "stream",
     "text": [
      "<class 'pandas.core.frame.DataFrame'>\n",
      "RangeIndex: 45 entries, 0 to 44\n",
      "Data columns (total 18 columns):\n",
      " #   Column                      Non-Null Count  Dtype  \n",
      "---  ------                      --------------  -----  \n",
      " 0   name                        45 non-null     object \n",
      " 1   developer                   45 non-null     object \n",
      " 2   description                 45 non-null     object \n",
      " 3   url                         45 non-null     object \n",
      " 4   language                    45 non-null     object \n",
      " 5   platform_url                45 non-null     object \n",
      " 6   active                      45 non-null     object \n",
      " 7   year_creation               41 non-null     float64\n",
      " 8   platform_about_url          39 non-null     object \n",
      " 9   terms_use_link              18 non-null     object \n",
      " 10  privacy_link                30 non-null     object \n",
      " 11  code_repository             1 non-null      object \n",
      " 12  code_repository_github_api  8 non-null      object \n",
      " 13  code_language               27 non-null     object \n",
      " 14  governance_url              3 non-null      object \n",
      " 15  api_link                    3 non-null      object \n",
      " 16  api_link_ddg                26 non-null     object \n",
      " 17  api_link_google             33 non-null     object \n",
      "dtypes: float64(1), object(17)\n",
      "memory usage: 6.5+ KB\n"
     ]
    }
   ],
   "source": [
    "df.info()"
   ]
  },
  {
   "cell_type": "code",
   "execution_count": null,
   "id": "65d409da",
   "metadata": {},
   "outputs": [
    {
     "data": {
      "application/vnd.microsoft.datawrangler.viewer.v0+json": {
       "columns": [
        {
         "name": "index",
         "rawType": "int64",
         "type": "integer"
        },
        {
         "name": "api_link_google",
         "rawType": "object",
         "type": "unknown"
        }
       ],
       "ref": "94e0d45a-fdec-4f68-991d-c3764cad4e40",
       "rows": [
        [
         "0",
         "https://www.anecdata.org/pages/api"
        ],
        [
         "1",
         "https://api.covidradar.org/launch/"
        ],
        [
         "2",
         "https://lnt.org/our-work/citizen-science/citizen-science-toolkit/"
        ],
        [
         "3",
         "https://github.com/BirdNET-Team/BirdNET-Analyzer"
        ],
        [
         "4",
         "https://www.globe.gov/globe-data/globe-api"
        ],
        [
         "5",
         "https://api.quantifiedcitizen.com/"
        ],
        [
         "6",
         null
        ],
        [
         "7",
         "https://mouse.brain-map.org/static/api"
        ],
        [
         "8",
         null
        ],
        [
         "9",
         "https://github.com/jfaccioli/happiness-project"
        ],
        [
         "10",
         "https://github.com/stcalica/citizen-science-apis"
        ],
        [
         "11",
         "https://www.wildlifeacoustics.com/products/echo-meter-touch-2"
        ],
        [
         "12",
         "http://developer.zooniverse.org/en/latest/apis/platform.html"
        ],
        [
         "13",
         "https://www.usanpn.org/node/223"
        ],
        [
         "14",
         null
        ],
        [
         "15",
         null
        ],
        [
         "16",
         "https://www.iseechange.com/"
        ],
        [
         "17",
         null
        ],
        [
         "18",
         null
        ],
        [
         "19",
         null
        ],
        [
         "20",
         "https://coronaapi.com/"
        ],
        [
         "21",
         "https://opendata.stackexchange.com/questions/15329/free-source-of-ais-data-api"
        ],
        [
         "22",
         null
        ],
        [
         "23",
         "https://rapidapi.com/blog/dark-sky-api-python/"
        ],
        [
         "24",
         "https://app.birdweather.com/api/index.html"
        ],
        [
         "25",
         "https://vct.myhaz.app/docs/index.html"
        ],
        [
         "26",
         null
        ],
        [
         "27",
         null
        ],
        [
         "28",
         "https://www.light.gg/db/compare/306374"
        ],
        [
         "29",
         null
        ],
        [
         "30",
         "https://docs.bird.com/api/client-sdks/sdk-integration/web-sdk/api-reference/birdtracker"
        ],
        [
         "31",
         "https://github.com/openradiation/openradiation-api"
        ],
        [
         "32",
         "https://nest.wibeee.com/swagger-ui.html"
        ],
        [
         "33",
         "http://www.google.com/search?hl=en&q=Big Butterfly Count api"
        ],
        [
         "34",
         "https://github.com/caterpillarscountdev/CaterpillarsCount"
        ],
        [
         "35",
         "https://participatorysciences.org/resources/citizen-science-data-sharing-apis/"
        ],
        [
         "36",
         "https://www.popillia.eu/about-the-project/collaborations/tools-for-collaboration-and-data-exchange"
        ],
        [
         "37",
         "https://api.mosquitoalert.com/"
        ],
        [
         "38",
         "http://www.google.com/search?hl=en&q=Citizen Scientist api"
        ],
        [
         "39",
         "https://docs.medusajs.com/api/store"
        ],
        [
         "40",
         "https://www.coastsnap.com/"
        ],
        [
         "41",
         "https://api.orca.so/docs"
        ],
        [
         "42",
         "https://instantwild.zsl.org/intro"
        ],
        [
         "43",
         "https://github.com/DogukanUrker/BlackHoleAPI"
        ],
        [
         "44",
         null
        ]
       ],
       "shape": {
        "columns": 1,
        "rows": 45
       }
      },
      "text/plain": [
       "0                    https://www.anecdata.org/pages/api\n",
       "1                    https://api.covidradar.org/launch/\n",
       "2     https://lnt.org/our-work/citizen-science/citiz...\n",
       "3      https://github.com/BirdNET-Team/BirdNET-Analyzer\n",
       "4            https://www.globe.gov/globe-data/globe-api\n",
       "5                    https://api.quantifiedcitizen.com/\n",
       "6                                                  None\n",
       "7                https://mouse.brain-map.org/static/api\n",
       "8                                                  None\n",
       "9        https://github.com/jfaccioli/happiness-project\n",
       "10     https://github.com/stcalica/citizen-science-apis\n",
       "11    https://www.wildlifeacoustics.com/products/ech...\n",
       "12    http://developer.zooniverse.org/en/latest/apis...\n",
       "13                      https://www.usanpn.org/node/223\n",
       "14                                                 None\n",
       "15                                                 None\n",
       "16                          https://www.iseechange.com/\n",
       "17                                                 None\n",
       "18                                                 None\n",
       "19                                                 None\n",
       "20                               https://coronaapi.com/\n",
       "21    https://opendata.stackexchange.com/questions/1...\n",
       "22                                                 None\n",
       "23       https://rapidapi.com/blog/dark-sky-api-python/\n",
       "24           https://app.birdweather.com/api/index.html\n",
       "25                https://vct.myhaz.app/docs/index.html\n",
       "26                                                 None\n",
       "27                                                 None\n",
       "28               https://www.light.gg/db/compare/306374\n",
       "29                                                 None\n",
       "30    https://docs.bird.com/api/client-sdks/sdk-inte...\n",
       "31    https://github.com/openradiation/openradiation...\n",
       "32              https://nest.wibeee.com/swagger-ui.html\n",
       "33    http://www.google.com/search?hl=en&q=Big Butte...\n",
       "34    https://github.com/caterpillarscountdev/Caterp...\n",
       "35    https://participatorysciences.org/resources/ci...\n",
       "36    https://www.popillia.eu/about-the-project/coll...\n",
       "37                       https://api.mosquitoalert.com/\n",
       "38    http://www.google.com/search?hl=en&q=Citizen S...\n",
       "39                  https://docs.medusajs.com/api/store\n",
       "40                           https://www.coastsnap.com/\n",
       "41                             https://api.orca.so/docs\n",
       "42                    https://instantwild.zsl.org/intro\n",
       "43         https://github.com/DogukanUrker/BlackHoleAPI\n",
       "44                                                 None\n",
       "Name: api_link_google, dtype: object"
      ]
     },
     "execution_count": 91,
     "metadata": {},
     "output_type": "execute_result"
    }
   ],
   "source": [
    "df.api_link_google.head(10)"
   ]
  },
  {
   "cell_type": "markdown",
   "id": "53869738",
   "metadata": {},
   "source": [
    "**Missing**: remove manually links from `api_link_google`."
   ]
  },
  {
   "cell_type": "code",
   "execution_count": 92,
   "id": "d4c5dd75",
   "metadata": {},
   "outputs": [],
   "source": [
    "df.to_csv(\"../data/ios_apps_platforms_test.csv\", index=False)"
   ]
  },
  {
   "cell_type": "markdown",
   "id": "fdd44734",
   "metadata": {},
   "source": [
    "## organization_of_managers"
   ]
  },
  {
   "cell_type": "markdown",
   "id": "a9381813",
   "metadata": {},
   "source": [
    "Find propietary in whois register:"
   ]
  },
  {
   "cell_type": "code",
   "execution_count": 93,
   "id": "0b8297c1",
   "metadata": {},
   "outputs": [
    {
     "name": "stderr",
     "output_type": "stream",
     "text": [
      "2025-07-16 13:54:54,382 - whois.whois - ERROR - Error trying to connect to socket: closing socket - [Errno -2] Nombre o servicio desconocido\n"
     ]
    }
   ],
   "source": [
    "import whois\n",
    "import pandas as pd\n",
    "\n",
    "def get_whois_organization(url):\n",
    "    try:\n",
    "        domain = url.split(\"//\")[-1].split(\"/\")[0]  # extract domain\n",
    "        info = whois.whois(domain)\n",
    "        return info.org or info.name\n",
    "    except Exception as e:\n",
    "        return None\n",
    "\n",
    "df['org_managers_whois'] = df['platform_url'].apply(get_whois_organization)"
   ]
  },
  {
   "cell_type": "code",
   "execution_count": 94,
   "id": "b810c2ea",
   "metadata": {},
   "outputs": [
    {
     "name": "stdout",
     "output_type": "stream",
     "text": [
      "<class 'pandas.core.series.Series'>\n",
      "RangeIndex: 45 entries, 0 to 44\n",
      "Series name: org_managers_whois\n",
      "Non-Null Count  Dtype \n",
      "--------------  ----- \n",
      "32 non-null     object\n",
      "dtypes: object(1)\n",
      "memory usage: 492.0+ bytes\n"
     ]
    }
   ],
   "source": [
    "df.org_managers_whois.info()"
   ]
  },
  {
   "cell_type": "code",
   "execution_count": 95,
   "id": "b31e8399",
   "metadata": {},
   "outputs": [
    {
     "data": {
      "application/vnd.microsoft.datawrangler.viewer.v0+json": {
       "columns": [
        {
         "name": "org_managers_whois",
         "rawType": "object",
         "type": "unknown"
        },
        {
         "name": "count",
         "rawType": "int64",
         "type": "integer"
        }
       ],
       "ref": "94e03c17-aef1-44d2-8c77-77d92a9efabe",
       "rows": [
        [
         "Domains By Proxy, LLC",
         "7"
        ],
        [
         "REDACTED FOR PRIVACY",
         "4"
        ],
        [
         "Not Disclosed",
         "3"
        ],
        [
         "DDQ B.V.",
         "2"
        ],
        [
         "Leave No Trace, Inc.",
         "1"
        ],
        [
         "Privacy service provided by Withheld for Privacy ehf",
         "1"
        ],
        [
         "Faunawatch",
         "1"
        ],
        [
         "Cloud Software Group, Inc.",
         "1"
        ],
        [
         "Identity Protection Service",
         "1"
        ],
        [
         "Chris Lintott",
         "1"
        ],
        [
         "Ocean Wise",
         "1"
        ],
        [
         "['Data Protected', 'Not Disclosed']",
         "1"
        ],
        [
         "NameBrightPrivacy.com",
         "1"
        ],
        [
         "Contact Privacy Inc. Customer 0173889823",
         "1"
        ],
        [
         "MARIS BV",
         "1"
        ],
        [
         "Natural Apptitude",
         "1"
        ],
        [
         "IRSN",
         "1"
        ],
        [
         "REDACTED",
         "1"
        ],
        [
         "['Zoological Society of London', 'Statutory Masking Enabled']",
         "1"
        ],
        [
         "Jordi Honey-Roses",
         "1"
        ]
       ],
       "shape": {
        "columns": 1,
        "rows": 20
       }
      },
      "text/plain": [
       "org_managers_whois\n",
       "Domains By Proxy, LLC                                        7\n",
       "REDACTED FOR PRIVACY                                         4\n",
       "Not Disclosed                                                3\n",
       "DDQ B.V.                                                     2\n",
       "Leave No Trace, Inc.                                         1\n",
       "Privacy service provided by Withheld for Privacy ehf         1\n",
       "Faunawatch                                                   1\n",
       "Cloud Software Group, Inc.                                   1\n",
       "Identity Protection Service                                  1\n",
       "Chris Lintott                                                1\n",
       "Ocean Wise                                                   1\n",
       "[Data Protected, Not Disclosed]                              1\n",
       "NameBrightPrivacy.com                                        1\n",
       "Contact Privacy Inc. Customer 0173889823                     1\n",
       "MARIS BV                                                     1\n",
       "Natural Apptitude                                            1\n",
       "IRSN                                                         1\n",
       "REDACTED                                                     1\n",
       "[Zoological Society of London, Statutory Masking Enabled]    1\n",
       "Jordi Honey-Roses                                            1\n",
       "Name: count, dtype: int64"
      ]
     },
     "execution_count": 95,
     "metadata": {},
     "output_type": "execute_result"
    }
   ],
   "source": [
    "df.org_managers_whois.value_counts()"
   ]
  },
  {
   "cell_type": "markdown",
   "id": "b072cf9d",
   "metadata": {},
   "source": [
    "Many wrong results: data not available due to privacy limits (results like \"Not Disclosed\", \"REDACTED FOR PRIVACY\"...), and others not visible (\"Domains By Proxy, LLC\", \"Privacy service provided by Withheld for Privacy ehf\"...). \n",
    "\n",
    "Whois is not a good source of information in this case."
   ]
  },
  {
   "cell_type": "code",
   "execution_count": 96,
   "id": "d3798398",
   "metadata": {},
   "outputs": [],
   "source": [
    "import requests\n",
    "from bs4 import BeautifulSoup\n",
    "\n",
    "def get_organization_from_footer(url):\n",
    "    try:\n",
    "        response = requests.get(url, timeout=5)\n",
    "        soup = BeautifulSoup(response.text, 'html.parser')\n",
    "        footer = soup.find('footer')\n",
    "        if footer:\n",
    "            return footer.get_text(strip=True)\n",
    "    except:\n",
    "        return None\n",
    "\n",
    "df['org_managers_footer'] = df['platform_url'].apply(get_organization_from_footer)"
   ]
  },
  {
   "cell_type": "code",
   "execution_count": 97,
   "id": "81616eb9",
   "metadata": {},
   "outputs": [
    {
     "name": "stdout",
     "output_type": "stream",
     "text": [
      "<class 'pandas.core.series.Series'>\n",
      "RangeIndex: 45 entries, 0 to 44\n",
      "Series name: org_managers_footer\n",
      "Non-Null Count  Dtype \n",
      "--------------  ----- \n",
      "31 non-null     object\n",
      "dtypes: object(1)\n",
      "memory usage: 492.0+ bytes\n"
     ]
    }
   ],
   "source": [
    "df.org_managers_footer.info()"
   ]
  },
  {
   "cell_type": "markdown",
   "id": "a40c3338",
   "metadata": {},
   "source": [
    "NOTE: Both strategies need manual cleaning."
   ]
  },
  {
   "cell_type": "code",
   "execution_count": 98,
   "id": "39b25d32",
   "metadata": {},
   "outputs": [],
   "source": [
    "df.to_csv(\"../data/ios_apps_platforms_test.csv\", index=False)"
   ]
  },
  {
   "cell_type": "markdown",
   "id": "5dfc0030",
   "metadata": {},
   "source": [
    "## platform License"
   ]
  },
  {
   "cell_type": "markdown",
   "id": "6433b98c",
   "metadata": {},
   "source": [
    "- Extract license from footer using regular expressions:"
   ]
  },
  {
   "cell_type": "code",
   "execution_count": 99,
   "id": "b5f1a1cd",
   "metadata": {},
   "outputs": [],
   "source": [
    "import re\n",
    "import requests\n",
    "from bs4 import BeautifulSoup\n",
    "\n",
    "def detect_license_footer(url):\n",
    "    try:\n",
    "        headers = {'User-Agent': 'Mozilla/5.0'}\n",
    "        response = requests.get(url, timeout=8, headers=headers)\n",
    "        soup = BeautifulSoup(response.text, 'html.parser')\n",
    "\n",
    "        footer = soup.find('footer')\n",
    "        if not footer:\n",
    "            return None\n",
    "\n",
    "        texto = footer.get_text(separator=' ', strip=True).lower()\n",
    "\n",
    "        patrones = [\n",
    "            # Copyright\n",
    "            r'(©\\s*\\d{4}\\s*[\\w\\s\\.\\-&,]+)',\n",
    "            r'(©\\s*[\\w\\s\\.\\-&,]+)',\n",
    "            r'(copyright\\s+\\d{4}\\s+[\\w\\s\\.\\-&,]+)',\n",
    "            r'(todos los derechos reservados)',\n",
    "            r'(all rights reserved)',\n",
    "            r'(tous droits réservés)',\n",
    "            r'(alle rechte vorbehalten)',\n",
    "            r'(tutti i diritti riservati)',\n",
    "\n",
    "            # Creative Commons\n",
    "            r'(creative commons[^\\n]{0,100})',\n",
    "            r'(cc\\s*(by|by-sa|by-nc|by-nd|0)[\\s\\-0-9\\.]*)',\n",
    "\n",
    "            # Otras licencias\n",
    "            r'(licensed under the mit license)',\n",
    "            r'(mit license)',\n",
    "            r'(gpl license)',\n",
    "            r'(licencia.*mit)',\n",
    "            r'(licencia.*gpl)',\n",
    "            r'(apache license)',\n",
    "            r'(bsd license)',\n",
    "        ]\n",
    "\n",
    "        for pat in patrones:\n",
    "            match = re.search(pat, texto, re.IGNORECASE)\n",
    "            if match:\n",
    "                return match.group(0).strip().capitalize()\n",
    "\n",
    "        return None  # Nada encontrado\n",
    "    except:\n",
    "        return None\n"
   ]
  },
  {
   "cell_type": "code",
   "execution_count": 100,
   "id": "68940fc3",
   "metadata": {},
   "outputs": [
    {
     "name": "stdout",
     "output_type": "stream",
     "text": [
      "<class 'pandas.core.series.Series'>\n",
      "RangeIndex: 45 entries, 0 to 44\n",
      "Series name: software_license_footer\n",
      "Non-Null Count  Dtype \n",
      "--------------  ----- \n",
      "12 non-null     object\n",
      "dtypes: object(1)\n",
      "memory usage: 492.0+ bytes\n"
     ]
    }
   ],
   "source": [
    "df['software_license_footer'] = df['platform_url'].apply(detect_license_footer)\n",
    "df.software_license_footer.info()"
   ]
  },
  {
   "cell_type": "code",
   "execution_count": 102,
   "id": "7122560a",
   "metadata": {},
   "outputs": [
    {
     "data": {
      "application/vnd.microsoft.datawrangler.viewer.v0+json": {
       "columns": [
        {
         "name": "index",
         "rawType": "int64",
         "type": "integer"
        },
        {
         "name": "platform_url",
         "rawType": "object",
         "type": "string"
        },
        {
         "name": "software_license_footer",
         "rawType": "object",
         "type": "unknown"
        }
       ],
       "ref": "2cf8ee6b-9d41-44f5-af78-c1812b1d9356",
       "rows": [
        [
         "0",
         "https://www.anecdata.org/",
         null
        ],
        [
         "1",
         "https://health-study.zoe.com/",
         "© 2025 zoe limited"
        ],
        [
         "2",
         "https://lnt.org/our-work/citizen-science/",
         null
        ],
        [
         "3",
         "https://birdnet.cornell.edu",
         "© 2025 cornell university, chemnitz university of technology"
        ],
        [
         "4",
         "https://observer.globe.gov/",
         null
        ],
        [
         "5",
         "https://www.quantifiedcitizen.com/",
         null
        ],
        [
         "6",
         "https://www.spotfire.com/",
         null
        ],
        [
         "7",
         "https://www.brainexplorer.net",
         null
        ],
        [
         "8",
         "https://www.spotteron.net/apps/regional-community-science-projects/waterlinx-citizen-science",
         null
        ],
        [
         "9",
         "https://thehappinessproject.app",
         null
        ]
       ],
       "shape": {
        "columns": 2,
        "rows": 10
       }
      },
      "text/html": [
       "<div>\n",
       "<style scoped>\n",
       "    .dataframe tbody tr th:only-of-type {\n",
       "        vertical-align: middle;\n",
       "    }\n",
       "\n",
       "    .dataframe tbody tr th {\n",
       "        vertical-align: top;\n",
       "    }\n",
       "\n",
       "    .dataframe thead th {\n",
       "        text-align: right;\n",
       "    }\n",
       "</style>\n",
       "<table border=\"1\" class=\"dataframe\">\n",
       "  <thead>\n",
       "    <tr style=\"text-align: right;\">\n",
       "      <th></th>\n",
       "      <th>platform_url</th>\n",
       "      <th>software_license_footer</th>\n",
       "    </tr>\n",
       "  </thead>\n",
       "  <tbody>\n",
       "    <tr>\n",
       "      <th>0</th>\n",
       "      <td>https://www.anecdata.org/</td>\n",
       "      <td>None</td>\n",
       "    </tr>\n",
       "    <tr>\n",
       "      <th>1</th>\n",
       "      <td>https://health-study.zoe.com/</td>\n",
       "      <td>© 2025 zoe limited</td>\n",
       "    </tr>\n",
       "    <tr>\n",
       "      <th>2</th>\n",
       "      <td>https://lnt.org/our-work/citizen-science/</td>\n",
       "      <td>None</td>\n",
       "    </tr>\n",
       "    <tr>\n",
       "      <th>3</th>\n",
       "      <td>https://birdnet.cornell.edu</td>\n",
       "      <td>© 2025 cornell university, chemnitz university...</td>\n",
       "    </tr>\n",
       "    <tr>\n",
       "      <th>4</th>\n",
       "      <td>https://observer.globe.gov/</td>\n",
       "      <td>None</td>\n",
       "    </tr>\n",
       "    <tr>\n",
       "      <th>5</th>\n",
       "      <td>https://www.quantifiedcitizen.com/</td>\n",
       "      <td>None</td>\n",
       "    </tr>\n",
       "    <tr>\n",
       "      <th>6</th>\n",
       "      <td>https://www.spotfire.com/</td>\n",
       "      <td>None</td>\n",
       "    </tr>\n",
       "    <tr>\n",
       "      <th>7</th>\n",
       "      <td>https://www.brainexplorer.net</td>\n",
       "      <td>None</td>\n",
       "    </tr>\n",
       "    <tr>\n",
       "      <th>8</th>\n",
       "      <td>https://www.spotteron.net/apps/regional-commun...</td>\n",
       "      <td>None</td>\n",
       "    </tr>\n",
       "    <tr>\n",
       "      <th>9</th>\n",
       "      <td>https://thehappinessproject.app</td>\n",
       "      <td>None</td>\n",
       "    </tr>\n",
       "  </tbody>\n",
       "</table>\n",
       "</div>"
      ],
      "text/plain": [
       "                                        platform_url  \\\n",
       "0                          https://www.anecdata.org/   \n",
       "1                      https://health-study.zoe.com/   \n",
       "2          https://lnt.org/our-work/citizen-science/   \n",
       "3                        https://birdnet.cornell.edu   \n",
       "4                        https://observer.globe.gov/   \n",
       "5                 https://www.quantifiedcitizen.com/   \n",
       "6                          https://www.spotfire.com/   \n",
       "7                      https://www.brainexplorer.net   \n",
       "8  https://www.spotteron.net/apps/regional-commun...   \n",
       "9                    https://thehappinessproject.app   \n",
       "\n",
       "                             software_license_footer  \n",
       "0                                               None  \n",
       "1                                 © 2025 zoe limited  \n",
       "2                                               None  \n",
       "3  © 2025 cornell university, chemnitz university...  \n",
       "4                                               None  \n",
       "5                                               None  \n",
       "6                                               None  \n",
       "7                                               None  \n",
       "8                                               None  \n",
       "9                                               None  "
      ]
     },
     "execution_count": 102,
     "metadata": {},
     "output_type": "execute_result"
    }
   ],
   "source": [
    "df[[\"platform_url\", \"software_license_footer\"]].head(10)"
   ]
  },
  {
   "cell_type": "markdown",
   "id": "87aaec3f",
   "metadata": {},
   "source": [
    "- Extract license from the whole homepage using regular expressions:"
   ]
  },
  {
   "cell_type": "code",
   "execution_count": 103,
   "id": "a435f5fd",
   "metadata": {},
   "outputs": [],
   "source": [
    "import re\n",
    "import requests\n",
    "from bs4 import BeautifulSoup\n",
    "\n",
    "def detect_license(text):\n",
    "    text = text.replace('\\n', ' ').replace('\\r', ' ').lower()\n",
    "\n",
    "    patterns = [\n",
    "        # Common copyright (symbol or world)\n",
    "        r'©\\s*\\d{4}\\s*[\\w\\s\\.\\-&,]+',\n",
    "        r'copyright\\s+[\\w\\s\\.\\-&,]*\\d{4}?',\n",
    "        r'todos los derechos reservados',\n",
    "        r'all rights reserved',\n",
    "        r'tous droits réservés',\n",
    "        r'alle rechte vorbehalten',\n",
    "        r'tutti i diritti riservati',\n",
    "\n",
    "        # Creative Commons\n",
    "        r'creative commons[^<\\n]{0,100}',\n",
    "        r'cc\\s*(by|by-sa|by-nc|by-nd|0)[\\s\\-0-9\\.]*',\n",
    "\n",
    "        # Other licenses\n",
    "        r'mit license',\n",
    "        r'licensed under the mit license',\n",
    "        r'gpl license',\n",
    "        r'licensed under the gpl',\n",
    "        r'bsd license',\n",
    "        r'apache license',\n",
    "        r'european union public licence',\n",
    "        r'licencia.*mit',\n",
    "        r'licencia.*gpl',\n",
    "        r'licencia.*apache',\n",
    "        r'licencia.*bsd',\n",
    "        r'licenza.*',\n",
    "        r'lizenz.*',\n",
    "        r'licence.*'\n",
    "    ]\n",
    "\n",
    "    for pat in patterns:\n",
    "        match = re.search(pat, text, re.IGNORECASE)\n",
    "        if match:\n",
    "            return match.group(0).strip()\n",
    "\n",
    "    return None\n",
    "\n",
    "def extract_license(url):\n",
    "    try:\n",
    "        headers = {'User-Agent': 'Mozilla/5.0'}\n",
    "        resp = requests.get(url, timeout=10, headers=headers)\n",
    "        soup = BeautifulSoup(resp.text, 'html.parser')\n",
    "        texto = soup.get_text(separator=' ', strip=True)\n",
    "        return detect_license(texto)\n",
    "    except Exception as e:\n",
    "        return None\n",
    "\n",
    "df['software_license_home'] = df['platform_url'].apply(extract_license)"
   ]
  },
  {
   "cell_type": "code",
   "execution_count": 104,
   "id": "1ce805b5",
   "metadata": {},
   "outputs": [
    {
     "name": "stdout",
     "output_type": "stream",
     "text": [
      "<class 'pandas.core.series.Series'>\n",
      "RangeIndex: 45 entries, 0 to 44\n",
      "Series name: software_license_home\n",
      "Non-Null Count  Dtype \n",
      "--------------  ----- \n",
      "17 non-null     object\n",
      "dtypes: object(1)\n",
      "memory usage: 492.0+ bytes\n"
     ]
    }
   ],
   "source": [
    "df.software_license_home.info()"
   ]
  },
  {
   "cell_type": "code",
   "execution_count": 105,
   "id": "e0797631",
   "metadata": {},
   "outputs": [
    {
     "data": {
      "application/vnd.microsoft.datawrangler.viewer.v0+json": {
       "columns": [
        {
         "name": "index",
         "rawType": "int64",
         "type": "integer"
        },
        {
         "name": "software_license_home",
         "rawType": "object",
         "type": "unknown"
        }
       ],
       "ref": "ee899d93-cfcd-412a-8b6f-5e1a0416f88d",
       "rows": [
        [
         "0",
         null
        ],
        [
         "1",
         "© 2025 zoe limited"
        ],
        [
         "2",
         "© 2025 leave no trace leave no trace is a registered nonprofit, tax-exempt charitable organization"
        ],
        [
         "3",
         "© 2025 cornell university, chemnitz university of technology"
        ],
        [
         "4",
         null
        ],
        [
         "5",
         null
        ],
        [
         "6",
         "© 2025 cloud software group, inc. all rights reserved."
        ],
        [
         "7",
         null
        ],
        [
         "8",
         null
        ],
        [
         "9",
         null
        ]
       ],
       "shape": {
        "columns": 1,
        "rows": 10
       }
      },
      "text/plain": [
       "0                                                 None\n",
       "1                                   © 2025 zoe limited\n",
       "2    © 2025 leave no trace leave no trace is a regi...\n",
       "3    © 2025 cornell university, chemnitz university...\n",
       "4                                                 None\n",
       "5                                                 None\n",
       "6    © 2025 cloud software group, inc. all rights r...\n",
       "7                                                 None\n",
       "8                                                 None\n",
       "9                                                 None\n",
       "Name: software_license_home, dtype: object"
      ]
     },
     "execution_count": 105,
     "metadata": {},
     "output_type": "execute_result"
    }
   ],
   "source": [
    "df.software_license_home.head(10)"
   ]
  },
  {
   "cell_type": "code",
   "execution_count": 106,
   "id": "311466c0",
   "metadata": {},
   "outputs": [
    {
     "data": {
      "text/plain": [
       "'creative commons attribution 4.0 license. minka incorporates consent commons icons, allowing for easy visual compreh'"
      ]
     },
     "execution_count": 106,
     "metadata": {},
     "output_type": "execute_result"
    }
   ],
   "source": [
    "# Test for web with not copyright license\n",
    "extract_license(\"https://minka-sdg.org\")"
   ]
  },
  {
   "cell_type": "code",
   "execution_count": 107,
   "id": "fc76a97e",
   "metadata": {},
   "outputs": [],
   "source": [
    "# Keep last results and remove unnecesary columns\n",
    "df['software_license'] = df['software_license_home']\n",
    "df.drop(columns=[\"software_license_footer\", \"software_license_home\"], inplace=True)"
   ]
  },
  {
   "cell_type": "code",
   "execution_count": 108,
   "id": "38acc260",
   "metadata": {},
   "outputs": [],
   "source": [
    "df.to_csv(\"../data/ios_apps_platforms_test.csv\", index=False)"
   ]
  },
  {
   "cell_type": "markdown",
   "id": "d2c60cf1",
   "metadata": {},
   "source": [
    "## platform_email"
   ]
  },
  {
   "cell_type": "markdown",
   "id": "8d9752be",
   "metadata": {},
   "source": [
    "Search for email in home:"
   ]
  },
  {
   "cell_type": "code",
   "execution_count": 109,
   "id": "0569a0fc",
   "metadata": {},
   "outputs": [],
   "source": [
    "def get_email(url):\n",
    "    try:\n",
    "        headers = {\"User-Agent\": \"Mozilla/5.0\"}\n",
    "        response = requests.get(url, timeout=10, headers=headers)\n",
    "        if response.status_code != 200:\n",
    "            return None\n",
    "        soup = BeautifulSoup(response.text, 'html.parser')\n",
    "        text = soup.get_text()\n",
    "        emails = re.findall(r\"[a-zA-Z0-9_.+-]+@[a-zA-Z0-9-]+\\.[a-zA-Z0-9-.]+\", text)\n",
    "        return emails[0] if emails else None\n",
    "    except Exception as e:\n",
    "        return None"
   ]
  },
  {
   "cell_type": "code",
   "execution_count": 110,
   "id": "3587078f",
   "metadata": {},
   "outputs": [
    {
     "name": "stdout",
     "output_type": "stream",
     "text": [
      "<class 'pandas.core.series.Series'>\n",
      "RangeIndex: 45 entries, 0 to 44\n",
      "Series name: email_from_home\n",
      "Non-Null Count  Dtype \n",
      "--------------  ----- \n",
      "13 non-null     object\n",
      "dtypes: object(1)\n",
      "memory usage: 492.0+ bytes\n"
     ]
    }
   ],
   "source": [
    "df['email_from_home'] = df['platform_url'].apply(get_email)\n",
    "df.email_from_home.info()"
   ]
  },
  {
   "cell_type": "code",
   "execution_count": 111,
   "id": "80855783",
   "metadata": {},
   "outputs": [
    {
     "data": {
      "application/vnd.microsoft.datawrangler.viewer.v0+json": {
       "columns": [
        {
         "name": "email_from_home",
         "rawType": "object",
         "type": "string"
        },
        {
         "name": "count",
         "rawType": "int64",
         "type": "integer"
        }
       ],
       "ref": "832ceb38-6cfd-48fd-b2f0-d0c760ac087f",
       "rows": [
        [
         "office@spotteron.netphone",
         "3"
        ],
        [
         "ccb-birdnet@cornell.edu",
         "1"
        ],
        [
         "sales2025@wildlifeacoustics.com",
         "1"
        ],
        [
         "martelst@units.it",
         "1"
        ],
        [
         "src@sta.uwi.edu",
         "1"
        ],
        [
         "birdtrack@bto.org",
         "1"
        ],
        [
         "pollinators@wisc.edu",
         "1"
        ],
        [
         "caterpillarscount@gmail.com",
         "1"
        ],
        [
         "Byinfo@build4people.org",
         "1"
        ],
        [
         "a.mechelli@kcl.ac.uka.mechelli",
         "1"
        ],
        [
         "info@medusapp.net",
         "1"
        ]
       ],
       "shape": {
        "columns": 1,
        "rows": 11
       }
      },
      "text/plain": [
       "email_from_home\n",
       "office@spotteron.netphone          3\n",
       "ccb-birdnet@cornell.edu            1\n",
       "sales2025@wildlifeacoustics.com    1\n",
       "martelst@units.it                  1\n",
       "src@sta.uwi.edu                    1\n",
       "birdtrack@bto.org                  1\n",
       "pollinators@wisc.edu               1\n",
       "caterpillarscount@gmail.com        1\n",
       "Byinfo@build4people.org            1\n",
       "a.mechelli@kcl.ac.uka.mechelli     1\n",
       "info@medusapp.net                  1\n",
       "Name: count, dtype: int64"
      ]
     },
     "execution_count": 111,
     "metadata": {},
     "output_type": "execute_result"
    }
   ],
   "source": [
    "df.email_from_home.value_counts()"
   ]
  },
  {
   "cell_type": "code",
   "execution_count": 112,
   "id": "243e1bc1",
   "metadata": {},
   "outputs": [],
   "source": [
    "df['email_from_about'] = df['platform_about_url'].apply(get_email)"
   ]
  },
  {
   "cell_type": "code",
   "execution_count": 113,
   "id": "69afce8b",
   "metadata": {},
   "outputs": [
    {
     "name": "stdout",
     "output_type": "stream",
     "text": [
      "<class 'pandas.core.frame.DataFrame'>\n",
      "RangeIndex: 45 entries, 0 to 44\n",
      "Data columns (total 23 columns):\n",
      " #   Column                      Non-Null Count  Dtype  \n",
      "---  ------                      --------------  -----  \n",
      " 0   name                        45 non-null     object \n",
      " 1   developer                   45 non-null     object \n",
      " 2   description                 45 non-null     object \n",
      " 3   url                         45 non-null     object \n",
      " 4   language                    45 non-null     object \n",
      " 5   platform_url                45 non-null     object \n",
      " 6   active                      45 non-null     object \n",
      " 7   year_creation               41 non-null     float64\n",
      " 8   platform_about_url          39 non-null     object \n",
      " 9   terms_use_link              18 non-null     object \n",
      " 10  privacy_link                30 non-null     object \n",
      " 11  code_repository             1 non-null      object \n",
      " 12  code_repository_github_api  8 non-null      object \n",
      " 13  code_language               27 non-null     object \n",
      " 14  governance_url              3 non-null      object \n",
      " 15  api_link                    3 non-null      object \n",
      " 16  api_link_ddg                26 non-null     object \n",
      " 17  api_link_google             33 non-null     object \n",
      " 18  org_managers_whois          32 non-null     object \n",
      " 19  org_managers_footer         31 non-null     object \n",
      " 20  software_license            17 non-null     object \n",
      " 21  email_from_home             13 non-null     object \n",
      " 22  email_from_about            13 non-null     object \n",
      "dtypes: float64(1), object(22)\n",
      "memory usage: 8.2+ KB\n"
     ]
    }
   ],
   "source": [
    "df.info()"
   ]
  },
  {
   "cell_type": "code",
   "execution_count": 114,
   "id": "518deb02",
   "metadata": {},
   "outputs": [
    {
     "data": {
      "application/vnd.microsoft.datawrangler.viewer.v0+json": {
       "columns": [
        {
         "name": "index",
         "rawType": "int64",
         "type": "integer"
        },
        {
         "name": "email_from_home",
         "rawType": "object",
         "type": "unknown"
        },
        {
         "name": "email_from_about",
         "rawType": "object",
         "type": "unknown"
        }
       ],
       "ref": "016a6e5e-63bc-488b-8ba4-4a2ed4e84bea",
       "rows": [
        [
         "0",
         null,
         null
        ],
        [
         "1",
         null,
         null
        ],
        [
         "2",
         null,
         null
        ],
        [
         "3",
         "ccb-birdnet@cornell.edu",
         "ccb-birdnet@cornell.edu"
        ],
        [
         "4",
         null,
         null
        ],
        [
         "5",
         null,
         null
        ],
        [
         "6",
         null,
         null
        ],
        [
         "7",
         null,
         null
        ],
        [
         "8",
         "office@spotteron.netphone",
         "office@spotteron.netphone"
        ],
        [
         "9",
         null,
         null
        ]
       ],
       "shape": {
        "columns": 2,
        "rows": 10
       }
      },
      "text/html": [
       "<div>\n",
       "<style scoped>\n",
       "    .dataframe tbody tr th:only-of-type {\n",
       "        vertical-align: middle;\n",
       "    }\n",
       "\n",
       "    .dataframe tbody tr th {\n",
       "        vertical-align: top;\n",
       "    }\n",
       "\n",
       "    .dataframe thead th {\n",
       "        text-align: right;\n",
       "    }\n",
       "</style>\n",
       "<table border=\"1\" class=\"dataframe\">\n",
       "  <thead>\n",
       "    <tr style=\"text-align: right;\">\n",
       "      <th></th>\n",
       "      <th>email_from_home</th>\n",
       "      <th>email_from_about</th>\n",
       "    </tr>\n",
       "  </thead>\n",
       "  <tbody>\n",
       "    <tr>\n",
       "      <th>0</th>\n",
       "      <td>None</td>\n",
       "      <td>None</td>\n",
       "    </tr>\n",
       "    <tr>\n",
       "      <th>1</th>\n",
       "      <td>None</td>\n",
       "      <td>None</td>\n",
       "    </tr>\n",
       "    <tr>\n",
       "      <th>2</th>\n",
       "      <td>None</td>\n",
       "      <td>None</td>\n",
       "    </tr>\n",
       "    <tr>\n",
       "      <th>3</th>\n",
       "      <td>ccb-birdnet@cornell.edu</td>\n",
       "      <td>ccb-birdnet@cornell.edu</td>\n",
       "    </tr>\n",
       "    <tr>\n",
       "      <th>4</th>\n",
       "      <td>None</td>\n",
       "      <td>None</td>\n",
       "    </tr>\n",
       "    <tr>\n",
       "      <th>5</th>\n",
       "      <td>None</td>\n",
       "      <td>None</td>\n",
       "    </tr>\n",
       "    <tr>\n",
       "      <th>6</th>\n",
       "      <td>None</td>\n",
       "      <td>None</td>\n",
       "    </tr>\n",
       "    <tr>\n",
       "      <th>7</th>\n",
       "      <td>None</td>\n",
       "      <td>None</td>\n",
       "    </tr>\n",
       "    <tr>\n",
       "      <th>8</th>\n",
       "      <td>office@spotteron.netphone</td>\n",
       "      <td>office@spotteron.netphone</td>\n",
       "    </tr>\n",
       "    <tr>\n",
       "      <th>9</th>\n",
       "      <td>None</td>\n",
       "      <td>None</td>\n",
       "    </tr>\n",
       "  </tbody>\n",
       "</table>\n",
       "</div>"
      ],
      "text/plain": [
       "             email_from_home           email_from_about\n",
       "0                       None                       None\n",
       "1                       None                       None\n",
       "2                       None                       None\n",
       "3    ccb-birdnet@cornell.edu    ccb-birdnet@cornell.edu\n",
       "4                       None                       None\n",
       "5                       None                       None\n",
       "6                       None                       None\n",
       "7                       None                       None\n",
       "8  office@spotteron.netphone  office@spotteron.netphone\n",
       "9                       None                       None"
      ]
     },
     "execution_count": 114,
     "metadata": {},
     "output_type": "execute_result"
    }
   ],
   "source": [
    "df[[\"email_from_home\", \"email_from_about\"]].head(10)"
   ]
  },
  {
   "cell_type": "code",
   "execution_count": 115,
   "id": "1ba25010",
   "metadata": {},
   "outputs": [],
   "source": [
    "def get_email_from_possible_pages(base_url):\n",
    "    contact_paths = [\n",
    "        '', '/contact', '/contact-us', '/contacto', '/a-propos', '/kontakt',\n",
    "        '/contatti', '/contato', '/assistance', '/chi-siamo', '/uber-uns',\n",
    "        '/soporte', '/support', '/supporto', '/ajuda', '/acerca-de', '/sobre',\n",
    "        '/hilfe', '/steun', '/over-ons'\n",
    "    ]\n",
    "    for path in contact_paths:\n",
    "        email = get_email(base_url.rstrip('/') + path)\n",
    "        if email:\n",
    "            return email\n",
    "    return None\n",
    "\n",
    "df['email_from_contact'] = df['platform_url'].apply(get_email_from_possible_pages)"
   ]
  },
  {
   "cell_type": "code",
   "execution_count": 116,
   "id": "f6a4d67f",
   "metadata": {},
   "outputs": [
    {
     "name": "stdout",
     "output_type": "stream",
     "text": [
      "<class 'pandas.core.frame.DataFrame'>\n",
      "RangeIndex: 45 entries, 0 to 44\n",
      "Data columns (total 24 columns):\n",
      " #   Column                      Non-Null Count  Dtype  \n",
      "---  ------                      --------------  -----  \n",
      " 0   name                        45 non-null     object \n",
      " 1   developer                   45 non-null     object \n",
      " 2   description                 45 non-null     object \n",
      " 3   url                         45 non-null     object \n",
      " 4   language                    45 non-null     object \n",
      " 5   platform_url                45 non-null     object \n",
      " 6   active                      45 non-null     object \n",
      " 7   year_creation               41 non-null     float64\n",
      " 8   platform_about_url          39 non-null     object \n",
      " 9   terms_use_link              18 non-null     object \n",
      " 10  privacy_link                30 non-null     object \n",
      " 11  code_repository             1 non-null      object \n",
      " 12  code_repository_github_api  8 non-null      object \n",
      " 13  code_language               27 non-null     object \n",
      " 14  governance_url              3 non-null      object \n",
      " 15  api_link                    3 non-null      object \n",
      " 16  api_link_ddg                26 non-null     object \n",
      " 17  api_link_google             33 non-null     object \n",
      " 18  org_managers_whois          32 non-null     object \n",
      " 19  org_managers_footer         31 non-null     object \n",
      " 20  software_license            17 non-null     object \n",
      " 21  email_from_home             13 non-null     object \n",
      " 22  email_from_about            13 non-null     object \n",
      " 23  email_from_contact          17 non-null     object \n",
      "dtypes: float64(1), object(23)\n",
      "memory usage: 8.6+ KB\n"
     ]
    }
   ],
   "source": [
    "df.info()"
   ]
  },
  {
   "cell_type": "code",
   "execution_count": 117,
   "id": "ea275647",
   "metadata": {},
   "outputs": [
    {
     "data": {
      "application/vnd.microsoft.datawrangler.viewer.v0+json": {
       "columns": [
        {
         "name": "index",
         "rawType": "int64",
         "type": "integer"
        },
        {
         "name": "name",
         "rawType": "object",
         "type": "string"
        },
        {
         "name": "developer",
         "rawType": "object",
         "type": "string"
        },
        {
         "name": "description",
         "rawType": "object",
         "type": "string"
        },
        {
         "name": "url",
         "rawType": "object",
         "type": "string"
        },
        {
         "name": "language",
         "rawType": "object",
         "type": "string"
        },
        {
         "name": "platform_url",
         "rawType": "object",
         "type": "string"
        },
        {
         "name": "active",
         "rawType": "object",
         "type": "string"
        },
        {
         "name": "year_creation",
         "rawType": "float64",
         "type": "float"
        },
        {
         "name": "platform_about_url",
         "rawType": "object",
         "type": "unknown"
        },
        {
         "name": "terms_use_link",
         "rawType": "object",
         "type": "unknown"
        },
        {
         "name": "privacy_link",
         "rawType": "object",
         "type": "unknown"
        },
        {
         "name": "code_repository",
         "rawType": "object",
         "type": "unknown"
        },
        {
         "name": "code_repository_github_api",
         "rawType": "object",
         "type": "unknown"
        },
        {
         "name": "code_language",
         "rawType": "object",
         "type": "unknown"
        },
        {
         "name": "governance_url",
         "rawType": "object",
         "type": "unknown"
        },
        {
         "name": "api_link",
         "rawType": "object",
         "type": "unknown"
        },
        {
         "name": "api_link_ddg",
         "rawType": "object",
         "type": "unknown"
        },
        {
         "name": "api_link_google",
         "rawType": "object",
         "type": "unknown"
        },
        {
         "name": "org_managers_whois",
         "rawType": "object",
         "type": "unknown"
        },
        {
         "name": "org_managers_footer",
         "rawType": "object",
         "type": "unknown"
        },
        {
         "name": "software_license",
         "rawType": "object",
         "type": "unknown"
        },
        {
         "name": "email_from_home",
         "rawType": "object",
         "type": "unknown"
        },
        {
         "name": "email_from_about",
         "rawType": "object",
         "type": "unknown"
        },
        {
         "name": "email_from_contact",
         "rawType": "object",
         "type": "unknown"
        }
       ],
       "ref": "eacc1c9c-bc96-43a3-8ac0-d483b3561860",
       "rows": [
        [
         "3",
         "BirdNET",
         "Stefan Kahl",
         "How can computers learn to recognize birds from sounds? The BirdNET research project uses artificial intelligence and neural networks to train computers to identify nearly 3,000 of the most common species of North America and Europe. You can record a file using the internal microphone of your iOS device and see if BirdNET correctly identifies the probable bird species present in your recording. Get to know the birds around you and help us to collect observations by submitting your recordings. \n\nBirdNET is a joint project of the K. Lisa Yang Center for Conservation Bioacoustics at the Cornell Lab of Ornithology, and Chemnitz University of Technology.",
         "https://apps.apple.com/us/app/birdnet/id1541842885?uo=4",
         "['CS', 'NL', 'EN', 'FR', 'DE', 'IT', 'LT', 'PL', 'PT', 'RU', 'ES', 'UK']",
         "https://birdnet.cornell.edu",
         "Status code: 200",
         "1985.0",
         "https://birdnet.cornell.edu/map",
         null,
         null,
         "https://github.com/kahst/BirdNET-Analyzer",
         "https://github.com/birdnet-team/BirdNET-Analyzer",
         "PHP",
         null,
         "https://birdnet.cornell.edu/api/",
         null,
         "https://github.com/BirdNET-Team/BirdNET-Analyzer",
         null,
         "© 2025 Cornell University, Chemnitz University of Technology",
         "© 2025 cornell university, chemnitz university of technology",
         "ccb-birdnet@cornell.edu",
         "ccb-birdnet@cornell.edu",
         "ccb-birdnet@cornell.edu"
        ],
        [
         "6",
         "spotFIRE | Citizen Science",
         "SPOTTERON Gmbh",
         "SpotFIRE is a Citizen Science project focusing on forest fire and fuel management to reduce forest fire risk, initiated by the Institute of Silviculture, University of Natural Resources and Life Sciences, Vienna.\n\nThe project aims to evaluate the suitability of a mobile phone application inspired by citizen science approaches to measure forest fuel data and collect information on forest fire events for fire risk management in mountainous regions.\n\nParticipants will be able to collect data on vegetation cover, providing crucial insights into the fuel load and potential fire intensity. Furthermore, the mobile application allows users to report a forest fires event, including the environmental impact and damage assessments, facilitating a comprehensive understanding of the consequences of forest fires. By engaging citizens as active contributors, the spotFIRE project aspires to raise awareness to improve fire prevention efforts from the general public and support the implementation of fire management strategies.\n\nThe spotFIRE | Citizen Science App is running on the SPOTTERON Platform at www.spotteron.net",
         "https://apps.apple.com/us/app/spotfire-citizen-science/id6462456297?uo=4",
         "['EN', 'DE']",
         "https://www.spotfire.com/",
         "Status code: 200",
         "1996.0",
         "https://www.spotfire.com/about",
         null,
         "https://www.cloud.com/privacy-policy",
         null,
         null,
         "Ruby",
         null,
         null,
         null,
         null,
         "Cloud Software Group, Inc.",
         "By Verified EngineerRead more",
         "© 2025 cloud software group, inc. all rights reserved.",
         null,
         null,
         "support@spotfire.com"
        ],
        [
         "8",
         "WaterLinx | Citizen Science",
         "SPOTTERON Gmbh",
         "Water constitutes and connects all life forms on earth. However, current human water- and land-use patterns and emissions from our socio-industrial and consumption practices undermine the capacity of natural ecosystems in water and on land to regenerate themselves to remain a healthy basis for diverse forms of life. The health of interconnected water and soil systems is deteriorating at an ever-faster pace. Potential impacts from climate change threaten to accelerate this decline Just reducing our harmful impacts will no longer suffice. We need to take regenerative action. Restoring healthy water bodies is also a fundamental need to make the planet’s life support system with water and earth more resilient to the potential impacts of climate change.  But where should we act first, and what actions promise success?  EU Data sets relating to water quality are expensive to obtain and accordingly scantly distributed across time and space. Most data related to large rivers but not smaller streams that may flow through biodiversity-rich areas. \n\n\n\nCitizen science can play an important role in complementing official data sets on water quality to identify pollution hot spots, in particular in small streams that are not usually monitored by experts (König et al., 2020).  This APP provides a citizen science tool to explore water quality and ecosystem health where you stand and can take action.  Data collected with this APP can \n- inform you and any citizen in an accessible manner on where regenerative action for healthy water bodies might be most urgently needed, \n- open new windows on compliance with EU water quality standards and on the effectiveness of Luxembourg policy making and implementation, \n- be used by scientists (experts and citizens) to evaluate and learn from regenerative projects.\n\n\n\nIf you would like to engage in both monitoring with this APP and regenerative action, you can seek inspiration for practical projects with impact on www.transformation-lab.lu and www.aktioun-nohaltegkeet.lu .",
         "https://apps.apple.com/us/app/waterlinx-citizen-science/id6447082468?uo=4",
         "['EN', 'DE']",
         "https://www.spotteron.net/apps/regional-community-science-projects/waterlinx-citizen-science",
         "Status code: 200",
         "2016.0",
         "https://www.spotteron.net/about",
         "https://www.spotteron.net/terms-of-use",
         "https://www.spotteron.net/citizen-science-app-features/privacy-data-safety",
         null,
         null,
         "PHP",
         "https://www.spotteron.net/citizen-science-app-features/data-handling",
         null,
         null,
         null,
         "Not Disclosed",
         "ContactINTERESTED? GET IN CONTACT TODAY!eMail:office@spotteron.netphone:+43-676-598-2272skype:spotteronSPOTTERONGmbh | Citizen Science PlatformFaßziehergasse 5 - AT 1070 ViennaFN: 488215p | UIN: ATU73129349PIC Number: 905390338DUNS: 30-055-0598Short News”A new paper titled \"Citizen Science Approaches for Water Quality Measurements\" has been published by the scientists behind CrowdWater. Find it in thepapers section!inShortnews”A new paper from the Horizon 2020 project IPM titled \"Genetic variability of Metarhizium isolates from the Ticino Valley Natural Park (Northern Italy) as a possible microbiological resource for the management of Popillia japonica\" has been added to our page. Find this and other Citizen Science related publications on theSPOTTERON Papers & Publicationssection.inShortnewsSubscribe to this RSS feedNewsletterI agree with theTerms and conditions×Terms and conditionsCloseand thePrivacy policy×Privacy policyClosePlease enable the javascript to submit this form",
         null,
         "office@spotteron.netphone",
         "office@spotteron.netphone",
         "office@spotteron.netphone"
        ],
        [
         "9",
         "The Happiness Project",
         "UCL",
         "Play fun mini-games to help brain scientists study the psychology and neuroscience of well-being!\n\nCreated by scientists at UCL and Yale, this app is a citizen science project taking psychology and neuroscience experiments from the lab to your smartphone.\n\nEvery 3-minute game that you finish contributes data to real scientific research about how the brain works. The anonymous surveys help us see what causes well-being and understand mental health conditions like anxiety and depression. Be part of a unique citizen science experiment and help us write the equation for happiness!\n\nDr Robb Rutledge (Yale Psychology) says: \"We all want to know what determines happiness. It’s hard to figure it out! In our games, we ask people about their happiness as they make decisions in different situations. We hope people enjoy our app and help us answer some really important scientific questions!\"\n\nThis citizen science project was supported by the UK Medical Research Council.",
         "https://apps.apple.com/us/app/the-happiness-project/id1366965114?uo=4",
         "['EN']",
         "https://thehappinessproject.app",
         "Status code: 200",
         null,
         null,
         "https://thehappinessproject.app/terms-and-conditions",
         null,
         null,
         null,
         null,
         null,
         null,
         "https://github.com/jfaccioli/happiness-project",
         "https://github.com/jfaccioli/happiness-project",
         null,
         "Happiness NewsletterSubscribe to hear about new research in the science of happiness, including discoveries we make with data from the smartphone app. Thanks for playing games for science!Email AddressSign UpThe Happiness Project is a registered trademark owned by Gretchen Rubin and this app is not affiliated with her or her work.Thank you for signing up to our Newsletter!The Happiness ProjectMax Planck UCL Centre for Computational Psychiatry and Ageing ResearchUniversity College LondonRussell Square House10-12 Russell SquareLondon, WC1B 5EHUnited Kingdomrutledgelab@gmail.com",
         null,
         null,
         null,
         "Kingdomrutledgelab@gmail.com"
        ],
        [
         "11",
         "Echo Meter Touch Bat Detector",
         "Wildlife Acoustics",
         "Using the Echo Meter Touch 2 Pro plug-in module, this app allows you to listen to record and automatically identify bats by their ultrasonic echolocation calls. The module and this companion app reveal the silent and often times invisible world of bats, providing outdoor enthusiasts, citizen scientists, and researchers an affordable and informative way to interact with these important creatures. There are two models: Echo Meter Touch 2 (EMT 2) is intended for nature enthusiasts and batting hobbyists and Echo Meter Touch 2 Pro is designed for bat professionals and features a higher quality microphone, adjustable gain, and higher sample rate.\n\nThe Echo Meter Touch Ultrasonic Module senses ultrasonic signals, digitizes the signal, and transmits the ultrasonic data to the app on your iOS device. \n\nLISTEN TO BAT’S ECHOLOCATIONS\nEMT2 translates bat echolocations into frequencies that are audible to humans using two technologies. Wildlife Acoustics’ patented Real Time Expansion (RTE) allows you to listen to bats in real time with unparalleled fidelity. RTE maintains the timing and tonality of the original echolocations. Heterodyne (HET) listening via manual and automatic tuning is also available, for those accustomed to that way of hearing bats. \n\nVIEW THE ECHOLOCATIONS ON A SPECTROGRAM\nA real-time spectrogram shows the frequencies and timing of the echolocations. Scroll back in time and zoom in on previous \"bat passes.\"  \n\nSEE MOST LIKELY BAT SPECIES IN REAL-TIME***\nThe Auto ID feature analyzes the echolocation calls and suggests the two most likely bat species matches in real time. This is the same technology used in our professional Kaleidoscope Pro Bat Auto Identification software. Currently, the app can identify 26 species in North America, 25 in Europe and 57 in the neotropics. For more information on Kaleidoscope and a full list of species, visit our website.\n\nRECORD .WAV FILES\nActivate triggered recording mode to automatically save bat passes to full spectrum .wav files for analysis on a computer or to view on your iDevice. Or use manual record mode to control start and stop of recording. View the recording spectrogram and add voice or text notes. Listen to the recording using RTE, HET, or traditional Time Expansion Playback (playback at fractional speed to make the ultrasound audible).\n\nSEE YOUR PATH AND RECORDING LOCATIONS\nView in satellite or road map view. View identified species codes directly on the map. Go to the recording's spectrogram from the map view. Transfer to your computer to view in Google Earth. Your iDevice must have GPS capability or you must use a Bluetooth GPS receiver for this functionality.\n*Continued use of GPS running in the background can dramatically decrease battery life.*\n\nTRANSFER RECORDINGS TO YOUR COMPUTER \nThe EMT 2 can transfer the .wav recordings to your computer over a Wi-Fi network or using a USB cable. \n\nSHARE RECORDINGS VIA EMAIL OR MMS MESSAGING \nAnd import and open files that have been shared with you.\n\n***Because bats vary their echolocation calls in response to a wide variety of needs, no automated identification can achieve 100% accuracy in species identification. Auto-ID, though largely accurate, should not be relied on as a basis for scientific research. Auto-ID is intended for use in analyzing recordings of single bats in free flight in low clutter environments. Auto-ID will not work well on recordings of roost emergence, multiple or captive bats, bats in high clutter environments, or bat social calls. Auto-ID does not include every possible bat for each of the covered regions.",
         "https://apps.apple.com/us/app/echo-meter-touch-bat-detector/id693958125?uo=4",
         "['EN']",
         "https://www.echometertouch.com",
         "Status code: 200",
         "2015.0",
         "https://www.wildlifeacoustics.com/about-us",
         "https://www.wildlifeacoustics.com/legal-documentation/terms-of-use",
         "https://www.wildlifeacoustics.com/privacy-policy",
         null,
         null,
         null,
         null,
         null,
         "https://www.wildlifeacoustics.com/products/echo-meter-touch-2",
         "https://www.wildlifeacoustics.com/products/echo-meter-touch-2",
         "Identity Protection Service",
         null,
         null,
         "sales2025@wildlifeacoustics.com",
         "sales2025@wildlifeacoustics.com",
         "sales2025@wildlifeacoustics.com"
        ],
        [
         "12",
         "Zooniverse",
         "Chris Lintott",
         "The Zooniverse is the world’s largest and most popular platform for people-powered research. This research is made possible by volunteers—hundreds of thousands of people around the world who come together to assist professional researchers. Our goal is to enable research that would not be possible, or practical, otherwise. Zooniverse research results in new discoveries, datasets useful to the wider research community, and many publications.\n\nThe Zooniverse Mobile App provides push notification updates about our projects, as well as access to our most mobile-friendly projects and publications.",
         "https://apps.apple.com/us/app/zooniverse/id1194130243?uo=4",
         "['EN']",
         "https://www.zooniverse.org/",
         "Status code: 200",
         "2008.0",
         "https://www.zooniverse.org/about",
         null,
         "https://www.zooniverse.org/privacy",
         null,
         "https://github.com/zooniverse/front-end-monorepo",
         "PHP",
         null,
         null,
         "http://developer.zooniverse.org/en/latest/apis/platform.html",
         "http://developer.zooniverse.org/en/latest/apis/platform.html",
         "Chris Lintott",
         "ZooniversePeople-Powered ResearchProjectsArtsBiologyClimateHistoryLanguageLiteratureMedicineNaturePhysicsSpaceSocial ScienceAboutContact UsOur TeamPublicationsResourcesFAQGet InvolvedVolunteerEducateCollaborateDonateTalkTroubleshootingAnnouncementsProject BuildingData ProcessingBuild a ProjectTutorialGlossaryPoliciesBest PracticesPrivacy PolicyJobsSystem StatusSecurity",
         null,
         null,
         "contact@zooniverse.org.ZooniversePeople-Powered",
         "contact@zooniverse.org.ZooniversePeople-Powered"
        ],
        [
         "14",
         "AmphiApp | Citizen Science",
         "SPOTTERON Gmbh",
         "Amphibien gehören zu den am stärksten bedrohten Tiergruppen Österreichs und auch weltweit. Die Gründe dafür umfassen unter anderem die Zerstörung und Degradierung von Lebensräumen, diverse Pilzkrankheiten sowie Veränderungen in der Landnutzung. Für einige Amphibienarten gehören, trotz vieler Störungen, auch landwirtschaftliche Gebiete oder gar Städte zu wichtigen Lebensräumen. Unsere Zielart ist die bedrohte Wechselkröte - eine typische Pionierart, die neu entstehende Gewässer schnell besiedeln kann. In Österreich liegt ihr Hauptverbreitungsgebiet in Ostösterreich mit vereinzelten inselartigen Vorkommen im Westen. Ihre natürlichen Laichgewässer sind nach Regenfällen gefüllte Steppenseen oder nach Überschwemmungen entstandene Tümpel mit starker Sonneneinstrahlung. Bis auf wenige Ausnahmen, sind die natürlichen Laich-Habitate der Wechselkröte in Europa weitgehend verschwunden. Neben diesen naturnahen Gewässern werden heute oft künstliche Gewässer oder Lacken, die nach Regengüssen gefüllt sind, von Wechselkröten angenommen. Das Verschwinden von Brachflächen und Verschließen von Baulücken führt jedoch sowohl im ländlichen als auch im innerstädtischen Gebiet zu einer Verschlechterung des Erhaltungszustandes der Wechselkröte. Gegenmaßnahmen, wie beispielsweise die Bereitstellung von Ersatzlebensräumen, wirken dieser negativen Entwicklung entgegen.\n\nProjektziele von AmphiBiom\nEin wichtiger Schritt für ein umfassendes Schutzkonzept für die Wechselkröte erfordert eine österreichweite Bestandsaufnahme und Analyse ihrer Habitat-Präferenzen unter Einbeziehung von Schadstoffen in den Gewässern und der Landnutzung. Das vorliegende Projekt nutzt Citizen Science zur Untersuchung dieser Pionierart, um die Verbreitung in Arealen, die oftmals für die Forschung unzugänglich sind (z.B. Privatgärten), zu untersuchen und Bürger*innen aktiv in das Projekt einzubinden. Darüber hinaus ist es ein Ziel den Teilnehmenden zu zeigen, dass sie selbst durch nur wenig Aufwand (z.B. durch die Anlage von Kleingewässern) das Überleben dieser geschützten Art fördern können. Diese Lebensraumschaffung wird den Erhaltungszustand der Wechselkröten und anderer bedrohter Amphibien-Pionierarten erheblich verbessern. Wir erwarten zudem eine große Vielfalt wirbelloser Tiere (z.B. Insekten), die zu einer Zunahme der Biodiversität in ganz Österreich beitragen wird. Unsere Analysen werden uns ermöglichen, klare Handlungsweisen zum Schutz dieser seltenen Biotope zu geben. Die Involvierung von Bürger*innen ermöglicht hier die breite Ausrollung unserer Initiative, erhöht die Nachhaltigkeit der Aktion und schafft ein Problembewusstsein für Biodiversitätsschutz in Österreich. \n\nWie können Sie mitmachen?\nBevor Sie mittels App aktiv teilnehmen können, müssen Sie sich registrieren oder einloggen. Für die Teilnahme am Projekt AmphiBiom bieten sich zwei Möglichkeiten. Haben Sie auf einem abendlichen Spaziergang eine Wechselkröte, oder ein anderes Amphib, gehört, dann können Sie den Ruf direkt in der App aufzeichnen und melden. Sie haben auch die Möglichkeit sich aktiv in der Laichgewässerschaffung für Wechselkröten zu engagieren. Hierfür steht ein eigenes Online-Formular über www.amphi.at zur Verfügung. Nach erfolgter Registrierung setzt sich unser Projektteam mit ihnen in Kontakt, um die weiteren Schritte zu besprechen.\n\nDie AmphiApp läuft auf der SPOTTERON Citizen Science Plattform unter www.spotteron.net.",
         "https://apps.apple.com/us/app/amphiapp-citizen-science/id6468587877?uo=4",
         "['EN', 'DE']",
         "https://www.spotteron.net/apps/regional-community-science-projects/amphiapp-citizen-science-app-en",
         "Status code: 200",
         "2016.0",
         "https://www.spotteron.net/about",
         "https://www.spotteron.net/terms-of-use",
         "https://www.spotteron.net/citizen-science-app-features/privacy-data-safety",
         null,
         null,
         "PHP",
         "https://www.spotteron.net/citizen-science-app-features/data-handling",
         null,
         null,
         null,
         "Not Disclosed",
         "ContactINTERESTED? GET IN CONTACT TODAY!eMail:office@spotteron.netphone:+43-676-598-2272skype:spotteronSPOTTERONGmbh | Citizen Science PlatformFaßziehergasse 5 - AT 1070 ViennaFN: 488215p | UIN: ATU73129349PIC Number: 905390338DUNS: 30-055-0598Short News”A new paper titled \"Citizen Science Approaches for Water Quality Measurements\" has been published by the scientists behind CrowdWater. Find it in thepapers section!inShortnews”A new paper from the Horizon 2020 project IPM titled \"Genetic variability of Metarhizium isolates from the Ticino Valley Natural Park (Northern Italy) as a possible microbiological resource for the management of Popillia japonica\" has been added to our page. Find this and other Citizen Science related publications on theSPOTTERON Papers & Publicationssection.inShortnewsSubscribe to this RSS feedNewsletterI agree with theTerms and conditions×Terms and conditionsCloseand thePrivacy policy×Privacy policyClosePlease enable the javascript to submit this form",
         null,
         "office@spotteron.netphone",
         "office@spotteron.netphone",
         "office@spotteron.netphone"
        ],
        [
         "19",
         "CSMON-LIFE segnalazioni",
         "Divulgando Srl",
         "CSMON-LIFE (Citizen Science MONitoring) is one of the first Italian projects which focuses on using a citizen science approach on biodiversity. I was funded by the European Commission under the LIFE+ programme.\n\nThe project want to stimulate the participation of the citizens, involving them in the study, management and conservation of biodiversity, hence creating an active collaboration between citizens, scientific community and institutions.\n\nThe project aims at activating several citizen science campaigns, which will be focused on several environmental issues, such as:\n- the loss of biodiversity because of the presence of alien species;\n- the effects of climate change;\n- the conservation of rare species;\n- the impact of human activities on the environment.\n\nContribute with your observations to the monitoring of several target species.\n\nThe data, once validated, will be available on the CSMON-LIFE website and will feed the National Biodiversity Network (NNB), an effort promoted by the Italian Ministry for the Environment.",
         "https://apps.apple.com/us/app/csmon-life-segnalazioni/id943048570?uo=4",
         "['EN', 'IT']",
         "http://www.csmon-life.eu",
         "Status code: 200",
         null,
         "https://www.csmon-life.eu/pagina/progetto/18/About%20us",
         null,
         null,
         null,
         null,
         null,
         null,
         null,
         null,
         null,
         null,
         "Primo progetto italiano di citizen science sulla biodiversitÃ , finanziato in Italia dalla Commissione Europea nellâambito del programma LIFE+PartnerCSMON-LIFEHomeCSMON-LIFECAMPAGNEScuoleEventiMediaContattiLife+ContattiUniversitÃ  degli Studi di TriesteDipartimento di Scienze della VitaDott. Stefano MartellosT. 040/558 3889EMAILmartelst@units.it",
         "copyright 2014",
         "martelst@units.it",
         "martelst@units.it",
         "martelst@units.it"
        ],
        [
         "24",
         "BirdWeather",
         "Scribe Labs Inc",
         "BirdWeather: Your Gateway to Nature's Soundscapes\n\nDiscover the power of bioacoustics with BirdWeather, the all-in-one app designed to manage your PUC (Physical Universe Codec). PUC is an AI-driven bioacoustics platform, packed with advanced features like dual microphones, WiFi/BLE connectivity, GPS, environmental sensors, and a built-in neural engine—all housed in a rugged, weatherproof enclosure. Capture nature's audio effortlessly, and let BirdWeather help you explore the world of species detection and real-time monitoring.\n\n\nKey Features:\n- Quick Setup: Start recording in minutes with our step-by-step instructions for setting up your PUC device, connecting it to your Wi-Fi, and configuring essential settings.\n- Real-Time Species Recognition: With over 6,000 species in its database, BirdWeather provides a real-time view of the latest species detections as they happen.\n- Community Insights: Explore the detections recorded by other PUC stations worldwide, gaining deeper insights into local and global wildlife activity.\n\nTransform your understanding of nature with BirdWeather — the ultimate tool for bioacoustic monitoring and wildlife discovery.",
         "https://apps.apple.com/us/app/birdweather/id6446207088?uo=4",
         "['AF', 'AR', 'CS', 'DA', 'NL', 'EN', 'FI', 'FR', 'DE', 'HU', 'IT', 'JA', 'KO', 'NB', 'PL', 'PT', 'RO', 'RU', 'ZH', 'SK', 'SL', 'ES', 'SV', 'TH', 'TR', 'UK']",
         "https://www.birdweather.com/",
         "Status code: 200",
         "2017.0",
         "https://www.birdweather.com/about",
         "https://www.birdweather.com/terms-of-service",
         "https://www.birdweather.com/privacy",
         null,
         "https://github.com/becausebirds/birdweather-scriptable-widget",
         "Ruby",
         null,
         "https://app.birdweather.com/api/index.html",
         "https://app.birdweather.com/api/index.html",
         "https://app.birdweather.com/api/index.html",
         "NameBrightPrivacy.com",
         null,
         null,
         null,
         "tim@birdweather.com",
         null
        ],
        [
         "25",
         "myHAZ-VCT",
         "British Geological Survey",
         "myHAZ-VCT is a citizen science app for sharing your observations of natural hazards and environmental phenomena in St. Vincent and the Grenadines. A collaboration between The University of the West Indies Seismic Research Centre (SRC) in Trinidad and Tobago, the National Emergency Management Organisation (NEMO) of St. Vincent and the Grenadines and the British Geological Survey (BGS), myHAZ-VCT is designed to provide scientists (SRC), emergency managers (NEMO) and citizens of St. Vincent and the Grenadines, with first-hand information about a range of natural hazards and environmental phenomena that occur in the country.\n\nThrough the myHAZ-VCT app you can upload photos, videos and free-text descriptions on a range of natural hazards including flooding, storms, landslides, earthquakes, volcanoes, tsunamis and other environmental phenomena such as drought, ground subsidence and changes in water levels. In addition, there are more detailed, optional questions to answer to help scientists, emergency managers and your fellow citizens know what is going on across St. Vincent and the Grenadines. \n\nWhen a new observation is submitted, it is initially reviewed by myHAZ-VCT managers at SRC and NEMO, and then published in the app for other myHAZ-VCT users to view. A commenting facility within myHAZ-VCT lets users, SRC scientists and NEMO staff respond to observations, whilst SRC and NEMO can also send direct notifications to myHAZ-VCT users, such as further information and advice about ongoing hazards. \n\nmyHAZ-VCT uses a citizen science approach for gathering valuable data on various natural hazards occurring in St. Vincent and the Grenadines.  Citizen science is the active involvement of the non-scientific public in scientific research.  Since scientists and emergency managers cannot be everywhere, enlisting members of the public like you, in sharing observations on multihazards can provide a broader understanding of the impact and behaviour of these in your community.  This information can be used by NEMO to respond more effectively to impacted communities as well as to develop robust hazard mitigation systems.",
         "https://apps.apple.com/us/app/myhaz-vct/id1507981214?uo=4",
         "['EN']",
         "https://uwiseismic.com/myhaz-vct/",
         "Status code: 200",
         "2001.0",
         null,
         null,
         null,
         null,
         null,
         null,
         null,
         null,
         "https://vct.myhaz.app/docs/index.html",
         "https://vct.myhaz.app/docs/index.html",
         "Contact Privacy Inc. Customer 0173889823",
         null,
         "© 2001-2025  the university of the west indies seismic research centre. all rights reserved",
         "src@sta.uwi.edu",
         null,
         "src@sta.uwi.edu"
        ],
        [
         "30",
         "BirdTrack",
         "BTO",
         "Want an easy way to record the birds you see, and keep track of what you have seen? The BirdTrack app makes recording your sightings easy and your birdwatching more rewarding; plus your sightings support research and conservation at the local, national and global scale. Whether you want to record single sightings of those special birds or make a list of all the birds you see whilst birdwatching on a local patch you can do both from the palm of your hand. This free app links directly to your BirdTrack account on the web and acts as your digital notebook, enabling you to quickly and easily record the information you want for the birds (and some other wildlife groups) you see.\n\nWith our app, you can:\n\n• Select the species you saw from an illustrated checklist of the most likely species based on BirdTrack data for your location and the time of year.\n• Offline mapping and observation recording, enabling use in places with no data connection.\n• Keep records of birds seen anywhere in the world.\n• See suggestions of local birdwatching places; add records for these popular places to help monitor their bird populations.\n• Add sightings for some other taxa groups, including amphibians, butterflies, dragonflies, mammals, orchids, and reptiles. (UK only).\n• View and edit previous sightings directly on your device.\n• View a map of recent sightings made by the BirdTrack community.\n• Keep track of your year and life lists, plus see lists of ‘target’ species seen by other BirdTrack users.\n• Option to share your sightings via social media.\n• Add optional information to your sightings, including breeding evidence, plumage details, and sensitive record settings to control the visibility of your records.\n• Sightings are seamlessly synchronised with your BirdTrack account, so you can see all your observations whether you are viewing via your device or via the website.\n\nDeveloped by the British Trust for Ornithology, on behalf of the BirdTrack partnership.",
         "https://apps.apple.com/us/app/birdtrack/id596839218?uo=4",
         "['EN']",
         "http://www.birdtrack.net",
         "Status code: 200",
         "2004.0",
         "http://www.birdtrack.net/about",
         "http://www.birdtrack.net/terms-conditions",
         "http://www.birdtrack.net/about/how/promises-policies/privacy-policy",
         null,
         null,
         null,
         null,
         null,
         "https://www.bto.org/get-involved/volunteer/projects/birdtrack",
         "https://docs.bird.com/api/client-sdks/sdk-integration/web-sdk/api-reference/birdtracker",
         null,
         "BTO – Birds Science PeopleFooterAbout usBTO YouthContactBecoming more inclusiveEventsJobsOur officesRegional networkSafeguardingSign up to enewsShopSustainabilityBTO blog iconFacebook logoInstagram logoBluesky logoLinkedIn logoYouTube logo© British Trust for Ornithology (BTO)The Nunnery, Thetford, Norfolk, IP24 2PU+44 (0)1842 750050info@bto.orgSign up to our email newsletterCookiesPrivacyReport somethingTerms & conditionsWebsite accessibilityRegistered Charity numbers:England / Wales: 216652, Scotland: SC039193",
         null,
         "birdtrack@bto.org",
         "birdtrack@bto.org",
         "birdtrack@bto.org"
        ],
        [
         "32",
         "WiBee",
         "Daniel Imhoff",
         "Take a short survey on a nice day to catalog bee species and their frequency in small areas, helping scientists discover insights on native bee populations.",
         "https://apps.apple.com/us/app/wibee/id1483549326?uo=4",
         "['EN']",
         "https://pollinators.wisc.edu/wibee/",
         "Status code: 200",
         "1985.0",
         "https://pollinators.wisc.edu/about-us/",
         null,
         "https://pollinators.wisc.edu/wibee/our-privacy-policy/",
         null,
         null,
         "PHP",
         null,
         null,
         "https://nest.wibeee.com/swagger-ui.html",
         "https://nest.wibeee.com/swagger-ui.html",
         null,
         "Site footer contentUniversity logo that links to main university websitePart of theUniversities of WisconsinQuick LinksBack to TopHomeBee IdentificationWiBee: The Wisconsin Wild Bee AppPollinator ResourcesWisconsin Online Pollinator Habitat AssessmentPollinator-Friendly SolarAbout UsContact Us1575 Linden Dr561 Moore HallMadison, WI 53706Email:pollinators@wisc.eduWebsite feedback, questions or accessibility issues:pollinators@wisc.edu| Learn more aboutaccessibility at UW–Madison.This site was built using theUW Theme|Privacy Notice| © 2025 Board of Regents of theUniversity of Wisconsin System.",
         "© 2025 board of regents of the university of wisconsin system.",
         "pollinators@wisc.edu",
         "bbradford@wisc.edu",
         "pollinators@wisc.edu"
        ],
        [
         "34",
         "Caterpillars Count!",
         "University of North Carolina",
         "Caterpillars Count! is a project that relies on citizen scientists (you!) to help understand some of the most important organisms in our ecosystems—caterpillars and other insects—by conducting surveys of the plants and trees around them. \n\nWHY SURVEY CATERPILLARS?\n* Caterpillars are an important food source for birds and other wildlife. \n* Some caterpillars have economic and environmental impacts on our forests and crops. \n* Caterpillars may provide insight into how climate change is affecting ecosystems around us.\n\nSUBMIT YOUR OBSERVATIONS TO HELP US:\n* understand how the abundance of these insects varies from rural country sides to major urban areas,\n* and over broad geographic gradients across the globe!\n* track how the abundance of caterpillars and other insects varies as the seasons shift from spring into summer. \n* track how seasonal variation in caterpillar abundance varies from year to year.\n\nYour observations will be analyzed by scientists, and you can visualize the data submitted by yourself and others through our website. Visit caterpillarscount.unc.edu to learn more!",
         "https://apps.apple.com/us/app/caterpillars-count/id1366400875?uo=4",
         "['EN']",
         "https://caterpillarscount.unc.edu",
         "Status code: 200",
         "1986.0",
         "https://caterpillarscount.unc.edu/getStarted",
         null,
         "https://caterpillarscount.unc.edu/privacyPolicy",
         null,
         null,
         null,
         null,
         null,
         "https://github.com/caterpillarscountdev/CaterpillarsCount",
         "https://github.com/caterpillarscountdev/CaterpillarsCount",
         null,
         "Part of thePheno Mismatchproject funded by the National Science FoundationContact us:caterpillarscount@gmail.comView ourprivacy policy",
         null,
         "caterpillarscount@gmail.com",
         "caterpillarscount@gmail.com",
         "caterpillarscount@gmail.com"
        ],
        [
         "35",
         "Build4People: Citizen Science",
         "NXT YOU GmbH",
         "Citizen Science is a free app for Phnom Penh residents to evaluate their perceptions of urban green infrastructure (UGI) and their self-assessed quality of life (QoL).\n\nRapid urbanization in Phnom Penh has reduced green spaces, negatively affecting the environment, well-being, health, and overall quality of life.\nUnderstanding these perceptions is key to informed urban planning and sustainable development.\n\nThis app aims to gather insights from residents about UGI and QoL to directly contribute to sustainable urban development in Phnom Penh.",
         "https://apps.apple.com/us/app/build4people-citizen-science/id6478510837?uo=4",
         "['EN']",
         "https://build4people.org/",
         "Status code: 200",
         "2019.0",
         "https://build4people.org/build4people-lecture-about-inclusive-and-gender-sensitive-approaches-to-urban-planning-phnom-penh-28-may-2025/",
         null,
         null,
         null,
         null,
         "PHP",
         null,
         null,
         "https://build4people.org/new-planning-and-design-guideline-governance-and-participation-published-as-part-of-the-b4p-transformation-toolbox/",
         "https://participatorysciences.org/resources/citizen-science-data-sharing-apis/",
         "REDACTED",
         "Follow us on social mediaImprintContactBuild4People| \nDesigned by:Theme Freesia© 2025WordPressTop",
         "© 2025 wordpress top",
         "Byinfo@build4people.org",
         "info@build4people.org",
         "Byinfo@build4people.org"
        ],
        [
         "37",
         "Mosquito Alert",
         "John Palmer",
         "Join the world's largest mosquito surveillance network. Contribute to the study and monitoring of invasive mosquitoes and mosquitoes of epidemiological interest with the Mosquito Alert app. With it you will be able to report mosquito observations, mosquito breeding sites, and keep a record of mosquito bites.\n\nBy sharing your observations, you will be providing information that scientists can use in their research to better understand the ecology of mosquitoes, disease transmission, and provide data to improve their management.\n\nMosquito Alert is a citizen science project coordinated by several public research centers, CEAB-CSIC, UPF and CREAF, whose objective is to study, monitor and fight against the spread of disease-carrying mosquitoes.\n\nWhat can you do with the app?\n\n-Notify the presence of five species of mosquitoes:\n(1)\tthe tiger mosquito (Aedes albopictus)\n(2)\tthe yellow fever mosquito (Aedes aegypti)\n(3)\tthe Asian bush mosquito (Aedes japonicus)\n(4)\tAedes koreicus\n(5)\tthe common house mosquito (Culex pipiens)\n\n-Identify their breeding places in your area\n-Notify when you receive a bite\n-Validate the photos of other participants\n\nA community of more than 50 international expert entomologists will validate the photos you send to the platform, thus being able to learn to identify the mosquito species of health interest. All observations are made public on the Mosquito Alert map website, where they can be viewed and downloaded, as well as exploring the models developed from the contributions of the participants.\n\nYour contributions are very useful for science!\n\nThe Mosquito Alert app is available in more than 17 European languages: Spanish, Catalan, English, Albanian, German, Bulgarian, Croatian, Dutch, French, Greek, Hungarian, Italian, Luxembourgish, Macedonian, Portuguese, Romanian, Serbian, Slovenian, Turkish .\n\n\n\n----------------------------------------------\nFor more information, visit http://www.mosquitoalert.com/en/\n\nor follow us on social networks:\n\nTwitter @Mosquito_Alert\n----------------------------------------------",
         "https://apps.apple.com/us/app/mosquito-alert/id890635644?uo=4",
         "['EN']",
         "http://www.mosquitoalert.com",
         "Status code: 200",
         "2006.0",
         "https://www.mosquitoalert.com/sobre-nosotros/oficina-de-prensa/",
         "https://www.mosquitoalert.com/aviso-legal/",
         "https://www.mosquitoalert.com/politica-de-privacidad/",
         null,
         "https://github.com/Mosquito-Alert/mosquito_alert",
         "PHP",
         null,
         null,
         "https://api.mosquitoalert.com/",
         "https://api.mosquitoalert.com/",
         "REDACTED FOR PRIVACY",
         "Ámbitos de actuaciónParticipación ciudadanaCienciaSeguimiento y controlEducaciónSobre nosotrosEquipoOrganización institucionalAgendaContactoBlogEnlaces de interésOficina de prensaPreguntas frecuentesAviso legalPolítica de cookiesAcuerdo de usuarioPolítica de privacidadEn las redesTwitterFacebookRSSAplicaciones móviles",
         "© 2017 mosquitoalert",
         null,
         "elisa.mora@ceab.csic.es",
         "info@mosquitoalert.com"
        ],
        [
         "38",
         "Citizen Scientist",
         "NOMAD.ORG.UK LTD",
         "Citizen Scientist is an app that measures your experience of urban or rural living in the moment. \n\nThe Citizen Scientist app uses a technology called “ecological momentary assessment” to monitor how the surrounding environment affects our mental wellbeing.\nThis technology involves presenting people with a prompt at random times, inviting them to answer questions about their surrounding environment and mental wellbeing. \nAfter answering the questions, participants are also invited to take a photograph of the ground or floor where they are standing and/or a short audio recording of their current environment.\n\nOnce you start answering the questions you will be able to access an individualised report which summarises your experiences. \n\nIn addition, Citizen Scientist integrates with the Health app to record information about geographical location data; participants can decide whether or not to provide this information.\n\nThe data will help us understand how different aspects of the surrounding environment affect mental wellbeing, and will be used to inform novel clinical interventions and the planning and design of healthier cities.\n\nParticipation in this research project is anonymous, and the information provided by individual participants is kept private and confidential.",
         "https://apps.apple.com/us/app/citizen-scientist/id6504582629?uo=4",
         "['EN']",
         "https://www.natureboostproject.com",
         "Status code: 200",
         "2024.0",
         null,
         null,
         "https://www.natureboostproject.com/legal",
         null,
         null,
         "JavaScript",
         null,
         null,
         "https://participatorysciences.org/resources/citizen-science-data-sharing-apis/",
         "http://www.google.com/search?hl=en&q=Citizen Scientist api",
         "Domains By Proxy, LLC",
         null,
         "© 2025 â",
         "a.mechelli@kcl.ac.uka.mechelli",
         null,
         "a.mechelli@kcl.ac.uka.mechelli"
        ],
        [
         "39",
         "MedusApp",
         "Ramon Palacios Saez",
         "Collaborate with science and at the same time benefit citizens by sending your sightings. Medusapp will inform you as soon as you run the app if within a radius of 5 km. Around you there have been sightings or jellyfish-free beach reports in recent days.\n\nObtaining information about sightings and stings of jellyfish, is crucial for the various scientific research works and have a small tool, that anyone can have installed on their mobile phone and that simplifies the task of reporting where jellyfish or jellyfish are located its effects on people is just what was needed to provide data to science.\n\nJust take the photo to the jellyfish with Medusapp, and when you send it you will also be sending GPS coordinates to make a real-time map of the places where these marine animals are sighted. You can also select the species or use the new function based on IA to try to recognice the species. Anyway, scientists will already be responsible for classifying it.\n\nWith this application you can also report other types of sightings of marine eventualities, as well as the effects of their bites.\n\nIn addition, it includes a guide of small aid in case of sting, and another of recognition of different species of jellyfish.\n\nScientific development and scientific-medical data management by Dr. Cesar Bordehore and Dr. Eva S. Fonfría. Multidisciplinary Institute for the Study of the Environment \"Ramon Margalef\", University of Alicante. Dra. Victoria del Pozo and Dra Mar Fernández Nieto. CIBER CIBERES Respiratory Diseases. Immunoallergy Laboratory, Dep. Of Immunology, Giménez Díaz Foundation Health Research Institute (IIS-FJD).\n\nDeveloped by Ramón Palacios and Eduardo Blasco as a contribution to citizen science.\n\nThe information on jellyfish and first aid comes from the LIFE Cubomed project (www.cubomed.eu), of which Dr. Bordehore participates.\n\nPhotographs of jellyfish sightings will be made public through the map, while photographs of of bites will not be made public.",
         "https://apps.apple.com/us/app/medusapp/id1182365420?uo=4",
         "['EN']",
         "http://medusapp.net",
         "Status code: 200",
         "2017.0",
         "https://www.efe.com/efe/comunitat-valenciana/sociedad/medusapp-informa-sobre-la-presencia-de-medusas-o-residuos-en-playa/50000880-4282542",
         null,
         "https://www.medusapp.net/politicas.php",
         null,
         null,
         "PHP",
         null,
         "http://hokcab01.almacen.api.auditmedia.es//api/Recortes/9060d58a-be68-4976-8423-13e92901e243/tv.mp4",
         "https://docs.medusajs.com/api/store",
         "https://docs.medusajs.com/api/store",
         "REDACTED FOR PRIVACY",
         null,
         "copyright 2025",
         "info@medusapp.net",
         null,
         "info@medusapp.net"
        ],
        [
         "40",
         "CoastSnap | SPOTTERON",
         "SPOTTERON Gmbh",
         "CoastSnap is a global citizen science project to capture our changing coastlines. No matter where you are in the world, if you have a smartphone and an interest in the coast, we welcome you to participate!\n\nCoastSnap relies on repeat photos at the same location to track how the coast is changing over time due to processes such as storms, rising sea levels, human activities, and other factors. Using a specialized technique known as photogrammetry, CoastSnap turns your photos into valuable coastal data that is used by coastal scientists to understand and forecast how coastlines might change in the coming decades. Photogrammetry enables the position of the coastline to be pinpointed from your snaps with an accuracy similar to that of professional coastal survey teams. All we ask is that you take the photos at the same location (by using one of our official CoastSnap camera cradles or a do-it-yourself adaptation) and record the precise photo time in the App. The more photos we have of a particular site, the better our understanding becomes of how that coastline is changing over time.The CoastSnap App is running on the SPOTTERON Citizen Science platform.",
         "https://apps.apple.com/us/app/coastsnap-spotteron/id1529921850?uo=4",
         "['EN', 'DE']",
         "https://www.spotteron.net/",
         "Status code: 200",
         "2016.0",
         "https://www.spotteron.net/about",
         "https://www.spotteron.net/terms-of-use",
         "https://www.spotteron.net/citizen-science-app-features/privacy-data-safety",
         null,
         null,
         "PHP",
         "https://www.spotteron.net/citizen-science-app-features/data-handling",
         null,
         "https://www.coastsnap.com/",
         "https://www.coastsnap.com/",
         "Not Disclosed",
         "ContactINTERESTED? GET IN CONTACT TODAY!eMail:office@spotteron.netphone:+43-676-598-2272skype:spotteronSPOTTERONGmbh | Citizen Science PlatformFaßziehergasse 5 - AT 1070 ViennaFN: 488215p | UIN: ATU73129349PIC Number: 905390338DUNS: 30-055-0598Short News”A new paper titled \"Citizen Science Approaches for Water Quality Measurements\" has been published by the scientists behind CrowdWater. Find it in thepapers section!inShortnews”A new paper from the Horizon 2020 project IPM titled \"Genetic variability of Metarhizium isolates from the Ticino Valley Natural Park (Northern Italy) as a possible microbiological resource for the management of Popillia japonica\" has been added to our page. Find this and other Citizen Science related publications on theSPOTTERON Papers & Publicationssection.inShortnewsSubscribe to this RSS feedNewsletterI agree with theTerms and conditions×Terms and conditionsCloseand thePrivacy policy×Privacy policyClosePlease enable the javascript to submit this form",
         null,
         "office@spotteron.netphone",
         "office@spotteron.netphone",
         "office@spotteron.netphone"
        ]
       ],
       "shape": {
        "columns": 24,
        "rows": 18
       }
      },
      "text/html": [
       "<div>\n",
       "<style scoped>\n",
       "    .dataframe tbody tr th:only-of-type {\n",
       "        vertical-align: middle;\n",
       "    }\n",
       "\n",
       "    .dataframe tbody tr th {\n",
       "        vertical-align: top;\n",
       "    }\n",
       "\n",
       "    .dataframe thead th {\n",
       "        text-align: right;\n",
       "    }\n",
       "</style>\n",
       "<table border=\"1\" class=\"dataframe\">\n",
       "  <thead>\n",
       "    <tr style=\"text-align: right;\">\n",
       "      <th></th>\n",
       "      <th>name</th>\n",
       "      <th>developer</th>\n",
       "      <th>description</th>\n",
       "      <th>url</th>\n",
       "      <th>language</th>\n",
       "      <th>platform_url</th>\n",
       "      <th>active</th>\n",
       "      <th>year_creation</th>\n",
       "      <th>platform_about_url</th>\n",
       "      <th>terms_use_link</th>\n",
       "      <th>...</th>\n",
       "      <th>governance_url</th>\n",
       "      <th>api_link</th>\n",
       "      <th>api_link_ddg</th>\n",
       "      <th>api_link_google</th>\n",
       "      <th>org_managers_whois</th>\n",
       "      <th>org_managers_footer</th>\n",
       "      <th>software_license</th>\n",
       "      <th>email_from_home</th>\n",
       "      <th>email_from_about</th>\n",
       "      <th>email_from_contact</th>\n",
       "    </tr>\n",
       "  </thead>\n",
       "  <tbody>\n",
       "    <tr>\n",
       "      <th>3</th>\n",
       "      <td>BirdNET</td>\n",
       "      <td>Stefan Kahl</td>\n",
       "      <td>How can computers learn to recognize birds fro...</td>\n",
       "      <td>https://apps.apple.com/us/app/birdnet/id154184...</td>\n",
       "      <td>['CS', 'NL', 'EN', 'FR', 'DE', 'IT', 'LT', 'PL...</td>\n",
       "      <td>https://birdnet.cornell.edu</td>\n",
       "      <td>Status code: 200</td>\n",
       "      <td>1985.0</td>\n",
       "      <td>https://birdnet.cornell.edu/map</td>\n",
       "      <td>NaN</td>\n",
       "      <td>...</td>\n",
       "      <td>None</td>\n",
       "      <td>https://birdnet.cornell.edu/api/</td>\n",
       "      <td>None</td>\n",
       "      <td>https://github.com/BirdNET-Team/BirdNET-Analyzer</td>\n",
       "      <td>None</td>\n",
       "      <td>© 2025 Cornell University, Chemnitz University...</td>\n",
       "      <td>© 2025 cornell university, chemnitz university...</td>\n",
       "      <td>ccb-birdnet@cornell.edu</td>\n",
       "      <td>ccb-birdnet@cornell.edu</td>\n",
       "      <td>ccb-birdnet@cornell.edu</td>\n",
       "    </tr>\n",
       "    <tr>\n",
       "      <th>6</th>\n",
       "      <td>spotFIRE | Citizen Science</td>\n",
       "      <td>SPOTTERON Gmbh</td>\n",
       "      <td>SpotFIRE is a Citizen Science project focusing...</td>\n",
       "      <td>https://apps.apple.com/us/app/spotfire-citizen...</td>\n",
       "      <td>['EN', 'DE']</td>\n",
       "      <td>https://www.spotfire.com/</td>\n",
       "      <td>Status code: 200</td>\n",
       "      <td>1996.0</td>\n",
       "      <td>https://www.spotfire.com/about</td>\n",
       "      <td>NaN</td>\n",
       "      <td>...</td>\n",
       "      <td>None</td>\n",
       "      <td>None</td>\n",
       "      <td>None</td>\n",
       "      <td>None</td>\n",
       "      <td>Cloud Software Group, Inc.</td>\n",
       "      <td>By Verified EngineerRead more</td>\n",
       "      <td>© 2025 cloud software group, inc. all rights r...</td>\n",
       "      <td>None</td>\n",
       "      <td>None</td>\n",
       "      <td>support@spotfire.com</td>\n",
       "    </tr>\n",
       "    <tr>\n",
       "      <th>8</th>\n",
       "      <td>WaterLinx | Citizen Science</td>\n",
       "      <td>SPOTTERON Gmbh</td>\n",
       "      <td>Water constitutes and connects all life forms ...</td>\n",
       "      <td>https://apps.apple.com/us/app/waterlinx-citize...</td>\n",
       "      <td>['EN', 'DE']</td>\n",
       "      <td>https://www.spotteron.net/apps/regional-commun...</td>\n",
       "      <td>Status code: 200</td>\n",
       "      <td>2016.0</td>\n",
       "      <td>https://www.spotteron.net/about</td>\n",
       "      <td>https://www.spotteron.net/terms-of-use</td>\n",
       "      <td>...</td>\n",
       "      <td>https://www.spotteron.net/citizen-science-app-...</td>\n",
       "      <td>None</td>\n",
       "      <td>None</td>\n",
       "      <td>None</td>\n",
       "      <td>Not Disclosed</td>\n",
       "      <td>ContactINTERESTED? GET IN CONTACT TODAY!eMail:...</td>\n",
       "      <td>None</td>\n",
       "      <td>office@spotteron.netphone</td>\n",
       "      <td>office@spotteron.netphone</td>\n",
       "      <td>office@spotteron.netphone</td>\n",
       "    </tr>\n",
       "    <tr>\n",
       "      <th>9</th>\n",
       "      <td>The Happiness Project</td>\n",
       "      <td>UCL</td>\n",
       "      <td>Play fun mini-games to help brain scientists s...</td>\n",
       "      <td>https://apps.apple.com/us/app/the-happiness-pr...</td>\n",
       "      <td>['EN']</td>\n",
       "      <td>https://thehappinessproject.app</td>\n",
       "      <td>Status code: 200</td>\n",
       "      <td>NaN</td>\n",
       "      <td>NaN</td>\n",
       "      <td>https://thehappinessproject.app/terms-and-cond...</td>\n",
       "      <td>...</td>\n",
       "      <td>None</td>\n",
       "      <td>None</td>\n",
       "      <td>https://github.com/jfaccioli/happiness-project</td>\n",
       "      <td>https://github.com/jfaccioli/happiness-project</td>\n",
       "      <td>None</td>\n",
       "      <td>Happiness NewsletterSubscribe to hear about ne...</td>\n",
       "      <td>None</td>\n",
       "      <td>None</td>\n",
       "      <td>None</td>\n",
       "      <td>Kingdomrutledgelab@gmail.com</td>\n",
       "    </tr>\n",
       "    <tr>\n",
       "      <th>11</th>\n",
       "      <td>Echo Meter Touch Bat Detector</td>\n",
       "      <td>Wildlife Acoustics</td>\n",
       "      <td>Using the Echo Meter Touch 2 Pro plug-in modul...</td>\n",
       "      <td>https://apps.apple.com/us/app/echo-meter-touch...</td>\n",
       "      <td>['EN']</td>\n",
       "      <td>https://www.echometertouch.com</td>\n",
       "      <td>Status code: 200</td>\n",
       "      <td>2015.0</td>\n",
       "      <td>https://www.wildlifeacoustics.com/about-us</td>\n",
       "      <td>https://www.wildlifeacoustics.com/legal-docume...</td>\n",
       "      <td>...</td>\n",
       "      <td>None</td>\n",
       "      <td>None</td>\n",
       "      <td>https://www.wildlifeacoustics.com/products/ech...</td>\n",
       "      <td>https://www.wildlifeacoustics.com/products/ech...</td>\n",
       "      <td>Identity Protection Service</td>\n",
       "      <td>None</td>\n",
       "      <td>None</td>\n",
       "      <td>sales2025@wildlifeacoustics.com</td>\n",
       "      <td>sales2025@wildlifeacoustics.com</td>\n",
       "      <td>sales2025@wildlifeacoustics.com</td>\n",
       "    </tr>\n",
       "    <tr>\n",
       "      <th>12</th>\n",
       "      <td>Zooniverse</td>\n",
       "      <td>Chris Lintott</td>\n",
       "      <td>The Zooniverse is the world’s largest and most...</td>\n",
       "      <td>https://apps.apple.com/us/app/zooniverse/id119...</td>\n",
       "      <td>['EN']</td>\n",
       "      <td>https://www.zooniverse.org/</td>\n",
       "      <td>Status code: 200</td>\n",
       "      <td>2008.0</td>\n",
       "      <td>https://www.zooniverse.org/about</td>\n",
       "      <td>NaN</td>\n",
       "      <td>...</td>\n",
       "      <td>None</td>\n",
       "      <td>None</td>\n",
       "      <td>http://developer.zooniverse.org/en/latest/apis...</td>\n",
       "      <td>http://developer.zooniverse.org/en/latest/apis...</td>\n",
       "      <td>Chris Lintott</td>\n",
       "      <td>ZooniversePeople-Powered ResearchProjectsArtsB...</td>\n",
       "      <td>None</td>\n",
       "      <td>None</td>\n",
       "      <td>contact@zooniverse.org.ZooniversePeople-Powered</td>\n",
       "      <td>contact@zooniverse.org.ZooniversePeople-Powered</td>\n",
       "    </tr>\n",
       "    <tr>\n",
       "      <th>14</th>\n",
       "      <td>AmphiApp | Citizen Science</td>\n",
       "      <td>SPOTTERON Gmbh</td>\n",
       "      <td>Amphibien gehören zu den am stärksten bedrohte...</td>\n",
       "      <td>https://apps.apple.com/us/app/amphiapp-citizen...</td>\n",
       "      <td>['EN', 'DE']</td>\n",
       "      <td>https://www.spotteron.net/apps/regional-commun...</td>\n",
       "      <td>Status code: 200</td>\n",
       "      <td>2016.0</td>\n",
       "      <td>https://www.spotteron.net/about</td>\n",
       "      <td>https://www.spotteron.net/terms-of-use</td>\n",
       "      <td>...</td>\n",
       "      <td>https://www.spotteron.net/citizen-science-app-...</td>\n",
       "      <td>None</td>\n",
       "      <td>None</td>\n",
       "      <td>None</td>\n",
       "      <td>Not Disclosed</td>\n",
       "      <td>ContactINTERESTED? GET IN CONTACT TODAY!eMail:...</td>\n",
       "      <td>None</td>\n",
       "      <td>office@spotteron.netphone</td>\n",
       "      <td>office@spotteron.netphone</td>\n",
       "      <td>office@spotteron.netphone</td>\n",
       "    </tr>\n",
       "    <tr>\n",
       "      <th>19</th>\n",
       "      <td>CSMON-LIFE segnalazioni</td>\n",
       "      <td>Divulgando Srl</td>\n",
       "      <td>CSMON-LIFE (Citizen Science MONitoring) is one...</td>\n",
       "      <td>https://apps.apple.com/us/app/csmon-life-segna...</td>\n",
       "      <td>['EN', 'IT']</td>\n",
       "      <td>http://www.csmon-life.eu</td>\n",
       "      <td>Status code: 200</td>\n",
       "      <td>NaN</td>\n",
       "      <td>https://www.csmon-life.eu/pagina/progetto/18/A...</td>\n",
       "      <td>NaN</td>\n",
       "      <td>...</td>\n",
       "      <td>None</td>\n",
       "      <td>None</td>\n",
       "      <td>None</td>\n",
       "      <td>None</td>\n",
       "      <td>None</td>\n",
       "      <td>Primo progetto italiano di citizen science sul...</td>\n",
       "      <td>copyright 2014</td>\n",
       "      <td>martelst@units.it</td>\n",
       "      <td>martelst@units.it</td>\n",
       "      <td>martelst@units.it</td>\n",
       "    </tr>\n",
       "    <tr>\n",
       "      <th>24</th>\n",
       "      <td>BirdWeather</td>\n",
       "      <td>Scribe Labs Inc</td>\n",
       "      <td>BirdWeather: Your Gateway to Nature's Soundsca...</td>\n",
       "      <td>https://apps.apple.com/us/app/birdweather/id64...</td>\n",
       "      <td>['AF', 'AR', 'CS', 'DA', 'NL', 'EN', 'FI', 'FR...</td>\n",
       "      <td>https://www.birdweather.com/</td>\n",
       "      <td>Status code: 200</td>\n",
       "      <td>2017.0</td>\n",
       "      <td>https://www.birdweather.com/about</td>\n",
       "      <td>https://www.birdweather.com/terms-of-service</td>\n",
       "      <td>...</td>\n",
       "      <td>None</td>\n",
       "      <td>https://app.birdweather.com/api/index.html</td>\n",
       "      <td>https://app.birdweather.com/api/index.html</td>\n",
       "      <td>https://app.birdweather.com/api/index.html</td>\n",
       "      <td>NameBrightPrivacy.com</td>\n",
       "      <td>None</td>\n",
       "      <td>None</td>\n",
       "      <td>None</td>\n",
       "      <td>tim@birdweather.com</td>\n",
       "      <td>None</td>\n",
       "    </tr>\n",
       "    <tr>\n",
       "      <th>25</th>\n",
       "      <td>myHAZ-VCT</td>\n",
       "      <td>British Geological Survey</td>\n",
       "      <td>myHAZ-VCT is a citizen science app for sharing...</td>\n",
       "      <td>https://apps.apple.com/us/app/myhaz-vct/id1507...</td>\n",
       "      <td>['EN']</td>\n",
       "      <td>https://uwiseismic.com/myhaz-vct/</td>\n",
       "      <td>Status code: 200</td>\n",
       "      <td>2001.0</td>\n",
       "      <td>NaN</td>\n",
       "      <td>NaN</td>\n",
       "      <td>...</td>\n",
       "      <td>None</td>\n",
       "      <td>None</td>\n",
       "      <td>https://vct.myhaz.app/docs/index.html</td>\n",
       "      <td>https://vct.myhaz.app/docs/index.html</td>\n",
       "      <td>Contact Privacy Inc. Customer 0173889823</td>\n",
       "      <td>None</td>\n",
       "      <td>© 2001-2025  the university of the west indies...</td>\n",
       "      <td>src@sta.uwi.edu</td>\n",
       "      <td>None</td>\n",
       "      <td>src@sta.uwi.edu</td>\n",
       "    </tr>\n",
       "    <tr>\n",
       "      <th>30</th>\n",
       "      <td>BirdTrack</td>\n",
       "      <td>BTO</td>\n",
       "      <td>Want an easy way to record the birds you see, ...</td>\n",
       "      <td>https://apps.apple.com/us/app/birdtrack/id5968...</td>\n",
       "      <td>['EN']</td>\n",
       "      <td>http://www.birdtrack.net</td>\n",
       "      <td>Status code: 200</td>\n",
       "      <td>2004.0</td>\n",
       "      <td>http://www.birdtrack.net/about</td>\n",
       "      <td>http://www.birdtrack.net/terms-conditions</td>\n",
       "      <td>...</td>\n",
       "      <td>None</td>\n",
       "      <td>None</td>\n",
       "      <td>https://www.bto.org/get-involved/volunteer/pro...</td>\n",
       "      <td>https://docs.bird.com/api/client-sdks/sdk-inte...</td>\n",
       "      <td>None</td>\n",
       "      <td>BTO – Birds Science PeopleFooterAbout usBTO Yo...</td>\n",
       "      <td>None</td>\n",
       "      <td>birdtrack@bto.org</td>\n",
       "      <td>birdtrack@bto.org</td>\n",
       "      <td>birdtrack@bto.org</td>\n",
       "    </tr>\n",
       "    <tr>\n",
       "      <th>32</th>\n",
       "      <td>WiBee</td>\n",
       "      <td>Daniel Imhoff</td>\n",
       "      <td>Take a short survey on a nice day to catalog b...</td>\n",
       "      <td>https://apps.apple.com/us/app/wibee/id14835493...</td>\n",
       "      <td>['EN']</td>\n",
       "      <td>https://pollinators.wisc.edu/wibee/</td>\n",
       "      <td>Status code: 200</td>\n",
       "      <td>1985.0</td>\n",
       "      <td>https://pollinators.wisc.edu/about-us/</td>\n",
       "      <td>NaN</td>\n",
       "      <td>...</td>\n",
       "      <td>None</td>\n",
       "      <td>None</td>\n",
       "      <td>https://nest.wibeee.com/swagger-ui.html</td>\n",
       "      <td>https://nest.wibeee.com/swagger-ui.html</td>\n",
       "      <td>None</td>\n",
       "      <td>Site footer contentUniversity logo that links ...</td>\n",
       "      <td>© 2025 board of regents of the university of w...</td>\n",
       "      <td>pollinators@wisc.edu</td>\n",
       "      <td>bbradford@wisc.edu</td>\n",
       "      <td>pollinators@wisc.edu</td>\n",
       "    </tr>\n",
       "    <tr>\n",
       "      <th>34</th>\n",
       "      <td>Caterpillars Count!</td>\n",
       "      <td>University of North Carolina</td>\n",
       "      <td>Caterpillars Count! is a project that relies o...</td>\n",
       "      <td>https://apps.apple.com/us/app/caterpillars-cou...</td>\n",
       "      <td>['EN']</td>\n",
       "      <td>https://caterpillarscount.unc.edu</td>\n",
       "      <td>Status code: 200</td>\n",
       "      <td>1986.0</td>\n",
       "      <td>https://caterpillarscount.unc.edu/getStarted</td>\n",
       "      <td>NaN</td>\n",
       "      <td>...</td>\n",
       "      <td>None</td>\n",
       "      <td>None</td>\n",
       "      <td>https://github.com/caterpillarscountdev/Caterp...</td>\n",
       "      <td>https://github.com/caterpillarscountdev/Caterp...</td>\n",
       "      <td>None</td>\n",
       "      <td>Part of thePheno Mismatchproject funded by the...</td>\n",
       "      <td>None</td>\n",
       "      <td>caterpillarscount@gmail.com</td>\n",
       "      <td>caterpillarscount@gmail.com</td>\n",
       "      <td>caterpillarscount@gmail.com</td>\n",
       "    </tr>\n",
       "    <tr>\n",
       "      <th>35</th>\n",
       "      <td>Build4People: Citizen Science</td>\n",
       "      <td>NXT YOU GmbH</td>\n",
       "      <td>Citizen Science is a free app for Phnom Penh r...</td>\n",
       "      <td>https://apps.apple.com/us/app/build4people-cit...</td>\n",
       "      <td>['EN']</td>\n",
       "      <td>https://build4people.org/</td>\n",
       "      <td>Status code: 200</td>\n",
       "      <td>2019.0</td>\n",
       "      <td>https://build4people.org/build4people-lecture-...</td>\n",
       "      <td>NaN</td>\n",
       "      <td>...</td>\n",
       "      <td>None</td>\n",
       "      <td>None</td>\n",
       "      <td>https://build4people.org/new-planning-and-desi...</td>\n",
       "      <td>https://participatorysciences.org/resources/ci...</td>\n",
       "      <td>REDACTED</td>\n",
       "      <td>Follow us on social mediaImprintContactBuild4P...</td>\n",
       "      <td>© 2025 wordpress top</td>\n",
       "      <td>Byinfo@build4people.org</td>\n",
       "      <td>info@build4people.org</td>\n",
       "      <td>Byinfo@build4people.org</td>\n",
       "    </tr>\n",
       "    <tr>\n",
       "      <th>37</th>\n",
       "      <td>Mosquito Alert</td>\n",
       "      <td>John Palmer</td>\n",
       "      <td>Join the world's largest mosquito surveillance...</td>\n",
       "      <td>https://apps.apple.com/us/app/mosquito-alert/i...</td>\n",
       "      <td>['EN']</td>\n",
       "      <td>http://www.mosquitoalert.com</td>\n",
       "      <td>Status code: 200</td>\n",
       "      <td>2006.0</td>\n",
       "      <td>https://www.mosquitoalert.com/sobre-nosotros/o...</td>\n",
       "      <td>https://www.mosquitoalert.com/aviso-legal/</td>\n",
       "      <td>...</td>\n",
       "      <td>None</td>\n",
       "      <td>None</td>\n",
       "      <td>https://api.mosquitoalert.com/</td>\n",
       "      <td>https://api.mosquitoalert.com/</td>\n",
       "      <td>REDACTED FOR PRIVACY</td>\n",
       "      <td>Ámbitos de actuaciónParticipación ciudadanaCie...</td>\n",
       "      <td>© 2017 mosquitoalert</td>\n",
       "      <td>None</td>\n",
       "      <td>elisa.mora@ceab.csic.es</td>\n",
       "      <td>info@mosquitoalert.com</td>\n",
       "    </tr>\n",
       "    <tr>\n",
       "      <th>38</th>\n",
       "      <td>Citizen Scientist</td>\n",
       "      <td>NOMAD.ORG.UK LTD</td>\n",
       "      <td>Citizen Scientist is an app that measures your...</td>\n",
       "      <td>https://apps.apple.com/us/app/citizen-scientis...</td>\n",
       "      <td>['EN']</td>\n",
       "      <td>https://www.natureboostproject.com</td>\n",
       "      <td>Status code: 200</td>\n",
       "      <td>2024.0</td>\n",
       "      <td>NaN</td>\n",
       "      <td>NaN</td>\n",
       "      <td>...</td>\n",
       "      <td>None</td>\n",
       "      <td>None</td>\n",
       "      <td>https://participatorysciences.org/resources/ci...</td>\n",
       "      <td>http://www.google.com/search?hl=en&amp;q=Citizen S...</td>\n",
       "      <td>Domains By Proxy, LLC</td>\n",
       "      <td>None</td>\n",
       "      <td>© 2025 â</td>\n",
       "      <td>a.mechelli@kcl.ac.uka.mechelli</td>\n",
       "      <td>None</td>\n",
       "      <td>a.mechelli@kcl.ac.uka.mechelli</td>\n",
       "    </tr>\n",
       "    <tr>\n",
       "      <th>39</th>\n",
       "      <td>MedusApp</td>\n",
       "      <td>Ramon Palacios Saez</td>\n",
       "      <td>Collaborate with science and at the same time ...</td>\n",
       "      <td>https://apps.apple.com/us/app/medusapp/id11823...</td>\n",
       "      <td>['EN']</td>\n",
       "      <td>http://medusapp.net</td>\n",
       "      <td>Status code: 200</td>\n",
       "      <td>2017.0</td>\n",
       "      <td>https://www.efe.com/efe/comunitat-valenciana/s...</td>\n",
       "      <td>NaN</td>\n",
       "      <td>...</td>\n",
       "      <td>None</td>\n",
       "      <td>http://hokcab01.almacen.api.auditmedia.es//api...</td>\n",
       "      <td>https://docs.medusajs.com/api/store</td>\n",
       "      <td>https://docs.medusajs.com/api/store</td>\n",
       "      <td>REDACTED FOR PRIVACY</td>\n",
       "      <td>None</td>\n",
       "      <td>copyright 2025</td>\n",
       "      <td>info@medusapp.net</td>\n",
       "      <td>None</td>\n",
       "      <td>info@medusapp.net</td>\n",
       "    </tr>\n",
       "    <tr>\n",
       "      <th>40</th>\n",
       "      <td>CoastSnap | SPOTTERON</td>\n",
       "      <td>SPOTTERON Gmbh</td>\n",
       "      <td>CoastSnap is a global citizen science project ...</td>\n",
       "      <td>https://apps.apple.com/us/app/coastsnap-spotte...</td>\n",
       "      <td>['EN', 'DE']</td>\n",
       "      <td>https://www.spotteron.net/</td>\n",
       "      <td>Status code: 200</td>\n",
       "      <td>2016.0</td>\n",
       "      <td>https://www.spotteron.net/about</td>\n",
       "      <td>https://www.spotteron.net/terms-of-use</td>\n",
       "      <td>...</td>\n",
       "      <td>https://www.spotteron.net/citizen-science-app-...</td>\n",
       "      <td>None</td>\n",
       "      <td>https://www.coastsnap.com/</td>\n",
       "      <td>https://www.coastsnap.com/</td>\n",
       "      <td>Not Disclosed</td>\n",
       "      <td>ContactINTERESTED? GET IN CONTACT TODAY!eMail:...</td>\n",
       "      <td>None</td>\n",
       "      <td>office@spotteron.netphone</td>\n",
       "      <td>office@spotteron.netphone</td>\n",
       "      <td>office@spotteron.netphone</td>\n",
       "    </tr>\n",
       "  </tbody>\n",
       "</table>\n",
       "<p>18 rows × 24 columns</p>\n",
       "</div>"
      ],
      "text/plain": [
       "                             name                     developer  \\\n",
       "3                         BirdNET                   Stefan Kahl   \n",
       "6      spotFIRE | Citizen Science                SPOTTERON Gmbh   \n",
       "8     WaterLinx | Citizen Science                SPOTTERON Gmbh   \n",
       "9           The Happiness Project                           UCL   \n",
       "11  Echo Meter Touch Bat Detector            Wildlife Acoustics   \n",
       "12                     Zooniverse                 Chris Lintott   \n",
       "14     AmphiApp | Citizen Science                SPOTTERON Gmbh   \n",
       "19        CSMON-LIFE segnalazioni                Divulgando Srl   \n",
       "24                    BirdWeather               Scribe Labs Inc   \n",
       "25                      myHAZ-VCT     British Geological Survey   \n",
       "30                      BirdTrack                           BTO   \n",
       "32                          WiBee                 Daniel Imhoff   \n",
       "34            Caterpillars Count!  University of North Carolina   \n",
       "35  Build4People: Citizen Science                  NXT YOU GmbH   \n",
       "37                 Mosquito Alert                   John Palmer   \n",
       "38              Citizen Scientist              NOMAD.ORG.UK LTD   \n",
       "39                       MedusApp           Ramon Palacios Saez   \n",
       "40          CoastSnap | SPOTTERON                SPOTTERON Gmbh   \n",
       "\n",
       "                                          description  \\\n",
       "3   How can computers learn to recognize birds fro...   \n",
       "6   SpotFIRE is a Citizen Science project focusing...   \n",
       "8   Water constitutes and connects all life forms ...   \n",
       "9   Play fun mini-games to help brain scientists s...   \n",
       "11  Using the Echo Meter Touch 2 Pro plug-in modul...   \n",
       "12  The Zooniverse is the world’s largest and most...   \n",
       "14  Amphibien gehören zu den am stärksten bedrohte...   \n",
       "19  CSMON-LIFE (Citizen Science MONitoring) is one...   \n",
       "24  BirdWeather: Your Gateway to Nature's Soundsca...   \n",
       "25  myHAZ-VCT is a citizen science app for sharing...   \n",
       "30  Want an easy way to record the birds you see, ...   \n",
       "32  Take a short survey on a nice day to catalog b...   \n",
       "34  Caterpillars Count! is a project that relies o...   \n",
       "35  Citizen Science is a free app for Phnom Penh r...   \n",
       "37  Join the world's largest mosquito surveillance...   \n",
       "38  Citizen Scientist is an app that measures your...   \n",
       "39  Collaborate with science and at the same time ...   \n",
       "40  CoastSnap is a global citizen science project ...   \n",
       "\n",
       "                                                  url  \\\n",
       "3   https://apps.apple.com/us/app/birdnet/id154184...   \n",
       "6   https://apps.apple.com/us/app/spotfire-citizen...   \n",
       "8   https://apps.apple.com/us/app/waterlinx-citize...   \n",
       "9   https://apps.apple.com/us/app/the-happiness-pr...   \n",
       "11  https://apps.apple.com/us/app/echo-meter-touch...   \n",
       "12  https://apps.apple.com/us/app/zooniverse/id119...   \n",
       "14  https://apps.apple.com/us/app/amphiapp-citizen...   \n",
       "19  https://apps.apple.com/us/app/csmon-life-segna...   \n",
       "24  https://apps.apple.com/us/app/birdweather/id64...   \n",
       "25  https://apps.apple.com/us/app/myhaz-vct/id1507...   \n",
       "30  https://apps.apple.com/us/app/birdtrack/id5968...   \n",
       "32  https://apps.apple.com/us/app/wibee/id14835493...   \n",
       "34  https://apps.apple.com/us/app/caterpillars-cou...   \n",
       "35  https://apps.apple.com/us/app/build4people-cit...   \n",
       "37  https://apps.apple.com/us/app/mosquito-alert/i...   \n",
       "38  https://apps.apple.com/us/app/citizen-scientis...   \n",
       "39  https://apps.apple.com/us/app/medusapp/id11823...   \n",
       "40  https://apps.apple.com/us/app/coastsnap-spotte...   \n",
       "\n",
       "                                             language  \\\n",
       "3   ['CS', 'NL', 'EN', 'FR', 'DE', 'IT', 'LT', 'PL...   \n",
       "6                                        ['EN', 'DE']   \n",
       "8                                        ['EN', 'DE']   \n",
       "9                                              ['EN']   \n",
       "11                                             ['EN']   \n",
       "12                                             ['EN']   \n",
       "14                                       ['EN', 'DE']   \n",
       "19                                       ['EN', 'IT']   \n",
       "24  ['AF', 'AR', 'CS', 'DA', 'NL', 'EN', 'FI', 'FR...   \n",
       "25                                             ['EN']   \n",
       "30                                             ['EN']   \n",
       "32                                             ['EN']   \n",
       "34                                             ['EN']   \n",
       "35                                             ['EN']   \n",
       "37                                             ['EN']   \n",
       "38                                             ['EN']   \n",
       "39                                             ['EN']   \n",
       "40                                       ['EN', 'DE']   \n",
       "\n",
       "                                         platform_url            active  \\\n",
       "3                         https://birdnet.cornell.edu  Status code: 200   \n",
       "6                           https://www.spotfire.com/  Status code: 200   \n",
       "8   https://www.spotteron.net/apps/regional-commun...  Status code: 200   \n",
       "9                     https://thehappinessproject.app  Status code: 200   \n",
       "11                     https://www.echometertouch.com  Status code: 200   \n",
       "12                        https://www.zooniverse.org/  Status code: 200   \n",
       "14  https://www.spotteron.net/apps/regional-commun...  Status code: 200   \n",
       "19                           http://www.csmon-life.eu  Status code: 200   \n",
       "24                       https://www.birdweather.com/  Status code: 200   \n",
       "25                  https://uwiseismic.com/myhaz-vct/  Status code: 200   \n",
       "30                           http://www.birdtrack.net  Status code: 200   \n",
       "32                https://pollinators.wisc.edu/wibee/  Status code: 200   \n",
       "34                  https://caterpillarscount.unc.edu  Status code: 200   \n",
       "35                          https://build4people.org/  Status code: 200   \n",
       "37                       http://www.mosquitoalert.com  Status code: 200   \n",
       "38                 https://www.natureboostproject.com  Status code: 200   \n",
       "39                                http://medusapp.net  Status code: 200   \n",
       "40                         https://www.spotteron.net/  Status code: 200   \n",
       "\n",
       "    year_creation                                 platform_about_url  \\\n",
       "3          1985.0                    https://birdnet.cornell.edu/map   \n",
       "6          1996.0                     https://www.spotfire.com/about   \n",
       "8          2016.0                    https://www.spotteron.net/about   \n",
       "9             NaN                                                NaN   \n",
       "11         2015.0         https://www.wildlifeacoustics.com/about-us   \n",
       "12         2008.0                   https://www.zooniverse.org/about   \n",
       "14         2016.0                    https://www.spotteron.net/about   \n",
       "19            NaN  https://www.csmon-life.eu/pagina/progetto/18/A...   \n",
       "24         2017.0                  https://www.birdweather.com/about   \n",
       "25         2001.0                                                NaN   \n",
       "30         2004.0                     http://www.birdtrack.net/about   \n",
       "32         1985.0             https://pollinators.wisc.edu/about-us/   \n",
       "34         1986.0       https://caterpillarscount.unc.edu/getStarted   \n",
       "35         2019.0  https://build4people.org/build4people-lecture-...   \n",
       "37         2006.0  https://www.mosquitoalert.com/sobre-nosotros/o...   \n",
       "38         2024.0                                                NaN   \n",
       "39         2017.0  https://www.efe.com/efe/comunitat-valenciana/s...   \n",
       "40         2016.0                    https://www.spotteron.net/about   \n",
       "\n",
       "                                       terms_use_link  ...  \\\n",
       "3                                                 NaN  ...   \n",
       "6                                                 NaN  ...   \n",
       "8              https://www.spotteron.net/terms-of-use  ...   \n",
       "9   https://thehappinessproject.app/terms-and-cond...  ...   \n",
       "11  https://www.wildlifeacoustics.com/legal-docume...  ...   \n",
       "12                                                NaN  ...   \n",
       "14             https://www.spotteron.net/terms-of-use  ...   \n",
       "19                                                NaN  ...   \n",
       "24       https://www.birdweather.com/terms-of-service  ...   \n",
       "25                                                NaN  ...   \n",
       "30          http://www.birdtrack.net/terms-conditions  ...   \n",
       "32                                                NaN  ...   \n",
       "34                                                NaN  ...   \n",
       "35                                                NaN  ...   \n",
       "37         https://www.mosquitoalert.com/aviso-legal/  ...   \n",
       "38                                                NaN  ...   \n",
       "39                                                NaN  ...   \n",
       "40             https://www.spotteron.net/terms-of-use  ...   \n",
       "\n",
       "                                       governance_url  \\\n",
       "3                                                None   \n",
       "6                                                None   \n",
       "8   https://www.spotteron.net/citizen-science-app-...   \n",
       "9                                                None   \n",
       "11                                               None   \n",
       "12                                               None   \n",
       "14  https://www.spotteron.net/citizen-science-app-...   \n",
       "19                                               None   \n",
       "24                                               None   \n",
       "25                                               None   \n",
       "30                                               None   \n",
       "32                                               None   \n",
       "34                                               None   \n",
       "35                                               None   \n",
       "37                                               None   \n",
       "38                                               None   \n",
       "39                                               None   \n",
       "40  https://www.spotteron.net/citizen-science-app-...   \n",
       "\n",
       "                                             api_link  \\\n",
       "3                    https://birdnet.cornell.edu/api/   \n",
       "6                                                None   \n",
       "8                                                None   \n",
       "9                                                None   \n",
       "11                                               None   \n",
       "12                                               None   \n",
       "14                                               None   \n",
       "19                                               None   \n",
       "24         https://app.birdweather.com/api/index.html   \n",
       "25                                               None   \n",
       "30                                               None   \n",
       "32                                               None   \n",
       "34                                               None   \n",
       "35                                               None   \n",
       "37                                               None   \n",
       "38                                               None   \n",
       "39  http://hokcab01.almacen.api.auditmedia.es//api...   \n",
       "40                                               None   \n",
       "\n",
       "                                         api_link_ddg  \\\n",
       "3                                                None   \n",
       "6                                                None   \n",
       "8                                                None   \n",
       "9      https://github.com/jfaccioli/happiness-project   \n",
       "11  https://www.wildlifeacoustics.com/products/ech...   \n",
       "12  http://developer.zooniverse.org/en/latest/apis...   \n",
       "14                                               None   \n",
       "19                                               None   \n",
       "24         https://app.birdweather.com/api/index.html   \n",
       "25              https://vct.myhaz.app/docs/index.html   \n",
       "30  https://www.bto.org/get-involved/volunteer/pro...   \n",
       "32            https://nest.wibeee.com/swagger-ui.html   \n",
       "34  https://github.com/caterpillarscountdev/Caterp...   \n",
       "35  https://build4people.org/new-planning-and-desi...   \n",
       "37                     https://api.mosquitoalert.com/   \n",
       "38  https://participatorysciences.org/resources/ci...   \n",
       "39                https://docs.medusajs.com/api/store   \n",
       "40                         https://www.coastsnap.com/   \n",
       "\n",
       "                                      api_link_google  \\\n",
       "3    https://github.com/BirdNET-Team/BirdNET-Analyzer   \n",
       "6                                                None   \n",
       "8                                                None   \n",
       "9      https://github.com/jfaccioli/happiness-project   \n",
       "11  https://www.wildlifeacoustics.com/products/ech...   \n",
       "12  http://developer.zooniverse.org/en/latest/apis...   \n",
       "14                                               None   \n",
       "19                                               None   \n",
       "24         https://app.birdweather.com/api/index.html   \n",
       "25              https://vct.myhaz.app/docs/index.html   \n",
       "30  https://docs.bird.com/api/client-sdks/sdk-inte...   \n",
       "32            https://nest.wibeee.com/swagger-ui.html   \n",
       "34  https://github.com/caterpillarscountdev/Caterp...   \n",
       "35  https://participatorysciences.org/resources/ci...   \n",
       "37                     https://api.mosquitoalert.com/   \n",
       "38  http://www.google.com/search?hl=en&q=Citizen S...   \n",
       "39                https://docs.medusajs.com/api/store   \n",
       "40                         https://www.coastsnap.com/   \n",
       "\n",
       "                          org_managers_whois  \\\n",
       "3                                       None   \n",
       "6                 Cloud Software Group, Inc.   \n",
       "8                              Not Disclosed   \n",
       "9                                       None   \n",
       "11               Identity Protection Service   \n",
       "12                             Chris Lintott   \n",
       "14                             Not Disclosed   \n",
       "19                                      None   \n",
       "24                     NameBrightPrivacy.com   \n",
       "25  Contact Privacy Inc. Customer 0173889823   \n",
       "30                                      None   \n",
       "32                                      None   \n",
       "34                                      None   \n",
       "35                                  REDACTED   \n",
       "37                      REDACTED FOR PRIVACY   \n",
       "38                     Domains By Proxy, LLC   \n",
       "39                      REDACTED FOR PRIVACY   \n",
       "40                             Not Disclosed   \n",
       "\n",
       "                                  org_managers_footer  \\\n",
       "3   © 2025 Cornell University, Chemnitz University...   \n",
       "6                       By Verified EngineerRead more   \n",
       "8   ContactINTERESTED? GET IN CONTACT TODAY!eMail:...   \n",
       "9   Happiness NewsletterSubscribe to hear about ne...   \n",
       "11                                               None   \n",
       "12  ZooniversePeople-Powered ResearchProjectsArtsB...   \n",
       "14  ContactINTERESTED? GET IN CONTACT TODAY!eMail:...   \n",
       "19  Primo progetto italiano di citizen science sul...   \n",
       "24                                               None   \n",
       "25                                               None   \n",
       "30  BTO – Birds Science PeopleFooterAbout usBTO Yo...   \n",
       "32  Site footer contentUniversity logo that links ...   \n",
       "34  Part of thePheno Mismatchproject funded by the...   \n",
       "35  Follow us on social mediaImprintContactBuild4P...   \n",
       "37  Ámbitos de actuaciónParticipación ciudadanaCie...   \n",
       "38                                               None   \n",
       "39                                               None   \n",
       "40  ContactINTERESTED? GET IN CONTACT TODAY!eMail:...   \n",
       "\n",
       "                                     software_license  \\\n",
       "3   © 2025 cornell university, chemnitz university...   \n",
       "6   © 2025 cloud software group, inc. all rights r...   \n",
       "8                                                None   \n",
       "9                                                None   \n",
       "11                                               None   \n",
       "12                                               None   \n",
       "14                                               None   \n",
       "19                                     copyright 2014   \n",
       "24                                               None   \n",
       "25  © 2001-2025  the university of the west indies...   \n",
       "30                                               None   \n",
       "32  © 2025 board of regents of the university of w...   \n",
       "34                                               None   \n",
       "35                               © 2025 wordpress top   \n",
       "37                               © 2017 mosquitoalert   \n",
       "38                                           © 2025 â   \n",
       "39                                     copyright 2025   \n",
       "40                                               None   \n",
       "\n",
       "                    email_from_home  \\\n",
       "3           ccb-birdnet@cornell.edu   \n",
       "6                              None   \n",
       "8         office@spotteron.netphone   \n",
       "9                              None   \n",
       "11  sales2025@wildlifeacoustics.com   \n",
       "12                             None   \n",
       "14        office@spotteron.netphone   \n",
       "19                martelst@units.it   \n",
       "24                             None   \n",
       "25                  src@sta.uwi.edu   \n",
       "30                birdtrack@bto.org   \n",
       "32             pollinators@wisc.edu   \n",
       "34      caterpillarscount@gmail.com   \n",
       "35          Byinfo@build4people.org   \n",
       "37                             None   \n",
       "38   a.mechelli@kcl.ac.uka.mechelli   \n",
       "39                info@medusapp.net   \n",
       "40        office@spotteron.netphone   \n",
       "\n",
       "                                   email_from_about  \\\n",
       "3                           ccb-birdnet@cornell.edu   \n",
       "6                                              None   \n",
       "8                         office@spotteron.netphone   \n",
       "9                                              None   \n",
       "11                  sales2025@wildlifeacoustics.com   \n",
       "12  contact@zooniverse.org.ZooniversePeople-Powered   \n",
       "14                        office@spotteron.netphone   \n",
       "19                                martelst@units.it   \n",
       "24                              tim@birdweather.com   \n",
       "25                                             None   \n",
       "30                                birdtrack@bto.org   \n",
       "32                               bbradford@wisc.edu   \n",
       "34                      caterpillarscount@gmail.com   \n",
       "35                            info@build4people.org   \n",
       "37                          elisa.mora@ceab.csic.es   \n",
       "38                                             None   \n",
       "39                                             None   \n",
       "40                        office@spotteron.netphone   \n",
       "\n",
       "                                 email_from_contact  \n",
       "3                           ccb-birdnet@cornell.edu  \n",
       "6                              support@spotfire.com  \n",
       "8                         office@spotteron.netphone  \n",
       "9                      Kingdomrutledgelab@gmail.com  \n",
       "11                  sales2025@wildlifeacoustics.com  \n",
       "12  contact@zooniverse.org.ZooniversePeople-Powered  \n",
       "14                        office@spotteron.netphone  \n",
       "19                                martelst@units.it  \n",
       "24                                             None  \n",
       "25                                  src@sta.uwi.edu  \n",
       "30                                birdtrack@bto.org  \n",
       "32                             pollinators@wisc.edu  \n",
       "34                      caterpillarscount@gmail.com  \n",
       "35                          Byinfo@build4people.org  \n",
       "37                           info@mosquitoalert.com  \n",
       "38                   a.mechelli@kcl.ac.uka.mechelli  \n",
       "39                                info@medusapp.net  \n",
       "40                        office@spotteron.netphone  \n",
       "\n",
       "[18 rows x 24 columns]"
      ]
     },
     "execution_count": 117,
     "metadata": {},
     "output_type": "execute_result"
    }
   ],
   "source": [
    "df[df.email_from_home.notnull() | df.email_from_about.notnull() | df.email_from_contact.notnull()]"
   ]
  },
  {
   "cell_type": "markdown",
   "id": "87805d94",
   "metadata": {},
   "source": [
    "Result: 18 platforms has some email between the three strategies, looking inside the web."
   ]
  },
  {
   "cell_type": "markdown",
   "id": "452dd17d",
   "metadata": {},
   "source": [
    "- Merge results of three columns in one:"
   ]
  },
  {
   "cell_type": "code",
   "execution_count": 118,
   "id": "fef7a259",
   "metadata": {},
   "outputs": [],
   "source": [
    "# Mix three columns in one\n",
    "df[\"email\"] = df['email_from_home']\n",
    "df.loc[df.email.isnull(), \"email\"] = df.loc[df.email.isnull(), \"email_from_about\"]\n",
    "df.loc[df.email.isnull(), \"email\"] = df.loc[df.email.isnull(), \"email_from_contact\"]"
   ]
  },
  {
   "cell_type": "markdown",
   "id": "35ca1dcf",
   "metadata": {},
   "source": [
    "- Remove unnecessary columns:"
   ]
  },
  {
   "cell_type": "code",
   "execution_count": 119,
   "id": "20a9195e",
   "metadata": {},
   "outputs": [],
   "source": [
    "df.drop(columns=[\"email_from_home\", \"email_from_about\", \"email_from_contact\"], inplace=True)"
   ]
  },
  {
   "cell_type": "code",
   "execution_count": 120,
   "id": "a0232839",
   "metadata": {},
   "outputs": [
    {
     "name": "stdout",
     "output_type": "stream",
     "text": [
      "<class 'pandas.core.frame.DataFrame'>\n",
      "RangeIndex: 45 entries, 0 to 44\n",
      "Data columns (total 22 columns):\n",
      " #   Column                      Non-Null Count  Dtype  \n",
      "---  ------                      --------------  -----  \n",
      " 0   name                        45 non-null     object \n",
      " 1   developer                   45 non-null     object \n",
      " 2   description                 45 non-null     object \n",
      " 3   url                         45 non-null     object \n",
      " 4   language                    45 non-null     object \n",
      " 5   platform_url                45 non-null     object \n",
      " 6   active                      45 non-null     object \n",
      " 7   year_creation               41 non-null     float64\n",
      " 8   platform_about_url          39 non-null     object \n",
      " 9   terms_use_link              18 non-null     object \n",
      " 10  privacy_link                30 non-null     object \n",
      " 11  code_repository             1 non-null      object \n",
      " 12  code_repository_github_api  8 non-null      object \n",
      " 13  code_language               27 non-null     object \n",
      " 14  governance_url              3 non-null      object \n",
      " 15  api_link                    3 non-null      object \n",
      " 16  api_link_ddg                26 non-null     object \n",
      " 17  api_link_google             33 non-null     object \n",
      " 18  org_managers_whois          32 non-null     object \n",
      " 19  org_managers_footer         31 non-null     object \n",
      " 20  software_license            17 non-null     object \n",
      " 21  email                       18 non-null     object \n",
      "dtypes: float64(1), object(21)\n",
      "memory usage: 7.9+ KB\n"
     ]
    }
   ],
   "source": [
    "df.info()"
   ]
  },
  {
   "cell_type": "code",
   "execution_count": 121,
   "id": "1334d8d4",
   "metadata": {},
   "outputs": [],
   "source": [
    "df.to_csv(\"../data/ios_apps_platforms_test.csv\", index=False)"
   ]
  },
  {
   "cell_type": "markdown",
   "id": "1d3ef772",
   "metadata": {},
   "source": [
    "## country of managers"
   ]
  },
  {
   "cell_type": "code",
   "execution_count": 122,
   "id": "b3a6c2d3",
   "metadata": {},
   "outputs": [
    {
     "name": "stderr",
     "output_type": "stream",
     "text": [
      "2025-07-16 14:51:44,348 - whois.whois - ERROR - Error trying to connect to socket: closing socket - [Errno -2] Nombre o servicio desconocido\n"
     ]
    }
   ],
   "source": [
    "import whois\n",
    "\n",
    "def get_country_from_whois(domain):\n",
    "    try:\n",
    "        w = whois.whois(domain)\n",
    "        return w.get('country')\n",
    "    except:\n",
    "        return None\n",
    "\n",
    "df['country_from_whois'] = df['platform_url'].apply(get_country_from_whois)"
   ]
  },
  {
   "cell_type": "code",
   "execution_count": 123,
   "id": "eea4b4fa",
   "metadata": {},
   "outputs": [],
   "source": [
    "# Remove \"REDACTED FOR PRIVACY\" values\n",
    "df.loc[df['country_from_whois'] == \"REDACTED FOR PRIVACY\", \"country_from_whois\"] = None "
   ]
  },
  {
   "cell_type": "code",
   "execution_count": 125,
   "id": "edd47d10",
   "metadata": {},
   "outputs": [
    {
     "data": {
      "application/vnd.microsoft.datawrangler.viewer.v0+json": {
       "columns": [
        {
         "name": "index",
         "rawType": "int64",
         "type": "integer"
        },
        {
         "name": "country_from_whois",
         "rawType": "object",
         "type": "unknown"
        }
       ],
       "ref": "4a7a24e9-7e70-4a06-b6e8-c54af592aacd",
       "rows": [
        [
         "0",
         "IS"
        ],
        [
         "1",
         "US"
        ],
        [
         "2",
         "US"
        ],
        [
         "3",
         null
        ],
        [
         "4",
         null
        ],
        [
         "5",
         null
        ],
        [
         "6",
         "US"
        ],
        [
         "7",
         "CH"
        ],
        [
         "8",
         "AT"
        ],
        [
         "9",
         null
        ]
       ],
       "shape": {
        "columns": 1,
        "rows": 10
       }
      },
      "text/plain": [
       "0      IS\n",
       "1      US\n",
       "2      US\n",
       "3    None\n",
       "4    None\n",
       "5    None\n",
       "6      US\n",
       "7      CH\n",
       "8      AT\n",
       "9    None\n",
       "Name: country_from_whois, dtype: object"
      ]
     },
     "execution_count": 125,
     "metadata": {},
     "output_type": "execute_result"
    }
   ],
   "source": [
    "df.country_from_whois.head(10)"
   ]
  },
  {
   "cell_type": "code",
   "execution_count": 126,
   "id": "d5a9bff0",
   "metadata": {},
   "outputs": [
    {
     "name": "stdout",
     "output_type": "stream",
     "text": [
      "<class 'pandas.core.frame.DataFrame'>\n",
      "RangeIndex: 45 entries, 0 to 44\n",
      "Data columns (total 23 columns):\n",
      " #   Column                      Non-Null Count  Dtype  \n",
      "---  ------                      --------------  -----  \n",
      " 0   name                        45 non-null     object \n",
      " 1   developer                   45 non-null     object \n",
      " 2   description                 45 non-null     object \n",
      " 3   url                         45 non-null     object \n",
      " 4   language                    45 non-null     object \n",
      " 5   platform_url                45 non-null     object \n",
      " 6   active                      45 non-null     object \n",
      " 7   year_creation               41 non-null     float64\n",
      " 8   platform_about_url          39 non-null     object \n",
      " 9   terms_use_link              18 non-null     object \n",
      " 10  privacy_link                30 non-null     object \n",
      " 11  code_repository             1 non-null      object \n",
      " 12  code_repository_github_api  8 non-null      object \n",
      " 13  code_language               27 non-null     object \n",
      " 14  governance_url              3 non-null      object \n",
      " 15  api_link                    3 non-null      object \n",
      " 16  api_link_ddg                26 non-null     object \n",
      " 17  api_link_google             33 non-null     object \n",
      " 18  org_managers_whois          32 non-null     object \n",
      " 19  org_managers_footer         31 non-null     object \n",
      " 20  software_license            17 non-null     object \n",
      " 21  email                       18 non-null     object \n",
      " 22  country_from_whois          31 non-null     object \n",
      "dtypes: float64(1), object(22)\n",
      "memory usage: 8.2+ KB\n"
     ]
    }
   ],
   "source": [
    "df.info()"
   ]
  },
  {
   "cell_type": "markdown",
   "id": "718683a8",
   "metadata": {},
   "source": [
    "- Determine the country from which a website operates based on the server's IP address, using a geolocation API. This allows us to know where the servers (the data) are physically hosted. Example: a French organization may have its servers in the US."
   ]
  },
  {
   "cell_type": "code",
   "execution_count": 127,
   "id": "3eeda3c3",
   "metadata": {},
   "outputs": [],
   "source": [
    "# Example with ip-api.com\n",
    "from urllib.parse import urlparse\n",
    "import socket\n",
    "import requests\n",
    "\n",
    "def country_from_ip(url):\n",
    "    try:\n",
    "        # Extract domain (without http/https or routes)\n",
    "        parsed = urlparse(url)\n",
    "        domain = parsed.netloc or parsed.path  # in case the URL doesn't have a scheme\n",
    "\n",
    "        # Remove www if necessary\n",
    "        if domain.startswith('www.'):\n",
    "            domain = domain[4:]\n",
    "\n",
    "        # Resolve IP\n",
    "        ip = socket.gethostbyname(domain)\n",
    "\n",
    "        # Query geolocalization API\n",
    "        r = requests.get(f\"http://ip-api.com/json/{ip}\", timeout=10)\n",
    "        if r.status_code == 200:\n",
    "            time.sleep(1.4) # limit of 45 requests per minute\n",
    "            return r.json().get(\"country\")\n",
    "    except Exception as e:\n",
    "        return None\n",
    "    \n",
    "df['country_servers'] = df['platform_url'].apply(country_from_ip)"
   ]
  },
  {
   "cell_type": "code",
   "execution_count": 128,
   "id": "6a475c87",
   "metadata": {},
   "outputs": [
    {
     "name": "stdout",
     "output_type": "stream",
     "text": [
      "<class 'pandas.core.series.Series'>\n",
      "RangeIndex: 45 entries, 0 to 44\n",
      "Series name: country_servers\n",
      "Non-Null Count  Dtype \n",
      "--------------  ----- \n",
      "45 non-null     object\n",
      "dtypes: object(1)\n",
      "memory usage: 492.0+ bytes\n"
     ]
    }
   ],
   "source": [
    "df.country_servers.info()"
   ]
  },
  {
   "cell_type": "code",
   "execution_count": 129,
   "id": "415cffa8",
   "metadata": {},
   "outputs": [
    {
     "data": {
      "text/plain": [
       "'Spain'"
      ]
     },
     "execution_count": 129,
     "metadata": {},
     "output_type": "execute_result"
    }
   ],
   "source": [
    "# Test\n",
    "country_from_ip(\"https://minka-sdg.org\")"
   ]
  },
  {
   "cell_type": "code",
   "execution_count": 131,
   "id": "7d38e3ef",
   "metadata": {},
   "outputs": [
    {
     "data": {
      "application/vnd.microsoft.datawrangler.viewer.v0+json": {
       "columns": [
        {
         "name": "index",
         "rawType": "int64",
         "type": "integer"
        },
        {
         "name": "platform_url",
         "rawType": "object",
         "type": "string"
        },
        {
         "name": "country_servers",
         "rawType": "object",
         "type": "string"
        }
       ],
       "ref": "03a161c9-4e6c-4fd9-948f-fe9a50205a97",
       "rows": [
        [
         "0",
         "https://www.anecdata.org/",
         "United States"
        ],
        [
         "1",
         "https://health-study.zoe.com/",
         "United States"
        ],
        [
         "2",
         "https://lnt.org/our-work/citizen-science/",
         "Canada"
        ],
        [
         "3",
         "https://birdnet.cornell.edu",
         "Germany"
        ],
        [
         "4",
         "https://observer.globe.gov/",
         "United States"
        ],
        [
         "5",
         "https://www.quantifiedcitizen.com/",
         "United States"
        ],
        [
         "6",
         "https://www.spotfire.com/",
         "United States"
        ],
        [
         "7",
         "https://www.brainexplorer.net",
         "Switzerland"
        ],
        [
         "8",
         "https://www.spotteron.net/apps/regional-community-science-projects/waterlinx-citizen-science",
         "France"
        ],
        [
         "9",
         "https://thehappinessproject.app",
         "United States"
        ]
       ],
       "shape": {
        "columns": 2,
        "rows": 10
       }
      },
      "text/html": [
       "<div>\n",
       "<style scoped>\n",
       "    .dataframe tbody tr th:only-of-type {\n",
       "        vertical-align: middle;\n",
       "    }\n",
       "\n",
       "    .dataframe tbody tr th {\n",
       "        vertical-align: top;\n",
       "    }\n",
       "\n",
       "    .dataframe thead th {\n",
       "        text-align: right;\n",
       "    }\n",
       "</style>\n",
       "<table border=\"1\" class=\"dataframe\">\n",
       "  <thead>\n",
       "    <tr style=\"text-align: right;\">\n",
       "      <th></th>\n",
       "      <th>platform_url</th>\n",
       "      <th>country_servers</th>\n",
       "    </tr>\n",
       "  </thead>\n",
       "  <tbody>\n",
       "    <tr>\n",
       "      <th>0</th>\n",
       "      <td>https://www.anecdata.org/</td>\n",
       "      <td>United States</td>\n",
       "    </tr>\n",
       "    <tr>\n",
       "      <th>1</th>\n",
       "      <td>https://health-study.zoe.com/</td>\n",
       "      <td>United States</td>\n",
       "    </tr>\n",
       "    <tr>\n",
       "      <th>2</th>\n",
       "      <td>https://lnt.org/our-work/citizen-science/</td>\n",
       "      <td>Canada</td>\n",
       "    </tr>\n",
       "    <tr>\n",
       "      <th>3</th>\n",
       "      <td>https://birdnet.cornell.edu</td>\n",
       "      <td>Germany</td>\n",
       "    </tr>\n",
       "    <tr>\n",
       "      <th>4</th>\n",
       "      <td>https://observer.globe.gov/</td>\n",
       "      <td>United States</td>\n",
       "    </tr>\n",
       "    <tr>\n",
       "      <th>5</th>\n",
       "      <td>https://www.quantifiedcitizen.com/</td>\n",
       "      <td>United States</td>\n",
       "    </tr>\n",
       "    <tr>\n",
       "      <th>6</th>\n",
       "      <td>https://www.spotfire.com/</td>\n",
       "      <td>United States</td>\n",
       "    </tr>\n",
       "    <tr>\n",
       "      <th>7</th>\n",
       "      <td>https://www.brainexplorer.net</td>\n",
       "      <td>Switzerland</td>\n",
       "    </tr>\n",
       "    <tr>\n",
       "      <th>8</th>\n",
       "      <td>https://www.spotteron.net/apps/regional-commun...</td>\n",
       "      <td>France</td>\n",
       "    </tr>\n",
       "    <tr>\n",
       "      <th>9</th>\n",
       "      <td>https://thehappinessproject.app</td>\n",
       "      <td>United States</td>\n",
       "    </tr>\n",
       "  </tbody>\n",
       "</table>\n",
       "</div>"
      ],
      "text/plain": [
       "                                        platform_url country_servers\n",
       "0                          https://www.anecdata.org/   United States\n",
       "1                      https://health-study.zoe.com/   United States\n",
       "2          https://lnt.org/our-work/citizen-science/          Canada\n",
       "3                        https://birdnet.cornell.edu         Germany\n",
       "4                        https://observer.globe.gov/   United States\n",
       "5                 https://www.quantifiedcitizen.com/   United States\n",
       "6                          https://www.spotfire.com/   United States\n",
       "7                      https://www.brainexplorer.net     Switzerland\n",
       "8  https://www.spotteron.net/apps/regional-commun...          France\n",
       "9                    https://thehappinessproject.app   United States"
      ]
     },
     "execution_count": 131,
     "metadata": {},
     "output_type": "execute_result"
    }
   ],
   "source": [
    "df[[\"platform_url\", \"country_servers\"]].head(10)"
   ]
  }
 ],
 "metadata": {
  "kernelspec": {
   "display_name": ".venv",
   "language": "python",
   "name": "python3"
  },
  "language_info": {
   "codemirror_mode": {
    "name": "ipython",
    "version": 3
   },
   "file_extension": ".py",
   "mimetype": "text/x-python",
   "name": "python",
   "nbconvert_exporter": "python",
   "pygments_lexer": "ipython3",
   "version": "3.11.2"
  }
 },
 "nbformat": 4,
 "nbformat_minor": 5
}
